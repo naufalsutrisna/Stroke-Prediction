{
  "cells": [
    {
      "cell_type": "markdown",
      "metadata": {
        "id": "9nBMRPjzYQM_"
      },
      "source": [
        "# Tugas Akhir Jaringan Saraf Tiruan\n",
        "# Prediksi Stroke Menggunakan Algoritma Backpropagation dengan Modifikasi Bobot Menggunakan Nguyen\n",
        "\n",
        "Kelompok Cukurukuk\n",
        "\n",
        "1. Naufal Putra Sutrisna / 215150201111001\n",
        "2. Rafifa Addin Sahirah / 215150200111007\n",
        "3. Rahmada Zulvia Azzahra Hawari / 215150200111062"
      ]
    },
    {
      "cell_type": "markdown",
      "metadata": {
        "id": "TH2WWbKOYbfi"
      },
      "source": [
        "## Import Data"
      ]
    },
    {
      "cell_type": "markdown",
      "metadata": {
        "id": "GYoXZgJ_u0i6"
      },
      "source": [
        "### Mengunduh dataset yang didapatkan dari kaggle yang telah dimasukkan kedalam google drive"
      ]
    },
    {
      "cell_type": "code",
      "execution_count": 215,
      "metadata": {
        "colab": {
          "base_uri": "https://localhost:8080/"
        },
        "id": "bIJkBSh2Wagw",
        "outputId": "dc4637cd-cb76-4365-be7d-4740a94f1a9c"
      },
      "outputs": [
        {
          "output_type": "stream",
          "name": "stdout",
          "text": [
            "--2023-12-25 14:36:26--  https://drive.google.com/uc?id=10wwXKiXXWqNlNVhA7yK7TSxhv73NEL8K\n",
            "Resolving drive.google.com (drive.google.com)... 142.250.99.138, 142.250.99.139, 142.250.99.102, ...\n",
            "Connecting to drive.google.com (drive.google.com)|142.250.99.138|:443... connected.\n",
            "HTTP request sent, awaiting response... 303 See Other\n",
            "Location: https://doc-10-04-docs.googleusercontent.com/docs/securesc/ha0ro937gcuc7l7deffksulhg5h7mbp1/fjk1ud30i1q32fgrkl9dmi1chsr2mh6r/1703514975000/05465759236126144840/*/10wwXKiXXWqNlNVhA7yK7TSxhv73NEL8K?uuid=ef4a5b19-669d-4eff-b15d-0d10e72ef81f [following]\n",
            "Warning: wildcards not supported in HTTP.\n",
            "--2023-12-25 14:36:27--  https://doc-10-04-docs.googleusercontent.com/docs/securesc/ha0ro937gcuc7l7deffksulhg5h7mbp1/fjk1ud30i1q32fgrkl9dmi1chsr2mh6r/1703514975000/05465759236126144840/*/10wwXKiXXWqNlNVhA7yK7TSxhv73NEL8K?uuid=ef4a5b19-669d-4eff-b15d-0d10e72ef81f\n",
            "Resolving doc-10-04-docs.googleusercontent.com (doc-10-04-docs.googleusercontent.com)... 74.125.142.132, 2607:f8b0:400e:c08::84\n",
            "Connecting to doc-10-04-docs.googleusercontent.com (doc-10-04-docs.googleusercontent.com)|74.125.142.132|:443... connected.\n",
            "HTTP request sent, awaiting response... 200 OK\n",
            "Length: 316971 (310K) [text/csv]\n",
            "Saving to: ‘stroke.csv’\n",
            "\n",
            "stroke.csv          100%[===================>] 309.54K  --.-KB/s    in 0.002s  \n",
            "\n",
            "2023-12-25 14:36:27 (133 MB/s) - ‘stroke.csv’ saved [316971/316971]\n",
            "\n"
          ]
        }
      ],
      "source": [
        "! wget https://drive.google.com/uc?id=10wwXKiXXWqNlNVhA7yK7TSxhv73NEL8K -O stroke.csv"
      ]
    },
    {
      "cell_type": "markdown",
      "metadata": {
        "id": "Au-C1aS3urH3"
      },
      "source": [
        "### import semua library yang akan digunakan"
      ]
    },
    {
      "cell_type": "code",
      "execution_count": 216,
      "metadata": {
        "id": "CFzZPHfQv52z"
      },
      "outputs": [],
      "source": [
        "import numpy as np\n",
        "import pandas as pd\n",
        "import matplotlib.pyplot as plt\n",
        "import plotly.figure_factory as ff\n",
        "import seaborn as sns"
      ]
    },
    {
      "cell_type": "code",
      "execution_count": 217,
      "metadata": {
        "id": "-b5KS_Wzv_-u",
        "colab": {
          "base_uri": "https://localhost:8080/",
          "height": 261
        },
        "outputId": "00983702-db6f-4fb7-f6a5-d8006515a7f8"
      },
      "outputs": [
        {
          "output_type": "execute_result",
          "data": {
            "text/plain": [
              "      id  gender   age  hypertension  heart_disease ever_married  \\\n",
              "0   9046    Male  67.0             0              1          Yes   \n",
              "1  51676  Female  61.0             0              0          Yes   \n",
              "2  31112    Male  80.0             0              1          Yes   \n",
              "3  60182  Female  49.0             0              0          Yes   \n",
              "4   1665  Female  79.0             1              0          Yes   \n",
              "\n",
              "       work_type Residence_type  avg_glucose_level   bmi   smoking_status  \\\n",
              "0        Private          Urban             228.69  36.6  formerly smoked   \n",
              "1  Self-employed          Rural             202.21   NaN     never smoked   \n",
              "2        Private          Rural             105.92  32.5     never smoked   \n",
              "3        Private          Urban             171.23  34.4           smokes   \n",
              "4  Self-employed          Rural             174.12  24.0     never smoked   \n",
              "\n",
              "   stroke  \n",
              "0       1  \n",
              "1       1  \n",
              "2       1  \n",
              "3       1  \n",
              "4       1  "
            ],
            "text/html": [
              "\n",
              "  <div id=\"df-f3e65c76-bfa4-456d-b374-6dbf82a12698\" class=\"colab-df-container\">\n",
              "    <div>\n",
              "<style scoped>\n",
              "    .dataframe tbody tr th:only-of-type {\n",
              "        vertical-align: middle;\n",
              "    }\n",
              "\n",
              "    .dataframe tbody tr th {\n",
              "        vertical-align: top;\n",
              "    }\n",
              "\n",
              "    .dataframe thead th {\n",
              "        text-align: right;\n",
              "    }\n",
              "</style>\n",
              "<table border=\"1\" class=\"dataframe\">\n",
              "  <thead>\n",
              "    <tr style=\"text-align: right;\">\n",
              "      <th></th>\n",
              "      <th>id</th>\n",
              "      <th>gender</th>\n",
              "      <th>age</th>\n",
              "      <th>hypertension</th>\n",
              "      <th>heart_disease</th>\n",
              "      <th>ever_married</th>\n",
              "      <th>work_type</th>\n",
              "      <th>Residence_type</th>\n",
              "      <th>avg_glucose_level</th>\n",
              "      <th>bmi</th>\n",
              "      <th>smoking_status</th>\n",
              "      <th>stroke</th>\n",
              "    </tr>\n",
              "  </thead>\n",
              "  <tbody>\n",
              "    <tr>\n",
              "      <th>0</th>\n",
              "      <td>9046</td>\n",
              "      <td>Male</td>\n",
              "      <td>67.0</td>\n",
              "      <td>0</td>\n",
              "      <td>1</td>\n",
              "      <td>Yes</td>\n",
              "      <td>Private</td>\n",
              "      <td>Urban</td>\n",
              "      <td>228.69</td>\n",
              "      <td>36.6</td>\n",
              "      <td>formerly smoked</td>\n",
              "      <td>1</td>\n",
              "    </tr>\n",
              "    <tr>\n",
              "      <th>1</th>\n",
              "      <td>51676</td>\n",
              "      <td>Female</td>\n",
              "      <td>61.0</td>\n",
              "      <td>0</td>\n",
              "      <td>0</td>\n",
              "      <td>Yes</td>\n",
              "      <td>Self-employed</td>\n",
              "      <td>Rural</td>\n",
              "      <td>202.21</td>\n",
              "      <td>NaN</td>\n",
              "      <td>never smoked</td>\n",
              "      <td>1</td>\n",
              "    </tr>\n",
              "    <tr>\n",
              "      <th>2</th>\n",
              "      <td>31112</td>\n",
              "      <td>Male</td>\n",
              "      <td>80.0</td>\n",
              "      <td>0</td>\n",
              "      <td>1</td>\n",
              "      <td>Yes</td>\n",
              "      <td>Private</td>\n",
              "      <td>Rural</td>\n",
              "      <td>105.92</td>\n",
              "      <td>32.5</td>\n",
              "      <td>never smoked</td>\n",
              "      <td>1</td>\n",
              "    </tr>\n",
              "    <tr>\n",
              "      <th>3</th>\n",
              "      <td>60182</td>\n",
              "      <td>Female</td>\n",
              "      <td>49.0</td>\n",
              "      <td>0</td>\n",
              "      <td>0</td>\n",
              "      <td>Yes</td>\n",
              "      <td>Private</td>\n",
              "      <td>Urban</td>\n",
              "      <td>171.23</td>\n",
              "      <td>34.4</td>\n",
              "      <td>smokes</td>\n",
              "      <td>1</td>\n",
              "    </tr>\n",
              "    <tr>\n",
              "      <th>4</th>\n",
              "      <td>1665</td>\n",
              "      <td>Female</td>\n",
              "      <td>79.0</td>\n",
              "      <td>1</td>\n",
              "      <td>0</td>\n",
              "      <td>Yes</td>\n",
              "      <td>Self-employed</td>\n",
              "      <td>Rural</td>\n",
              "      <td>174.12</td>\n",
              "      <td>24.0</td>\n",
              "      <td>never smoked</td>\n",
              "      <td>1</td>\n",
              "    </tr>\n",
              "  </tbody>\n",
              "</table>\n",
              "</div>\n",
              "    <div class=\"colab-df-buttons\">\n",
              "\n",
              "  <div class=\"colab-df-container\">\n",
              "    <button class=\"colab-df-convert\" onclick=\"convertToInteractive('df-f3e65c76-bfa4-456d-b374-6dbf82a12698')\"\n",
              "            title=\"Convert this dataframe to an interactive table.\"\n",
              "            style=\"display:none;\">\n",
              "\n",
              "  <svg xmlns=\"http://www.w3.org/2000/svg\" height=\"24px\" viewBox=\"0 -960 960 960\">\n",
              "    <path d=\"M120-120v-720h720v720H120Zm60-500h600v-160H180v160Zm220 220h160v-160H400v160Zm0 220h160v-160H400v160ZM180-400h160v-160H180v160Zm440 0h160v-160H620v160ZM180-180h160v-160H180v160Zm440 0h160v-160H620v160Z\"/>\n",
              "  </svg>\n",
              "    </button>\n",
              "\n",
              "  <style>\n",
              "    .colab-df-container {\n",
              "      display:flex;\n",
              "      gap: 12px;\n",
              "    }\n",
              "\n",
              "    .colab-df-convert {\n",
              "      background-color: #E8F0FE;\n",
              "      border: none;\n",
              "      border-radius: 50%;\n",
              "      cursor: pointer;\n",
              "      display: none;\n",
              "      fill: #1967D2;\n",
              "      height: 32px;\n",
              "      padding: 0 0 0 0;\n",
              "      width: 32px;\n",
              "    }\n",
              "\n",
              "    .colab-df-convert:hover {\n",
              "      background-color: #E2EBFA;\n",
              "      box-shadow: 0px 1px 2px rgba(60, 64, 67, 0.3), 0px 1px 3px 1px rgba(60, 64, 67, 0.15);\n",
              "      fill: #174EA6;\n",
              "    }\n",
              "\n",
              "    .colab-df-buttons div {\n",
              "      margin-bottom: 4px;\n",
              "    }\n",
              "\n",
              "    [theme=dark] .colab-df-convert {\n",
              "      background-color: #3B4455;\n",
              "      fill: #D2E3FC;\n",
              "    }\n",
              "\n",
              "    [theme=dark] .colab-df-convert:hover {\n",
              "      background-color: #434B5C;\n",
              "      box-shadow: 0px 1px 3px 1px rgba(0, 0, 0, 0.15);\n",
              "      filter: drop-shadow(0px 1px 2px rgba(0, 0, 0, 0.3));\n",
              "      fill: #FFFFFF;\n",
              "    }\n",
              "  </style>\n",
              "\n",
              "    <script>\n",
              "      const buttonEl =\n",
              "        document.querySelector('#df-f3e65c76-bfa4-456d-b374-6dbf82a12698 button.colab-df-convert');\n",
              "      buttonEl.style.display =\n",
              "        google.colab.kernel.accessAllowed ? 'block' : 'none';\n",
              "\n",
              "      async function convertToInteractive(key) {\n",
              "        const element = document.querySelector('#df-f3e65c76-bfa4-456d-b374-6dbf82a12698');\n",
              "        const dataTable =\n",
              "          await google.colab.kernel.invokeFunction('convertToInteractive',\n",
              "                                                    [key], {});\n",
              "        if (!dataTable) return;\n",
              "\n",
              "        const docLinkHtml = 'Like what you see? Visit the ' +\n",
              "          '<a target=\"_blank\" href=https://colab.research.google.com/notebooks/data_table.ipynb>data table notebook</a>'\n",
              "          + ' to learn more about interactive tables.';\n",
              "        element.innerHTML = '';\n",
              "        dataTable['output_type'] = 'display_data';\n",
              "        await google.colab.output.renderOutput(dataTable, element);\n",
              "        const docLink = document.createElement('div');\n",
              "        docLink.innerHTML = docLinkHtml;\n",
              "        element.appendChild(docLink);\n",
              "      }\n",
              "    </script>\n",
              "  </div>\n",
              "\n",
              "\n",
              "<div id=\"df-cde57465-5a70-40a3-afa6-7fc69e30ee98\">\n",
              "  <button class=\"colab-df-quickchart\" onclick=\"quickchart('df-cde57465-5a70-40a3-afa6-7fc69e30ee98')\"\n",
              "            title=\"Suggest charts\"\n",
              "            style=\"display:none;\">\n",
              "\n",
              "<svg xmlns=\"http://www.w3.org/2000/svg\" height=\"24px\"viewBox=\"0 0 24 24\"\n",
              "     width=\"24px\">\n",
              "    <g>\n",
              "        <path d=\"M19 3H5c-1.1 0-2 .9-2 2v14c0 1.1.9 2 2 2h14c1.1 0 2-.9 2-2V5c0-1.1-.9-2-2-2zM9 17H7v-7h2v7zm4 0h-2V7h2v10zm4 0h-2v-4h2v4z\"/>\n",
              "    </g>\n",
              "</svg>\n",
              "  </button>\n",
              "\n",
              "<style>\n",
              "  .colab-df-quickchart {\n",
              "      --bg-color: #E8F0FE;\n",
              "      --fill-color: #1967D2;\n",
              "      --hover-bg-color: #E2EBFA;\n",
              "      --hover-fill-color: #174EA6;\n",
              "      --disabled-fill-color: #AAA;\n",
              "      --disabled-bg-color: #DDD;\n",
              "  }\n",
              "\n",
              "  [theme=dark] .colab-df-quickchart {\n",
              "      --bg-color: #3B4455;\n",
              "      --fill-color: #D2E3FC;\n",
              "      --hover-bg-color: #434B5C;\n",
              "      --hover-fill-color: #FFFFFF;\n",
              "      --disabled-bg-color: #3B4455;\n",
              "      --disabled-fill-color: #666;\n",
              "  }\n",
              "\n",
              "  .colab-df-quickchart {\n",
              "    background-color: var(--bg-color);\n",
              "    border: none;\n",
              "    border-radius: 50%;\n",
              "    cursor: pointer;\n",
              "    display: none;\n",
              "    fill: var(--fill-color);\n",
              "    height: 32px;\n",
              "    padding: 0;\n",
              "    width: 32px;\n",
              "  }\n",
              "\n",
              "  .colab-df-quickchart:hover {\n",
              "    background-color: var(--hover-bg-color);\n",
              "    box-shadow: 0 1px 2px rgba(60, 64, 67, 0.3), 0 1px 3px 1px rgba(60, 64, 67, 0.15);\n",
              "    fill: var(--button-hover-fill-color);\n",
              "  }\n",
              "\n",
              "  .colab-df-quickchart-complete:disabled,\n",
              "  .colab-df-quickchart-complete:disabled:hover {\n",
              "    background-color: var(--disabled-bg-color);\n",
              "    fill: var(--disabled-fill-color);\n",
              "    box-shadow: none;\n",
              "  }\n",
              "\n",
              "  .colab-df-spinner {\n",
              "    border: 2px solid var(--fill-color);\n",
              "    border-color: transparent;\n",
              "    border-bottom-color: var(--fill-color);\n",
              "    animation:\n",
              "      spin 1s steps(1) infinite;\n",
              "  }\n",
              "\n",
              "  @keyframes spin {\n",
              "    0% {\n",
              "      border-color: transparent;\n",
              "      border-bottom-color: var(--fill-color);\n",
              "      border-left-color: var(--fill-color);\n",
              "    }\n",
              "    20% {\n",
              "      border-color: transparent;\n",
              "      border-left-color: var(--fill-color);\n",
              "      border-top-color: var(--fill-color);\n",
              "    }\n",
              "    30% {\n",
              "      border-color: transparent;\n",
              "      border-left-color: var(--fill-color);\n",
              "      border-top-color: var(--fill-color);\n",
              "      border-right-color: var(--fill-color);\n",
              "    }\n",
              "    40% {\n",
              "      border-color: transparent;\n",
              "      border-right-color: var(--fill-color);\n",
              "      border-top-color: var(--fill-color);\n",
              "    }\n",
              "    60% {\n",
              "      border-color: transparent;\n",
              "      border-right-color: var(--fill-color);\n",
              "    }\n",
              "    80% {\n",
              "      border-color: transparent;\n",
              "      border-right-color: var(--fill-color);\n",
              "      border-bottom-color: var(--fill-color);\n",
              "    }\n",
              "    90% {\n",
              "      border-color: transparent;\n",
              "      border-bottom-color: var(--fill-color);\n",
              "    }\n",
              "  }\n",
              "</style>\n",
              "\n",
              "  <script>\n",
              "    async function quickchart(key) {\n",
              "      const quickchartButtonEl =\n",
              "        document.querySelector('#' + key + ' button');\n",
              "      quickchartButtonEl.disabled = true;  // To prevent multiple clicks.\n",
              "      quickchartButtonEl.classList.add('colab-df-spinner');\n",
              "      try {\n",
              "        const charts = await google.colab.kernel.invokeFunction(\n",
              "            'suggestCharts', [key], {});\n",
              "      } catch (error) {\n",
              "        console.error('Error during call to suggestCharts:', error);\n",
              "      }\n",
              "      quickchartButtonEl.classList.remove('colab-df-spinner');\n",
              "      quickchartButtonEl.classList.add('colab-df-quickchart-complete');\n",
              "    }\n",
              "    (() => {\n",
              "      let quickchartButtonEl =\n",
              "        document.querySelector('#df-cde57465-5a70-40a3-afa6-7fc69e30ee98 button');\n",
              "      quickchartButtonEl.style.display =\n",
              "        google.colab.kernel.accessAllowed ? 'block' : 'none';\n",
              "    })();\n",
              "  </script>\n",
              "</div>\n",
              "    </div>\n",
              "  </div>\n"
            ]
          },
          "metadata": {},
          "execution_count": 217
        }
      ],
      "source": [
        "data = pd.read_csv('stroke.csv')\n",
        "data.head()"
      ]
    },
    {
      "cell_type": "code",
      "execution_count": 218,
      "metadata": {
        "id": "RwAl5kMm88Dq",
        "colab": {
          "base_uri": "https://localhost:8080/"
        },
        "outputId": "c299d468-e916-49bf-9f58-9617526c2e5b"
      },
      "outputs": [
        {
          "output_type": "execute_result",
          "data": {
            "text/plain": [
              "(5110, 12)"
            ]
          },
          "metadata": {},
          "execution_count": 218
        }
      ],
      "source": [
        "data.shape"
      ]
    },
    {
      "cell_type": "markdown",
      "metadata": {
        "id": "7aiIcob_9RuD"
      },
      "source": [
        "### Menghapus id yang ada dalam dataset tersebut"
      ]
    },
    {
      "cell_type": "code",
      "execution_count": 219,
      "metadata": {
        "id": "FyJJL0m0wXcW",
        "colab": {
          "base_uri": "https://localhost:8080/",
          "height": 261
        },
        "outputId": "3a435566-9657-445f-bcf2-87ccd34b6675"
      },
      "outputs": [
        {
          "output_type": "execute_result",
          "data": {
            "text/plain": [
              "   gender   age  hypertension  heart_disease ever_married      work_type  \\\n",
              "0    Male  67.0             0              1          Yes        Private   \n",
              "1  Female  61.0             0              0          Yes  Self-employed   \n",
              "2    Male  80.0             0              1          Yes        Private   \n",
              "3  Female  49.0             0              0          Yes        Private   \n",
              "4  Female  79.0             1              0          Yes  Self-employed   \n",
              "\n",
              "  Residence_type  avg_glucose_level   bmi   smoking_status  stroke  \n",
              "0          Urban             228.69  36.6  formerly smoked       1  \n",
              "1          Rural             202.21   NaN     never smoked       1  \n",
              "2          Rural             105.92  32.5     never smoked       1  \n",
              "3          Urban             171.23  34.4           smokes       1  \n",
              "4          Rural             174.12  24.0     never smoked       1  "
            ],
            "text/html": [
              "\n",
              "  <div id=\"df-f0c9bdc3-ea70-4c6b-ac45-81fa9bcec0ff\" class=\"colab-df-container\">\n",
              "    <div>\n",
              "<style scoped>\n",
              "    .dataframe tbody tr th:only-of-type {\n",
              "        vertical-align: middle;\n",
              "    }\n",
              "\n",
              "    .dataframe tbody tr th {\n",
              "        vertical-align: top;\n",
              "    }\n",
              "\n",
              "    .dataframe thead th {\n",
              "        text-align: right;\n",
              "    }\n",
              "</style>\n",
              "<table border=\"1\" class=\"dataframe\">\n",
              "  <thead>\n",
              "    <tr style=\"text-align: right;\">\n",
              "      <th></th>\n",
              "      <th>gender</th>\n",
              "      <th>age</th>\n",
              "      <th>hypertension</th>\n",
              "      <th>heart_disease</th>\n",
              "      <th>ever_married</th>\n",
              "      <th>work_type</th>\n",
              "      <th>Residence_type</th>\n",
              "      <th>avg_glucose_level</th>\n",
              "      <th>bmi</th>\n",
              "      <th>smoking_status</th>\n",
              "      <th>stroke</th>\n",
              "    </tr>\n",
              "  </thead>\n",
              "  <tbody>\n",
              "    <tr>\n",
              "      <th>0</th>\n",
              "      <td>Male</td>\n",
              "      <td>67.0</td>\n",
              "      <td>0</td>\n",
              "      <td>1</td>\n",
              "      <td>Yes</td>\n",
              "      <td>Private</td>\n",
              "      <td>Urban</td>\n",
              "      <td>228.69</td>\n",
              "      <td>36.6</td>\n",
              "      <td>formerly smoked</td>\n",
              "      <td>1</td>\n",
              "    </tr>\n",
              "    <tr>\n",
              "      <th>1</th>\n",
              "      <td>Female</td>\n",
              "      <td>61.0</td>\n",
              "      <td>0</td>\n",
              "      <td>0</td>\n",
              "      <td>Yes</td>\n",
              "      <td>Self-employed</td>\n",
              "      <td>Rural</td>\n",
              "      <td>202.21</td>\n",
              "      <td>NaN</td>\n",
              "      <td>never smoked</td>\n",
              "      <td>1</td>\n",
              "    </tr>\n",
              "    <tr>\n",
              "      <th>2</th>\n",
              "      <td>Male</td>\n",
              "      <td>80.0</td>\n",
              "      <td>0</td>\n",
              "      <td>1</td>\n",
              "      <td>Yes</td>\n",
              "      <td>Private</td>\n",
              "      <td>Rural</td>\n",
              "      <td>105.92</td>\n",
              "      <td>32.5</td>\n",
              "      <td>never smoked</td>\n",
              "      <td>1</td>\n",
              "    </tr>\n",
              "    <tr>\n",
              "      <th>3</th>\n",
              "      <td>Female</td>\n",
              "      <td>49.0</td>\n",
              "      <td>0</td>\n",
              "      <td>0</td>\n",
              "      <td>Yes</td>\n",
              "      <td>Private</td>\n",
              "      <td>Urban</td>\n",
              "      <td>171.23</td>\n",
              "      <td>34.4</td>\n",
              "      <td>smokes</td>\n",
              "      <td>1</td>\n",
              "    </tr>\n",
              "    <tr>\n",
              "      <th>4</th>\n",
              "      <td>Female</td>\n",
              "      <td>79.0</td>\n",
              "      <td>1</td>\n",
              "      <td>0</td>\n",
              "      <td>Yes</td>\n",
              "      <td>Self-employed</td>\n",
              "      <td>Rural</td>\n",
              "      <td>174.12</td>\n",
              "      <td>24.0</td>\n",
              "      <td>never smoked</td>\n",
              "      <td>1</td>\n",
              "    </tr>\n",
              "  </tbody>\n",
              "</table>\n",
              "</div>\n",
              "    <div class=\"colab-df-buttons\">\n",
              "\n",
              "  <div class=\"colab-df-container\">\n",
              "    <button class=\"colab-df-convert\" onclick=\"convertToInteractive('df-f0c9bdc3-ea70-4c6b-ac45-81fa9bcec0ff')\"\n",
              "            title=\"Convert this dataframe to an interactive table.\"\n",
              "            style=\"display:none;\">\n",
              "\n",
              "  <svg xmlns=\"http://www.w3.org/2000/svg\" height=\"24px\" viewBox=\"0 -960 960 960\">\n",
              "    <path d=\"M120-120v-720h720v720H120Zm60-500h600v-160H180v160Zm220 220h160v-160H400v160Zm0 220h160v-160H400v160ZM180-400h160v-160H180v160Zm440 0h160v-160H620v160ZM180-180h160v-160H180v160Zm440 0h160v-160H620v160Z\"/>\n",
              "  </svg>\n",
              "    </button>\n",
              "\n",
              "  <style>\n",
              "    .colab-df-container {\n",
              "      display:flex;\n",
              "      gap: 12px;\n",
              "    }\n",
              "\n",
              "    .colab-df-convert {\n",
              "      background-color: #E8F0FE;\n",
              "      border: none;\n",
              "      border-radius: 50%;\n",
              "      cursor: pointer;\n",
              "      display: none;\n",
              "      fill: #1967D2;\n",
              "      height: 32px;\n",
              "      padding: 0 0 0 0;\n",
              "      width: 32px;\n",
              "    }\n",
              "\n",
              "    .colab-df-convert:hover {\n",
              "      background-color: #E2EBFA;\n",
              "      box-shadow: 0px 1px 2px rgba(60, 64, 67, 0.3), 0px 1px 3px 1px rgba(60, 64, 67, 0.15);\n",
              "      fill: #174EA6;\n",
              "    }\n",
              "\n",
              "    .colab-df-buttons div {\n",
              "      margin-bottom: 4px;\n",
              "    }\n",
              "\n",
              "    [theme=dark] .colab-df-convert {\n",
              "      background-color: #3B4455;\n",
              "      fill: #D2E3FC;\n",
              "    }\n",
              "\n",
              "    [theme=dark] .colab-df-convert:hover {\n",
              "      background-color: #434B5C;\n",
              "      box-shadow: 0px 1px 3px 1px rgba(0, 0, 0, 0.15);\n",
              "      filter: drop-shadow(0px 1px 2px rgba(0, 0, 0, 0.3));\n",
              "      fill: #FFFFFF;\n",
              "    }\n",
              "  </style>\n",
              "\n",
              "    <script>\n",
              "      const buttonEl =\n",
              "        document.querySelector('#df-f0c9bdc3-ea70-4c6b-ac45-81fa9bcec0ff button.colab-df-convert');\n",
              "      buttonEl.style.display =\n",
              "        google.colab.kernel.accessAllowed ? 'block' : 'none';\n",
              "\n",
              "      async function convertToInteractive(key) {\n",
              "        const element = document.querySelector('#df-f0c9bdc3-ea70-4c6b-ac45-81fa9bcec0ff');\n",
              "        const dataTable =\n",
              "          await google.colab.kernel.invokeFunction('convertToInteractive',\n",
              "                                                    [key], {});\n",
              "        if (!dataTable) return;\n",
              "\n",
              "        const docLinkHtml = 'Like what you see? Visit the ' +\n",
              "          '<a target=\"_blank\" href=https://colab.research.google.com/notebooks/data_table.ipynb>data table notebook</a>'\n",
              "          + ' to learn more about interactive tables.';\n",
              "        element.innerHTML = '';\n",
              "        dataTable['output_type'] = 'display_data';\n",
              "        await google.colab.output.renderOutput(dataTable, element);\n",
              "        const docLink = document.createElement('div');\n",
              "        docLink.innerHTML = docLinkHtml;\n",
              "        element.appendChild(docLink);\n",
              "      }\n",
              "    </script>\n",
              "  </div>\n",
              "\n",
              "\n",
              "<div id=\"df-7d5a328e-76fd-4c06-9ea7-8a04f1180766\">\n",
              "  <button class=\"colab-df-quickchart\" onclick=\"quickchart('df-7d5a328e-76fd-4c06-9ea7-8a04f1180766')\"\n",
              "            title=\"Suggest charts\"\n",
              "            style=\"display:none;\">\n",
              "\n",
              "<svg xmlns=\"http://www.w3.org/2000/svg\" height=\"24px\"viewBox=\"0 0 24 24\"\n",
              "     width=\"24px\">\n",
              "    <g>\n",
              "        <path d=\"M19 3H5c-1.1 0-2 .9-2 2v14c0 1.1.9 2 2 2h14c1.1 0 2-.9 2-2V5c0-1.1-.9-2-2-2zM9 17H7v-7h2v7zm4 0h-2V7h2v10zm4 0h-2v-4h2v4z\"/>\n",
              "    </g>\n",
              "</svg>\n",
              "  </button>\n",
              "\n",
              "<style>\n",
              "  .colab-df-quickchart {\n",
              "      --bg-color: #E8F0FE;\n",
              "      --fill-color: #1967D2;\n",
              "      --hover-bg-color: #E2EBFA;\n",
              "      --hover-fill-color: #174EA6;\n",
              "      --disabled-fill-color: #AAA;\n",
              "      --disabled-bg-color: #DDD;\n",
              "  }\n",
              "\n",
              "  [theme=dark] .colab-df-quickchart {\n",
              "      --bg-color: #3B4455;\n",
              "      --fill-color: #D2E3FC;\n",
              "      --hover-bg-color: #434B5C;\n",
              "      --hover-fill-color: #FFFFFF;\n",
              "      --disabled-bg-color: #3B4455;\n",
              "      --disabled-fill-color: #666;\n",
              "  }\n",
              "\n",
              "  .colab-df-quickchart {\n",
              "    background-color: var(--bg-color);\n",
              "    border: none;\n",
              "    border-radius: 50%;\n",
              "    cursor: pointer;\n",
              "    display: none;\n",
              "    fill: var(--fill-color);\n",
              "    height: 32px;\n",
              "    padding: 0;\n",
              "    width: 32px;\n",
              "  }\n",
              "\n",
              "  .colab-df-quickchart:hover {\n",
              "    background-color: var(--hover-bg-color);\n",
              "    box-shadow: 0 1px 2px rgba(60, 64, 67, 0.3), 0 1px 3px 1px rgba(60, 64, 67, 0.15);\n",
              "    fill: var(--button-hover-fill-color);\n",
              "  }\n",
              "\n",
              "  .colab-df-quickchart-complete:disabled,\n",
              "  .colab-df-quickchart-complete:disabled:hover {\n",
              "    background-color: var(--disabled-bg-color);\n",
              "    fill: var(--disabled-fill-color);\n",
              "    box-shadow: none;\n",
              "  }\n",
              "\n",
              "  .colab-df-spinner {\n",
              "    border: 2px solid var(--fill-color);\n",
              "    border-color: transparent;\n",
              "    border-bottom-color: var(--fill-color);\n",
              "    animation:\n",
              "      spin 1s steps(1) infinite;\n",
              "  }\n",
              "\n",
              "  @keyframes spin {\n",
              "    0% {\n",
              "      border-color: transparent;\n",
              "      border-bottom-color: var(--fill-color);\n",
              "      border-left-color: var(--fill-color);\n",
              "    }\n",
              "    20% {\n",
              "      border-color: transparent;\n",
              "      border-left-color: var(--fill-color);\n",
              "      border-top-color: var(--fill-color);\n",
              "    }\n",
              "    30% {\n",
              "      border-color: transparent;\n",
              "      border-left-color: var(--fill-color);\n",
              "      border-top-color: var(--fill-color);\n",
              "      border-right-color: var(--fill-color);\n",
              "    }\n",
              "    40% {\n",
              "      border-color: transparent;\n",
              "      border-right-color: var(--fill-color);\n",
              "      border-top-color: var(--fill-color);\n",
              "    }\n",
              "    60% {\n",
              "      border-color: transparent;\n",
              "      border-right-color: var(--fill-color);\n",
              "    }\n",
              "    80% {\n",
              "      border-color: transparent;\n",
              "      border-right-color: var(--fill-color);\n",
              "      border-bottom-color: var(--fill-color);\n",
              "    }\n",
              "    90% {\n",
              "      border-color: transparent;\n",
              "      border-bottom-color: var(--fill-color);\n",
              "    }\n",
              "  }\n",
              "</style>\n",
              "\n",
              "  <script>\n",
              "    async function quickchart(key) {\n",
              "      const quickchartButtonEl =\n",
              "        document.querySelector('#' + key + ' button');\n",
              "      quickchartButtonEl.disabled = true;  // To prevent multiple clicks.\n",
              "      quickchartButtonEl.classList.add('colab-df-spinner');\n",
              "      try {\n",
              "        const charts = await google.colab.kernel.invokeFunction(\n",
              "            'suggestCharts', [key], {});\n",
              "      } catch (error) {\n",
              "        console.error('Error during call to suggestCharts:', error);\n",
              "      }\n",
              "      quickchartButtonEl.classList.remove('colab-df-spinner');\n",
              "      quickchartButtonEl.classList.add('colab-df-quickchart-complete');\n",
              "    }\n",
              "    (() => {\n",
              "      let quickchartButtonEl =\n",
              "        document.querySelector('#df-7d5a328e-76fd-4c06-9ea7-8a04f1180766 button');\n",
              "      quickchartButtonEl.style.display =\n",
              "        google.colab.kernel.accessAllowed ? 'block' : 'none';\n",
              "    })();\n",
              "  </script>\n",
              "</div>\n",
              "    </div>\n",
              "  </div>\n"
            ]
          },
          "metadata": {},
          "execution_count": 219
        }
      ],
      "source": [
        "data = data.drop('id', axis=1)\n",
        "data.head()"
      ]
    },
    {
      "cell_type": "markdown",
      "metadata": {
        "id": "jbhzr6Or9dOI"
      },
      "source": [
        "### Mengecek missing value"
      ]
    },
    {
      "cell_type": "code",
      "source": [
        "data.info()"
      ],
      "metadata": {
        "id": "oQAtIZ6YLmLz",
        "colab": {
          "base_uri": "https://localhost:8080/"
        },
        "outputId": "278b14da-d7fa-4846-83dc-ca9b1481bd86"
      },
      "execution_count": 220,
      "outputs": [
        {
          "output_type": "stream",
          "name": "stdout",
          "text": [
            "<class 'pandas.core.frame.DataFrame'>\n",
            "RangeIndex: 5110 entries, 0 to 5109\n",
            "Data columns (total 11 columns):\n",
            " #   Column             Non-Null Count  Dtype  \n",
            "---  ------             --------------  -----  \n",
            " 0   gender             5110 non-null   object \n",
            " 1   age                5110 non-null   float64\n",
            " 2   hypertension       5110 non-null   int64  \n",
            " 3   heart_disease      5110 non-null   int64  \n",
            " 4   ever_married       5110 non-null   object \n",
            " 5   work_type          5110 non-null   object \n",
            " 6   Residence_type     5110 non-null   object \n",
            " 7   avg_glucose_level  5110 non-null   float64\n",
            " 8   bmi                4909 non-null   float64\n",
            " 9   smoking_status     5110 non-null   object \n",
            " 10  stroke             5110 non-null   int64  \n",
            "dtypes: float64(3), int64(3), object(5)\n",
            "memory usage: 439.3+ KB\n"
          ]
        }
      ]
    },
    {
      "cell_type": "code",
      "execution_count": 221,
      "metadata": {
        "id": "8mg4n-WQ9W3-",
        "colab": {
          "base_uri": "https://localhost:8080/"
        },
        "outputId": "55892193-9e86-4153-d065-a013a3edb5a9"
      },
      "outputs": [
        {
          "output_type": "stream",
          "name": "stdout",
          "text": [
            "Persentase data yang hilang dari dataset : 0.35758761786159043%\n"
          ]
        }
      ],
      "source": [
        "missing_values_count = data.isna().sum()\n",
        "\n",
        "total_cells = np.product(data.shape)\n",
        "total_missing = missing_values_count.sum()\n",
        "percent_missing = (total_missing / total_cells) * 100\n",
        "print(\"Persentase data yang hilang dari dataset : {}%\".format(percent_missing))"
      ]
    },
    {
      "cell_type": "code",
      "execution_count": 222,
      "metadata": {
        "id": "ttAn0Oar-TNL",
        "colab": {
          "base_uri": "https://localhost:8080/",
          "height": 641
        },
        "outputId": "5616652d-f409-4c04-c9cf-c8aedb29e17c"
      },
      "outputs": [
        {
          "output_type": "display_data",
          "data": {
            "text/plain": [
              "<Figure size 1200x600 with 2 Axes>"
            ],
            "image/png": "[encoded data removed]"
          },
          "metadata": {}
        }
      ],
      "source": [
        "plt.figure(figsize = (12,6))\n",
        "sns.heatmap(data.isnull())\n",
        "plt.show()"
      ]
    },
    {
      "cell_type": "code",
      "execution_count": 223,
      "metadata": {
        "id": "S2PM4FCu-rkE"
      },
      "outputs": [],
      "source": [
        "data['bmi'].fillna(data['bmi'].mean(), inplace=True)"
      ]
    },
    {
      "cell_type": "code",
      "execution_count": 224,
      "metadata": {
        "id": "_fFRQa0g-2mr",
        "colab": {
          "base_uri": "https://localhost:8080/"
        },
        "outputId": "c80eeb0f-1f37-42eb-e931-ec2a4c2f1e13"
      },
      "outputs": [
        {
          "output_type": "stream",
          "name": "stdout",
          "text": [
            "<class 'pandas.core.frame.DataFrame'>\n",
            "RangeIndex: 5110 entries, 0 to 5109\n",
            "Data columns (total 11 columns):\n",
            " #   Column             Non-Null Count  Dtype  \n",
            "---  ------             --------------  -----  \n",
            " 0   gender             5110 non-null   object \n",
            " 1   age                5110 non-null   float64\n",
            " 2   hypertension       5110 non-null   int64  \n",
            " 3   heart_disease      5110 non-null   int64  \n",
            " 4   ever_married       5110 non-null   object \n",
            " 5   work_type          5110 non-null   object \n",
            " 6   Residence_type     5110 non-null   object \n",
            " 7   avg_glucose_level  5110 non-null   float64\n",
            " 8   bmi                5110 non-null   float64\n",
            " 9   smoking_status     5110 non-null   object \n",
            " 10  stroke             5110 non-null   int64  \n",
            "dtypes: float64(3), int64(3), object(5)\n",
            "memory usage: 439.3+ KB\n"
          ]
        }
      ],
      "source": [
        "data.info()"
      ]
    },
    {
      "cell_type": "code",
      "execution_count": 225,
      "metadata": {
        "id": "emCzFBee--G8",
        "colab": {
          "base_uri": "https://localhost:8080/",
          "height": 261
        },
        "outputId": "b4bb09b5-e019-4e5a-f546-20b39c93226c"
      },
      "outputs": [
        {
          "output_type": "execute_result",
          "data": {
            "text/plain": [
              "   gender   age  hypertension  heart_disease ever_married      work_type  \\\n",
              "0    Male  67.0             0              1          Yes        Private   \n",
              "1  Female  61.0             0              0          Yes  Self-employed   \n",
              "2    Male  80.0             0              1          Yes        Private   \n",
              "3  Female  49.0             0              0          Yes        Private   \n",
              "4  Female  79.0             1              0          Yes  Self-employed   \n",
              "\n",
              "  Residence_type  avg_glucose_level        bmi   smoking_status  stroke  \n",
              "0          Urban             228.69  36.600000  formerly smoked       1  \n",
              "1          Rural             202.21  28.893237     never smoked       1  \n",
              "2          Rural             105.92  32.500000     never smoked       1  \n",
              "3          Urban             171.23  34.400000           smokes       1  \n",
              "4          Rural             174.12  24.000000     never smoked       1  "
            ],
            "text/html": [
              "\n",
              "  <div id=\"df-b4b4bee0-bed2-4fed-ad06-0e665736e441\" class=\"colab-df-container\">\n",
              "    <div>\n",
              "<style scoped>\n",
              "    .dataframe tbody tr th:only-of-type {\n",
              "        vertical-align: middle;\n",
              "    }\n",
              "\n",
              "    .dataframe tbody tr th {\n",
              "        vertical-align: top;\n",
              "    }\n",
              "\n",
              "    .dataframe thead th {\n",
              "        text-align: right;\n",
              "    }\n",
              "</style>\n",
              "<table border=\"1\" class=\"dataframe\">\n",
              "  <thead>\n",
              "    <tr style=\"text-align: right;\">\n",
              "      <th></th>\n",
              "      <th>gender</th>\n",
              "      <th>age</th>\n",
              "      <th>hypertension</th>\n",
              "      <th>heart_disease</th>\n",
              "      <th>ever_married</th>\n",
              "      <th>work_type</th>\n",
              "      <th>Residence_type</th>\n",
              "      <th>avg_glucose_level</th>\n",
              "      <th>bmi</th>\n",
              "      <th>smoking_status</th>\n",
              "      <th>stroke</th>\n",
              "    </tr>\n",
              "  </thead>\n",
              "  <tbody>\n",
              "    <tr>\n",
              "      <th>0</th>\n",
              "      <td>Male</td>\n",
              "      <td>67.0</td>\n",
              "      <td>0</td>\n",
              "      <td>1</td>\n",
              "      <td>Yes</td>\n",
              "      <td>Private</td>\n",
              "      <td>Urban</td>\n",
              "      <td>228.69</td>\n",
              "      <td>36.600000</td>\n",
              "      <td>formerly smoked</td>\n",
              "      <td>1</td>\n",
              "    </tr>\n",
              "    <tr>\n",
              "      <th>1</th>\n",
              "      <td>Female</td>\n",
              "      <td>61.0</td>\n",
              "      <td>0</td>\n",
              "      <td>0</td>\n",
              "      <td>Yes</td>\n",
              "      <td>Self-employed</td>\n",
              "      <td>Rural</td>\n",
              "      <td>202.21</td>\n",
              "      <td>28.893237</td>\n",
              "      <td>never smoked</td>\n",
              "      <td>1</td>\n",
              "    </tr>\n",
              "    <tr>\n",
              "      <th>2</th>\n",
              "      <td>Male</td>\n",
              "      <td>80.0</td>\n",
              "      <td>0</td>\n",
              "      <td>1</td>\n",
              "      <td>Yes</td>\n",
              "      <td>Private</td>\n",
              "      <td>Rural</td>\n",
              "      <td>105.92</td>\n",
              "      <td>32.500000</td>\n",
              "      <td>never smoked</td>\n",
              "      <td>1</td>\n",
              "    </tr>\n",
              "    <tr>\n",
              "      <th>3</th>\n",
              "      <td>Female</td>\n",
              "      <td>49.0</td>\n",
              "      <td>0</td>\n",
              "      <td>0</td>\n",
              "      <td>Yes</td>\n",
              "      <td>Private</td>\n",
              "      <td>Urban</td>\n",
              "      <td>171.23</td>\n",
              "      <td>34.400000</td>\n",
              "      <td>smokes</td>\n",
              "      <td>1</td>\n",
              "    </tr>\n",
              "    <tr>\n",
              "      <th>4</th>\n",
              "      <td>Female</td>\n",
              "      <td>79.0</td>\n",
              "      <td>1</td>\n",
              "      <td>0</td>\n",
              "      <td>Yes</td>\n",
              "      <td>Self-employed</td>\n",
              "      <td>Rural</td>\n",
              "      <td>174.12</td>\n",
              "      <td>24.000000</td>\n",
              "      <td>never smoked</td>\n",
              "      <td>1</td>\n",
              "    </tr>\n",
              "  </tbody>\n",
              "</table>\n",
              "</div>\n",
              "    <div class=\"colab-df-buttons\">\n",
              "\n",
              "  <div class=\"colab-df-container\">\n",
              "    <button class=\"colab-df-convert\" onclick=\"convertToInteractive('df-b4b4bee0-bed2-4fed-ad06-0e665736e441')\"\n",
              "            title=\"Convert this dataframe to an interactive table.\"\n",
              "            style=\"display:none;\">\n",
              "\n",
              "  <svg xmlns=\"http://www.w3.org/2000/svg\" height=\"24px\" viewBox=\"0 -960 960 960\">\n",
              "    <path d=\"M120-120v-720h720v720H120Zm60-500h600v-160H180v160Zm220 220h160v-160H400v160Zm0 220h160v-160H400v160ZM180-400h160v-160H180v160Zm440 0h160v-160H620v160ZM180-180h160v-160H180v160Zm440 0h160v-160H620v160Z\"/>\n",
              "  </svg>\n",
              "    </button>\n",
              "\n",
              "  <style>\n",
              "    .colab-df-container {\n",
              "      display:flex;\n",
              "      gap: 12px;\n",
              "    }\n",
              "\n",
              "    .colab-df-convert {\n",
              "      background-color: #E8F0FE;\n",
              "      border: none;\n",
              "      border-radius: 50%;\n",
              "      cursor: pointer;\n",
              "      display: none;\n",
              "      fill: #1967D2;\n",
              "      height: 32px;\n",
              "      padding: 0 0 0 0;\n",
              "      width: 32px;\n",
              "    }\n",
              "\n",
              "    .colab-df-convert:hover {\n",
              "      background-color: #E2EBFA;\n",
              "      box-shadow: 0px 1px 2px rgba(60, 64, 67, 0.3), 0px 1px 3px 1px rgba(60, 64, 67, 0.15);\n",
              "      fill: #174EA6;\n",
              "    }\n",
              "\n",
              "    .colab-df-buttons div {\n",
              "      margin-bottom: 4px;\n",
              "    }\n",
              "\n",
              "    [theme=dark] .colab-df-convert {\n",
              "      background-color: #3B4455;\n",
              "      fill: #D2E3FC;\n",
              "    }\n",
              "\n",
              "    [theme=dark] .colab-df-convert:hover {\n",
              "      background-color: #434B5C;\n",
              "      box-shadow: 0px 1px 3px 1px rgba(0, 0, 0, 0.15);\n",
              "      filter: drop-shadow(0px 1px 2px rgba(0, 0, 0, 0.3));\n",
              "      fill: #FFFFFF;\n",
              "    }\n",
              "  </style>\n",
              "\n",
              "    <script>\n",
              "      const buttonEl =\n",
              "        document.querySelector('#df-b4b4bee0-bed2-4fed-ad06-0e665736e441 button.colab-df-convert');\n",
              "      buttonEl.style.display =\n",
              "        google.colab.kernel.accessAllowed ? 'block' : 'none';\n",
              "\n",
              "      async function convertToInteractive(key) {\n",
              "        const element = document.querySelector('#df-b4b4bee0-bed2-4fed-ad06-0e665736e441');\n",
              "        const dataTable =\n",
              "          await google.colab.kernel.invokeFunction('convertToInteractive',\n",
              "                                                    [key], {});\n",
              "        if (!dataTable) return;\n",
              "\n",
              "        const docLinkHtml = 'Like what you see? Visit the ' +\n",
              "          '<a target=\"_blank\" href=https://colab.research.google.com/notebooks/data_table.ipynb>data table notebook</a>'\n",
              "          + ' to learn more about interactive tables.';\n",
              "        element.innerHTML = '';\n",
              "        dataTable['output_type'] = 'display_data';\n",
              "        await google.colab.output.renderOutput(dataTable, element);\n",
              "        const docLink = document.createElement('div');\n",
              "        docLink.innerHTML = docLinkHtml;\n",
              "        element.appendChild(docLink);\n",
              "      }\n",
              "    </script>\n",
              "  </div>\n",
              "\n",
              "\n",
              "<div id=\"df-f70306e8-1b90-41d3-abf5-70be1a29d38a\">\n",
              "  <button class=\"colab-df-quickchart\" onclick=\"quickchart('df-f70306e8-1b90-41d3-abf5-70be1a29d38a')\"\n",
              "            title=\"Suggest charts\"\n",
              "            style=\"display:none;\">\n",
              "\n",
              "<svg xmlns=\"http://www.w3.org/2000/svg\" height=\"24px\"viewBox=\"0 0 24 24\"\n",
              "     width=\"24px\">\n",
              "    <g>\n",
              "        <path d=\"M19 3H5c-1.1 0-2 .9-2 2v14c0 1.1.9 2 2 2h14c1.1 0 2-.9 2-2V5c0-1.1-.9-2-2-2zM9 17H7v-7h2v7zm4 0h-2V7h2v10zm4 0h-2v-4h2v4z\"/>\n",
              "    </g>\n",
              "</svg>\n",
              "  </button>\n",
              "\n",
              "<style>\n",
              "  .colab-df-quickchart {\n",
              "      --bg-color: #E8F0FE;\n",
              "      --fill-color: #1967D2;\n",
              "      --hover-bg-color: #E2EBFA;\n",
              "      --hover-fill-color: #174EA6;\n",
              "      --disabled-fill-color: #AAA;\n",
              "      --disabled-bg-color: #DDD;\n",
              "  }\n",
              "\n",
              "  [theme=dark] .colab-df-quickchart {\n",
              "      --bg-color: #3B4455;\n",
              "      --fill-color: #D2E3FC;\n",
              "      --hover-bg-color: #434B5C;\n",
              "      --hover-fill-color: #FFFFFF;\n",
              "      --disabled-bg-color: #3B4455;\n",
              "      --disabled-fill-color: #666;\n",
              "  }\n",
              "\n",
              "  .colab-df-quickchart {\n",
              "    background-color: var(--bg-color);\n",
              "    border: none;\n",
              "    border-radius: 50%;\n",
              "    cursor: pointer;\n",
              "    display: none;\n",
              "    fill: var(--fill-color);\n",
              "    height: 32px;\n",
              "    padding: 0;\n",
              "    width: 32px;\n",
              "  }\n",
              "\n",
              "  .colab-df-quickchart:hover {\n",
              "    background-color: var(--hover-bg-color);\n",
              "    box-shadow: 0 1px 2px rgba(60, 64, 67, 0.3), 0 1px 3px 1px rgba(60, 64, 67, 0.15);\n",
              "    fill: var(--button-hover-fill-color);\n",
              "  }\n",
              "\n",
              "  .colab-df-quickchart-complete:disabled,\n",
              "  .colab-df-quickchart-complete:disabled:hover {\n",
              "    background-color: var(--disabled-bg-color);\n",
              "    fill: var(--disabled-fill-color);\n",
              "    box-shadow: none;\n",
              "  }\n",
              "\n",
              "  .colab-df-spinner {\n",
              "    border: 2px solid var(--fill-color);\n",
              "    border-color: transparent;\n",
              "    border-bottom-color: var(--fill-color);\n",
              "    animation:\n",
              "      spin 1s steps(1) infinite;\n",
              "  }\n",
              "\n",
              "  @keyframes spin {\n",
              "    0% {\n",
              "      border-color: transparent;\n",
              "      border-bottom-color: var(--fill-color);\n",
              "      border-left-color: var(--fill-color);\n",
              "    }\n",
              "    20% {\n",
              "      border-color: transparent;\n",
              "      border-left-color: var(--fill-color);\n",
              "      border-top-color: var(--fill-color);\n",
              "    }\n",
              "    30% {\n",
              "      border-color: transparent;\n",
              "      border-left-color: var(--fill-color);\n",
              "      border-top-color: var(--fill-color);\n",
              "      border-right-color: var(--fill-color);\n",
              "    }\n",
              "    40% {\n",
              "      border-color: transparent;\n",
              "      border-right-color: var(--fill-color);\n",
              "      border-top-color: var(--fill-color);\n",
              "    }\n",
              "    60% {\n",
              "      border-color: transparent;\n",
              "      border-right-color: var(--fill-color);\n",
              "    }\n",
              "    80% {\n",
              "      border-color: transparent;\n",
              "      border-right-color: var(--fill-color);\n",
              "      border-bottom-color: var(--fill-color);\n",
              "    }\n",
              "    90% {\n",
              "      border-color: transparent;\n",
              "      border-bottom-color: var(--fill-color);\n",
              "    }\n",
              "  }\n",
              "</style>\n",
              "\n",
              "  <script>\n",
              "    async function quickchart(key) {\n",
              "      const quickchartButtonEl =\n",
              "        document.querySelector('#' + key + ' button');\n",
              "      quickchartButtonEl.disabled = true;  // To prevent multiple clicks.\n",
              "      quickchartButtonEl.classList.add('colab-df-spinner');\n",
              "      try {\n",
              "        const charts = await google.colab.kernel.invokeFunction(\n",
              "            'suggestCharts', [key], {});\n",
              "      } catch (error) {\n",
              "        console.error('Error during call to suggestCharts:', error);\n",
              "      }\n",
              "      quickchartButtonEl.classList.remove('colab-df-spinner');\n",
              "      quickchartButtonEl.classList.add('colab-df-quickchart-complete');\n",
              "    }\n",
              "    (() => {\n",
              "      let quickchartButtonEl =\n",
              "        document.querySelector('#df-f70306e8-1b90-41d3-abf5-70be1a29d38a button');\n",
              "      quickchartButtonEl.style.display =\n",
              "        google.colab.kernel.accessAllowed ? 'block' : 'none';\n",
              "    })();\n",
              "  </script>\n",
              "</div>\n",
              "    </div>\n",
              "  </div>\n"
            ]
          },
          "metadata": {},
          "execution_count": 225
        }
      ],
      "source": [
        "data.head()"
      ]
    },
    {
      "cell_type": "markdown",
      "metadata": {
        "id": "xY04zboy_Pzo"
      },
      "source": [
        "## Data Preprocessing"
      ]
    },
    {
      "cell_type": "markdown",
      "metadata": {
        "id": "rk6KbwLkAv7z"
      },
      "source": [
        "### Kolom Gender"
      ]
    },
    {
      "cell_type": "code",
      "execution_count": 226,
      "metadata": {
        "id": "xvUiSruQ_SqW",
        "colab": {
          "base_uri": "https://localhost:8080/"
        },
        "outputId": "e7dbd36c-18ea-4f4a-b46f-314d56c1f238"
      },
      "outputs": [
        {
          "output_type": "execute_result",
          "data": {
            "text/plain": [
              "Female    2994\n",
              "Male      2115\n",
              "Other        1\n",
              "Name: gender, dtype: int64"
            ]
          },
          "metadata": {},
          "execution_count": 226
        }
      ],
      "source": [
        "data[\"gender\"].value_counts()"
      ]
    },
    {
      "cell_type": "code",
      "execution_count": 227,
      "metadata": {
        "id": "B8HXbASO_zOa",
        "colab": {
          "base_uri": "https://localhost:8080/"
        },
        "outputId": "e341d6fe-12dc-4651-fbb1-b08cb87b661a"
      },
      "outputs": [
        {
          "output_type": "execute_result",
          "data": {
            "text/plain": [
              "Female    2994\n",
              "Male      2115\n",
              "Name: gender, dtype: int64"
            ]
          },
          "metadata": {},
          "execution_count": 227
        }
      ],
      "source": [
        "data.drop(data[data['gender'] == 'Other'].index, inplace = True)\n",
        "data[\"gender\"].value_counts()"
      ]
    },
    {
      "cell_type": "markdown",
      "metadata": {
        "id": "JwlBynjYDvMX"
      },
      "source": [
        "### Kolom Hypertension"
      ]
    },
    {
      "cell_type": "code",
      "execution_count": 228,
      "metadata": {
        "id": "Bx7NnRo4Dzo4",
        "colab": {
          "base_uri": "https://localhost:8080/"
        },
        "outputId": "7f0cbabb-2cce-423e-dd1e-f5cbb15a218c"
      },
      "outputs": [
        {
          "output_type": "execute_result",
          "data": {
            "text/plain": [
              "0    4611\n",
              "1     498\n",
              "Name: hypertension, dtype: int64"
            ]
          },
          "metadata": {},
          "execution_count": 228
        }
      ],
      "source": [
        "data[\"hypertension\"].value_counts()"
      ]
    },
    {
      "cell_type": "markdown",
      "metadata": {
        "id": "bOAgE76_D7gG"
      },
      "source": [
        "### Kolom Heart Disease"
      ]
    },
    {
      "cell_type": "code",
      "execution_count": 229,
      "metadata": {
        "id": "-vXpJlKaEAvS",
        "colab": {
          "base_uri": "https://localhost:8080/"
        },
        "outputId": "8e669a80-a7bc-4e24-f9ff-291d29de7eb9"
      },
      "outputs": [
        {
          "output_type": "execute_result",
          "data": {
            "text/plain": [
              "0    4833\n",
              "1     276\n",
              "Name: heart_disease, dtype: int64"
            ]
          },
          "metadata": {},
          "execution_count": 229
        }
      ],
      "source": [
        "data[\"heart_disease\"].value_counts()"
      ]
    },
    {
      "cell_type": "markdown",
      "metadata": {
        "id": "pMeKQok1EIJA"
      },
      "source": [
        "### Kolom Ever Married"
      ]
    },
    {
      "cell_type": "code",
      "execution_count": 230,
      "metadata": {
        "id": "1LugwTuyEK20",
        "colab": {
          "base_uri": "https://localhost:8080/"
        },
        "outputId": "665e9a4d-d098-40ec-c5d8-49b845a49b3b"
      },
      "outputs": [
        {
          "output_type": "execute_result",
          "data": {
            "text/plain": [
              "Yes    3353\n",
              "No     1756\n",
              "Name: ever_married, dtype: int64"
            ]
          },
          "metadata": {},
          "execution_count": 230
        }
      ],
      "source": [
        "data[\"ever_married\"].value_counts()"
      ]
    },
    {
      "cell_type": "markdown",
      "metadata": {
        "id": "NQCniRqmEgid"
      },
      "source": [
        "### Kolom Work Type"
      ]
    },
    {
      "cell_type": "code",
      "execution_count": 231,
      "metadata": {
        "id": "I-iibgVqEivN",
        "colab": {
          "base_uri": "https://localhost:8080/"
        },
        "outputId": "c1715de2-a7b8-40eb-8c40-c40c6f1453cd"
      },
      "outputs": [
        {
          "output_type": "execute_result",
          "data": {
            "text/plain": [
              "Private          2924\n",
              "Self-employed     819\n",
              "children          687\n",
              "Govt_job          657\n",
              "Never_worked       22\n",
              "Name: work_type, dtype: int64"
            ]
          },
          "metadata": {},
          "execution_count": 231
        }
      ],
      "source": [
        "data[\"work_type\"].value_counts()"
      ]
    },
    {
      "cell_type": "markdown",
      "metadata": {
        "id": "k6frShBBF-yn"
      },
      "source": [
        "### Kolom Residence Type"
      ]
    },
    {
      "cell_type": "code",
      "execution_count": 232,
      "metadata": {
        "id": "7ISmLFtYGEj8",
        "colab": {
          "base_uri": "https://localhost:8080/"
        },
        "outputId": "58a5d062-b41b-482e-dd06-3ace0dfdcc36"
      },
      "outputs": [
        {
          "output_type": "execute_result",
          "data": {
            "text/plain": [
              "Urban    2596\n",
              "Rural    2513\n",
              "Name: Residence_type, dtype: int64"
            ]
          },
          "metadata": {},
          "execution_count": 232
        }
      ],
      "source": [
        "data[\"Residence_type\"].value_counts()"
      ]
    },
    {
      "cell_type": "markdown",
      "metadata": {
        "id": "U2wt1ak4GOyR"
      },
      "source": [
        "### Kolom Avg Glucose Level"
      ]
    },
    {
      "cell_type": "code",
      "execution_count": 233,
      "metadata": {
        "id": "TmV9EA_mGTcY",
        "colab": {
          "base_uri": "https://localhost:8080/",
          "height": 542
        },
        "outputId": "033fed54-e957-4b5f-8b88-21c26ba491e8"
      },
      "outputs": [
        {
          "output_type": "display_data",
          "data": {
            "text/html": [
              "<html>\n",
              "<head><meta charset=\"utf-8\" /></head>\n",
              "<body>\n",
              "    <div>            <script src=\"https://cdnjs.cloudflare.com/ajax/libs/mathjax/2.7.5/MathJax.js?config=TeX-AMS-MML_SVG\"></script><script type=\"text/javascript\">if (window.MathJax && window.MathJax.Hub && window.MathJax.Hub.Config) {window.MathJax.Hub.Config({SVG: {font: \"STIX-Web\"}});}</script>                <script type=\"text/javascript\">window.PlotlyConfig = {MathJaxConfig: 'local'};</script>\n",
              "        <script charset=\"utf-8\" src=\"https://cdn.plot.ly/plotly-2.24.1.min.js\"></script>                <div id=\"f648d055-0a6d-4e23-8d8a-2c34acc46188\" class=\"plotly-graph-div\" style=\"height:525px; width:100%;\"></div>            <script type=\"text/javascript\">                                    window.PLOTLYENV=window.PLOTLYENV || {};                                    if (document.getElementById(\"f648d055-0a6d-4e23-8d8a-2c34acc46188\")) {                    Plotly.newPlot(                        \"f648d055-0a6d-4e23-8d8a-2c34acc46188\",                        [{\"autobinx\":false,\"histnorm\":\"probability density\",\"legendgroup\":\"avg_glucose_level\",\"marker\":{\"color\":\"rgb(31, 119, 180)\"},\"name\":\"avg_glucose_level\",\"opacity\":0.7,\"x\":[228.69,202.21,105.92,171.23,174.12,186.21,70.09,94.39,76.15,58.57,80.43,120.46,104.51,219.84,214.09,167.41,191.61,221.29,89.22,217.08,193.94,233.29,228.7,208.3,102.87,104.12,100.98,189.84,195.23,211.78,212.08,83.41,196.92,252.72,84.2,84.03,219.72,74.63,92.62,60.91,78.03,71.22,144.9,90.9,213.03,243.58,109.78,107.26,99.33,58.09,89.96,75.32,127.29,124.13,197.54,196.71,59.32,237.75,194.99,180.93,185.17,74.9,61.94,93.72,104.72,113.01,221.58,104.47,86.23,72.67,62.57,179.12,116.55,228.56,96.59,66.72,240.09,110.85,165.31,143.43,96.16,101.45,88.92,79.79,71.2,96.97,111.81,59.35,86.94,98.55,226.98,72.81,68.02,68.56,64.14,235.63,76.34,240.59,78.92,82.81,74.1,190.32,231.61,78.7,110.52,82.3,73.18,191.82,93.05,64.17,129.98,68.53,106.41,224.1,82.1,216.94,76.11,72.96,82.28,105.22,59.86,62.55,259.63,249.31,219.91,131.41,93.13,73.54,200.59,62.48,190.14,130.54,182.99,101.45,206.09,263.32,140.1,207.28,194.37,199.2,103.68,116.44,70.28,72.17,221.79,151.16,68.43,67.29,67.41,239.07,169.67,223.83,76.57,77.82,92.98,231.56,102.16,221.89,195.71,74.02,57.92,81.76,70.37,203.87,89.13,133.19,162.23,75.02,98.02,91.54,111.98,60.94,97.43,91.02,60.67,185.49,64.44,56.11,110.66,213.22,78.18,111.04,76.13,81.32,112.24,137.3,116.69,215.94,86.62,209.86,205.77,112.16,118.03,271.74,97.92,200.62,242.52,93.81,114.77,74.96,167.13,175.29,90.0,109.47,87.85,106.74,80.13,90.19,134.8,106.58,83.24,103.43,208.65,74.11,95.84,205.33,116.1,210.4,199.86,219.73,250.89,72.73,205.35,70.3,104.86,216.58,184.4,60.98,97.76,66.03,81.95,97.73,70.94,199.84,218.46,211.06,86.3,162.14,88.2,91.92,76.46,197.28,233.94,247.51,84.96,57.93,78.8,87.8,78.81,95.12,87.96,110.89,69.04,161.28,210.95,77.59,243.53,77.67,205.84,77.08,57.08,162.96,73.5,95.04,85.37,84.62,82.67,57.33,67.84,75.7,129.54,60.22,198.21,109.82,60.84,94.61,97.49,206.72,214.45,82.9,103.26,55.78,73.74,149.75,82.34,62.6,94.09,55.42,82.18,117.92,114.84,79.17,110.63,190.7,79.81,113.63,141.24,56.96,203.04,94.3,81.51,137.74,81.84,242.3,102.64,146.01,75.42,220.49,61.45,88.19,115.22,97.93,85.6,79.83,218.46,62.2,69.15,127.71,216.7,71.89,103.56,79.03,69.94,90.12,95.1,234.58,235.85,78.05,89.44,111.38,243.5,182.2,229.92,82.24,89.84,90.69,84.38,215.6,91.61,138.16,75.23,75.18,106.23,239.64,58.95,99.92,116.23,118.82,66.3,101.41,200.28,136.8,96.57,66.42,98.09,205.23,86.78,126.82,78.4,63.69,209.58,89.86,110.99,83.82,137.96,210.78,118.89,72.55,107.41,93.25,74.91,80.05,99.8,91.97,64.4,73.02,88.11,138.29,72.36,68.76,106.22,101.52,109.51,85.84,110.15,91.72,251.6,123.1,97.4,68.34,80.81,120.31,83.51,74.09,91.6,87.52,213.37,75.39,122.41,223.36,84.59,70.16,107.52,80.88,93.48,70.21,86.67,101.37,105.22,70.31,64.06,178.29,81.6,147.48,86.86,71.16,73.2,203.81,82.0,97.55,94.29,75.22,90.07,73.73,79.58,77.88,205.26,58.63,139.9,211.03,72.79,91.65,79.92,225.47,94.48,82.34,180.63,92.48,116.66,112.09,130.34,82.59,123.87,98.7,227.1,55.39,66.07,104.21,145.15,68.19,97.53,122.31,83.51,86.46,112.06,92.14,201.76,74.44,95.93,87.51,72.35,113.47,103.78,115.43,95.59,101.52,170.05,217.3,196.01,92.21,100.09,93.88,75.05,70.08,74.2,69.01,96.17,184.15,87.24,198.69,82.58,96.88,73.32,94.59,132.08,98.99,104.48,98.01,79.14,89.32,65.24,80.98,186.17,69.24,111.19,93.28,122.19,129.53,114.53,93.73,77.49,65.38,94.18,118.7,96.29,74.64,96.99,100.61,97.08,84.79,78.75,82.93,88.78,122.1,74.81,183.45,114.94,104.38,102.91,108.79,73.31,68.52,89.77,102.64,70.92,86.11,129.16,113.85,79.35,80.79,114.01,93.74,90.65,98.41,127.18,138.06,89.44,105.61,155.43,80.83,80.19,60.34,79.3,98.44,210.48,70.34,122.22,75.29,100.35,193.83,126.96,183.34,247.69,76.2,71.43,93.36,61.29,103.62,100.52,191.47,67.06,144.1,58.26,239.82,73.71,88.53,114.79,113.8,71.91,65.3,189.57,114.25,81.26,87.88,112.17,99.97,207.58,109.16,74.46,118.51,107.47,182.86,59.17,215.64,163.7,196.36,139.77,141.23,89.99,108.53,63.61,85.54,100.83,59.82,105.95,188.11,71.15,60.53,205.5,204.86,115.03,79.87,97.89,125.26,114.32,92.23,83.51,102.34,144.48,88.39,228.08,93.79,147.14,106.43,88.04,92.2,219.53,75.56,158.31,111.43,219.97,148.91,69.4,68.34,58.37,71.2,101.5,92.04,73.0,111.15,58.65,100.54,111.73,97.78,85.79,98.54,94.62,112.43,99.67,67.39,95.12,85.06,214.05,79.09,98.09,76.36,98.42,82.01,56.11,111.85,92.39,112.54,63.71,70.35,94.65,64.64,57.27,107.25,77.12,55.32,69.37,57.57,87.43,98.73,81.18,56.23,69.61,59.49,118.14,100.26,56.75,88.27,67.81,77.46,76.26,86.39,116.38,75.74,92.14,149.95,92.11,74.98,55.25,79.89,130.61,94.26,94.34,109.03,81.03,99.82,140.08,59.54,80.33,131.51,89.21,91.45,90.58,91.45,89.63,124.06,99.47,88.97,80.93,102.07,91.69,63.71,200.49,75.3,240.71,60.5,131.85,134.39,56.18,113.64,156.57,80.4,59.26,63.26,86.24,197.1,90.9,84.59,121.8,77.65,64.41,75.19,67.97,119.34,94.92,107.42,85.02,103.51,114.5,70.78,95.01,84.11,74.02,78.49,74.22,55.34,75.04,109.73,95.81,96.78,194.62,70.02,222.21,62.41,55.83,65.12,73.62,85.83,103.86,60.98,82.69,250.2,128.97,84.31,74.8,97.06,77.54,92.78,173.43,79.08,106.18,114.21,91.08,105.77,74.88,123.15,184.25,117.69,55.26,106.51,55.27,98.42,99.2,98.92,92.7,106.7,152.81,82.59,91.0,93.88,76.99,254.6,93.99,109.68,92.04,111.41,97.92,65.61,62.37,101.28,88.31,103.55,60.26,79.39,122.01,78.09,89.7,95.1,112.64,79.8,82.2,108.89,114.32,116.14,122.74,94.04,86.6,82.32,83.83,106.98,93.88,70.53,212.01,65.88,106.97,126.35,129.16,88.66,112.95,81.59,76.82,73.75,91.56,104.55,84.84,86.06,109.1,68.35,121.04,160.83,85.62,74.23,110.76,79.44,119.52,90.42,109.32,78.16,79.13,84.06,89.3,69.21,186.45,58.47,189.49,99.6,126.18,186.32,62.49,74.51,94.63,91.98,56.77,75.87,77.19,135.75,100.15,95.08,125.38,111.71,94.64,226.7,112.96,183.1,105.36,84.13,102.47,77.04,83.23,87.01,56.99,73.01,106.35,80.63,103.61,91.35,194.04,111.99,57.51,68.49,60.2,160.0,86.96,237.15,99.06,56.31,84.31,90.92,104.33,62.61,231.19,94.3,104.48,72.62,81.64,90.78,70.71,72.36,59.76,83.76,63.64,76.26,82.06,110.91,77.16,69.58,96.26,87.27,65.36,109.51,89.03,91.34,57.82,81.15,115.29,111.02,111.61,109.02,106.51,207.32,87.11,61.68,119.04,86.05,70.03,207.64,236.84,78.11,100.97,99.21,113.21,92.95,110.16,142.57,92.87,111.48,123.0,100.54,106.68,86.4,61.81,128.28,204.63,89.98,232.89,98.58,57.94,123.21,76.34,92.98,92.81,85.16,90.1,65.15,104.62,113.25,59.28,93.07,77.42,73.69,74.9,88.27,58.39,102.05,112.47,72.84,195.03,170.95,87.98,65.81,124.6,83.65,88.81,86.75,123.36,89.68,69.87,109.22,157.57,110.73,99.14,59.15,165.11,77.44,100.33,57.93,148.24,91.96,72.93,84.27,124.45,90.51,118.87,56.42,73.67,89.11,74.04,145.23,100.8,85.22,72.49,82.61,72.07,79.85,84.86,131.89,89.17,227.91,131.77,102.01,128.63,144.1,143.15,116.67,85.6,142.12,100.81,69.17,58.38,86.34,95.44,94.78,109.59,79.26,78.46,85.29,156.18,69.52,65.32,108.47,105.63,77.93,95.2,78.52,114.89,95.43,84.08,110.55,82.21,82.38,93.89,75.08,76.72,84.93,76.5,65.47,99.16,63.53,78.65,63.78,77.52,111.64,97.84,113.01,56.48,204.5,96.02,206.25,115.52,60.69,93.67,67.79,56.07,254.63,96.63,84.3,246.34,195.16,93.34,162.3,106.4,110.25,69.7,87.03,112.98,82.47,75.88,84.63,109.56,89.45,91.65,121.14,87.77,106.56,93.88,153.76,88.65,111.22,223.68,55.86,63.73,103.94,92.49,229.2,75.06,85.57,68.61,56.3,193.22,65.98,204.57,64.99,66.12,73.4,82.83,93.55,90.4,98.1,142.02,251.46,89.96,71.73,82.44,80.85,220.52,86.73,76.93,113.1,96.84,100.91,116.5,57.26,129.31,56.47,86.06,86.97,78.78,195.04,103.25,134.59,93.74,90.66,91.68,75.79,91.68,106.68,82.31,90.06,65.47,58.03,83.09,88.6,63.18,78.42,65.08,79.47,95.52,73.0,138.07,86.99,112.07,105.76,55.67,90.55,218.65,111.21,83.56,116.76,83.5,69.3,67.55,80.28,211.49,67.96,99.29,140.52,75.62,120.06,117.45,224.71,122.75,82.39,57.02,115.98,226.11,97.59,82.57,79.34,125.68,102.06,65.59,120.85,101.65,210.94,77.92,230.68,62.68,55.22,78.94,109.69,79.63,79.33,79.91,84.46,68.4,78.43,198.02,85.35,204.17,82.71,121.19,106.02,66.36,267.76,107.18,74.58,80.92,90.77,90.84,59.2,217.71,133.76,61.36,118.62,77.91,68.98,112.08,96.2,93.11,115.54,88.57,180.76,83.12,94.89,239.52,99.15,124.16,86.38,93.68,229.86,78.73,115.92,93.71,76.66,112.38,89.3,103.44,79.69,61.61,94.12,62.4,210.96,76.25,103.48,96.42,78.59,195.25,103.76,68.52,92.17,81.02,94.33,78.43,217.39,82.77,88.13,102.77,101.75,113.34,63.33,69.34,118.81,66.13,67.53,96.58,57.89,78.38,94.15,89.53,127.75,76.79,141.15,88.63,201.25,130.15,108.03,104.07,88.83,197.79,150.45,100.39,79.92,96.79,86.84,61.27,72.61,82.41,74.72,57.37,73.72,88.34,101.34,119.01,71.98,84.91,91.63,214.77,145.71,167.31,63.65,79.63,87.49,98.74,92.82,72.2,181.23,63.37,74.82,97.6,93.04,97.12,82.81,134.45,98.67,85.82,189.45,144.16,82.56,206.4,67.97,84.86,71.7,72.02,61.81,103.09,73.75,156.7,70.87,138.47,64.66,91.88,74.79,78.18,77.82,112.23,178.76,121.43,94.22,67.27,197.58,86.37,112.09,199.96,85.33,86.33,80.47,62.46,78.85,72.09,103.81,78.04,94.67,62.25,155.17,83.28,132.41,62.78,89.96,103.25,126.99,102.27,113.63,86.09,108.08,108.34,56.07,82.91,94.75,101.79,88.41,101.05,85.07,108.1,93.17,158.89,205.77,112.34,119.03,237.21,89.68,246.53,89.05,81.74,98.12,105.59,86.0,65.51,61.78,109.56,65.82,90.16,64.45,91.85,97.89,206.33,74.29,107.4,87.72,85.99,100.84,124.61,86.55,90.42,100.85,87.74,80.15,107.29,206.98,227.28,80.43,228.7,120.07,93.47,80.77,150.27,81.94,70.75,83.83,73.66,102.37,77.83,70.01,119.88,78.29,169.97,123.79,80.98,84.21,101.31,86.26,92.86,140.28,244.28,124.16,93.55,99.34,59.87,72.76,68.34,61.1,120.77,60.39,126.34,93.24,154.75,62.81,65.96,79.53,96.85,251.99,115.13,102.3,78.99,191.79,68.8,83.84,94.66,107.98,61.01,135.64,92.65,121.11,163.56,107.69,216.88,70.15,83.02,87.94,222.29,139.43,213.11,77.23,58.48,87.33,102.34,151.3,144.23,110.6,80.28,111.02,114.88,227.51,111.65,201.01,129.01,124.08,107.91,95.4,65.9,78.98,111.33,104.36,123.87,210.0,86.86,113.96,81.28,102.5,78.05,237.58,86.07,59.05,95.88,70.18,111.13,79.3,65.84,123.49,207.45,143.45,89.11,58.3,78.68,98.91,67.92,73.0,97.5,108.43,90.43,76.3,121.27,119.67,226.93,76.11,93.23,253.16,101.02,238.53,79.18,207.79,196.2,231.76,93.3,110.47,77.52,91.23,216.92,157.01,93.51,102.54,87.78,126.67,93.6,194.98,99.96,58.87,77.67,83.14,69.18,218.54,71.22,82.41,82.07,73.0,127.25,72.63,108.2,123.95,58.71,98.46,68.78,133.63,101.43,65.3,72.49,65.49,63.4,105.29,64.08,78.34,66.32,168.15,93.48,79.2,107.45,83.86,119.96,70.58,87.7,65.29,97.14,110.68,91.93,88.54,183.0,115.93,99.13,69.24,102.28,71.31,89.75,87.66,237.17,81.11,178.33,81.38,109.56,70.45,73.44,146.44,65.04,151.25,106.41,197.09,93.58,122.04,80.06,84.93,68.4,62.99,139.67,113.4,101.92,65.98,84.3,61.42,85.52,83.79,73.83,69.38,66.11,149.62,242.84,202.66,216.9,103.78,114.88,75.94,55.51,93.74,71.44,58.29,115.83,102.71,99.69,102.89,79.05,56.63,87.34,109.51,81.43,78.59,101.22,78.26,105.47,68.19,210.0,114.47,66.85,94.71,208.05,222.6,80.81,64.51,151.56,199.14,73.41,109.65,69.11,114.41,103.46,95.36,57.33,191.48,71.63,94.0,93.77,84.75,89.24,70.13,82.26,200.16,80.73,75.09,80.57,77.04,145.26,190.4,82.08,103.35,97.46,123.65,87.96,85.92,80.8,99.3,62.56,144.2,71.38,95.5,67.06,70.16,104.24,122.48,215.9,108.56,69.88,91.54,65.85,60.74,233.52,110.7,78.93,124.5,57.95,92.82,58.25,213.54,74.86,78.35,101.26,86.87,124.01,83.41,188.69,86.51,70.65,92.4,73.36,219.5,105.73,83.79,58.02,61.94,99.71,63.19,107.11,56.84,217.66,77.19,76.22,155.32,70.67,227.16,58.69,88.85,137.94,60.6,93.67,79.56,122.46,92.32,80.63,92.32,59.89,80.57,88.52,88.82,102.08,71.38,84.9,82.21,209.9,74.05,90.46,176.48,94.07,85.12,71.81,111.93,94.4,70.0,95.57,91.98,66.29,211.88,76.55,56.67,100.52,58.96,81.66,96.77,91.63,97.51,225.6,95.58,210.23,92.82,234.82,65.67,74.51,81.99,87.69,125.29,111.64,70.93,89.93,137.45,72.06,97.9,84.85,230.59,92.81,168.15,224.63,108.12,85.17,84.14,85.57,82.81,110.53,61.88,85.04,140.4,62.27,99.44,88.9,64.1,97.58,58.66,88.24,61.32,185.71,62.99,86.04,83.3,208.17,133.2,81.54,146.61,79.33,84.56,103.44,185.31,102.53,65.78,62.6,81.18,76.68,92.86,90.95,85.66,88.2,203.04,68.37,77.32,187.87,213.87,119.62,222.85,100.82,136.1,149.42,79.99,118.21,56.3,84.49,89.61,100.09,198.36,93.61,75.43,100.31,105.63,82.84,58.88,92.27,115.23,196.25,85.97,114.33,72.52,99.87,63.47,90.58,92.26,113.74,72.79,94.71,194.53,72.65,86.68,140.39,77.87,104.7,95.82,204.05,130.56,67.78,105.29,135.19,116.12,59.63,56.43,199.18,209.26,91.21,95.16,217.11,222.46,70.96,82.44,74.11,131.23,187.52,83.26,99.07,76.63,65.09,142.31,80.99,237.74,74.26,154.08,78.29,164.67,59.61,67.75,92.73,90.35,77.86,71.88,118.82,67.33,121.66,111.92,92.82,95.46,59.99,68.96,90.26,91.9,91.08,118.55,102.04,65.52,82.09,149.9,100.33,91.25,89.81,97.32,75.53,121.44,83.52,57.92,75.27,80.24,88.69,69.09,62.67,98.74,56.51,65.95,129.07,62.47,69.82,99.68,223.35,74.36,102.97,153.38,87.1,113.4,94.88,82.73,67.8,84.85,135.89,106.13,74.33,109.4,75.4,87.69,95.85,90.36,63.45,201.07,122.91,55.41,60.99,111.77,77.63,70.61,124.34,103.44,124.5,208.06,75.5,98.85,96.06,93.74,65.6,113.24,94.77,145.22,112.92,84.79,103.28,109.0,96.18,186.95,68.66,128.72,85.04,146.97,65.69,97.52,90.43,81.71,198.24,90.51,97.78,80.74,57.02,93.0,95.37,96.25,86.74,63.08,129.16,99.79,83.34,95.01,229.21,80.08,62.0,118.69,77.57,108.75,108.23,151.33,82.43,107.17,91.46,81.05,73.02,114.37,100.29,68.37,87.95,73.27,131.43,107.29,68.24,74.01,95.4,95.75,104.51,108.87,209.06,86.57,120.25,85.51,84.18,82.37,96.15,74.55,114.45,113.68,107.91,83.85,101.3,72.13,94.98,228.42,93.9,93.13,121.6,84.4,82.13,73.33,75.88,212.97,100.41,202.05,71.42,107.5,55.57,58.14,78.53,78.79,96.62,65.28,92.67,206.25,114.18,231.69,101.89,107.22,101.99,72.56,94.47,98.76,116.93,219.96,75.77,124.35,88.97,72.49,107.27,97.96,197.69,112.3,75.77,76.51,93.14,80.84,199.88,77.48,65.34,81.96,98.71,170.22,73.5,72.39,102.96,80.72,74.19,77.12,81.2,114.76,109.97,92.87,113.05,68.24,74.35,91.08,88.83,134.33,208.78,66.17,222.29,114.16,61.67,220.36,76.03,73.06,187.88,79.89,79.02,191.66,76.74,72.29,92.59,80.42,62.47,63.94,77.73,115.79,96.3,107.46,108.33,89.37,93.64,217.75,83.44,93.88,55.34,102.61,62.08,81.76,59.2,55.61,226.88,65.66,58.7,186.4,122.32,59.05,149.13,82.39,169.49,80.25,203.81,170.76,80.85,120.58,86.57,90.01,68.84,155.14,158.48,92.56,90.15,80.09,189.44,70.03,249.29,72.52,96.93,211.35,85.87,60.96,120.09,92.13,83.07,77.67,109.51,97.24,127.29,134.8,74.65,85.84,90.43,74.35,206.59,196.33,70.23,242.94,103.06,80.86,114.32,83.91,152.02,75.19,60.61,89.14,97.23,135.19,78.48,97.24,75.92,93.3,97.39,134.61,104.02,56.9,112.66,226.75,76.28,90.01,107.84,71.06,185.0,104.42,89.57,136.2,128.23,104.23,133.82,80.82,102.35,88.48,88.81,75.09,199.83,73.69,111.27,68.44,65.36,94.12,96.24,91.25,77.29,125.09,107.18,130.07,57.3,101.35,94.03,227.81,66.67,240.81,88.02,152.87,96.04,60.35,118.66,89.03,58.51,96.04,110.92,92.72,108.23,56.34,61.83,131.99,136.81,239.28,131.3,117.75,78.46,83.53,145.5,88.33,101.25,131.43,231.5,82.89,192.37,79.64,82.88,99.4,77.75,75.03,220.47,196.91,180.8,247.48,216.0,75.64,95.07,129.97,124.26,87.92,85.15,95.36,87.16,219.39,71.92,167.66,87.21,220.47,80.47,89.95,111.32,65.01,110.07,60.56,89.83,90.35,71.5,71.71,173.96,96.06,113.2,106.03,111.38,73.29,65.71,60.41,89.11,63.32,85.68,162.93,89.22,91.68,198.33,85.81,79.59,106.74,191.33,59.52,206.52,80.07,64.92,80.0,75.06,112.2,91.18,85.81,148.37,64.55,97.31,111.15,80.97,89.88,62.66,122.25,87.08,85.0,100.49,145.37,112.19,79.73,101.13,101.98,98.39,128.04,98.12,216.96,94.92,83.27,96.86,99.73,91.71,65.77,161.57,74.32,170.93,74.43,86.36,97.06,110.38,79.03,62.48,55.62,84.9,232.81,86.55,118.61,80.21,65.96,61.34,116.6,85.13,86.32,69.22,140.93,83.43,207.95,134.29,115.12,86.25,112.94,73.54,80.86,83.91,69.91,95.62,63.95,122.5,86.0,120.27,56.71,131.63,79.36,120.77,100.42,155.86,66.01,86.99,90.55,229.58,60.06,65.66,104.7,113.86,99.49,165.99,114.99,79.58,77.37,93.55,187.22,167.59,98.03,88.79,92.9,117.34,80.75,77.51,105.63,114.34,227.04,87.56,84.47,96.26,116.64,79.57,78.44,64.15,74.5,70.32,84.48,144.08,78.14,133.58,214.42,80.63,233.71,96.0,74.52,131.4,216.4,108.8,97.06,266.59,55.58,65.87,89.28,56.12,74.7,83.06,227.94,84.88,64.2,137.22,81.44,90.26,68.48,100.02,100.61,156.82,81.66,112.22,90.62,72.49,107.47,92.11,70.54,205.0,126.39,89.72,92.08,85.38,95.25,75.91,203.44,243.73,88.23,97.47,59.28,101.15,68.38,55.46,113.87,67.03,96.35,127.21,78.9,59.91,160.94,59.61,87.94,97.55,116.02,127.32,75.5,79.35,176.25,108.56,168.06,75.52,82.15,200.28,62.44,84.31,221.43,165.47,96.69,63.98,145.03,98.53,105.55,134.23,62.48,213.38,70.52,93.21,82.39,88.29,80.18,84.02,69.72,192.16,82.27,101.87,77.55,215.72,87.84,91.93,58.63,173.14,106.83,84.44,92.16,85.96,202.57,65.41,102.51,62.6,150.1,94.15,65.5,81.31,78.96,123.47,90.4,71.59,209.5,86.6,57.43,87.93,203.16,112.12,92.02,60.98,86.35,71.26,72.61,110.78,99.78,201.45,127.78,121.32,83.89,74.06,206.15,102.9,65.48,123.23,71.3,79.05,102.21,105.22,84.58,77.3,74.79,88.75,97.97,79.18,81.33,126.68,196.61,219.92,79.16,99.68,79.55,87.86,76.92,77.24,120.94,77.66,231.95,111.48,84.25,216.38,95.01,105.74,58.41,56.89,86.25,86.49,115.47,92.22,83.16,110.68,70.06,213.33,93.52,87.62,77.67,95.66,172.33,106.59,87.06,93.02,243.59,86.7,97.81,116.04,169.43,68.41,94.44,73.48,183.87,66.08,72.19,101.09,88.83,69.99,102.4,87.26,146.59,59.0,76.83,101.83,90.92,67.5,97.16,85.62,129.43,106.01,114.82,121.39,227.98,78.97,84.12,95.04,103.15,82.91,70.93,153.6,129.43,81.0,71.81,84.46,101.32,62.56,208.2,199.42,91.28,77.99,190.13,149.68,92.3,235.54,84.46,68.7,178.89,227.74,100.66,73.62,100.05,213.8,103.94,84.2,250.8,112.29,65.98,99.1,217.84,104.34,217.0,57.47,78.24,94.38,100.31,74.29,103.43,99.83,217.4,71.81,79.79,190.92,94.76,101.43,115.86,95.27,89.02,77.55,75.86,93.62,72.71,94.45,88.57,84.12,89.11,99.83,150.03,69.67,77.46,100.54,142.38,110.87,73.6,59.52,142.68,182.9,75.28,100.75,163.82,110.42,105.18,79.59,107.99,90.22,143.45,78.57,79.82,95.88,123.04,92.34,116.84,90.04,255.17,217.55,123.66,112.16,88.43,86.03,227.96,85.6,111.68,73.49,87.82,99.29,63.73,85.55,79.2,105.93,94.19,231.71,69.28,71.37,110.18,59.68,94.24,82.1,62.62,107.83,107.59,116.98,84.1,160.64,84.4,81.13,88.19,127.13,119.61,143.47,84.6,110.72,158.93,68.94,69.38,72.0,57.76,108.65,65.42,78.93,98.34,82.57,124.37,100.96,75.22,59.85,104.75,70.98,92.77,82.12,106.35,77.33,96.01,107.49,88.47,87.92,91.13,80.72,59.83,67.02,60.22,82.41,75.78,102.42,98.45,93.51,113.68,97.41,58.65,81.68,148.52,77.55,142.12,125.3,118.81,84.16,78.74,57.51,61.11,78.3,76.19,115.99,100.8,98.27,93.85,94.69,136.23,56.12,93.03,196.81,87.81,222.66,223.58,85.77,88.23,73.65,141.8,92.65,198.79,61.04,102.88,123.39,67.07,69.88,57.02,123.81,73.36,90.54,69.24,192.39,233.3,74.35,71.94,82.35,73.28,97.57,83.3,85.07,60.4,79.96,70.96,82.86,97.87,201.38,91.82,91.85,99.23,68.13,93.76,103.89,87.39,89.53,66.61,236.14,99.76,87.09,193.81,97.27,137.77,105.19,82.72,58.35,68.79,94.19,121.17,106.41,104.79,82.18,96.81,107.42,69.2,92.73,86.11,111.78,122.26,78.16,105.77,102.97,77.53,77.35,82.36,239.95,61.96,72.1,107.97,60.77,71.06,60.36,83.33,65.33,113.28,170.88,103.34,106.08,156.45,60.05,114.05,202.21,57.28,99.49,63.6,80.01,58.42,67.38,73.58,103.92,80.22,103.76,77.06,90.22,181.3,85.29,107.59,87.72,70.73,72.75,95.47,70.54,100.03,59.78,198.79,90.39,147.04,202.55,64.92,154.6,95.98,102.51,96.52,232.12,78.12,70.04,97.61,113.11,71.06,104.95,81.94,96.37,114.16,93.58,73.89,107.83,107.21,99.35,203.57,81.51,69.26,111.47,86.09,72.94,76.77,60.32,133.24,65.01,74.63,230.78,72.5,68.48,85.03,80.76,204.98,95.36,110.33,89.18,91.53,65.16,74.53,93.29,227.89,121.46,69.35,216.71,74.96,75.25,91.82,56.37,149.15,202.67,65.38,90.31,221.8,73.39,147.12,109.85,103.21,81.25,84.69,87.1,81.92,90.91,64.4,85.48,67.29,124.48,62.89,87.51,93.15,64.87,90.68,104.64,92.44,120.46,89.87,105.28,131.8,66.33,101.07,83.37,79.8,103.17,62.52,75.78,110.36,140.07,84.86,106.85,102.07,202.38,67.07,73.7,77.59,69.16,91.44,215.81,65.4,139.72,72.81,149.17,125.74,90.21,139.48,90.77,220.24,81.42,102.36,82.85,102.11,195.61,80.92,71.8,88.47,67.68,98.65,83.58,104.04,69.4,106.22,112.46,72.42,96.73,107.4,267.61,109.46,120.05,106.33,97.28,83.13,97.35,79.54,76.55,56.11,91.36,79.27,113.21,105.99,59.93,88.83,73.37,115.42,71.93,96.43,161.95,104.55,71.25,160.87,82.02,78.02,115.21,65.12,80.55,88.2,147.42,86.53,91.95,63.72,63.78,55.64,88.88,114.61,56.08,59.62,75.85,176.71,80.07,56.33,87.16,102.46,84.1,161.0,70.7,81.26,157.67,89.59,64.02,110.69,71.97,82.07,65.07,207.62,108.64,201.58,116.2,231.43,112.62,220.26,84.37,82.83,102.48,69.12,211.12,95.38,108.72,88.65,177.91,90.19,73.78,82.85,59.48,75.77,80.96,82.4,78.93,80.59,70.59,98.57,61.87,68.88,66.25,84.18,69.23,73.2,103.45,104.86,90.3,90.87,76.21,74.14,87.25,215.33,88.38,104.4,104.92,106.54,62.91,61.47,88.5,107.61,90.77,137.91,212.02,228.2,92.15,126.32,94.96,89.52,66.59,80.1,73.72,90.49,92.99,62.57,65.51,95.29,83.7,63.16,87.77,87.23,260.85,104.45,87.52,113.65,65.93,93.78,223.9,77.54,93.18,169.74,101.93,125.03,82.25,85.81,85.27,86.06,104.36,78.29,93.55,207.96,105.52,109.27,91.34,176.78,67.73,73.27,70.29,91.47,205.01,73.87,64.44,111.65,90.65,94.2,56.95,92.37,127.23,191.78,86.36,82.72,113.57,89.58,91.85,88.89,79.55,108.62,78.24,88.49,91.85,72.01,81.96,70.56,71.02,99.75,127.2,69.76,74.63,102.27,73.56,57.77,151.25,78.32,71.5,84.7,127.28,80.72,73.92,93.24,72.6,69.77,84.43,84.13,81.54,57.17,86.15,163.02,110.41,102.58,90.97,140.96,70.33,64.18,127.57,109.23,124.49,142.82,75.69,74.08,75.98,57.8,76.44,214.43,79.03,66.46,56.42,112.72,114.02,72.33,55.59,73.48,105.05,84.78,164.77,220.64,159.39,69.53,81.42,83.93,98.9,82.64,112.54,75.25,204.77,63.86,72.2,80.08,101.61,114.32,80.82,90.6,93.67,87.15,80.72,83.16,98.14,83.13,134.24,248.37,61.75,70.55,124.38,92.21,148.72,79.25,82.09,194.53,98.84,135.74,66.55,115.69,67.76,88.65,106.11,95.49,59.07,228.92,62.89,96.84,81.25,92.71,85.59,89.06,87.44,64.07,79.39,67.84,81.73,105.52,77.55,127.42,227.68,226.73,89.74,219.17,74.85,55.96,215.92,84.4,104.05,62.54,87.54,76.81,198.12,78.0,79.44,75.82,240.86,89.28,263.56,81.13,118.44,97.37,80.51,78.88,83.61,73.19,68.91,104.3,87.87,96.7,91.05,200.14,73.04,85.81,65.41,108.68,88.79,107.82,97.39,141.09,122.38,77.91,103.6,159.7,118.22,84.5,85.59,84.42,100.98,81.11,235.45,79.2,207.71,99.84,98.05,105.9,107.55,146.21,79.94,72.28,123.1,67.06,82.68,125.89,228.05,98.23,90.06,119.9,94.53,64.66,103.79,88.51,97.26,92.59,102.89,92.26,80.0,56.75,104.66,60.39,223.14,105.51,83.42,71.06,101.24,91.19,174.43,214.51,72.64,62.69,141.16,89.61,76.42,124.38,111.81,57.57,77.82,60.09,91.02,65.46,131.19,79.89,74.54,231.31,91.57,238.78,87.18,78.94,69.01,110.28,71.66,62.57,83.64,107.18,233.59,84.88,97.95,58.19,70.11,112.77,75.46,63.63,100.22,81.77,94.25,188.13,164.7,68.27,79.81,100.12,151.23,112.41,205.97,112.19,71.93,190.89,138.02,66.16,105.73,78.34,102.1,97.37,193.87,78.32,130.0,74.0,111.04,214.77,97.25,79.95,162.24,74.36,69.68,98.35,75.73,85.86,80.34,73.76,94.96,108.18,85.23,189.88,197.11,100.08,68.62,84.07,99.65,82.33,94.49,108.71,64.94,98.22,83.5,192.47,125.89,87.72,68.94,66.51,85.82,87.47,87.74,85.12,103.37,81.68,76.51,110.17,65.12,76.66,109.88,199.38,65.77,55.72,75.67,88.18,95.94,86.93,85.17,111.1,92.0,97.47,79.21,83.97,98.55,202.98,60.7,92.22,79.94,83.68,69.92,136.96,95.32,107.78,198.32,100.16,96.02,112.69,60.61,79.77,87.41,226.38,124.64,69.42,77.68,112.79,236.79,219.82,82.05,104.08,101.57,71.32,143.97,239.19,78.45,61.11,87.29,82.49,83.15,83.26,78.7,111.94,104.77,104.26,113.84,114.71,61.54,133.62,111.96,112.44,123.61,84.68,206.62,114.54,216.88,110.38,99.23,204.92,56.74,68.35,83.52,59.74,81.59,123.83,226.84,93.2,85.84,74.64,80.17,85.03,234.35,116.25,66.55,88.38,81.05,68.4,96.95,66.24,91.81,84.86,118.88,85.91,115.4,75.34,100.19,200.73,114.09,67.3,96.91,116.2,72.54,96.01,89.16,108.64,83.66,81.21,86.96,92.95,95.86,85.52,159.39,202.51,82.24,109.81,91.85,123.49,105.49,101.53,89.45,126.04,95.49,89.38,82.3,218.0,79.7,209.15,70.22,83.57,60.6,97.24,162.72,73.27,92.62,90.0,78.28,87.81,202.66,196.5,142.31,94.96,83.78,86.1,74.5,66.96,76.7,103.12,84.03,74.15,73.29,115.16,83.55,61.53,100.74,59.31,63.22,209.5,64.51,90.07,113.95,119.32,99.12,152.84,78.23,68.8,76.05,116.49,99.91,76.1,121.99,116.21,55.28,219.81,103.73,153.08,98.69,94.11,117.03,91.35,82.48,99.76,111.1,122.25,84.19,84.6,126.35,87.5,77.52,133.13,96.1,108.61,205.23,76.74,138.55,234.27,75.16,77.08,101.19,107.74,62.32,56.32,131.28,67.02,76.72,125.98,72.09,88.05,55.47,145.94,239.21,196.08,93.93,76.74,83.74,119.58,68.66,65.79,176.38,175.74,193.45,85.84,93.85,86.21,75.41,95.28,95.87,180.45,95.39,60.77,102.84,130.37,65.44,79.84,62.61,70.07,108.8,112.11,92.35,76.57,69.5,219.38,69.48,89.18,68.09,92.71,56.21,72.08,82.56,78.24,84.66,90.35,68.12,59.14,85.64,56.08,99.0,93.6,105.75,114.09,57.42,100.01,62.0,103.61,118.46,94.77,72.12,155.23,90.6,81.92,67.1,58.01,173.9,106.27,60.57,105.34,96.28,122.73,104.12,69.74,106.95,94.63,86.97,76.12,99.94,91.53,145.46,74.86,74.42,70.07,89.85,104.21,157.77,101.81,103.0,101.85,85.92,56.85,89.04,63.01,65.48,68.6,81.68,65.21,72.53,81.78,116.85,80.83,96.21,117.04,78.26,58.24,82.53,71.25,129.73,115.47,56.79,100.16,97.6,90.54,105.88,217.94,69.89,93.28,111.27,91.04,87.2,109.12,216.64,74.28,57.6,173.97,65.25,80.92,124.37,102.39,90.42,79.17,71.08,81.54,159.67,93.96,103.01,92.49,208.85,122.39,65.91,70.25,219.7,65.7,67.08,107.58,208.05,95.87,68.17,95.37,90.0,106.1,56.13,104.03,157.01,84.35,67.99,118.93,185.28,82.08,88.32,85.16,69.54,62.12,198.3,100.06,101.13,91.09,61.54,62.02,103.11,77.57,97.34,78.76,67.1,79.89,206.66,95.79,83.88,93.51,116.78,117.63,60.01,64.6,92.43,71.63,87.79,99.64,86.53,200.68,98.37,117.98,218.6,101.3,79.51,223.26,97.22,172.27,221.83,74.61,60.91,69.79,83.6,83.95,77.5,64.29,61.1,100.71,65.21,119.77,102.39,59.67,83.16,218.1,76.45,200.46,95.7,70.23,75.15,95.8,90.67,84.79,147.5,134.12,82.62,125.11,92.14,217.79,95.62,93.8,90.61,139.2,77.01,105.26,68.35,99.07,147.74,61.29,98.92,90.74,159.79,233.47,85.53,76.7,67.87,77.26,91.28,129.19,97.86,112.33,110.41,91.58,58.86,76.88,109.52,181.23,103.58,81.96,104.55,76.12,64.27,200.98,101.96,84.17,85.79,71.46,95.49,87.62,118.55,82.14,219.67,135.84,74.83,60.37,67.28,77.79,88.51,90.38,156.69,207.6,158.9,247.97,114.71,58.55,231.15,68.18,118.75,186.54,96.14,69.52,101.93,71.58,83.1,110.96,122.83,91.65,84.1,118.85,89.32,128.72,98.05,102.1,108.62,96.19,98.07,71.4,82.27,158.33,102.5,72.18,95.94,87.15,82.59,89.31,64.84,107.52,92.76,79.16,87.0,145.25,125.14,88.6,57.59,59.43,65.43,154.03,139.81,111.81,106.84,221.06,69.97,77.07,59.49,109.39,93.97,163.17,124.39,212.62,128.63,84.1,77.6,70.51,109.19,55.23,120.15,72.16,95.89,64.68,70.51,81.77,66.47,146.08,91.68,108.96,113.41,111.08,217.74,78.5,89.06,74.8,80.2,76.52,208.99,99.72,102.97,197.36,98.56,86.06,123.08,75.0,105.9,73.87,78.04,107.74,60.64,82.57,115.98,110.38,92.59,82.64,70.28,106.54,59.11,58.89,129.66,73.57,72.04,125.63,77.94,68.99,111.76,65.36,80.27,81.73,79.22,142.63,97.05,222.52,70.38,114.46,64.62,94.12,70.19,55.35,115.52,60.7,69.24,103.29,92.74,232.64,82.46,63.57,73.24,78.43,57.46,104.16,110.42,119.4,119.13,120.22,80.8,57.96,81.24,88.79,70.91,87.12,126.09,76.42,56.33,131.81,95.23,71.18,87.71,115.68,207.37,74.43,75.1,69.72,111.84,111.08,201.96,68.68,56.9,91.16,99.44,78.85,123.89,90.44,138.44,75.06,85.66,102.76,71.79,167.16,131.05,86.92,59.62,103.72,77.1,94.75,77.72,76.09,61.8,92.97,83.73,79.33,108.32,103.65,86.19,131.42,69.46,76.78,103.78,213.43,93.52,115.07,69.45,81.0,83.16,108.63,88.06,80.57,248.24,57.79,87.4,76.63,58.01,77.43,101.12,64.45,79.42,82.94,81.58,62.21,229.94,116.06,117.77,66.69,122.23,168.68,119.9,110.33,77.95,80.35,57.38,96.47,70.66,202.06,91.3,67.56,126.12,86.4,103.22,88.85,63.9,81.32,253.93,78.11,134.65,194.75,77.94,56.94,117.03,207.84,228.26,84.43,57.09,94.89,132.46,75.13,76.64,91.32,85.9,76.19,85.77,63.42,112.02,203.76,98.44,79.57,63.98,101.46,74.66,68.66,205.78,111.24,134.76,110.1,100.8,113.08,56.48,77.77,104.02,83.59,179.67,91.89,78.9,230.74,216.19,83.7,200.66,73.99,228.5,70.43,74.39,102.92,87.91,118.55,232.29,125.32,78.98,100.2,200.91,95.24,56.64,80.48,112.96,236.04,73.0,61.13,88.56,66.16,88.98,94.39,87.39,77.91,86.85,94.37,76.64,254.95,107.33,80.94,112.02,196.58,89.14,69.94,55.79,73.08,96.02,189.82,89.68,101.06,62.66,84.03,108.38,78.79,76.12,68.01,90.11,193.61,195.74,94.77,85.0,141.37,90.71,106.8,121.66,85.18,130.07,74.24,79.98,106.76,76.34,221.24,80.55,63.98,55.93,73.94,65.58,83.8,95.87,112.83,84.93,103.08,85.98,83.75,125.43,101.58,149.8,112.55,70.87,92.96,112.19,85.08,112.37,151.26,73.81,77.2,76.08,123.98,108.51,98.07,85.82,86.21,99.01,79.53,80.08,69.47,85.07,88.0,144.14,78.8,86.78,105.72,64.37,146.1,58.66,192.5,103.5,89.42,212.92,60.73,73.18,82.26,87.4,86.95,74.0,73.98,124.78,191.94,247.87,83.2,88.62,81.51,101.76,115.71,229.73,57.4,100.47,81.36,261.67,110.2,98.9,95.19,105.28,83.03,89.41,70.56,78.79,70.13,62.68,71.77,77.99,256.74,93.72,63.74,60.67,112.08,221.08,101.81,60.17,65.29,153.24,61.42,86.67,82.42,100.54,111.48,85.33,126.57,81.51,67.97,77.92,80.54,76.47,87.15,86.07,106.52,94.24,89.73,208.39,128.61,57.56,227.23,77.76,72.76,90.11,203.27,234.5,71.12,190.67,116.04,82.95,112.75,82.63,92.75,117.63,197.06,216.07,76.03,62.44,108.82,101.66,121.15,116.44,116.62,93.3,144.33,98.02,80.67,94.27,76.35,57.56,179.14,63.49,145.18,66.3,120.56,69.2,150.74,81.38,78.48,203.87,87.0,84.68,91.89,88.97,116.98,135.82,96.62,106.53,58.42,79.62,141.84,78.05,77.16,86.3,83.55,102.0,68.07,81.77,82.62,102.03,235.06,57.52,76.98,82.31,83.84,98.14,84.04,92.24,94.92,112.7,74.34,72.99,104.9,99.96,85.27,60.32,94.14,195.43,200.25,90.31,95.33,85.65,223.64,76.43,98.66,75.84,85.46,81.33,199.78,176.42,101.56,84.48,93.21,72.88,84.1,72.84,70.89,108.14,244.3,88.04,65.84,106.73,106.03,80.88,140.1,127.4,87.72,58.23,69.37,58.64,59.67,78.08,105.08,89.3,61.38,56.11,223.16,75.53,107.47,76.0,90.28,65.22,86.24,166.38,78.91,226.28,90.73,172.86,213.92,92.23,79.81,81.78,102.0,68.42,94.68,125.33,212.19,89.0,60.98,58.19,67.68,84.99,62.13,57.1,97.95,94.06,93.88,90.3,83.14,118.66,100.47,90.78,66.46,73.56,200.8,57.28,92.87,96.47,99.44,77.96,60.13,88.17,84.41,72.34,68.72,222.58,66.06,156.43,105.76,73.07,99.48,79.6,70.0,112.98,61.07,63.43,73.2,102.73,74.88,122.43,84.21,80.42,80.44,80.63,206.53,104.12,96.82,88.1,64.85,102.87,83.75,97.68,97.58,74.16,86.0,100.93,232.78,86.96,67.5,81.21,110.14,120.44,187.47,94.62,89.57,95.31,75.07,106.65,234.06,144.15,58.81,242.62,93.04,65.68,150.0,63.56,96.98,66.7,79.66,90.16,104.09,90.96,152.38,114.54,174.54,106.47,73.63,98.52,62.93,67.87,120.43,76.56,108.03,83.16,67.9,115.46,123.94,231.54,219.8,187.99,234.45,75.47,98.24,66.2,94.67,75.95,111.79,80.89,86.91,59.36,240.69,66.67,87.54,139.87,67.92,83.62,110.97,70.53,115.91,59.74,62.64,84.81,78.68,217.57,79.76,63.28,78.48,70.48,120.96,77.29,108.51,113.85,97.65,121.83,81.53,58.35,65.42,69.34,109.09,66.71,114.92,120.58,165.36,66.11,126.34,68.27,92.86,96.77,89.24,89.32,107.06,65.63,123.66,63.82,108.06,136.18,71.29,76.58,119.58,109.3,111.94,81.64,97.64,110.32,79.0,95.08,137.27,57.83,84.08,234.51,142.64,69.77,71.4,79.61,77.46,96.85,182.22,67.26,60.02,113.45,112.31,68.53,57.15,214.73,91.82,71.8,63.41,106.24,83.01,67.92,74.99,75.22,61.88,65.67,110.18,119.3,208.69,95.18,107.72,83.27,90.29,81.87,153.31,101.46,72.49,86.58,113.26,84.92,128.17,93.93,99.87,129.31,89.43,101.6,66.55,231.72,96.69,102.13,100.88,66.22,109.33,206.53,83.91,67.92,73.48,101.31,103.66,70.73,77.45,193.8,114.34,69.25,88.44,84.09,87.06,92.64,99.36,135.63,82.44,81.88,95.44,72.71,65.45,203.01,110.84,83.12,55.12,105.91,61.57,83.1,66.32,72.56,97.99,63.27,79.6,177.56,81.31,59.91,132.85,198.84,77.12,87.17,96.03,83.56,80.93,84.54,70.51,56.87,67.55,243.52,108.63,69.06,73.89,84.49,73.71,129.01,72.96,110.23,79.49,89.33,68.38,238.27,135.79,82.19,93.2,208.31,111.33,69.84,121.71,80.08,84.4,98.61,86.61,80.44,107.02,97.23,91.21,103.69,74.12,71.08,58.39,176.34,73.76,67.21,87.98,94.23,111.36,84.07,117.31,84.94,68.86,132.88,211.83,124.92,57.42,215.69,154.67,67.66,153.48,62.63,77.93,80.3,106.69,83.07,140.14,92.65,111.37,99.0,78.24,83.88,86.21,57.06,112.25,81.06,104.37,124.31,101.95,116.95,99.76,105.48,100.6,65.05,75.9,267.6,215.07,109.03,225.35,196.26,95.42,123.04,85.88,107.43,56.85,102.15,88.68,182.52,93.97,104.03,67.99,83.37,124.66,212.87,96.75,63.28,82.64,71.34,183.43,101.19,88.51,126.85,74.17,76.04,73.87,99.07,82.93,133.24,69.88,69.12,86.05,185.27,97.46,81.9,99.58,124.54,153.34,112.35,160.76,73.29,108.08,206.49,77.42,117.59,61.94,116.68,253.86,203.36,125.87,64.09,65.33,70.15,96.84,175.92,100.65,112.39,81.1,98.3,89.68,95.16,191.15,91.04,101.87,96.86,91.05,55.84,84.04,92.06,89.61,69.92,89.29,120.23,60.22,223.78,211.58,179.38,193.88,89.01,118.41,138.51,120.03,91.01,61.98,135.32,58.72,90.42,104.0,102.5,174.37,106.56,76.31,77.28,90.52,108.35,72.03,90.57,97.04,83.89,152.56,75.93,76.89,62.13,100.85,95.05,82.35,95.02,82.38,79.15,76.62,91.68,71.88,83.94,71.97,97.95,77.93,82.85,103.08,83.75,125.2,82.99,166.29,85.28],\"xaxis\":\"x\",\"xbins\":{\"end\":271.74,\"size\":1.0,\"start\":55.12},\"yaxis\":\"y\",\"type\":\"histogram\"},{\"legendgroup\":\"avg_glucose_level\",\"marker\":{\"color\":\"rgb(31, 119, 180)\"},\"mode\":\"lines\",\"name\":\"avg_glucose_level\",\"showlegend\":false,\"x\":[55.12,55.553239999999995,55.98648,56.41972,56.852959999999996,57.286199999999994,57.71944,58.15268,58.585919999999994,59.01916,59.4524,59.885639999999995,60.31888,60.75212,61.185359999999996,61.6186,62.05184,62.485079999999996,62.918319999999994,63.35156,63.7848,64.21804,64.65128,65.08452,65.51776,65.951,66.38423999999999,66.81747999999999,67.25072,67.68396,68.1172,68.55044,68.98367999999999,69.41692,69.85016,70.2834,70.71664,71.14988,71.58312,72.01635999999999,72.4496,72.88284,73.31608,73.74932,74.18256,74.6158,75.04903999999999,75.48228,75.91552,76.34876,76.782,77.21524,77.64847999999999,78.08171999999999,78.51496,78.9482,79.38144,79.81468,80.24792,80.68116,81.1144,81.54764,81.98088,82.41412,82.84736,83.28059999999999,83.71384,84.14708,84.58032,85.01356,85.4468,85.88004,86.31327999999999,86.74652,87.17976,87.613,88.04624,88.47948,88.91272000000001,89.34595999999999,89.7792,90.21244,90.64568,91.07892,91.51216,91.9454,92.37863999999999,92.81188,93.24512,93.67836,94.1116,94.54484,94.97808,95.41131999999999,95.84456,96.2778,96.71104,97.14428,97.57751999999999,98.01076,98.44399999999999,98.87724,99.31048,99.74372,100.17696,100.61019999999999,101.04344,101.47667999999999,101.90992,102.34316,102.7764,103.20964000000001,103.64288,104.07612,104.50936,104.9426,105.37584000000001,105.80908,106.24232,106.67555999999999,107.1088,107.54204,107.97528,108.40852000000001,108.84176,109.275,109.70823999999999,110.14148,110.57472,111.00796,111.44120000000001,111.87443999999999,112.30768,112.74091999999999,113.17416,113.6074,114.04064,114.47388000000001,114.90711999999999,115.34036,115.77359999999999,116.20684,116.64008,117.07332,117.50656,117.93979999999999,118.37304,118.80627999999999,119.23952,119.67276000000001,120.106,120.53924,120.97247999999999,121.40572,121.83896000000001,122.2722,122.70544000000001,123.13868,123.57192,124.00515999999999,124.4384,124.87163999999999,125.30488,125.73811999999998,126.17135999999999,126.6046,127.03783999999999,127.47108,127.90432000000001,128.33756,128.7708,129.20404,129.63728,130.07052,130.50376,130.93699999999998,131.37024,131.80348,132.23672,132.66996,133.1032,133.53644,133.96968,134.40292,134.83616,135.26940000000002,135.70264,136.13588000000001,136.56912,137.00236,137.4356,137.86884,138.30208,138.73532,139.16855999999999,139.6018,140.03504,140.46828,140.90152,141.33476,141.768,142.20124,142.63448,143.06772,143.50096,143.9342,144.36744,144.80068,145.23391999999998,145.66716,146.1004,146.53364,146.96688,147.40012,147.83336,148.2666,148.69984,149.13308,149.56632,149.99956,150.43280000000001,150.86604,151.29928,151.73252,152.16576,152.599,153.03224,153.46547999999999,153.89872,154.33196,154.7652,155.19844,155.63168000000002,156.06492,156.49816,156.9314,157.36464,157.79788,158.23112,158.66436,159.0976,159.53083999999998,159.96408,160.39732,160.83056,161.2638,161.69704000000002,162.13028,162.56352,162.99676,163.43,163.86324,164.29648,164.72972,165.16296,165.59619999999998,166.02944,166.46268,166.89592,167.32916,167.7624,168.19564,168.62888,169.06212,169.49536,169.92860000000002,170.36184,170.79508,171.22832,171.66156,172.0948,172.52804,172.96128,173.39452,173.82776,174.261,174.69424,175.12748,175.56072,175.99396000000002,176.4272,176.86044,177.29368,177.72692,178.16016,178.5934,179.02664,179.45988,179.89311999999998,180.32636,180.7596,181.19284,181.62608,182.05932,182.49256,182.9258,183.35904000000002,183.79228,184.22552000000002,184.65876,185.092,185.52524,185.95848,186.39172,186.82496,187.25820000000002,187.69144,188.12467999999998,188.55792000000002,188.99116,189.4244,189.85764000000003,190.29088000000002,190.72412,191.15736,191.59060000000002,192.02384,192.45708000000002,192.89032,193.32356000000001,193.7568,194.19004,194.62328,195.05652,195.48976000000002,195.923,196.35623999999999,196.78948000000003,197.22272,197.65596,198.0892,198.52244000000002,198.95568,199.38892,199.82216,200.2554,200.68864000000002,201.12188,201.55512,201.98836000000003,202.4216,202.85484,203.28808,203.72132000000002,204.15456,204.58780000000002,205.02104,205.45428,205.88752,206.32076,206.754,207.18724,207.62048000000001,208.05372,208.48696,208.92020000000002,209.35344,209.78668,210.21992000000003,210.65316,211.0864,211.51964,211.95288000000002,212.38612,212.81936000000002,213.2526,213.68584,214.11908000000003,214.55232,214.98556,215.41880000000003,215.85204000000002,216.28528,216.71851999999998,217.15176000000002,217.585,218.01824,218.45148,218.88472000000002,219.31796,219.7512,220.18444,220.61768,221.05092000000002,221.48416,221.9174,222.35064000000003,222.78388,223.21712,223.65036,224.08360000000002,224.51684,224.95008,225.38332,225.81656,226.24980000000002,226.68304,227.11628000000002,227.54952,227.98276,228.416,228.84924,229.28248000000002,229.71572,230.14896,230.58220000000003,231.01544,231.44868,231.88192,232.31516000000002,232.7484,233.18164000000002,233.61488,234.04812,234.48136000000002,234.9146,235.34784,235.78108000000003,236.21432000000001,236.64756,237.0808,237.51404000000002,237.94728,238.38052,238.81376,239.247,239.68024,240.11348,240.54672,240.97996,241.41320000000002,241.84644,242.27967999999998,242.71292000000003,243.14616,243.5794,244.01264,244.44588000000002,244.87912,245.31236,245.74560000000002,246.17884,246.61208000000002,247.04532,247.47856000000002,247.91180000000003,248.34504,248.77828,249.21152000000004,249.64476000000002,250.078,250.51124,250.94448000000003,251.37772,251.81096,252.2442,252.67744000000002,253.11068,253.54392,253.97716,254.4104,254.84364000000002,255.27688,255.71012,256.14336000000003,256.5766,257.00984,257.44308,257.87632,258.30956,258.7428,259.17604,259.60928,260.04252,260.47576,260.909,261.34224,261.77548,262.20871999999997,262.64196,263.0752,263.50844,263.94167999999996,264.37492000000003,264.80816,265.2414,265.67464,266.10788,266.54112,266.97436,267.4076,267.84084,268.27408,268.70732,269.14056,269.5738,270.00704,270.44028,270.87352,271.30676],\"xaxis\":\"x\",\"y\":[0.004882966689624611,0.00511416520798374,0.005348048165948037,0.005584214849652595,0.005822267122409831,0.006061812638683991,0.0063024678853817765,0.006543861004779892,0.0067856343577945635,0.0070274467914667954,0.007268975580370593,0.007509918018002344,0.007749992640934888,0.007988940075456972,0.008226523503415687,0.008462528750878563,0.008696764009889807,0.008929059209873129,0.00915926506101289,0.009387251797120697,0.009612907649980835,0.009836137090899933,0.01005685887812167,0.010275003950877793,0.01049051321213645,0.010703335242585725,0.010913423988089553,0.011120736461824612,0.011325230500602199,0.01152686261257588,0.011725585950703183,0.011921348443051216,0.012114091107395829,0.012303746573639019,0.012490237833447647,0.012673477232269944,0.01285336571458658,0.01302979232897457,0.013202633995356448,0.013371755532733775,0.01353700994181515,0.013698238933277722,0.013855273688996032,0.014007935840456108,0.014156038645781679,0.014299388344349547,0.014437785665889692,0.014571027469262605,0.014698908484801466,0.014821223133203087,0.014937767393460028,0.015048340692246925,0.01515274778750364,0.015250800619689456,0.015342320105304784,0.015427137848768679,0.015505097750576654,0.015576057491816427,0.015639889877546366,0.015696484024204885,0.0157457463790633,0.01578760156271083,0.01582199302861114,0.015848883536828083,0.015868255442031454,0.01588011079879681,0.015884471289943997,0.015881377986168663,0.01587089094746007,0.015853088678711488,0.01582806745350241,0.015795940521225026,0.015756837213524583,0.015710901966439022,0.015658293274638403,0.015599182593820959,0.015533753206631739,0.015462199066481046,0.015384723632386394,0.015301538706508596,0.015212863284447067,0.015118922426663777,0.015019946157683489,0.014916168398023353,0.014807825932199032,0.014695157414687339,0.014578402414439803,0.014457800497479445,0.014333590346295924,0.01420600891420729,0.014075290612584382,0.013941666528830667,0.013805363673273011,0.013666604253613258,0.01352560497629866,0.013382576375037132,0.013237722167685179,0.013091238643803788,0.012943314086272856,0.012794128231415042,0.0126438517730584,0.012492645916808195,0.012340661991460417,0.012188041124925055,0.012034913992211722,0.01188140064292795,0.011727610415342739,0.011573641943363463,0.01141958326177108,0.011265512013765659,0.01111149576332124,0.010957592413066711,0.010803850726442915,0.010650310950781798,0.010497005535778866,0.010343959939631654,0.010191193512975654,0.010038720448717937,0.009886550784024515,0.009734691439107856,0.009583147276161354,0.009431922160827572,0.009281020008025274,0.009130445793816023,0.008980206515287522,0.008830312081172867,0.00868077611710843,0.008531616671031831,0.008382856806206913,0.008234525071687003,0.0080866558426331,0.007939289525723823,0.007792472627853412,0.007646257689335947,0.0075007030858279,0.00735587270607378,0.0072118355152781255,0.007068665016347387,0.006926438623347931,0.006785236963238468,0.006645143123210012,0.006506241861765764,0.006368618801983117,0.006232359625212837,0.00609754928280012,0.005964271242283402,0.005832606782980493,0.005702634353961955,0.005574429005199662,0.005448061900239904,0.0053235999161587635,0.005201105333899376,0.005080635619444434,0.004962243293723894,0.00484597588677264,0.00473187596950318,0.004619981254603385,0.00451032475655497,0.004402934999631176,0.004297836261993603,0.004195048843676479,0.004094589346315622,0.003996470952934438,0.0039007036969068423,0.0038072947103397975,0.003716248443507491,0.003627566848567794,0.0035412495225421448,0.0034572938063788254,0.003375694838784478,0.0032964455653383493,0.0032195367051436204,0.003144956678864707,0.0030726915034088986,0.0030027246596933976,0.002935036940872114,0.0028696062890567957,0.0028064076289490677,0.002745412706900915,0.0026865899437513345,0.0026299043093609784,0.0025753172261102977,0.0025227865077666048,0.0024722663390979727,0.002423707300451712,0.002377056440263188,0.0023322573971557943,0.0022892505719735268,0.0022479733487934363,0.002208360362727381,0.0021703438111762264,0.0021338538041687557,0.0020988187485256756,0.0020651657598538082,0.0020328210958078996,0.002001710603665114,0.001971760175042019,0.0019428962005425018,0.0019150460172506366,0.0018881383422644934,0.0018621036858897245,0.0018368747386602008,0.0018123867270060552,0.00178857773312842,0.001765388975442096,0.001742765046792395,0.0017206541085170001,0.0016990080392902205,0.0016777825385335325,0.0016569371849873735,0.0016364354517975914,0.00161624468016378,0.0015963360142131917,0.0015766843002957883,0.0015572679543361153,0.0015380688012224715,0.0015190718904620748,0.0015002652924829894,0.0014816398800221915,0.0014631890990097624,0.0014449087332462566,0.0014267966669834924,0.0014088526492650787,0.0013910780635723215,0.0013734757059637088,0.0013560495745016299,0.001338804672339233,0.0013217468264032396,0.0013048825231649604,0.0012882187625507212,0.0012717629306134022,0.0012555226911760535,0.0012395058962737533,0.0012237205148663743,0.0012081745789784268,0.0011928761461450846,0.0011778332768099824,0.0011630540251310393,0.0011485464415065775,0.0011343185850352417,0.0011203785440682965,0.0011067344630000765,0.0010933945734692778,0.0010803672282068424,0.0010676609358623332,0.001055284395265005,0.0010432465277248528,0.0010315565061472325,0.0010202237799180093,0.0010092580947097128,0.0009986695065581023,0.0009884683897582647,0.0009786654383258167,0.0009692716609573489,0.0009602983696019842,0.0009517571619184815,0.00094365989803789,0.0009360186721768812,0.0009288457797503436,0.0009221536807116063,0.000915954959904252,0.0009102622852399337,0.0009050883645224789,0.0009004459017197833,0.0008963475534430854,0.0008928058863290764,0.0008898333359361663,0.0008874421676638577,0.0008856444400864353,0.0008844519709617124,0.0008838763060354546,0.0008839286906156396,0.0008846200437415221,0.0008859609346239472,0.0008879615608894063,0.0008906317280244641,0.0008939808292935383,0.0008980178252944587,0.0009027512222271291,0.0009081890478835144,0.0009143388243253381,0.0009212075362017327,0.0009288015936750718,0.0009371267889701924,0.0009461882456421533,0.0009559903597699748,0.000966536732428515,0.0009778300929665373,0.0009898722128237577,0.0010026638098507594,0.0010162044433491566,0.0010304924003209236,0.0010455245737000908,0.0010612963336312073,0.001077801393150661,0.0010950316699121845,0.0011129771458696222,0.0011316257270809877,0.0011509631060209868,0.0011709726289773836,0.0011916351712539144,0.0012129290230025666,0.0012348297885568114,0.0012573103021301664,0.0012803405626794634,0.0013038876906069253,0.0013279159087907996,0.0013523865501908923,0.0013772580939767282,0.0014024862317753015,0.00142802396523881,0.0014538217356956115,0.0014798275861786934,0.0015059873556323366,0.0015322449045889093,0.0015585423710927696,0.0015848204551369381,0.0016110187293792231,0.0016370759734277269,0.0016629305285393923,0.0016885206691675055,0.001713784987432646,0.001738662786282333,0.001763094476853554,0.0017870219753639153,0.0018103890947347885,0.0018331419260961398,0.001855229205339401,0.0018766026599723526,0.0018972173316883212,0.001917031870289897,0.0019360087949033236,0.0019541147187805852,0.0019713205344091397,0.0019876015561296643,0.002002937617995696,0.002017313125189473,0.002030717057929469,0.0020431429274598996,0.0020545886843916844,0.0020650565803600985,0.0020745529846655166,0.0020830881582594826,0.0020906759881176174,0.0020973336856900016,0.0021030814537271836,0.0021079421263310327,0.0021119407875625057,0.0021151043743394397,0.002117461269665058,0.0021190408924310804,0.00211987329012921,0.0021199887407740248,0.002119417370184504,0.002118188790489048,0.0021163317653107986,0.00211387390656182,0.00211084140713409,0.0021072588130342865,0.0021031488376832964,0.002098532220207954,0.0020934276286136404,0.002087851607763958,0.002081818571133504,0.002075340834366342,0.00206842868779234,0.002061090504249858,0.002053332877860185,0.002045160788816221,0.0020365777888026277,0.0020275862013703514,0.002018187331453122,0.002008381678241616,0.001998169145820522,0.0019875492463182565,0.0019765212908071346,0.001965084563806617,0.001953238477963762,0.001940982706288712,0.0019283172901825869,0.0019152427223819496,0.0019017600048287355,0.0018878706823285143,0.0018735768536553169,0.0018588811624730291,0.0018437867710489947,0.0018282973202170595,0.0018124168793912459,0.0017961498906286508,0.0017795011107877257,0.0017624755557279095,0.0017450784502551257,0.0017273151871471917,0.0017091912981093361,0.0016907124389325871,0.0016718843904791195,0.0016527130764229208,0.00163320459795691,0.001613365284964064,0.0015932017624648985,0.001572721030519515,0.001551930555200032,0.0015308383677755087,0.0015094531688808078,0.0014877844341822733,0.0014658425179132752,0.0014436387506323216,0.0014211855276537204,0.001398496384809266,0.001375586058509575,0.0013524705274731163,0.0013291670339648691,0.001305694082918596,0.001282071417888991,0.0012583199733749864,0.0012344618036550694,0.0012105199888625563,0.0011865185195876235,0.0011624821618090352,0.0011384363044197037,0.001114406792006383,0.0010904197458669893,0.001066501376493858,0.001042677790914699,0.0010189747983641892,0.0009954177177592324,0.0009720311903733025,0.0009488390009546399,0.0009258639103155946,0.0009031275021436015,0.0008806500464562673,0.0008584503817526958,0.0008365458175097923,0.0008149520582452919,0.0007936831499279294,0.0007727514490689672,0.0007521676143870769,0.0007319406205087531,0.0007120777927572057,0.0006925848617014306,0.0006734660357904498,0.0006547240900918295,0.0006363604688935238,0.0006183753997183736,0.0006007680161444583,0.0005835364867247563,0.0005666781472571949,0.0005501896336721117,0.000534067012877134,0.0005183059090281055,0.0005029016228755612,0.00048784924206572537,0.0004731437405473458,0.00045878006554524127,0.00044475321090066096,0.0004310582759399741,0.00041769050940800175,0.0004046453383817869,0.000391918382455647,0.00037950545384976786,0.00036740254443361637,0.0003556058009638229,0.00034411149010610243,0.00033291595503585333,0.0003220155655866818,0.000311406664036099,0.00030108550868043743,0.0002910482173555259,0.0002812907130061209,0.0002718086732979591,0.00026259748610481704,0.00025365221249449015,0.000244967558588218,0.00023653785738546383,0.00022835706133815455,0.00022041874613459142,0.00021271612582239444,0.0002052420790713599,0.0001979891860601339,0.00019094977517364336,0.00018411597842923934,0.00017747979431526382,0.0001710331565321765,0.00016476800697771266,0.00015867637121709708,0.00015275043462838246,0.00014698261741205782,0.0001413656467014459,0.0001358926241037764,0.00013055708713716562,0.00012535306320104927,0.00012027511492123375,0.00011531837593895753,0.0001104785764593542,0.0001057520581311224,0.00010113577808890797,9.662730224576662e-05,9.222478816846469e-05,8.792695809725926e-05,8.373306287874009e-05],\"yaxis\":\"y\",\"type\":\"scatter\"},{\"legendgroup\":\"avg_glucose_level\",\"marker\":{\"color\":\"rgb(31, 119, 180)\",\"symbol\":\"line-ns-open\"},\"mode\":\"markers\",\"name\":\"avg_glucose_level\",\"showlegend\":false,\"x\":[228.69,202.21,105.92,171.23,174.12,186.21,70.09,94.39,76.15,58.57,80.43,120.46,104.51,219.84,214.09,167.41,191.61,221.29,89.22,217.08,193.94,233.29,228.7,208.3,102.87,104.12,100.98,189.84,195.23,211.78,212.08,83.41,196.92,252.72,84.2,84.03,219.72,74.63,92.62,60.91,78.03,71.22,144.9,90.9,213.03,243.58,109.78,107.26,99.33,58.09,89.96,75.32,127.29,124.13,197.54,196.71,59.32,237.75,194.99,180.93,185.17,74.9,61.94,93.72,104.72,113.01,221.58,104.47,86.23,72.67,62.57,179.12,116.55,228.56,96.59,66.72,240.09,110.85,165.31,143.43,96.16,101.45,88.92,79.79,71.2,96.97,111.81,59.35,86.94,98.55,226.98,72.81,68.02,68.56,64.14,235.63,76.34,240.59,78.92,82.81,74.1,190.32,231.61,78.7,110.52,82.3,73.18,191.82,93.05,64.17,129.98,68.53,106.41,224.1,82.1,216.94,76.11,72.96,82.28,105.22,59.86,62.55,259.63,249.31,219.91,131.41,93.13,73.54,200.59,62.48,190.14,130.54,182.99,101.45,206.09,263.32,140.1,207.28,194.37,199.2,103.68,116.44,70.28,72.17,221.79,151.16,68.43,67.29,67.41,239.07,169.67,223.83,76.57,77.82,92.98,231.56,102.16,221.89,195.71,74.02,57.92,81.76,70.37,203.87,89.13,133.19,162.23,75.02,98.02,91.54,111.98,60.94,97.43,91.02,60.67,185.49,64.44,56.11,110.66,213.22,78.18,111.04,76.13,81.32,112.24,137.3,116.69,215.94,86.62,209.86,205.77,112.16,118.03,271.74,97.92,200.62,242.52,93.81,114.77,74.96,167.13,175.29,90.0,109.47,87.85,106.74,80.13,90.19,134.8,106.58,83.24,103.43,208.65,74.11,95.84,205.33,116.1,210.4,199.86,219.73,250.89,72.73,205.35,70.3,104.86,216.58,184.4,60.98,97.76,66.03,81.95,97.73,70.94,199.84,218.46,211.06,86.3,162.14,88.2,91.92,76.46,197.28,233.94,247.51,84.96,57.93,78.8,87.8,78.81,95.12,87.96,110.89,69.04,161.28,210.95,77.59,243.53,77.67,205.84,77.08,57.08,162.96,73.5,95.04,85.37,84.62,82.67,57.33,67.84,75.7,129.54,60.22,198.21,109.82,60.84,94.61,97.49,206.72,214.45,82.9,103.26,55.78,73.74,149.75,82.34,62.6,94.09,55.42,82.18,117.92,114.84,79.17,110.63,190.7,79.81,113.63,141.24,56.96,203.04,94.3,81.51,137.74,81.84,242.3,102.64,146.01,75.42,220.49,61.45,88.19,115.22,97.93,85.6,79.83,218.46,62.2,69.15,127.71,216.7,71.89,103.56,79.03,69.94,90.12,95.1,234.58,235.85,78.05,89.44,111.38,243.5,182.2,229.92,82.24,89.84,90.69,84.38,215.6,91.61,138.16,75.23,75.18,106.23,239.64,58.95,99.92,116.23,118.82,66.3,101.41,200.28,136.8,96.57,66.42,98.09,205.23,86.78,126.82,78.4,63.69,209.58,89.86,110.99,83.82,137.96,210.78,118.89,72.55,107.41,93.25,74.91,80.05,99.8,91.97,64.4,73.02,88.11,138.29,72.36,68.76,106.22,101.52,109.51,85.84,110.15,91.72,251.6,123.1,97.4,68.34,80.81,120.31,83.51,74.09,91.6,87.52,213.37,75.39,122.41,223.36,84.59,70.16,107.52,80.88,93.48,70.21,86.67,101.37,105.22,70.31,64.06,178.29,81.6,147.48,86.86,71.16,73.2,203.81,82.0,97.55,94.29,75.22,90.07,73.73,79.58,77.88,205.26,58.63,139.9,211.03,72.79,91.65,79.92,225.47,94.48,82.34,180.63,92.48,116.66,112.09,130.34,82.59,123.87,98.7,227.1,55.39,66.07,104.21,145.15,68.19,97.53,122.31,83.51,86.46,112.06,92.14,201.76,74.44,95.93,87.51,72.35,113.47,103.78,115.43,95.59,101.52,170.05,217.3,196.01,92.21,100.09,93.88,75.05,70.08,74.2,69.01,96.17,184.15,87.24,198.69,82.58,96.88,73.32,94.59,132.08,98.99,104.48,98.01,79.14,89.32,65.24,80.98,186.17,69.24,111.19,93.28,122.19,129.53,114.53,93.73,77.49,65.38,94.18,118.7,96.29,74.64,96.99,100.61,97.08,84.79,78.75,82.93,88.78,122.1,74.81,183.45,114.94,104.38,102.91,108.79,73.31,68.52,89.77,102.64,70.92,86.11,129.16,113.85,79.35,80.79,114.01,93.74,90.65,98.41,127.18,138.06,89.44,105.61,155.43,80.83,80.19,60.34,79.3,98.44,210.48,70.34,122.22,75.29,100.35,193.83,126.96,183.34,247.69,76.2,71.43,93.36,61.29,103.62,100.52,191.47,67.06,144.1,58.26,239.82,73.71,88.53,114.79,113.8,71.91,65.3,189.57,114.25,81.26,87.88,112.17,99.97,207.58,109.16,74.46,118.51,107.47,182.86,59.17,215.64,163.7,196.36,139.77,141.23,89.99,108.53,63.61,85.54,100.83,59.82,105.95,188.11,71.15,60.53,205.5,204.86,115.03,79.87,97.89,125.26,114.32,92.23,83.51,102.34,144.48,88.39,228.08,93.79,147.14,106.43,88.04,92.2,219.53,75.56,158.31,111.43,219.97,148.91,69.4,68.34,58.37,71.2,101.5,92.04,73.0,111.15,58.65,100.54,111.73,97.78,85.79,98.54,94.62,112.43,99.67,67.39,95.12,85.06,214.05,79.09,98.09,76.36,98.42,82.01,56.11,111.85,92.39,112.54,63.71,70.35,94.65,64.64,57.27,107.25,77.12,55.32,69.37,57.57,87.43,98.73,81.18,56.23,69.61,59.49,118.14,100.26,56.75,88.27,67.81,77.46,76.26,86.39,116.38,75.74,92.14,149.95,92.11,74.98,55.25,79.89,130.61,94.26,94.34,109.03,81.03,99.82,140.08,59.54,80.33,131.51,89.21,91.45,90.58,91.45,89.63,124.06,99.47,88.97,80.93,102.07,91.69,63.71,200.49,75.3,240.71,60.5,131.85,134.39,56.18,113.64,156.57,80.4,59.26,63.26,86.24,197.1,90.9,84.59,121.8,77.65,64.41,75.19,67.97,119.34,94.92,107.42,85.02,103.51,114.5,70.78,95.01,84.11,74.02,78.49,74.22,55.34,75.04,109.73,95.81,96.78,194.62,70.02,222.21,62.41,55.83,65.12,73.62,85.83,103.86,60.98,82.69,250.2,128.97,84.31,74.8,97.06,77.54,92.78,173.43,79.08,106.18,114.21,91.08,105.77,74.88,123.15,184.25,117.69,55.26,106.51,55.27,98.42,99.2,98.92,92.7,106.7,152.81,82.59,91.0,93.88,76.99,254.6,93.99,109.68,92.04,111.41,97.92,65.61,62.37,101.28,88.31,103.55,60.26,79.39,122.01,78.09,89.7,95.1,112.64,79.8,82.2,108.89,114.32,116.14,122.74,94.04,86.6,82.32,83.83,106.98,93.88,70.53,212.01,65.88,106.97,126.35,129.16,88.66,112.95,81.59,76.82,73.75,91.56,104.55,84.84,86.06,109.1,68.35,121.04,160.83,85.62,74.23,110.76,79.44,119.52,90.42,109.32,78.16,79.13,84.06,89.3,69.21,186.45,58.47,189.49,99.6,126.18,186.32,62.49,74.51,94.63,91.98,56.77,75.87,77.19,135.75,100.15,95.08,125.38,111.71,94.64,226.7,112.96,183.1,105.36,84.13,102.47,77.04,83.23,87.01,56.99,73.01,106.35,80.63,103.61,91.35,194.04,111.99,57.51,68.49,60.2,160.0,86.96,237.15,99.06,56.31,84.31,90.92,104.33,62.61,231.19,94.3,104.48,72.62,81.64,90.78,70.71,72.36,59.76,83.76,63.64,76.26,82.06,110.91,77.16,69.58,96.26,87.27,65.36,109.51,89.03,91.34,57.82,81.15,115.29,111.02,111.61,109.02,106.51,207.32,87.11,61.68,119.04,86.05,70.03,207.64,236.84,78.11,100.97,99.21,113.21,92.95,110.16,142.57,92.87,111.48,123.0,100.54,106.68,86.4,61.81,128.28,204.63,89.98,232.89,98.58,57.94,123.21,76.34,92.98,92.81,85.16,90.1,65.15,104.62,113.25,59.28,93.07,77.42,73.69,74.9,88.27,58.39,102.05,112.47,72.84,195.03,170.95,87.98,65.81,124.6,83.65,88.81,86.75,123.36,89.68,69.87,109.22,157.57,110.73,99.14,59.15,165.11,77.44,100.33,57.93,148.24,91.96,72.93,84.27,124.45,90.51,118.87,56.42,73.67,89.11,74.04,145.23,100.8,85.22,72.49,82.61,72.07,79.85,84.86,131.89,89.17,227.91,131.77,102.01,128.63,144.1,143.15,116.67,85.6,142.12,100.81,69.17,58.38,86.34,95.44,94.78,109.59,79.26,78.46,85.29,156.18,69.52,65.32,108.47,105.63,77.93,95.2,78.52,114.89,95.43,84.08,110.55,82.21,82.38,93.89,75.08,76.72,84.93,76.5,65.47,99.16,63.53,78.65,63.78,77.52,111.64,97.84,113.01,56.48,204.5,96.02,206.25,115.52,60.69,93.67,67.79,56.07,254.63,96.63,84.3,246.34,195.16,93.34,162.3,106.4,110.25,69.7,87.03,112.98,82.47,75.88,84.63,109.56,89.45,91.65,121.14,87.77,106.56,93.88,153.76,88.65,111.22,223.68,55.86,63.73,103.94,92.49,229.2,75.06,85.57,68.61,56.3,193.22,65.98,204.57,64.99,66.12,73.4,82.83,93.55,90.4,98.1,142.02,251.46,89.96,71.73,82.44,80.85,220.52,86.73,76.93,113.1,96.84,100.91,116.5,57.26,129.31,56.47,86.06,86.97,78.78,195.04,103.25,134.59,93.74,90.66,91.68,75.79,91.68,106.68,82.31,90.06,65.47,58.03,83.09,88.6,63.18,78.42,65.08,79.47,95.52,73.0,138.07,86.99,112.07,105.76,55.67,90.55,218.65,111.21,83.56,116.76,83.5,69.3,67.55,80.28,211.49,67.96,99.29,140.52,75.62,120.06,117.45,224.71,122.75,82.39,57.02,115.98,226.11,97.59,82.57,79.34,125.68,102.06,65.59,120.85,101.65,210.94,77.92,230.68,62.68,55.22,78.94,109.69,79.63,79.33,79.91,84.46,68.4,78.43,198.02,85.35,204.17,82.71,121.19,106.02,66.36,267.76,107.18,74.58,80.92,90.77,90.84,59.2,217.71,133.76,61.36,118.62,77.91,68.98,112.08,96.2,93.11,115.54,88.57,180.76,83.12,94.89,239.52,99.15,124.16,86.38,93.68,229.86,78.73,115.92,93.71,76.66,112.38,89.3,103.44,79.69,61.61,94.12,62.4,210.96,76.25,103.48,96.42,78.59,195.25,103.76,68.52,92.17,81.02,94.33,78.43,217.39,82.77,88.13,102.77,101.75,113.34,63.33,69.34,118.81,66.13,67.53,96.58,57.89,78.38,94.15,89.53,127.75,76.79,141.15,88.63,201.25,130.15,108.03,104.07,88.83,197.79,150.45,100.39,79.92,96.79,86.84,61.27,72.61,82.41,74.72,57.37,73.72,88.34,101.34,119.01,71.98,84.91,91.63,214.77,145.71,167.31,63.65,79.63,87.49,98.74,92.82,72.2,181.23,63.37,74.82,97.6,93.04,97.12,82.81,134.45,98.67,85.82,189.45,144.16,82.56,206.4,67.97,84.86,71.7,72.02,61.81,103.09,73.75,156.7,70.87,138.47,64.66,91.88,74.79,78.18,77.82,112.23,178.76,121.43,94.22,67.27,197.58,86.37,112.09,199.96,85.33,86.33,80.47,62.46,78.85,72.09,103.81,78.04,94.67,62.25,155.17,83.28,132.41,62.78,89.96,103.25,126.99,102.27,113.63,86.09,108.08,108.34,56.07,82.91,94.75,101.79,88.41,101.05,85.07,108.1,93.17,158.89,205.77,112.34,119.03,237.21,89.68,246.53,89.05,81.74,98.12,105.59,86.0,65.51,61.78,109.56,65.82,90.16,64.45,91.85,97.89,206.33,74.29,107.4,87.72,85.99,100.84,124.61,86.55,90.42,100.85,87.74,80.15,107.29,206.98,227.28,80.43,228.7,120.07,93.47,80.77,150.27,81.94,70.75,83.83,73.66,102.37,77.83,70.01,119.88,78.29,169.97,123.79,80.98,84.21,101.31,86.26,92.86,140.28,244.28,124.16,93.55,99.34,59.87,72.76,68.34,61.1,120.77,60.39,126.34,93.24,154.75,62.81,65.96,79.53,96.85,251.99,115.13,102.3,78.99,191.79,68.8,83.84,94.66,107.98,61.01,135.64,92.65,121.11,163.56,107.69,216.88,70.15,83.02,87.94,222.29,139.43,213.11,77.23,58.48,87.33,102.34,151.3,144.23,110.6,80.28,111.02,114.88,227.51,111.65,201.01,129.01,124.08,107.91,95.4,65.9,78.98,111.33,104.36,123.87,210.0,86.86,113.96,81.28,102.5,78.05,237.58,86.07,59.05,95.88,70.18,111.13,79.3,65.84,123.49,207.45,143.45,89.11,58.3,78.68,98.91,67.92,73.0,97.5,108.43,90.43,76.3,121.27,119.67,226.93,76.11,93.23,253.16,101.02,238.53,79.18,207.79,196.2,231.76,93.3,110.47,77.52,91.23,216.92,157.01,93.51,102.54,87.78,126.67,93.6,194.98,99.96,58.87,77.67,83.14,69.18,218.54,71.22,82.41,82.07,73.0,127.25,72.63,108.2,123.95,58.71,98.46,68.78,133.63,101.43,65.3,72.49,65.49,63.4,105.29,64.08,78.34,66.32,168.15,93.48,79.2,107.45,83.86,119.96,70.58,87.7,65.29,97.14,110.68,91.93,88.54,183.0,115.93,99.13,69.24,102.28,71.31,89.75,87.66,237.17,81.11,178.33,81.38,109.56,70.45,73.44,146.44,65.04,151.25,106.41,197.09,93.58,122.04,80.06,84.93,68.4,62.99,139.67,113.4,101.92,65.98,84.3,61.42,85.52,83.79,73.83,69.38,66.11,149.62,242.84,202.66,216.9,103.78,114.88,75.94,55.51,93.74,71.44,58.29,115.83,102.71,99.69,102.89,79.05,56.63,87.34,109.51,81.43,78.59,101.22,78.26,105.47,68.19,210.0,114.47,66.85,94.71,208.05,222.6,80.81,64.51,151.56,199.14,73.41,109.65,69.11,114.41,103.46,95.36,57.33,191.48,71.63,94.0,93.77,84.75,89.24,70.13,82.26,200.16,80.73,75.09,80.57,77.04,145.26,190.4,82.08,103.35,97.46,123.65,87.96,85.92,80.8,99.3,62.56,144.2,71.38,95.5,67.06,70.16,104.24,122.48,215.9,108.56,69.88,91.54,65.85,60.74,233.52,110.7,78.93,124.5,57.95,92.82,58.25,213.54,74.86,78.35,101.26,86.87,124.01,83.41,188.69,86.51,70.65,92.4,73.36,219.5,105.73,83.79,58.02,61.94,99.71,63.19,107.11,56.84,217.66,77.19,76.22,155.32,70.67,227.16,58.69,88.85,137.94,60.6,93.67,79.56,122.46,92.32,80.63,92.32,59.89,80.57,88.52,88.82,102.08,71.38,84.9,82.21,209.9,74.05,90.46,176.48,94.07,85.12,71.81,111.93,94.4,70.0,95.57,91.98,66.29,211.88,76.55,56.67,100.52,58.96,81.66,96.77,91.63,97.51,225.6,95.58,210.23,92.82,234.82,65.67,74.51,81.99,87.69,125.29,111.64,70.93,89.93,137.45,72.06,97.9,84.85,230.59,92.81,168.15,224.63,108.12,85.17,84.14,85.57,82.81,110.53,61.88,85.04,140.4,62.27,99.44,88.9,64.1,97.58,58.66,88.24,61.32,185.71,62.99,86.04,83.3,208.17,133.2,81.54,146.61,79.33,84.56,103.44,185.31,102.53,65.78,62.6,81.18,76.68,92.86,90.95,85.66,88.2,203.04,68.37,77.32,187.87,213.87,119.62,222.85,100.82,136.1,149.42,79.99,118.21,56.3,84.49,89.61,100.09,198.36,93.61,75.43,100.31,105.63,82.84,58.88,92.27,115.23,196.25,85.97,114.33,72.52,99.87,63.47,90.58,92.26,113.74,72.79,94.71,194.53,72.65,86.68,140.39,77.87,104.7,95.82,204.05,130.56,67.78,105.29,135.19,116.12,59.63,56.43,199.18,209.26,91.21,95.16,217.11,222.46,70.96,82.44,74.11,131.23,187.52,83.26,99.07,76.63,65.09,142.31,80.99,237.74,74.26,154.08,78.29,164.67,59.61,67.75,92.73,90.35,77.86,71.88,118.82,67.33,121.66,111.92,92.82,95.46,59.99,68.96,90.26,91.9,91.08,118.55,102.04,65.52,82.09,149.9,100.33,91.25,89.81,97.32,75.53,121.44,83.52,57.92,75.27,80.24,88.69,69.09,62.67,98.74,56.51,65.95,129.07,62.47,69.82,99.68,223.35,74.36,102.97,153.38,87.1,113.4,94.88,82.73,67.8,84.85,135.89,106.13,74.33,109.4,75.4,87.69,95.85,90.36,63.45,201.07,122.91,55.41,60.99,111.77,77.63,70.61,124.34,103.44,124.5,208.06,75.5,98.85,96.06,93.74,65.6,113.24,94.77,145.22,112.92,84.79,103.28,109.0,96.18,186.95,68.66,128.72,85.04,146.97,65.69,97.52,90.43,81.71,198.24,90.51,97.78,80.74,57.02,93.0,95.37,96.25,86.74,63.08,129.16,99.79,83.34,95.01,229.21,80.08,62.0,118.69,77.57,108.75,108.23,151.33,82.43,107.17,91.46,81.05,73.02,114.37,100.29,68.37,87.95,73.27,131.43,107.29,68.24,74.01,95.4,95.75,104.51,108.87,209.06,86.57,120.25,85.51,84.18,82.37,96.15,74.55,114.45,113.68,107.91,83.85,101.3,72.13,94.98,228.42,93.9,93.13,121.6,84.4,82.13,73.33,75.88,212.97,100.41,202.05,71.42,107.5,55.57,58.14,78.53,78.79,96.62,65.28,92.67,206.25,114.18,231.69,101.89,107.22,101.99,72.56,94.47,98.76,116.93,219.96,75.77,124.35,88.97,72.49,107.27,97.96,197.69,112.3,75.77,76.51,93.14,80.84,199.88,77.48,65.34,81.96,98.71,170.22,73.5,72.39,102.96,80.72,74.19,77.12,81.2,114.76,109.97,92.87,113.05,68.24,74.35,91.08,88.83,134.33,208.78,66.17,222.29,114.16,61.67,220.36,76.03,73.06,187.88,79.89,79.02,191.66,76.74,72.29,92.59,80.42,62.47,63.94,77.73,115.79,96.3,107.46,108.33,89.37,93.64,217.75,83.44,93.88,55.34,102.61,62.08,81.76,59.2,55.61,226.88,65.66,58.7,186.4,122.32,59.05,149.13,82.39,169.49,80.25,203.81,170.76,80.85,120.58,86.57,90.01,68.84,155.14,158.48,92.56,90.15,80.09,189.44,70.03,249.29,72.52,96.93,211.35,85.87,60.96,120.09,92.13,83.07,77.67,109.51,97.24,127.29,134.8,74.65,85.84,90.43,74.35,206.59,196.33,70.23,242.94,103.06,80.86,114.32,83.91,152.02,75.19,60.61,89.14,97.23,135.19,78.48,97.24,75.92,93.3,97.39,134.61,104.02,56.9,112.66,226.75,76.28,90.01,107.84,71.06,185.0,104.42,89.57,136.2,128.23,104.23,133.82,80.82,102.35,88.48,88.81,75.09,199.83,73.69,111.27,68.44,65.36,94.12,96.24,91.25,77.29,125.09,107.18,130.07,57.3,101.35,94.03,227.81,66.67,240.81,88.02,152.87,96.04,60.35,118.66,89.03,58.51,96.04,110.92,92.72,108.23,56.34,61.83,131.99,136.81,239.28,131.3,117.75,78.46,83.53,145.5,88.33,101.25,131.43,231.5,82.89,192.37,79.64,82.88,99.4,77.75,75.03,220.47,196.91,180.8,247.48,216.0,75.64,95.07,129.97,124.26,87.92,85.15,95.36,87.16,219.39,71.92,167.66,87.21,220.47,80.47,89.95,111.32,65.01,110.07,60.56,89.83,90.35,71.5,71.71,173.96,96.06,113.2,106.03,111.38,73.29,65.71,60.41,89.11,63.32,85.68,162.93,89.22,91.68,198.33,85.81,79.59,106.74,191.33,59.52,206.52,80.07,64.92,80.0,75.06,112.2,91.18,85.81,148.37,64.55,97.31,111.15,80.97,89.88,62.66,122.25,87.08,85.0,100.49,145.37,112.19,79.73,101.13,101.98,98.39,128.04,98.12,216.96,94.92,83.27,96.86,99.73,91.71,65.77,161.57,74.32,170.93,74.43,86.36,97.06,110.38,79.03,62.48,55.62,84.9,232.81,86.55,118.61,80.21,65.96,61.34,116.6,85.13,86.32,69.22,140.93,83.43,207.95,134.29,115.12,86.25,112.94,73.54,80.86,83.91,69.91,95.62,63.95,122.5,86.0,120.27,56.71,131.63,79.36,120.77,100.42,155.86,66.01,86.99,90.55,229.58,60.06,65.66,104.7,113.86,99.49,165.99,114.99,79.58,77.37,93.55,187.22,167.59,98.03,88.79,92.9,117.34,80.75,77.51,105.63,114.34,227.04,87.56,84.47,96.26,116.64,79.57,78.44,64.15,74.5,70.32,84.48,144.08,78.14,133.58,214.42,80.63,233.71,96.0,74.52,131.4,216.4,108.8,97.06,266.59,55.58,65.87,89.28,56.12,74.7,83.06,227.94,84.88,64.2,137.22,81.44,90.26,68.48,100.02,100.61,156.82,81.66,112.22,90.62,72.49,107.47,92.11,70.54,205.0,126.39,89.72,92.08,85.38,95.25,75.91,203.44,243.73,88.23,97.47,59.28,101.15,68.38,55.46,113.87,67.03,96.35,127.21,78.9,59.91,160.94,59.61,87.94,97.55,116.02,127.32,75.5,79.35,176.25,108.56,168.06,75.52,82.15,200.28,62.44,84.31,221.43,165.47,96.69,63.98,145.03,98.53,105.55,134.23,62.48,213.38,70.52,93.21,82.39,88.29,80.18,84.02,69.72,192.16,82.27,101.87,77.55,215.72,87.84,91.93,58.63,173.14,106.83,84.44,92.16,85.96,202.57,65.41,102.51,62.6,150.1,94.15,65.5,81.31,78.96,123.47,90.4,71.59,209.5,86.6,57.43,87.93,203.16,112.12,92.02,60.98,86.35,71.26,72.61,110.78,99.78,201.45,127.78,121.32,83.89,74.06,206.15,102.9,65.48,123.23,71.3,79.05,102.21,105.22,84.58,77.3,74.79,88.75,97.97,79.18,81.33,126.68,196.61,219.92,79.16,99.68,79.55,87.86,76.92,77.24,120.94,77.66,231.95,111.48,84.25,216.38,95.01,105.74,58.41,56.89,86.25,86.49,115.47,92.22,83.16,110.68,70.06,213.33,93.52,87.62,77.67,95.66,172.33,106.59,87.06,93.02,243.59,86.7,97.81,116.04,169.43,68.41,94.44,73.48,183.87,66.08,72.19,101.09,88.83,69.99,102.4,87.26,146.59,59.0,76.83,101.83,90.92,67.5,97.16,85.62,129.43,106.01,114.82,121.39,227.98,78.97,84.12,95.04,103.15,82.91,70.93,153.6,129.43,81.0,71.81,84.46,101.32,62.56,208.2,199.42,91.28,77.99,190.13,149.68,92.3,235.54,84.46,68.7,178.89,227.74,100.66,73.62,100.05,213.8,103.94,84.2,250.8,112.29,65.98,99.1,217.84,104.34,217.0,57.47,78.24,94.38,100.31,74.29,103.43,99.83,217.4,71.81,79.79,190.92,94.76,101.43,115.86,95.27,89.02,77.55,75.86,93.62,72.71,94.45,88.57,84.12,89.11,99.83,150.03,69.67,77.46,100.54,142.38,110.87,73.6,59.52,142.68,182.9,75.28,100.75,163.82,110.42,105.18,79.59,107.99,90.22,143.45,78.57,79.82,95.88,123.04,92.34,116.84,90.04,255.17,217.55,123.66,112.16,88.43,86.03,227.96,85.6,111.68,73.49,87.82,99.29,63.73,85.55,79.2,105.93,94.19,231.71,69.28,71.37,110.18,59.68,94.24,82.1,62.62,107.83,107.59,116.98,84.1,160.64,84.4,81.13,88.19,127.13,119.61,143.47,84.6,110.72,158.93,68.94,69.38,72.0,57.76,108.65,65.42,78.93,98.34,82.57,124.37,100.96,75.22,59.85,104.75,70.98,92.77,82.12,106.35,77.33,96.01,107.49,88.47,87.92,91.13,80.72,59.83,67.02,60.22,82.41,75.78,102.42,98.45,93.51,113.68,97.41,58.65,81.68,148.52,77.55,142.12,125.3,118.81,84.16,78.74,57.51,61.11,78.3,76.19,115.99,100.8,98.27,93.85,94.69,136.23,56.12,93.03,196.81,87.81,222.66,223.58,85.77,88.23,73.65,141.8,92.65,198.79,61.04,102.88,123.39,67.07,69.88,57.02,123.81,73.36,90.54,69.24,192.39,233.3,74.35,71.94,82.35,73.28,97.57,83.3,85.07,60.4,79.96,70.96,82.86,97.87,201.38,91.82,91.85,99.23,68.13,93.76,103.89,87.39,89.53,66.61,236.14,99.76,87.09,193.81,97.27,137.77,105.19,82.72,58.35,68.79,94.19,121.17,106.41,104.79,82.18,96.81,107.42,69.2,92.73,86.11,111.78,122.26,78.16,105.77,102.97,77.53,77.35,82.36,239.95,61.96,72.1,107.97,60.77,71.06,60.36,83.33,65.33,113.28,170.88,103.34,106.08,156.45,60.05,114.05,202.21,57.28,99.49,63.6,80.01,58.42,67.38,73.58,103.92,80.22,103.76,77.06,90.22,181.3,85.29,107.59,87.72,70.73,72.75,95.47,70.54,100.03,59.78,198.79,90.39,147.04,202.55,64.92,154.6,95.98,102.51,96.52,232.12,78.12,70.04,97.61,113.11,71.06,104.95,81.94,96.37,114.16,93.58,73.89,107.83,107.21,99.35,203.57,81.51,69.26,111.47,86.09,72.94,76.77,60.32,133.24,65.01,74.63,230.78,72.5,68.48,85.03,80.76,204.98,95.36,110.33,89.18,91.53,65.16,74.53,93.29,227.89,121.46,69.35,216.71,74.96,75.25,91.82,56.37,149.15,202.67,65.38,90.31,221.8,73.39,147.12,109.85,103.21,81.25,84.69,87.1,81.92,90.91,64.4,85.48,67.29,124.48,62.89,87.51,93.15,64.87,90.68,104.64,92.44,120.46,89.87,105.28,131.8,66.33,101.07,83.37,79.8,103.17,62.52,75.78,110.36,140.07,84.86,106.85,102.07,202.38,67.07,73.7,77.59,69.16,91.44,215.81,65.4,139.72,72.81,149.17,125.74,90.21,139.48,90.77,220.24,81.42,102.36,82.85,102.11,195.61,80.92,71.8,88.47,67.68,98.65,83.58,104.04,69.4,106.22,112.46,72.42,96.73,107.4,267.61,109.46,120.05,106.33,97.28,83.13,97.35,79.54,76.55,56.11,91.36,79.27,113.21,105.99,59.93,88.83,73.37,115.42,71.93,96.43,161.95,104.55,71.25,160.87,82.02,78.02,115.21,65.12,80.55,88.2,147.42,86.53,91.95,63.72,63.78,55.64,88.88,114.61,56.08,59.62,75.85,176.71,80.07,56.33,87.16,102.46,84.1,161.0,70.7,81.26,157.67,89.59,64.02,110.69,71.97,82.07,65.07,207.62,108.64,201.58,116.2,231.43,112.62,220.26,84.37,82.83,102.48,69.12,211.12,95.38,108.72,88.65,177.91,90.19,73.78,82.85,59.48,75.77,80.96,82.4,78.93,80.59,70.59,98.57,61.87,68.88,66.25,84.18,69.23,73.2,103.45,104.86,90.3,90.87,76.21,74.14,87.25,215.33,88.38,104.4,104.92,106.54,62.91,61.47,88.5,107.61,90.77,137.91,212.02,228.2,92.15,126.32,94.96,89.52,66.59,80.1,73.72,90.49,92.99,62.57,65.51,95.29,83.7,63.16,87.77,87.23,260.85,104.45,87.52,113.65,65.93,93.78,223.9,77.54,93.18,169.74,101.93,125.03,82.25,85.81,85.27,86.06,104.36,78.29,93.55,207.96,105.52,109.27,91.34,176.78,67.73,73.27,70.29,91.47,205.01,73.87,64.44,111.65,90.65,94.2,56.95,92.37,127.23,191.78,86.36,82.72,113.57,89.58,91.85,88.89,79.55,108.62,78.24,88.49,91.85,72.01,81.96,70.56,71.02,99.75,127.2,69.76,74.63,102.27,73.56,57.77,151.25,78.32,71.5,84.7,127.28,80.72,73.92,93.24,72.6,69.77,84.43,84.13,81.54,57.17,86.15,163.02,110.41,102.58,90.97,140.96,70.33,64.18,127.57,109.23,124.49,142.82,75.69,74.08,75.98,57.8,76.44,214.43,79.03,66.46,56.42,112.72,114.02,72.33,55.59,73.48,105.05,84.78,164.77,220.64,159.39,69.53,81.42,83.93,98.9,82.64,112.54,75.25,204.77,63.86,72.2,80.08,101.61,114.32,80.82,90.6,93.67,87.15,80.72,83.16,98.14,83.13,134.24,248.37,61.75,70.55,124.38,92.21,148.72,79.25,82.09,194.53,98.84,135.74,66.55,115.69,67.76,88.65,106.11,95.49,59.07,228.92,62.89,96.84,81.25,92.71,85.59,89.06,87.44,64.07,79.39,67.84,81.73,105.52,77.55,127.42,227.68,226.73,89.74,219.17,74.85,55.96,215.92,84.4,104.05,62.54,87.54,76.81,198.12,78.0,79.44,75.82,240.86,89.28,263.56,81.13,118.44,97.37,80.51,78.88,83.61,73.19,68.91,104.3,87.87,96.7,91.05,200.14,73.04,85.81,65.41,108.68,88.79,107.82,97.39,141.09,122.38,77.91,103.6,159.7,118.22,84.5,85.59,84.42,100.98,81.11,235.45,79.2,207.71,99.84,98.05,105.9,107.55,146.21,79.94,72.28,123.1,67.06,82.68,125.89,228.05,98.23,90.06,119.9,94.53,64.66,103.79,88.51,97.26,92.59,102.89,92.26,80.0,56.75,104.66,60.39,223.14,105.51,83.42,71.06,101.24,91.19,174.43,214.51,72.64,62.69,141.16,89.61,76.42,124.38,111.81,57.57,77.82,60.09,91.02,65.46,131.19,79.89,74.54,231.31,91.57,238.78,87.18,78.94,69.01,110.28,71.66,62.57,83.64,107.18,233.59,84.88,97.95,58.19,70.11,112.77,75.46,63.63,100.22,81.77,94.25,188.13,164.7,68.27,79.81,100.12,151.23,112.41,205.97,112.19,71.93,190.89,138.02,66.16,105.73,78.34,102.1,97.37,193.87,78.32,130.0,74.0,111.04,214.77,97.25,79.95,162.24,74.36,69.68,98.35,75.73,85.86,80.34,73.76,94.96,108.18,85.23,189.88,197.11,100.08,68.62,84.07,99.65,82.33,94.49,108.71,64.94,98.22,83.5,192.47,125.89,87.72,68.94,66.51,85.82,87.47,87.74,85.12,103.37,81.68,76.51,110.17,65.12,76.66,109.88,199.38,65.77,55.72,75.67,88.18,95.94,86.93,85.17,111.1,92.0,97.47,79.21,83.97,98.55,202.98,60.7,92.22,79.94,83.68,69.92,136.96,95.32,107.78,198.32,100.16,96.02,112.69,60.61,79.77,87.41,226.38,124.64,69.42,77.68,112.79,236.79,219.82,82.05,104.08,101.57,71.32,143.97,239.19,78.45,61.11,87.29,82.49,83.15,83.26,78.7,111.94,104.77,104.26,113.84,114.71,61.54,133.62,111.96,112.44,123.61,84.68,206.62,114.54,216.88,110.38,99.23,204.92,56.74,68.35,83.52,59.74,81.59,123.83,226.84,93.2,85.84,74.64,80.17,85.03,234.35,116.25,66.55,88.38,81.05,68.4,96.95,66.24,91.81,84.86,118.88,85.91,115.4,75.34,100.19,200.73,114.09,67.3,96.91,116.2,72.54,96.01,89.16,108.64,83.66,81.21,86.96,92.95,95.86,85.52,159.39,202.51,82.24,109.81,91.85,123.49,105.49,101.53,89.45,126.04,95.49,89.38,82.3,218.0,79.7,209.15,70.22,83.57,60.6,97.24,162.72,73.27,92.62,90.0,78.28,87.81,202.66,196.5,142.31,94.96,83.78,86.1,74.5,66.96,76.7,103.12,84.03,74.15,73.29,115.16,83.55,61.53,100.74,59.31,63.22,209.5,64.51,90.07,113.95,119.32,99.12,152.84,78.23,68.8,76.05,116.49,99.91,76.1,121.99,116.21,55.28,219.81,103.73,153.08,98.69,94.11,117.03,91.35,82.48,99.76,111.1,122.25,84.19,84.6,126.35,87.5,77.52,133.13,96.1,108.61,205.23,76.74,138.55,234.27,75.16,77.08,101.19,107.74,62.32,56.32,131.28,67.02,76.72,125.98,72.09,88.05,55.47,145.94,239.21,196.08,93.93,76.74,83.74,119.58,68.66,65.79,176.38,175.74,193.45,85.84,93.85,86.21,75.41,95.28,95.87,180.45,95.39,60.77,102.84,130.37,65.44,79.84,62.61,70.07,108.8,112.11,92.35,76.57,69.5,219.38,69.48,89.18,68.09,92.71,56.21,72.08,82.56,78.24,84.66,90.35,68.12,59.14,85.64,56.08,99.0,93.6,105.75,114.09,57.42,100.01,62.0,103.61,118.46,94.77,72.12,155.23,90.6,81.92,67.1,58.01,173.9,106.27,60.57,105.34,96.28,122.73,104.12,69.74,106.95,94.63,86.97,76.12,99.94,91.53,145.46,74.86,74.42,70.07,89.85,104.21,157.77,101.81,103.0,101.85,85.92,56.85,89.04,63.01,65.48,68.6,81.68,65.21,72.53,81.78,116.85,80.83,96.21,117.04,78.26,58.24,82.53,71.25,129.73,115.47,56.79,100.16,97.6,90.54,105.88,217.94,69.89,93.28,111.27,91.04,87.2,109.12,216.64,74.28,57.6,173.97,65.25,80.92,124.37,102.39,90.42,79.17,71.08,81.54,159.67,93.96,103.01,92.49,208.85,122.39,65.91,70.25,219.7,65.7,67.08,107.58,208.05,95.87,68.17,95.37,90.0,106.1,56.13,104.03,157.01,84.35,67.99,118.93,185.28,82.08,88.32,85.16,69.54,62.12,198.3,100.06,101.13,91.09,61.54,62.02,103.11,77.57,97.34,78.76,67.1,79.89,206.66,95.79,83.88,93.51,116.78,117.63,60.01,64.6,92.43,71.63,87.79,99.64,86.53,200.68,98.37,117.98,218.6,101.3,79.51,223.26,97.22,172.27,221.83,74.61,60.91,69.79,83.6,83.95,77.5,64.29,61.1,100.71,65.21,119.77,102.39,59.67,83.16,218.1,76.45,200.46,95.7,70.23,75.15,95.8,90.67,84.79,147.5,134.12,82.62,125.11,92.14,217.79,95.62,93.8,90.61,139.2,77.01,105.26,68.35,99.07,147.74,61.29,98.92,90.74,159.79,233.47,85.53,76.7,67.87,77.26,91.28,129.19,97.86,112.33,110.41,91.58,58.86,76.88,109.52,181.23,103.58,81.96,104.55,76.12,64.27,200.98,101.96,84.17,85.79,71.46,95.49,87.62,118.55,82.14,219.67,135.84,74.83,60.37,67.28,77.79,88.51,90.38,156.69,207.6,158.9,247.97,114.71,58.55,231.15,68.18,118.75,186.54,96.14,69.52,101.93,71.58,83.1,110.96,122.83,91.65,84.1,118.85,89.32,128.72,98.05,102.1,108.62,96.19,98.07,71.4,82.27,158.33,102.5,72.18,95.94,87.15,82.59,89.31,64.84,107.52,92.76,79.16,87.0,145.25,125.14,88.6,57.59,59.43,65.43,154.03,139.81,111.81,106.84,221.06,69.97,77.07,59.49,109.39,93.97,163.17,124.39,212.62,128.63,84.1,77.6,70.51,109.19,55.23,120.15,72.16,95.89,64.68,70.51,81.77,66.47,146.08,91.68,108.96,113.41,111.08,217.74,78.5,89.06,74.8,80.2,76.52,208.99,99.72,102.97,197.36,98.56,86.06,123.08,75.0,105.9,73.87,78.04,107.74,60.64,82.57,115.98,110.38,92.59,82.64,70.28,106.54,59.11,58.89,129.66,73.57,72.04,125.63,77.94,68.99,111.76,65.36,80.27,81.73,79.22,142.63,97.05,222.52,70.38,114.46,64.62,94.12,70.19,55.35,115.52,60.7,69.24,103.29,92.74,232.64,82.46,63.57,73.24,78.43,57.46,104.16,110.42,119.4,119.13,120.22,80.8,57.96,81.24,88.79,70.91,87.12,126.09,76.42,56.33,131.81,95.23,71.18,87.71,115.68,207.37,74.43,75.1,69.72,111.84,111.08,201.96,68.68,56.9,91.16,99.44,78.85,123.89,90.44,138.44,75.06,85.66,102.76,71.79,167.16,131.05,86.92,59.62,103.72,77.1,94.75,77.72,76.09,61.8,92.97,83.73,79.33,108.32,103.65,86.19,131.42,69.46,76.78,103.78,213.43,93.52,115.07,69.45,81.0,83.16,108.63,88.06,80.57,248.24,57.79,87.4,76.63,58.01,77.43,101.12,64.45,79.42,82.94,81.58,62.21,229.94,116.06,117.77,66.69,122.23,168.68,119.9,110.33,77.95,80.35,57.38,96.47,70.66,202.06,91.3,67.56,126.12,86.4,103.22,88.85,63.9,81.32,253.93,78.11,134.65,194.75,77.94,56.94,117.03,207.84,228.26,84.43,57.09,94.89,132.46,75.13,76.64,91.32,85.9,76.19,85.77,63.42,112.02,203.76,98.44,79.57,63.98,101.46,74.66,68.66,205.78,111.24,134.76,110.1,100.8,113.08,56.48,77.77,104.02,83.59,179.67,91.89,78.9,230.74,216.19,83.7,200.66,73.99,228.5,70.43,74.39,102.92,87.91,118.55,232.29,125.32,78.98,100.2,200.91,95.24,56.64,80.48,112.96,236.04,73.0,61.13,88.56,66.16,88.98,94.39,87.39,77.91,86.85,94.37,76.64,254.95,107.33,80.94,112.02,196.58,89.14,69.94,55.79,73.08,96.02,189.82,89.68,101.06,62.66,84.03,108.38,78.79,76.12,68.01,90.11,193.61,195.74,94.77,85.0,141.37,90.71,106.8,121.66,85.18,130.07,74.24,79.98,106.76,76.34,221.24,80.55,63.98,55.93,73.94,65.58,83.8,95.87,112.83,84.93,103.08,85.98,83.75,125.43,101.58,149.8,112.55,70.87,92.96,112.19,85.08,112.37,151.26,73.81,77.2,76.08,123.98,108.51,98.07,85.82,86.21,99.01,79.53,80.08,69.47,85.07,88.0,144.14,78.8,86.78,105.72,64.37,146.1,58.66,192.5,103.5,89.42,212.92,60.73,73.18,82.26,87.4,86.95,74.0,73.98,124.78,191.94,247.87,83.2,88.62,81.51,101.76,115.71,229.73,57.4,100.47,81.36,261.67,110.2,98.9,95.19,105.28,83.03,89.41,70.56,78.79,70.13,62.68,71.77,77.99,256.74,93.72,63.74,60.67,112.08,221.08,101.81,60.17,65.29,153.24,61.42,86.67,82.42,100.54,111.48,85.33,126.57,81.51,67.97,77.92,80.54,76.47,87.15,86.07,106.52,94.24,89.73,208.39,128.61,57.56,227.23,77.76,72.76,90.11,203.27,234.5,71.12,190.67,116.04,82.95,112.75,82.63,92.75,117.63,197.06,216.07,76.03,62.44,108.82,101.66,121.15,116.44,116.62,93.3,144.33,98.02,80.67,94.27,76.35,57.56,179.14,63.49,145.18,66.3,120.56,69.2,150.74,81.38,78.48,203.87,87.0,84.68,91.89,88.97,116.98,135.82,96.62,106.53,58.42,79.62,141.84,78.05,77.16,86.3,83.55,102.0,68.07,81.77,82.62,102.03,235.06,57.52,76.98,82.31,83.84,98.14,84.04,92.24,94.92,112.7,74.34,72.99,104.9,99.96,85.27,60.32,94.14,195.43,200.25,90.31,95.33,85.65,223.64,76.43,98.66,75.84,85.46,81.33,199.78,176.42,101.56,84.48,93.21,72.88,84.1,72.84,70.89,108.14,244.3,88.04,65.84,106.73,106.03,80.88,140.1,127.4,87.72,58.23,69.37,58.64,59.67,78.08,105.08,89.3,61.38,56.11,223.16,75.53,107.47,76.0,90.28,65.22,86.24,166.38,78.91,226.28,90.73,172.86,213.92,92.23,79.81,81.78,102.0,68.42,94.68,125.33,212.19,89.0,60.98,58.19,67.68,84.99,62.13,57.1,97.95,94.06,93.88,90.3,83.14,118.66,100.47,90.78,66.46,73.56,200.8,57.28,92.87,96.47,99.44,77.96,60.13,88.17,84.41,72.34,68.72,222.58,66.06,156.43,105.76,73.07,99.48,79.6,70.0,112.98,61.07,63.43,73.2,102.73,74.88,122.43,84.21,80.42,80.44,80.63,206.53,104.12,96.82,88.1,64.85,102.87,83.75,97.68,97.58,74.16,86.0,100.93,232.78,86.96,67.5,81.21,110.14,120.44,187.47,94.62,89.57,95.31,75.07,106.65,234.06,144.15,58.81,242.62,93.04,65.68,150.0,63.56,96.98,66.7,79.66,90.16,104.09,90.96,152.38,114.54,174.54,106.47,73.63,98.52,62.93,67.87,120.43,76.56,108.03,83.16,67.9,115.46,123.94,231.54,219.8,187.99,234.45,75.47,98.24,66.2,94.67,75.95,111.79,80.89,86.91,59.36,240.69,66.67,87.54,139.87,67.92,83.62,110.97,70.53,115.91,59.74,62.64,84.81,78.68,217.57,79.76,63.28,78.48,70.48,120.96,77.29,108.51,113.85,97.65,121.83,81.53,58.35,65.42,69.34,109.09,66.71,114.92,120.58,165.36,66.11,126.34,68.27,92.86,96.77,89.24,89.32,107.06,65.63,123.66,63.82,108.06,136.18,71.29,76.58,119.58,109.3,111.94,81.64,97.64,110.32,79.0,95.08,137.27,57.83,84.08,234.51,142.64,69.77,71.4,79.61,77.46,96.85,182.22,67.26,60.02,113.45,112.31,68.53,57.15,214.73,91.82,71.8,63.41,106.24,83.01,67.92,74.99,75.22,61.88,65.67,110.18,119.3,208.69,95.18,107.72,83.27,90.29,81.87,153.31,101.46,72.49,86.58,113.26,84.92,128.17,93.93,99.87,129.31,89.43,101.6,66.55,231.72,96.69,102.13,100.88,66.22,109.33,206.53,83.91,67.92,73.48,101.31,103.66,70.73,77.45,193.8,114.34,69.25,88.44,84.09,87.06,92.64,99.36,135.63,82.44,81.88,95.44,72.71,65.45,203.01,110.84,83.12,55.12,105.91,61.57,83.1,66.32,72.56,97.99,63.27,79.6,177.56,81.31,59.91,132.85,198.84,77.12,87.17,96.03,83.56,80.93,84.54,70.51,56.87,67.55,243.52,108.63,69.06,73.89,84.49,73.71,129.01,72.96,110.23,79.49,89.33,68.38,238.27,135.79,82.19,93.2,208.31,111.33,69.84,121.71,80.08,84.4,98.61,86.61,80.44,107.02,97.23,91.21,103.69,74.12,71.08,58.39,176.34,73.76,67.21,87.98,94.23,111.36,84.07,117.31,84.94,68.86,132.88,211.83,124.92,57.42,215.69,154.67,67.66,153.48,62.63,77.93,80.3,106.69,83.07,140.14,92.65,111.37,99.0,78.24,83.88,86.21,57.06,112.25,81.06,104.37,124.31,101.95,116.95,99.76,105.48,100.6,65.05,75.9,267.6,215.07,109.03,225.35,196.26,95.42,123.04,85.88,107.43,56.85,102.15,88.68,182.52,93.97,104.03,67.99,83.37,124.66,212.87,96.75,63.28,82.64,71.34,183.43,101.19,88.51,126.85,74.17,76.04,73.87,99.07,82.93,133.24,69.88,69.12,86.05,185.27,97.46,81.9,99.58,124.54,153.34,112.35,160.76,73.29,108.08,206.49,77.42,117.59,61.94,116.68,253.86,203.36,125.87,64.09,65.33,70.15,96.84,175.92,100.65,112.39,81.1,98.3,89.68,95.16,191.15,91.04,101.87,96.86,91.05,55.84,84.04,92.06,89.61,69.92,89.29,120.23,60.22,223.78,211.58,179.38,193.88,89.01,118.41,138.51,120.03,91.01,61.98,135.32,58.72,90.42,104.0,102.5,174.37,106.56,76.31,77.28,90.52,108.35,72.03,90.57,97.04,83.89,152.56,75.93,76.89,62.13,100.85,95.05,82.35,95.02,82.38,79.15,76.62,91.68,71.88,83.94,71.97,97.95,77.93,82.85,103.08,83.75,125.2,82.99,166.29,85.28],\"xaxis\":\"x\",\"y\":[\"avg_glucose_level\",\"avg_glucose_level\",\"avg_glucose_level\",\"avg_glucose_level\",\"avg_glucose_level\",\"avg_glucose_level\",\"avg_glucose_level\",\"avg_glucose_level\",\"avg_glucose_level\",\"avg_glucose_level\",\"avg_glucose_level\",\"avg_glucose_level\",\"avg_glucose_level\",\"avg_glucose_level\",\"avg_glucose_level\",\"avg_glucose_level\",\"avg_glucose_level\",\"avg_glucose_level\",\"avg_glucose_level\",\"avg_glucose_level\",\"avg_glucose_level\",\"avg_glucose_level\",\"avg_glucose_level\",\"avg_glucose_level\",\"avg_glucose_level\",\"avg_glucose_level\",\"avg_glucose_level\",\"avg_glucose_level\",\"avg_glucose_level\",\"avg_glucose_level\",\"avg_glucose_level\",\"avg_glucose_level\",\"avg_glucose_level\",\"avg_glucose_level\",\"avg_glucose_level\",\"avg_glucose_level\",\"avg_glucose_level\",\"avg_glucose_level\",\"avg_glucose_level\",\"avg_glucose_level\",\"avg_glucose_level\",\"avg_glucose_level\",\"avg_glucose_level\",\"avg_glucose_level\",\"avg_glucose_level\",\"avg_glucose_level\",\"avg_glucose_level\",\"avg_glucose_level\",\"avg_glucose_level\",\"avg_glucose_level\",\"avg_glucose_level\",\"avg_glucose_level\",\"avg_glucose_level\",\"avg_glucose_level\",\"avg_glucose_level\",\"avg_glucose_level\",\"avg_glucose_level\",\"avg_glucose_level\",\"avg_glucose_level\",\"avg_glucose_level\",\"avg_glucose_level\",\"avg_glucose_level\",\"avg_glucose_level\",\"avg_glucose_level\",\"avg_glucose_level\",\"avg_glucose_level\",\"avg_glucose_level\",\"avg_glucose_level\",\"avg_glucose_level\",\"avg_glucose_level\",\"avg_glucose_level\",\"avg_glucose_level\",\"avg_glucose_level\",\"avg_glucose_level\",\"avg_glucose_level\",\"avg_glucose_level\",\"avg_glucose_level\",\"avg_glucose_level\",\"avg_glucose_level\",\"avg_glucose_level\",\"avg_glucose_level\",\"avg_glucose_level\",\"avg_glucose_level\",\"avg_glucose_level\",\"avg_glucose_level\",\"avg_glucose_level\",\"avg_glucose_level\",\"avg_glucose_level\",\"avg_glucose_level\",\"avg_glucose_level\",\"avg_glucose_level\",\"avg_glucose_level\",\"avg_glucose_level\",\"avg_glucose_level\",\"avg_glucose_level\",\"avg_glucose_level\",\"avg_glucose_level\",\"avg_glucose_level\",\"avg_glucose_level\",\"avg_glucose_level\",\"avg_glucose_level\",\"avg_glucose_level\",\"avg_glucose_level\",\"avg_glucose_level\",\"avg_glucose_level\",\"avg_glucose_level\",\"avg_glucose_level\",\"avg_glucose_level\",\"avg_glucose_level\",\"avg_glucose_level\",\"avg_glucose_level\",\"avg_glucose_level\",\"avg_glucose_level\",\"avg_glucose_level\",\"avg_glucose_level\",\"avg_glucose_level\",\"avg_glucose_level\",\"avg_glucose_level\",\"avg_glucose_level\",\"avg_glucose_level\",\"avg_glucose_level\",\"avg_glucose_level\",\"avg_glucose_level\",\"avg_glucose_level\",\"avg_glucose_level\",\"avg_glucose_level\",\"avg_glucose_level\",\"avg_glucose_level\",\"avg_glucose_level\",\"avg_glucose_level\",\"avg_glucose_level\",\"avg_glucose_level\",\"avg_glucose_level\",\"avg_glucose_level\",\"avg_glucose_level\",\"avg_glucose_level\",\"avg_glucose_level\",\"avg_glucose_level\",\"avg_glucose_level\",\"avg_glucose_level\",\"avg_glucose_level\",\"avg_glucose_level\",\"avg_glucose_level\",\"avg_glucose_level\",\"avg_glucose_level\",\"avg_glucose_level\",\"avg_glucose_level\",\"avg_glucose_level\",\"avg_glucose_level\",\"avg_glucose_level\",\"avg_glucose_level\",\"avg_glucose_level\",\"avg_glucose_level\",\"avg_glucose_level\",\"avg_glucose_level\",\"avg_glucose_level\",\"avg_glucose_level\",\"avg_glucose_level\",\"avg_glucose_level\",\"avg_glucose_level\",\"avg_glucose_level\",\"avg_glucose_level\",\"avg_glucose_level\",\"avg_glucose_level\",\"avg_glucose_level\",\"avg_glucose_level\",\"avg_glucose_level\",\"avg_glucose_level\",\"avg_glucose_level\",\"avg_glucose_level\",\"avg_glucose_level\",\"avg_glucose_level\",\"avg_glucose_level\",\"avg_glucose_level\",\"avg_glucose_level\",\"avg_glucose_level\",\"avg_glucose_level\",\"avg_glucose_level\",\"avg_glucose_level\",\"avg_glucose_level\",\"avg_glucose_level\",\"avg_glucose_level\",\"avg_glucose_level\",\"avg_glucose_level\",\"avg_glucose_level\",\"avg_glucose_level\",\"avg_glucose_level\",\"avg_glucose_level\",\"avg_glucose_level\",\"avg_glucose_level\",\"avg_glucose_level\",\"avg_glucose_level\",\"avg_glucose_level\",\"avg_glucose_level\",\"avg_glucose_level\",\"avg_glucose_level\",\"avg_glucose_level\",\"avg_glucose_level\",\"avg_glucose_level\",\"avg_glucose_level\",\"avg_glucose_level\",\"avg_glucose_level\",\"avg_glucose_level\",\"avg_glucose_level\",\"avg_glucose_level\",\"avg_glucose_level\",\"avg_glucose_level\",\"avg_glucose_level\",\"avg_glucose_level\",\"avg_glucose_level\",\"avg_glucose_level\",\"avg_glucose_level\",\"avg_glucose_level\",\"avg_glucose_level\",\"avg_glucose_level\",\"avg_glucose_level\",\"avg_glucose_level\",\"avg_glucose_level\",\"avg_glucose_level\",\"avg_glucose_level\",\"avg_glucose_level\",\"avg_glucose_level\",\"avg_glucose_level\",\"avg_glucose_level\",\"avg_glucose_level\",\"avg_glucose_level\",\"avg_glucose_level\",\"avg_glucose_level\",\"avg_glucose_level\",\"avg_glucose_level\",\"avg_glucose_level\",\"avg_glucose_level\",\"avg_glucose_level\",\"avg_glucose_level\",\"avg_glucose_level\",\"avg_glucose_level\",\"avg_glucose_level\",\"avg_glucose_level\",\"avg_glucose_level\",\"avg_glucose_level\",\"avg_glucose_level\",\"avg_glucose_level\",\"avg_glucose_level\",\"avg_glucose_level\",\"avg_glucose_level\",\"avg_glucose_level\",\"avg_glucose_level\",\"avg_glucose_level\",\"avg_glucose_level\",\"avg_glucose_level\",\"avg_glucose_level\",\"avg_glucose_level\",\"avg_glucose_level\",\"avg_glucose_level\",\"avg_glucose_level\",\"avg_glucose_level\",\"avg_glucose_level\",\"avg_glucose_level\",\"avg_glucose_level\",\"avg_glucose_level\",\"avg_glucose_level\",\"avg_glucose_level\",\"avg_glucose_level\",\"avg_glucose_level\",\"avg_glucose_level\",\"avg_glucose_level\",\"avg_glucose_level\",\"avg_glucose_level\",\"avg_glucose_level\",\"avg_glucose_level\",\"avg_glucose_level\",\"avg_glucose_level\",\"avg_glucose_level\",\"avg_glucose_level\",\"avg_glucose_level\",\"avg_glucose_level\",\"avg_glucose_level\",\"avg_glucose_level\",\"avg_glucose_level\",\"avg_glucose_level\",\"avg_glucose_level\",\"avg_glucose_level\",\"avg_glucose_level\",\"avg_glucose_level\",\"avg_glucose_level\",\"avg_glucose_level\",\"avg_glucose_level\",\"avg_glucose_level\",\"avg_glucose_level\",\"avg_glucose_level\",\"avg_glucose_level\",\"avg_glucose_level\",\"avg_glucose_level\",\"avg_glucose_level\",\"avg_glucose_level\",\"avg_glucose_level\",\"avg_glucose_level\",\"avg_glucose_level\",\"avg_glucose_level\",\"avg_glucose_level\",\"avg_glucose_level\",\"avg_glucose_level\",\"avg_glucose_level\",\"avg_glucose_level\",\"avg_glucose_level\",\"avg_glucose_level\",\"avg_glucose_level\",\"avg_glucose_level\",\"avg_glucose_level\",\"avg_glucose_level\",\"avg_glucose_level\",\"avg_glucose_level\",\"avg_glucose_level\",\"avg_glucose_level\",\"avg_glucose_level\",\"avg_glucose_level\",\"avg_glucose_level\",\"avg_glucose_level\",\"avg_glucose_level\",\"avg_glucose_level\",\"avg_glucose_level\",\"avg_glucose_level\",\"avg_glucose_level\",\"avg_glucose_level\",\"avg_glucose_level\",\"avg_glucose_level\",\"avg_glucose_level\",\"avg_glucose_level\",\"avg_glucose_level\",\"avg_glucose_level\",\"avg_glucose_level\",\"avg_glucose_level\",\"avg_glucose_level\",\"avg_glucose_level\",\"avg_glucose_level\",\"avg_glucose_level\",\"avg_glucose_level\",\"avg_glucose_level\",\"avg_glucose_level\",\"avg_glucose_level\",\"avg_glucose_level\",\"avg_glucose_level\",\"avg_glucose_level\",\"avg_glucose_level\",\"avg_glucose_level\",\"avg_glucose_level\",\"avg_glucose_level\",\"avg_glucose_level\",\"avg_glucose_level\",\"avg_glucose_level\",\"avg_glucose_level\",\"avg_glucose_level\",\"avg_glucose_level\",\"avg_glucose_level\",\"avg_glucose_level\",\"avg_glucose_level\",\"avg_glucose_level\",\"avg_glucose_level\",\"avg_glucose_level\",\"avg_glucose_level\",\"avg_glucose_level\",\"avg_glucose_level\",\"avg_glucose_level\",\"avg_glucose_level\",\"avg_glucose_level\",\"avg_glucose_level\",\"avg_glucose_level\",\"avg_glucose_level\",\"avg_glucose_level\",\"avg_glucose_level\",\"avg_glucose_level\",\"avg_glucose_level\",\"avg_glucose_level\",\"avg_glucose_level\",\"avg_glucose_level\",\"avg_glucose_level\",\"avg_glucose_level\",\"avg_glucose_level\",\"avg_glucose_level\",\"avg_glucose_level\",\"avg_glucose_level\",\"avg_glucose_level\",\"avg_glucose_level\",\"avg_glucose_level\",\"avg_glucose_level\",\"avg_glucose_level\",\"avg_glucose_level\",\"avg_glucose_level\",\"avg_glucose_level\",\"avg_glucose_level\",\"avg_glucose_level\",\"avg_glucose_level\",\"avg_glucose_level\",\"avg_glucose_level\",\"avg_glucose_level\",\"avg_glucose_level\",\"avg_glucose_level\",\"avg_glucose_level\",\"avg_glucose_level\",\"avg_glucose_level\",\"avg_glucose_level\",\"avg_glucose_level\",\"avg_glucose_level\",\"avg_glucose_level\",\"avg_glucose_level\",\"avg_glucose_level\",\"avg_glucose_level\",\"avg_glucose_level\",\"avg_glucose_level\",\"avg_glucose_level\",\"avg_glucose_level\",\"avg_glucose_level\",\"avg_glucose_level\",\"avg_glucose_level\",\"avg_glucose_level\",\"avg_glucose_level\",\"avg_glucose_level\",\"avg_glucose_level\",\"avg_glucose_level\",\"avg_glucose_level\",\"avg_glucose_level\",\"avg_glucose_level\",\"avg_glucose_level\",\"avg_glucose_level\",\"avg_glucose_level\",\"avg_glucose_level\",\"avg_glucose_level\",\"avg_glucose_level\",\"avg_glucose_level\",\"avg_glucose_level\",\"avg_glucose_level\",\"avg_glucose_level\",\"avg_glucose_level\",\"avg_glucose_level\",\"avg_glucose_level\",\"avg_glucose_level\",\"avg_glucose_level\",\"avg_glucose_level\",\"avg_glucose_level\",\"avg_glucose_level\",\"avg_glucose_level\",\"avg_glucose_level\",\"avg_glucose_level\",\"avg_glucose_level\",\"avg_glucose_level\",\"avg_glucose_level\",\"avg_glucose_level\",\"avg_glucose_level\",\"avg_glucose_level\",\"avg_glucose_level\",\"avg_glucose_level\",\"avg_glucose_level\",\"avg_glucose_level\",\"avg_glucose_level\",\"avg_glucose_level\",\"avg_glucose_level\",\"avg_glucose_level\",\"avg_glucose_level\",\"avg_glucose_level\",\"avg_glucose_level\",\"avg_glucose_level\",\"avg_glucose_level\",\"avg_glucose_level\",\"avg_glucose_level\",\"avg_glucose_level\",\"avg_glucose_level\",\"avg_glucose_level\",\"avg_glucose_level\",\"avg_glucose_level\",\"avg_glucose_level\",\"avg_glucose_level\",\"avg_glucose_level\",\"avg_glucose_level\",\"avg_glucose_level\",\"avg_glucose_level\",\"avg_glucose_level\",\"avg_glucose_level\",\"avg_glucose_level\",\"avg_glucose_level\",\"avg_glucose_level\",\"avg_glucose_level\",\"avg_glucose_level\",\"avg_glucose_level\",\"avg_glucose_level\",\"avg_glucose_level\",\"avg_glucose_level\",\"avg_glucose_level\",\"avg_glucose_level\",\"avg_glucose_level\",\"avg_glucose_level\",\"avg_glucose_level\",\"avg_glucose_level\",\"avg_glucose_level\",\"avg_glucose_level\",\"avg_glucose_level\",\"avg_glucose_level\",\"avg_glucose_level\",\"avg_glucose_level\",\"avg_glucose_level\",\"avg_glucose_level\",\"avg_glucose_level\",\"avg_glucose_level\",\"avg_glucose_level\",\"avg_glucose_level\",\"avg_glucose_level\",\"avg_glucose_level\",\"avg_glucose_level\",\"avg_glucose_level\",\"avg_glucose_level\",\"avg_glucose_level\",\"avg_glucose_level\",\"avg_glucose_level\",\"avg_glucose_level\",\"avg_glucose_level\",\"avg_glucose_level\",\"avg_glucose_level\",\"avg_glucose_level\",\"avg_glucose_level\",\"avg_glucose_level\",\"avg_glucose_level\",\"avg_glucose_level\",\"avg_glucose_level\",\"avg_glucose_level\",\"avg_glucose_level\",\"avg_glucose_level\",\"avg_glucose_level\",\"avg_glucose_level\",\"avg_glucose_level\",\"avg_glucose_level\",\"avg_glucose_level\",\"avg_glucose_level\",\"avg_glucose_level\",\"avg_glucose_level\",\"avg_glucose_level\",\"avg_glucose_level\",\"avg_glucose_level\",\"avg_glucose_level\",\"avg_glucose_level\",\"avg_glucose_level\",\"avg_glucose_level\",\"avg_glucose_level\",\"avg_glucose_level\",\"avg_glucose_level\",\"avg_glucose_level\",\"avg_glucose_level\",\"avg_glucose_level\",\"avg_glucose_level\",\"avg_glucose_level\",\"avg_glucose_level\",\"avg_glucose_level\",\"avg_glucose_level\",\"avg_glucose_level\",\"avg_glucose_level\",\"avg_glucose_level\",\"avg_glucose_level\",\"avg_glucose_level\",\"avg_glucose_level\",\"avg_glucose_level\",\"avg_glucose_level\",\"avg_glucose_level\",\"avg_glucose_level\",\"avg_glucose_level\",\"avg_glucose_level\",\"avg_glucose_level\",\"avg_glucose_level\",\"avg_glucose_level\",\"avg_glucose_level\",\"avg_glucose_level\",\"avg_glucose_level\",\"avg_glucose_level\",\"avg_glucose_level\",\"avg_glucose_level\",\"avg_glucose_level\",\"avg_glucose_level\",\"avg_glucose_level\",\"avg_glucose_level\",\"avg_glucose_level\",\"avg_glucose_level\",\"avg_glucose_level\",\"avg_glucose_level\",\"avg_glucose_level\",\"avg_glucose_level\",\"avg_glucose_level\",\"avg_glucose_level\",\"avg_glucose_level\",\"avg_glucose_level\",\"avg_glucose_level\",\"avg_glucose_level\",\"avg_glucose_level\",\"avg_glucose_level\",\"avg_glucose_level\",\"avg_glucose_level\",\"avg_glucose_level\",\"avg_glucose_level\",\"avg_glucose_level\",\"avg_glucose_level\",\"avg_glucose_level\",\"avg_glucose_level\",\"avg_glucose_level\",\"avg_glucose_level\",\"avg_glucose_level\",\"avg_glucose_level\",\"avg_glucose_level\",\"avg_glucose_level\",\"avg_glucose_level\",\"avg_glucose_level\",\"avg_glucose_level\",\"avg_glucose_level\",\"avg_glucose_level\",\"avg_glucose_level\",\"avg_glucose_level\",\"avg_glucose_level\",\"avg_glucose_level\",\"avg_glucose_level\",\"avg_glucose_level\",\"avg_glucose_level\",\"avg_glucose_level\",\"avg_glucose_level\",\"avg_glucose_level\",\"avg_glucose_level\",\"avg_glucose_level\",\"avg_glucose_level\",\"avg_glucose_level\",\"avg_glucose_level\",\"avg_glucose_level\",\"avg_glucose_level\",\"avg_glucose_level\",\"avg_glucose_level\",\"avg_glucose_level\",\"avg_glucose_level\",\"avg_glucose_level\",\"avg_glucose_level\",\"avg_glucose_level\",\"avg_glucose_level\",\"avg_glucose_level\",\"avg_glucose_level\",\"avg_glucose_level\",\"avg_glucose_level\",\"avg_glucose_level\",\"avg_glucose_level\",\"avg_glucose_level\",\"avg_glucose_level\",\"avg_glucose_level\",\"avg_glucose_level\",\"avg_glucose_level\",\"avg_glucose_level\",\"avg_glucose_level\",\"avg_glucose_level\",\"avg_glucose_level\",\"avg_glucose_level\",\"avg_glucose_level\",\"avg_glucose_level\",\"avg_glucose_level\",\"avg_glucose_level\",\"avg_glucose_level\",\"avg_glucose_level\",\"avg_glucose_level\",\"avg_glucose_level\",\"avg_glucose_level\",\"avg_glucose_level\",\"avg_glucose_level\",\"avg_glucose_level\",\"avg_glucose_level\",\"avg_glucose_level\",\"avg_glucose_level\",\"avg_glucose_level\",\"avg_glucose_level\",\"avg_glucose_level\",\"avg_glucose_level\",\"avg_glucose_level\",\"avg_glucose_level\",\"avg_glucose_level\",\"avg_glucose_level\",\"avg_glucose_level\",\"avg_glucose_level\",\"avg_glucose_level\",\"avg_glucose_level\",\"avg_glucose_level\",\"avg_glucose_level\",\"avg_glucose_level\",\"avg_glucose_level\",\"avg_glucose_level\",\"avg_glucose_level\",\"avg_glucose_level\",\"avg_glucose_level\",\"avg_glucose_level\",\"avg_glucose_level\",\"avg_glucose_level\",\"avg_glucose_level\",\"avg_glucose_level\",\"avg_glucose_level\",\"avg_glucose_level\",\"avg_glucose_level\",\"avg_glucose_level\",\"avg_glucose_level\",\"avg_glucose_level\",\"avg_glucose_level\",\"avg_glucose_level\",\"avg_glucose_level\",\"avg_glucose_level\",\"avg_glucose_level\",\"avg_glucose_level\",\"avg_glucose_level\",\"avg_glucose_level\",\"avg_glucose_level\",\"avg_glucose_level\",\"avg_glucose_level\",\"avg_glucose_level\",\"avg_glucose_level\",\"avg_glucose_level\",\"avg_glucose_level\",\"avg_glucose_level\",\"avg_glucose_level\",\"avg_glucose_level\",\"avg_glucose_level\",\"avg_glucose_level\",\"avg_glucose_level\",\"avg_glucose_level\",\"avg_glucose_level\",\"avg_glucose_level\",\"avg_glucose_level\",\"avg_glucose_level\",\"avg_glucose_level\",\"avg_glucose_level\",\"avg_glucose_level\",\"avg_glucose_level\",\"avg_glucose_level\",\"avg_glucose_level\",\"avg_glucose_level\",\"avg_glucose_level\",\"avg_glucose_level\",\"avg_glucose_level\",\"avg_glucose_level\",\"avg_glucose_level\",\"avg_glucose_level\",\"avg_glucose_level\",\"avg_glucose_level\",\"avg_glucose_level\",\"avg_glucose_level\",\"avg_glucose_level\",\"avg_glucose_level\",\"avg_glucose_level\",\"avg_glucose_level\",\"avg_glucose_level\",\"avg_glucose_level\",\"avg_glucose_level\",\"avg_glucose_level\",\"avg_glucose_level\",\"avg_glucose_level\",\"avg_glucose_level\",\"avg_glucose_level\",\"avg_glucose_level\",\"avg_glucose_level\",\"avg_glucose_level\",\"avg_glucose_level\",\"avg_glucose_level\",\"avg_glucose_level\",\"avg_glucose_level\",\"avg_glucose_level\",\"avg_glucose_level\",\"avg_glucose_level\",\"avg_glucose_level\",\"avg_glucose_level\",\"avg_glucose_level\",\"avg_glucose_level\",\"avg_glucose_level\",\"avg_glucose_level\",\"avg_glucose_level\",\"avg_glucose_level\",\"avg_glucose_level\",\"avg_glucose_level\",\"avg_glucose_level\",\"avg_glucose_level\",\"avg_glucose_level\",\"avg_glucose_level\",\"avg_glucose_level\",\"avg_glucose_level\",\"avg_glucose_level\",\"avg_glucose_level\",\"avg_glucose_level\",\"avg_glucose_level\",\"avg_glucose_level\",\"avg_glucose_level\",\"avg_glucose_level\",\"avg_glucose_level\",\"avg_glucose_level\",\"avg_glucose_level\",\"avg_glucose_level\",\"avg_glucose_level\",\"avg_glucose_level\",\"avg_glucose_level\",\"avg_glucose_level\",\"avg_glucose_level\",\"avg_glucose_level\",\"avg_glucose_level\",\"avg_glucose_level\",\"avg_glucose_level\",\"avg_glucose_level\",\"avg_glucose_level\",\"avg_glucose_level\",\"avg_glucose_level\",\"avg_glucose_level\",\"avg_glucose_level\",\"avg_glucose_level\",\"avg_glucose_level\",\"avg_glucose_level\",\"avg_glucose_level\",\"avg_glucose_level\",\"avg_glucose_level\",\"avg_glucose_level\",\"avg_glucose_level\",\"avg_glucose_level\",\"avg_glucose_level\",\"avg_glucose_level\",\"avg_glucose_level\",\"avg_glucose_level\",\"avg_glucose_level\",\"avg_glucose_level\",\"avg_glucose_level\",\"avg_glucose_level\",\"avg_glucose_level\",\"avg_glucose_level\",\"avg_glucose_level\",\"avg_glucose_level\",\"avg_glucose_level\",\"avg_glucose_level\",\"avg_glucose_level\",\"avg_glucose_level\",\"avg_glucose_level\",\"avg_glucose_level\",\"avg_glucose_level\",\"avg_glucose_level\",\"avg_glucose_level\",\"avg_glucose_level\",\"avg_glucose_level\",\"avg_glucose_level\",\"avg_glucose_level\",\"avg_glucose_level\",\"avg_glucose_level\",\"avg_glucose_level\",\"avg_glucose_level\",\"avg_glucose_level\",\"avg_glucose_level\",\"avg_glucose_level\",\"avg_glucose_level\",\"avg_glucose_level\",\"avg_glucose_level\",\"avg_glucose_level\",\"avg_glucose_level\",\"avg_glucose_level\",\"avg_glucose_level\",\"avg_glucose_level\",\"avg_glucose_level\",\"avg_glucose_level\",\"avg_glucose_level\",\"avg_glucose_level\",\"avg_glucose_level\",\"avg_glucose_level\",\"avg_glucose_level\",\"avg_glucose_level\",\"avg_glucose_level\",\"avg_glucose_level\",\"avg_glucose_level\",\"avg_glucose_level\",\"avg_glucose_level\",\"avg_glucose_level\",\"avg_glucose_level\",\"avg_glucose_level\",\"avg_glucose_level\",\"avg_glucose_level\",\"avg_glucose_level\",\"avg_glucose_level\",\"avg_glucose_level\",\"avg_glucose_level\",\"avg_glucose_level\",\"avg_glucose_level\",\"avg_glucose_level\",\"avg_glucose_level\",\"avg_glucose_level\",\"avg_glucose_level\",\"avg_glucose_level\",\"avg_glucose_level\",\"avg_glucose_level\",\"avg_glucose_level\",\"avg_glucose_level\",\"avg_glucose_level\",\"avg_glucose_level\",\"avg_glucose_level\",\"avg_glucose_level\",\"avg_glucose_level\",\"avg_glucose_level\",\"avg_glucose_level\",\"avg_glucose_level\",\"avg_glucose_level\",\"avg_glucose_level\",\"avg_glucose_level\",\"avg_glucose_level\",\"avg_glucose_level\",\"avg_glucose_level\",\"avg_glucose_level\",\"avg_glucose_level\",\"avg_glucose_level\",\"avg_glucose_level\",\"avg_glucose_level\",\"avg_glucose_level\",\"avg_glucose_level\",\"avg_glucose_level\",\"avg_glucose_level\",\"avg_glucose_level\",\"avg_glucose_level\",\"avg_glucose_level\",\"avg_glucose_level\",\"avg_glucose_level\",\"avg_glucose_level\",\"avg_glucose_level\",\"avg_glucose_level\",\"avg_glucose_level\",\"avg_glucose_level\",\"avg_glucose_level\",\"avg_glucose_level\",\"avg_glucose_level\",\"avg_glucose_level\",\"avg_glucose_level\",\"avg_glucose_level\",\"avg_glucose_level\",\"avg_glucose_level\",\"avg_glucose_level\",\"avg_glucose_level\",\"avg_glucose_level\",\"avg_glucose_level\",\"avg_glucose_level\",\"avg_glucose_level\",\"avg_glucose_level\",\"avg_glucose_level\",\"avg_glucose_level\",\"avg_glucose_level\",\"avg_glucose_level\",\"avg_glucose_level\",\"avg_glucose_level\",\"avg_glucose_level\",\"avg_glucose_level\",\"avg_glucose_level\",\"avg_glucose_level\",\"avg_glucose_level\",\"avg_glucose_level\",\"avg_glucose_level\",\"avg_glucose_level\",\"avg_glucose_level\",\"avg_glucose_level\",\"avg_glucose_level\",\"avg_glucose_level\",\"avg_glucose_level\",\"avg_glucose_level\",\"avg_glucose_level\",\"avg_glucose_level\",\"avg_glucose_level\",\"avg_glucose_level\",\"avg_glucose_level\",\"avg_glucose_level\",\"avg_glucose_level\",\"avg_glucose_level\",\"avg_glucose_level\",\"avg_glucose_level\",\"avg_glucose_level\",\"avg_glucose_level\",\"avg_glucose_level\",\"avg_glucose_level\",\"avg_glucose_level\",\"avg_glucose_level\",\"avg_glucose_level\",\"avg_glucose_level\",\"avg_glucose_level\",\"avg_glucose_level\",\"avg_glucose_level\",\"avg_glucose_level\",\"avg_glucose_level\",\"avg_glucose_level\",\"avg_glucose_level\",\"avg_glucose_level\",\"avg_glucose_level\",\"avg_glucose_level\",\"avg_glucose_level\",\"avg_glucose_level\",\"avg_glucose_level\",\"avg_glucose_level\",\"avg_glucose_level\",\"avg_glucose_level\",\"avg_glucose_level\",\"avg_glucose_level\",\"avg_glucose_level\",\"avg_glucose_level\",\"avg_glucose_level\",\"avg_glucose_level\",\"avg_glucose_level\",\"avg_glucose_level\",\"avg_glucose_level\",\"avg_glucose_level\",\"avg_glucose_level\",\"avg_glucose_level\",\"avg_glucose_level\",\"avg_glucose_level\",\"avg_glucose_level\",\"avg_glucose_level\",\"avg_glucose_level\",\"avg_glucose_level\",\"avg_glucose_level\",\"avg_glucose_level\",\"avg_glucose_level\",\"avg_glucose_level\",\"avg_glucose_level\",\"avg_glucose_level\",\"avg_glucose_level\",\"avg_glucose_level\",\"avg_glucose_level\",\"avg_glucose_level\",\"avg_glucose_level\",\"avg_glucose_level\",\"avg_glucose_level\",\"avg_glucose_level\",\"avg_glucose_level\",\"avg_glucose_level\",\"avg_glucose_level\",\"avg_glucose_level\",\"avg_glucose_level\",\"avg_glucose_level\",\"avg_glucose_level\",\"avg_glucose_level\",\"avg_glucose_level\",\"avg_glucose_level\",\"avg_glucose_level\",\"avg_glucose_level\",\"avg_glucose_level\",\"avg_glucose_level\",\"avg_glucose_level\",\"avg_glucose_level\",\"avg_glucose_level\",\"avg_glucose_level\",\"avg_glucose_level\",\"avg_glucose_level\",\"avg_glucose_level\",\"avg_glucose_level\",\"avg_glucose_level\",\"avg_glucose_level\",\"avg_glucose_level\",\"avg_glucose_level\",\"avg_glucose_level\",\"avg_glucose_level\",\"avg_glucose_level\",\"avg_glucose_level\",\"avg_glucose_level\",\"avg_glucose_level\",\"avg_glucose_level\",\"avg_glucose_level\",\"avg_glucose_level\",\"avg_glucose_level\",\"avg_glucose_level\",\"avg_glucose_level\",\"avg_glucose_level\",\"avg_glucose_level\",\"avg_glucose_level\",\"avg_glucose_level\",\"avg_glucose_level\",\"avg_glucose_level\",\"avg_glucose_level\",\"avg_glucose_level\",\"avg_glucose_level\",\"avg_glucose_level\",\"avg_glucose_level\",\"avg_glucose_level\",\"avg_glucose_level\",\"avg_glucose_level\",\"avg_glucose_level\",\"avg_glucose_level\",\"avg_glucose_level\",\"avg_glucose_level\",\"avg_glucose_level\",\"avg_glucose_level\",\"avg_glucose_level\",\"avg_glucose_level\",\"avg_glucose_level\",\"avg_glucose_level\",\"avg_glucose_level\",\"avg_glucose_level\",\"avg_glucose_level\",\"avg_glucose_level\",\"avg_glucose_level\",\"avg_glucose_level\",\"avg_glucose_level\",\"avg_glucose_level\",\"avg_glucose_level\",\"avg_glucose_level\",\"avg_glucose_level\",\"avg_glucose_level\",\"avg_glucose_level\",\"avg_glucose_level\",\"avg_glucose_level\",\"avg_glucose_level\",\"avg_glucose_level\",\"avg_glucose_level\",\"avg_glucose_level\",\"avg_glucose_level\",\"avg_glucose_level\",\"avg_glucose_level\",\"avg_glucose_level\",\"avg_glucose_level\",\"avg_glucose_level\",\"avg_glucose_level\",\"avg_glucose_level\",\"avg_glucose_level\",\"avg_glucose_level\",\"avg_glucose_level\",\"avg_glucose_level\",\"avg_glucose_level\",\"avg_glucose_level\",\"avg_glucose_level\",\"avg_glucose_level\",\"avg_glucose_level\",\"avg_glucose_level\",\"avg_glucose_level\",\"avg_glucose_level\",\"avg_glucose_level\",\"avg_glucose_level\",\"avg_glucose_level\",\"avg_glucose_level\",\"avg_glucose_level\",\"avg_glucose_level\",\"avg_glucose_level\",\"avg_glucose_level\",\"avg_glucose_level\",\"avg_glucose_level\",\"avg_glucose_level\",\"avg_glucose_level\",\"avg_glucose_level\",\"avg_glucose_level\",\"avg_glucose_level\",\"avg_glucose_level\",\"avg_glucose_level\",\"avg_glucose_level\",\"avg_glucose_level\",\"avg_glucose_level\",\"avg_glucose_level\",\"avg_glucose_level\",\"avg_glucose_level\",\"avg_glucose_level\",\"avg_glucose_level\",\"avg_glucose_level\",\"avg_glucose_level\",\"avg_glucose_level\",\"avg_glucose_level\",\"avg_glucose_level\",\"avg_glucose_level\",\"avg_glucose_level\",\"avg_glucose_level\",\"avg_glucose_level\",\"avg_glucose_level\",\"avg_glucose_level\",\"avg_glucose_level\",\"avg_glucose_level\",\"avg_glucose_level\",\"avg_glucose_level\",\"avg_glucose_level\",\"avg_glucose_level\",\"avg_glucose_level\",\"avg_glucose_level\",\"avg_glucose_level\",\"avg_glucose_level\",\"avg_glucose_level\",\"avg_glucose_level\",\"avg_glucose_level\",\"avg_glucose_level\",\"avg_glucose_level\",\"avg_glucose_level\",\"avg_glucose_level\",\"avg_glucose_level\",\"avg_glucose_level\",\"avg_glucose_level\",\"avg_glucose_level\",\"avg_glucose_level\",\"avg_glucose_level\",\"avg_glucose_level\",\"avg_glucose_level\",\"avg_glucose_level\",\"avg_glucose_level\",\"avg_glucose_level\",\"avg_glucose_level\",\"avg_glucose_level\",\"avg_glucose_level\",\"avg_glucose_level\",\"avg_glucose_level\",\"avg_glucose_level\",\"avg_glucose_level\",\"avg_glucose_level\",\"avg_glucose_level\",\"avg_glucose_level\",\"avg_glucose_level\",\"avg_glucose_level\",\"avg_glucose_level\",\"avg_glucose_level\",\"avg_glucose_level\",\"avg_glucose_level\",\"avg_glucose_level\",\"avg_glucose_level\",\"avg_glucose_level\",\"avg_glucose_level\",\"avg_glucose_level\",\"avg_glucose_level\",\"avg_glucose_level\",\"avg_glucose_level\",\"avg_glucose_level\",\"avg_glucose_level\",\"avg_glucose_level\",\"avg_glucose_level\",\"avg_glucose_level\",\"avg_glucose_level\",\"avg_glucose_level\",\"avg_glucose_level\",\"avg_glucose_level\",\"avg_glucose_level\",\"avg_glucose_level\",\"avg_glucose_level\",\"avg_glucose_level\",\"avg_glucose_level\",\"avg_glucose_level\",\"avg_glucose_level\",\"avg_glucose_level\",\"avg_glucose_level\",\"avg_glucose_level\",\"avg_glucose_level\",\"avg_glucose_level\",\"avg_glucose_level\",\"avg_glucose_level\",\"avg_glucose_level\",\"avg_glucose_level\",\"avg_glucose_level\",\"avg_glucose_level\",\"avg_glucose_level\",\"avg_glucose_level\",\"avg_glucose_level\",\"avg_glucose_level\",\"avg_glucose_level\",\"avg_glucose_level\",\"avg_glucose_level\",\"avg_glucose_level\",\"avg_glucose_level\",\"avg_glucose_level\",\"avg_glucose_level\",\"avg_glucose_level\",\"avg_glucose_level\",\"avg_glucose_level\",\"avg_glucose_level\",\"avg_glucose_level\",\"avg_glucose_level\",\"avg_glucose_level\",\"avg_glucose_level\",\"avg_glucose_level\",\"avg_glucose_level\",\"avg_glucose_level\",\"avg_glucose_level\",\"avg_glucose_level\",\"avg_glucose_level\",\"avg_glucose_level\",\"avg_glucose_level\",\"avg_glucose_level\",\"avg_glucose_level\",\"avg_glucose_level\",\"avg_glucose_level\",\"avg_glucose_level\",\"avg_glucose_level\",\"avg_glucose_level\",\"avg_glucose_level\",\"avg_glucose_level\",\"avg_glucose_level\",\"avg_glucose_level\",\"avg_glucose_level\",\"avg_glucose_level\",\"avg_glucose_level\",\"avg_glucose_level\",\"avg_glucose_level\",\"avg_glucose_level\",\"avg_glucose_level\",\"avg_glucose_level\",\"avg_glucose_level\",\"avg_glucose_level\",\"avg_glucose_level\",\"avg_glucose_level\",\"avg_glucose_level\",\"avg_glucose_level\",\"avg_glucose_level\",\"avg_glucose_level\",\"avg_glucose_level\",\"avg_glucose_level\",\"avg_glucose_level\",\"avg_glucose_level\",\"avg_glucose_level\",\"avg_glucose_level\",\"avg_glucose_level\",\"avg_glucose_level\",\"avg_glucose_level\",\"avg_glucose_level\",\"avg_glucose_level\",\"avg_glucose_level\",\"avg_glucose_level\",\"avg_glucose_level\",\"avg_glucose_level\",\"avg_glucose_level\",\"avg_glucose_level\",\"avg_glucose_level\",\"avg_glucose_level\",\"avg_glucose_level\",\"avg_glucose_level\",\"avg_glucose_level\",\"avg_glucose_level\",\"avg_glucose_level\",\"avg_glucose_level\",\"avg_glucose_level\",\"avg_glucose_level\",\"avg_glucose_level\",\"avg_glucose_level\",\"avg_glucose_level\",\"avg_glucose_level\",\"avg_glucose_level\",\"avg_glucose_level\",\"avg_glucose_level\",\"avg_glucose_level\",\"avg_glucose_level\",\"avg_glucose_level\",\"avg_glucose_level\",\"avg_glucose_level\",\"avg_glucose_level\",\"avg_glucose_level\",\"avg_glucose_level\",\"avg_glucose_level\",\"avg_glucose_level\",\"avg_glucose_level\",\"avg_glucose_level\",\"avg_glucose_level\",\"avg_glucose_level\",\"avg_glucose_level\",\"avg_glucose_level\",\"avg_glucose_level\",\"avg_glucose_level\",\"avg_glucose_level\",\"avg_glucose_level\",\"avg_glucose_level\",\"avg_glucose_level\",\"avg_glucose_level\",\"avg_glucose_level\",\"avg_glucose_level\",\"avg_glucose_level\",\"avg_glucose_level\",\"avg_glucose_level\",\"avg_glucose_level\",\"avg_glucose_level\",\"avg_glucose_level\",\"avg_glucose_level\",\"avg_glucose_level\",\"avg_glucose_level\",\"avg_glucose_level\",\"avg_glucose_level\",\"avg_glucose_level\",\"avg_glucose_level\",\"avg_glucose_level\",\"avg_glucose_level\",\"avg_glucose_level\",\"avg_glucose_level\",\"avg_glucose_level\",\"avg_glucose_level\",\"avg_glucose_level\",\"avg_glucose_level\",\"avg_glucose_level\",\"avg_glucose_level\",\"avg_glucose_level\",\"avg_glucose_level\",\"avg_glucose_level\",\"avg_glucose_level\",\"avg_glucose_level\",\"avg_glucose_level\",\"avg_glucose_level\",\"avg_glucose_level\",\"avg_glucose_level\",\"avg_glucose_level\",\"avg_glucose_level\",\"avg_glucose_level\",\"avg_glucose_level\",\"avg_glucose_level\",\"avg_glucose_level\",\"avg_glucose_level\",\"avg_glucose_level\",\"avg_glucose_level\",\"avg_glucose_level\",\"avg_glucose_level\",\"avg_glucose_level\",\"avg_glucose_level\",\"avg_glucose_level\",\"avg_glucose_level\",\"avg_glucose_level\",\"avg_glucose_level\",\"avg_glucose_level\",\"avg_glucose_level\",\"avg_glucose_level\",\"avg_glucose_level\",\"avg_glucose_level\",\"avg_glucose_level\",\"avg_glucose_level\",\"avg_glucose_level\",\"avg_glucose_level\",\"avg_glucose_level\",\"avg_glucose_level\",\"avg_glucose_level\",\"avg_glucose_level\",\"avg_glucose_level\",\"avg_glucose_level\",\"avg_glucose_level\",\"avg_glucose_level\",\"avg_glucose_level\",\"avg_glucose_level\",\"avg_glucose_level\",\"avg_glucose_level\",\"avg_glucose_level\",\"avg_glucose_level\",\"avg_glucose_level\",\"avg_glucose_level\",\"avg_glucose_level\",\"avg_glucose_level\",\"avg_glucose_level\",\"avg_glucose_level\",\"avg_glucose_level\",\"avg_glucose_level\",\"avg_glucose_level\",\"avg_glucose_level\",\"avg_glucose_level\",\"avg_glucose_level\",\"avg_glucose_level\",\"avg_glucose_level\",\"avg_glucose_level\",\"avg_glucose_level\",\"avg_glucose_level\",\"avg_glucose_level\",\"avg_glucose_level\",\"avg_glucose_level\",\"avg_glucose_level\",\"avg_glucose_level\",\"avg_glucose_level\",\"avg_glucose_level\",\"avg_glucose_level\",\"avg_glucose_level\",\"avg_glucose_level\",\"avg_glucose_level\",\"avg_glucose_level\",\"avg_glucose_level\",\"avg_glucose_level\",\"avg_glucose_level\",\"avg_glucose_level\",\"avg_glucose_level\",\"avg_glucose_level\",\"avg_glucose_level\",\"avg_glucose_level\",\"avg_glucose_level\",\"avg_glucose_level\",\"avg_glucose_level\",\"avg_glucose_level\",\"avg_glucose_level\",\"avg_glucose_level\",\"avg_glucose_level\",\"avg_glucose_level\",\"avg_glucose_level\",\"avg_glucose_level\",\"avg_glucose_level\",\"avg_glucose_level\",\"avg_glucose_level\",\"avg_glucose_level\",\"avg_glucose_level\",\"avg_glucose_level\",\"avg_glucose_level\",\"avg_glucose_level\",\"avg_glucose_level\",\"avg_glucose_level\",\"avg_glucose_level\",\"avg_glucose_level\",\"avg_glucose_level\",\"avg_glucose_level\",\"avg_glucose_level\",\"avg_glucose_level\",\"avg_glucose_level\",\"avg_glucose_level\",\"avg_glucose_level\",\"avg_glucose_level\",\"avg_glucose_level\",\"avg_glucose_level\",\"avg_glucose_level\",\"avg_glucose_level\",\"avg_glucose_level\",\"avg_glucose_level\",\"avg_glucose_level\",\"avg_glucose_level\",\"avg_glucose_level\",\"avg_glucose_level\",\"avg_glucose_level\",\"avg_glucose_level\",\"avg_glucose_level\",\"avg_glucose_level\",\"avg_glucose_level\",\"avg_glucose_level\",\"avg_glucose_level\",\"avg_glucose_level\",\"avg_glucose_level\",\"avg_glucose_level\",\"avg_glucose_level\",\"avg_glucose_level\",\"avg_glucose_level\",\"avg_glucose_level\",\"avg_glucose_level\",\"avg_glucose_level\",\"avg_glucose_level\",\"avg_glucose_level\",\"avg_glucose_level\",\"avg_glucose_level\",\"avg_glucose_level\",\"avg_glucose_level\",\"avg_glucose_level\",\"avg_glucose_level\",\"avg_glucose_level\",\"avg_glucose_level\",\"avg_glucose_level\",\"avg_glucose_level\",\"avg_glucose_level\",\"avg_glucose_level\",\"avg_glucose_level\",\"avg_glucose_level\",\"avg_glucose_level\",\"avg_glucose_level\",\"avg_glucose_level\",\"avg_glucose_level\",\"avg_glucose_level\",\"avg_glucose_level\",\"avg_glucose_level\",\"avg_glucose_level\",\"avg_glucose_level\",\"avg_glucose_level\",\"avg_glucose_level\",\"avg_glucose_level\",\"avg_glucose_level\",\"avg_glucose_level\",\"avg_glucose_level\",\"avg_glucose_level\",\"avg_glucose_level\",\"avg_glucose_level\",\"avg_glucose_level\",\"avg_glucose_level\",\"avg_glucose_level\",\"avg_glucose_level\",\"avg_glucose_level\",\"avg_glucose_level\",\"avg_glucose_level\",\"avg_glucose_level\",\"avg_glucose_level\",\"avg_glucose_level\",\"avg_glucose_level\",\"avg_glucose_level\",\"avg_glucose_level\",\"avg_glucose_level\",\"avg_glucose_level\",\"avg_glucose_level\",\"avg_glucose_level\",\"avg_glucose_level\",\"avg_glucose_level\",\"avg_glucose_level\",\"avg_glucose_level\",\"avg_glucose_level\",\"avg_glucose_level\",\"avg_glucose_level\",\"avg_glucose_level\",\"avg_glucose_level\",\"avg_glucose_level\",\"avg_glucose_level\",\"avg_glucose_level\",\"avg_glucose_level\",\"avg_glucose_level\",\"avg_glucose_level\",\"avg_glucose_level\",\"avg_glucose_level\",\"avg_glucose_level\",\"avg_glucose_level\",\"avg_glucose_level\",\"avg_glucose_level\",\"avg_glucose_level\",\"avg_glucose_level\",\"avg_glucose_level\",\"avg_glucose_level\",\"avg_glucose_level\",\"avg_glucose_level\",\"avg_glucose_level\",\"avg_glucose_level\",\"avg_glucose_level\",\"avg_glucose_level\",\"avg_glucose_level\",\"avg_glucose_level\",\"avg_glucose_level\",\"avg_glucose_level\",\"avg_glucose_level\",\"avg_glucose_level\",\"avg_glucose_level\",\"avg_glucose_level\",\"avg_glucose_level\",\"avg_glucose_level\",\"avg_glucose_level\",\"avg_glucose_level\",\"avg_glucose_level\",\"avg_glucose_level\",\"avg_glucose_level\",\"avg_glucose_level\",\"avg_glucose_level\",\"avg_glucose_level\",\"avg_glucose_level\",\"avg_glucose_level\",\"avg_glucose_level\",\"avg_glucose_level\",\"avg_glucose_level\",\"avg_glucose_level\",\"avg_glucose_level\",\"avg_glucose_level\",\"avg_glucose_level\",\"avg_glucose_level\",\"avg_glucose_level\",\"avg_glucose_level\",\"avg_glucose_level\",\"avg_glucose_level\",\"avg_glucose_level\",\"avg_glucose_level\",\"avg_glucose_level\",\"avg_glucose_level\",\"avg_glucose_level\",\"avg_glucose_level\",\"avg_glucose_level\",\"avg_glucose_level\",\"avg_glucose_level\",\"avg_glucose_level\",\"avg_glucose_level\",\"avg_glucose_level\",\"avg_glucose_level\",\"avg_glucose_level\",\"avg_glucose_level\",\"avg_glucose_level\",\"avg_glucose_level\",\"avg_glucose_level\",\"avg_glucose_level\",\"avg_glucose_level\",\"avg_glucose_level\",\"avg_glucose_level\",\"avg_glucose_level\",\"avg_glucose_level\",\"avg_glucose_level\",\"avg_glucose_level\",\"avg_glucose_level\",\"avg_glucose_level\",\"avg_glucose_level\",\"avg_glucose_level\",\"avg_glucose_level\",\"avg_glucose_level\",\"avg_glucose_level\",\"avg_glucose_level\",\"avg_glucose_level\",\"avg_glucose_level\",\"avg_glucose_level\",\"avg_glucose_level\",\"avg_glucose_level\",\"avg_glucose_level\",\"avg_glucose_level\",\"avg_glucose_level\",\"avg_glucose_level\",\"avg_glucose_level\",\"avg_glucose_level\",\"avg_glucose_level\",\"avg_glucose_level\",\"avg_glucose_level\",\"avg_glucose_level\",\"avg_glucose_level\",\"avg_glucose_level\",\"avg_glucose_level\",\"avg_glucose_level\",\"avg_glucose_level\",\"avg_glucose_level\",\"avg_glucose_level\",\"avg_glucose_level\",\"avg_glucose_level\",\"avg_glucose_level\",\"avg_glucose_level\",\"avg_glucose_level\",\"avg_glucose_level\",\"avg_glucose_level\",\"avg_glucose_level\",\"avg_glucose_level\",\"avg_glucose_level\",\"avg_glucose_level\",\"avg_glucose_level\",\"avg_glucose_level\",\"avg_glucose_level\",\"avg_glucose_level\",\"avg_glucose_level\",\"avg_glucose_level\",\"avg_glucose_level\",\"avg_glucose_level\",\"avg_glucose_level\",\"avg_glucose_level\",\"avg_glucose_level\",\"avg_glucose_level\",\"avg_glucose_level\",\"avg_glucose_level\",\"avg_glucose_level\",\"avg_glucose_level\",\"avg_glucose_level\",\"avg_glucose_level\",\"avg_glucose_level\",\"avg_glucose_level\",\"avg_glucose_level\",\"avg_glucose_level\",\"avg_glucose_level\",\"avg_glucose_level\",\"avg_glucose_level\",\"avg_glucose_level\",\"avg_glucose_level\",\"avg_glucose_level\",\"avg_glucose_level\",\"avg_glucose_level\",\"avg_glucose_level\",\"avg_glucose_level\",\"avg_glucose_level\",\"avg_glucose_level\",\"avg_glucose_level\",\"avg_glucose_level\",\"avg_glucose_level\",\"avg_glucose_level\",\"avg_glucose_level\",\"avg_glucose_level\",\"avg_glucose_level\",\"avg_glucose_level\",\"avg_glucose_level\",\"avg_glucose_level\",\"avg_glucose_level\",\"avg_glucose_level\",\"avg_glucose_level\",\"avg_glucose_level\",\"avg_glucose_level\",\"avg_glucose_level\",\"avg_glucose_level\",\"avg_glucose_level\",\"avg_glucose_level\",\"avg_glucose_level\",\"avg_glucose_level\",\"avg_glucose_level\",\"avg_glucose_level\",\"avg_glucose_level\",\"avg_glucose_level\",\"avg_glucose_level\",\"avg_glucose_level\",\"avg_glucose_level\",\"avg_glucose_level\",\"avg_glucose_level\",\"avg_glucose_level\",\"avg_glucose_level\",\"avg_glucose_level\",\"avg_glucose_level\",\"avg_glucose_level\",\"avg_glucose_level\",\"avg_glucose_level\",\"avg_glucose_level\",\"avg_glucose_level\",\"avg_glucose_level\",\"avg_glucose_level\",\"avg_glucose_level\",\"avg_glucose_level\",\"avg_glucose_level\",\"avg_glucose_level\",\"avg_glucose_level\",\"avg_glucose_level\",\"avg_glucose_level\",\"avg_glucose_level\",\"avg_glucose_level\",\"avg_glucose_level\",\"avg_glucose_level\",\"avg_glucose_level\",\"avg_glucose_level\",\"avg_glucose_level\",\"avg_glucose_level\",\"avg_glucose_level\",\"avg_glucose_level\",\"avg_glucose_level\",\"avg_glucose_level\",\"avg_glucose_level\",\"avg_glucose_level\",\"avg_glucose_level\",\"avg_glucose_level\",\"avg_glucose_level\",\"avg_glucose_level\",\"avg_glucose_level\",\"avg_glucose_level\",\"avg_glucose_level\",\"avg_glucose_level\",\"avg_glucose_level\",\"avg_glucose_level\",\"avg_glucose_level\",\"avg_glucose_level\",\"avg_glucose_level\",\"avg_glucose_level\",\"avg_glucose_level\",\"avg_glucose_level\",\"avg_glucose_level\",\"avg_glucose_level\",\"avg_glucose_level\",\"avg_glucose_level\",\"avg_glucose_level\",\"avg_glucose_level\",\"avg_glucose_level\",\"avg_glucose_level\",\"avg_glucose_level\",\"avg_glucose_level\",\"avg_glucose_level\",\"avg_glucose_level\",\"avg_glucose_level\",\"avg_glucose_level\",\"avg_glucose_level\",\"avg_glucose_level\",\"avg_glucose_level\",\"avg_glucose_level\",\"avg_glucose_level\",\"avg_glucose_level\",\"avg_glucose_level\",\"avg_glucose_level\",\"avg_glucose_level\",\"avg_glucose_level\",\"avg_glucose_level\",\"avg_glucose_level\",\"avg_glucose_level\",\"avg_glucose_level\",\"avg_glucose_level\",\"avg_glucose_level\",\"avg_glucose_level\",\"avg_glucose_level\",\"avg_glucose_level\",\"avg_glucose_level\",\"avg_glucose_level\",\"avg_glucose_level\",\"avg_glucose_level\",\"avg_glucose_level\",\"avg_glucose_level\",\"avg_glucose_level\",\"avg_glucose_level\",\"avg_glucose_level\",\"avg_glucose_level\",\"avg_glucose_level\",\"avg_glucose_level\",\"avg_glucose_level\",\"avg_glucose_level\",\"avg_glucose_level\",\"avg_glucose_level\",\"avg_glucose_level\",\"avg_glucose_level\",\"avg_glucose_level\",\"avg_glucose_level\",\"avg_glucose_level\",\"avg_glucose_level\",\"avg_glucose_level\",\"avg_glucose_level\",\"avg_glucose_level\",\"avg_glucose_level\",\"avg_glucose_level\",\"avg_glucose_level\",\"avg_glucose_level\",\"avg_glucose_level\",\"avg_glucose_level\",\"avg_glucose_level\",\"avg_glucose_level\",\"avg_glucose_level\",\"avg_glucose_level\",\"avg_glucose_level\",\"avg_glucose_level\",\"avg_glucose_level\",\"avg_glucose_level\",\"avg_glucose_level\",\"avg_glucose_level\",\"avg_glucose_level\",\"avg_glucose_level\",\"avg_glucose_level\",\"avg_glucose_level\",\"avg_glucose_level\",\"avg_glucose_level\",\"avg_glucose_level\",\"avg_glucose_level\",\"avg_glucose_level\",\"avg_glucose_level\",\"avg_glucose_level\",\"avg_glucose_level\",\"avg_glucose_level\",\"avg_glucose_level\",\"avg_glucose_level\",\"avg_glucose_level\",\"avg_glucose_level\",\"avg_glucose_level\",\"avg_glucose_level\",\"avg_glucose_level\",\"avg_glucose_level\",\"avg_glucose_level\",\"avg_glucose_level\",\"avg_glucose_level\",\"avg_glucose_level\",\"avg_glucose_level\",\"avg_glucose_level\",\"avg_glucose_level\",\"avg_glucose_level\",\"avg_glucose_level\",\"avg_glucose_level\",\"avg_glucose_level\",\"avg_glucose_level\",\"avg_glucose_level\",\"avg_glucose_level\",\"avg_glucose_level\",\"avg_glucose_level\",\"avg_glucose_level\",\"avg_glucose_level\",\"avg_glucose_level\",\"avg_glucose_level\",\"avg_glucose_level\",\"avg_glucose_level\",\"avg_glucose_level\",\"avg_glucose_level\",\"avg_glucose_level\",\"avg_glucose_level\",\"avg_glucose_level\",\"avg_glucose_level\",\"avg_glucose_level\",\"avg_glucose_level\",\"avg_glucose_level\",\"avg_glucose_level\",\"avg_glucose_level\",\"avg_glucose_level\",\"avg_glucose_level\",\"avg_glucose_level\",\"avg_glucose_level\",\"avg_glucose_level\",\"avg_glucose_level\",\"avg_glucose_level\",\"avg_glucose_level\",\"avg_glucose_level\",\"avg_glucose_level\",\"avg_glucose_level\",\"avg_glucose_level\",\"avg_glucose_level\",\"avg_glucose_level\",\"avg_glucose_level\",\"avg_glucose_level\",\"avg_glucose_level\",\"avg_glucose_level\",\"avg_glucose_level\",\"avg_glucose_level\",\"avg_glucose_level\",\"avg_glucose_level\",\"avg_glucose_level\",\"avg_glucose_level\",\"avg_glucose_level\",\"avg_glucose_level\",\"avg_glucose_level\",\"avg_glucose_level\",\"avg_glucose_level\",\"avg_glucose_level\",\"avg_glucose_level\",\"avg_glucose_level\",\"avg_glucose_level\",\"avg_glucose_level\",\"avg_glucose_level\",\"avg_glucose_level\",\"avg_glucose_level\",\"avg_glucose_level\",\"avg_glucose_level\",\"avg_glucose_level\",\"avg_glucose_level\",\"avg_glucose_level\",\"avg_glucose_level\",\"avg_glucose_level\",\"avg_glucose_level\",\"avg_glucose_level\",\"avg_glucose_level\",\"avg_glucose_level\",\"avg_glucose_level\",\"avg_glucose_level\",\"avg_glucose_level\",\"avg_glucose_level\",\"avg_glucose_level\",\"avg_glucose_level\",\"avg_glucose_level\",\"avg_glucose_level\",\"avg_glucose_level\",\"avg_glucose_level\",\"avg_glucose_level\",\"avg_glucose_level\",\"avg_glucose_level\",\"avg_glucose_level\",\"avg_glucose_level\",\"avg_glucose_level\",\"avg_glucose_level\",\"avg_glucose_level\",\"avg_glucose_level\",\"avg_glucose_level\",\"avg_glucose_level\",\"avg_glucose_level\",\"avg_glucose_level\",\"avg_glucose_level\",\"avg_glucose_level\",\"avg_glucose_level\",\"avg_glucose_level\",\"avg_glucose_level\",\"avg_glucose_level\",\"avg_glucose_level\",\"avg_glucose_level\",\"avg_glucose_level\",\"avg_glucose_level\",\"avg_glucose_level\",\"avg_glucose_level\",\"avg_glucose_level\",\"avg_glucose_level\",\"avg_glucose_level\",\"avg_glucose_level\",\"avg_glucose_level\",\"avg_glucose_level\",\"avg_glucose_level\",\"avg_glucose_level\",\"avg_glucose_level\",\"avg_glucose_level\",\"avg_glucose_level\",\"avg_glucose_level\",\"avg_glucose_level\",\"avg_glucose_level\",\"avg_glucose_level\",\"avg_glucose_level\",\"avg_glucose_level\",\"avg_glucose_level\",\"avg_glucose_level\",\"avg_glucose_level\",\"avg_glucose_level\",\"avg_glucose_level\",\"avg_glucose_level\",\"avg_glucose_level\",\"avg_glucose_level\",\"avg_glucose_level\",\"avg_glucose_level\",\"avg_glucose_level\",\"avg_glucose_level\",\"avg_glucose_level\",\"avg_glucose_level\",\"avg_glucose_level\",\"avg_glucose_level\",\"avg_glucose_level\",\"avg_glucose_level\",\"avg_glucose_level\",\"avg_glucose_level\",\"avg_glucose_level\",\"avg_glucose_level\",\"avg_glucose_level\",\"avg_glucose_level\",\"avg_glucose_level\",\"avg_glucose_level\",\"avg_glucose_level\",\"avg_glucose_level\",\"avg_glucose_level\",\"avg_glucose_level\",\"avg_glucose_level\",\"avg_glucose_level\",\"avg_glucose_level\",\"avg_glucose_level\",\"avg_glucose_level\",\"avg_glucose_level\",\"avg_glucose_level\",\"avg_glucose_level\",\"avg_glucose_level\",\"avg_glucose_level\",\"avg_glucose_level\",\"avg_glucose_level\",\"avg_glucose_level\",\"avg_glucose_level\",\"avg_glucose_level\",\"avg_glucose_level\",\"avg_glucose_level\",\"avg_glucose_level\",\"avg_glucose_level\",\"avg_glucose_level\",\"avg_glucose_level\",\"avg_glucose_level\",\"avg_glucose_level\",\"avg_glucose_level\",\"avg_glucose_level\",\"avg_glucose_level\",\"avg_glucose_level\",\"avg_glucose_level\",\"avg_glucose_level\",\"avg_glucose_level\",\"avg_glucose_level\",\"avg_glucose_level\",\"avg_glucose_level\",\"avg_glucose_level\",\"avg_glucose_level\",\"avg_glucose_level\",\"avg_glucose_level\",\"avg_glucose_level\",\"avg_glucose_level\",\"avg_glucose_level\",\"avg_glucose_level\",\"avg_glucose_level\",\"avg_glucose_level\",\"avg_glucose_level\",\"avg_glucose_level\",\"avg_glucose_level\",\"avg_glucose_level\",\"avg_glucose_level\",\"avg_glucose_level\",\"avg_glucose_level\",\"avg_glucose_level\",\"avg_glucose_level\",\"avg_glucose_level\",\"avg_glucose_level\",\"avg_glucose_level\",\"avg_glucose_level\",\"avg_glucose_level\",\"avg_glucose_level\",\"avg_glucose_level\",\"avg_glucose_level\",\"avg_glucose_level\",\"avg_glucose_level\",\"avg_glucose_level\",\"avg_glucose_level\",\"avg_glucose_level\",\"avg_glucose_level\",\"avg_glucose_level\",\"avg_glucose_level\",\"avg_glucose_level\",\"avg_glucose_level\",\"avg_glucose_level\",\"avg_glucose_level\",\"avg_glucose_level\",\"avg_glucose_level\",\"avg_glucose_level\",\"avg_glucose_level\",\"avg_glucose_level\",\"avg_glucose_level\",\"avg_glucose_level\",\"avg_glucose_level\",\"avg_glucose_level\",\"avg_glucose_level\",\"avg_glucose_level\",\"avg_glucose_level\",\"avg_glucose_level\",\"avg_glucose_level\",\"avg_glucose_level\",\"avg_glucose_level\",\"avg_glucose_level\",\"avg_glucose_level\",\"avg_glucose_level\",\"avg_glucose_level\",\"avg_glucose_level\",\"avg_glucose_level\",\"avg_glucose_level\",\"avg_glucose_level\",\"avg_glucose_level\",\"avg_glucose_level\",\"avg_glucose_level\",\"avg_glucose_level\",\"avg_glucose_level\",\"avg_glucose_level\",\"avg_glucose_level\",\"avg_glucose_level\",\"avg_glucose_level\",\"avg_glucose_level\",\"avg_glucose_level\",\"avg_glucose_level\",\"avg_glucose_level\",\"avg_glucose_level\",\"avg_glucose_level\",\"avg_glucose_level\",\"avg_glucose_level\",\"avg_glucose_level\",\"avg_glucose_level\",\"avg_glucose_level\",\"avg_glucose_level\",\"avg_glucose_level\",\"avg_glucose_level\",\"avg_glucose_level\",\"avg_glucose_level\",\"avg_glucose_level\",\"avg_glucose_level\",\"avg_glucose_level\",\"avg_glucose_level\",\"avg_glucose_level\",\"avg_glucose_level\",\"avg_glucose_level\",\"avg_glucose_level\",\"avg_glucose_level\",\"avg_glucose_level\",\"avg_glucose_level\",\"avg_glucose_level\",\"avg_glucose_level\",\"avg_glucose_level\",\"avg_glucose_level\",\"avg_glucose_level\",\"avg_glucose_level\",\"avg_glucose_level\",\"avg_glucose_level\",\"avg_glucose_level\",\"avg_glucose_level\",\"avg_glucose_level\",\"avg_glucose_level\",\"avg_glucose_level\",\"avg_glucose_level\",\"avg_glucose_level\",\"avg_glucose_level\",\"avg_glucose_level\",\"avg_glucose_level\",\"avg_glucose_level\",\"avg_glucose_level\",\"avg_glucose_level\",\"avg_glucose_level\",\"avg_glucose_level\",\"avg_glucose_level\",\"avg_glucose_level\",\"avg_glucose_level\",\"avg_glucose_level\",\"avg_glucose_level\",\"avg_glucose_level\",\"avg_glucose_level\",\"avg_glucose_level\",\"avg_glucose_level\",\"avg_glucose_level\",\"avg_glucose_level\",\"avg_glucose_level\",\"avg_glucose_level\",\"avg_glucose_level\",\"avg_glucose_level\",\"avg_glucose_level\",\"avg_glucose_level\",\"avg_glucose_level\",\"avg_glucose_level\",\"avg_glucose_level\",\"avg_glucose_level\",\"avg_glucose_level\",\"avg_glucose_level\",\"avg_glucose_level\",\"avg_glucose_level\",\"avg_glucose_level\",\"avg_glucose_level\",\"avg_glucose_level\",\"avg_glucose_level\",\"avg_glucose_level\",\"avg_glucose_level\",\"avg_glucose_level\",\"avg_glucose_level\",\"avg_glucose_level\",\"avg_glucose_level\",\"avg_glucose_level\",\"avg_glucose_level\",\"avg_glucose_level\",\"avg_glucose_level\",\"avg_glucose_level\",\"avg_glucose_level\",\"avg_glucose_level\",\"avg_glucose_level\",\"avg_glucose_level\",\"avg_glucose_level\",\"avg_glucose_level\",\"avg_glucose_level\",\"avg_glucose_level\",\"avg_glucose_level\",\"avg_glucose_level\",\"avg_glucose_level\",\"avg_glucose_level\",\"avg_glucose_level\",\"avg_glucose_level\",\"avg_glucose_level\",\"avg_glucose_level\",\"avg_glucose_level\",\"avg_glucose_level\",\"avg_glucose_level\",\"avg_glucose_level\",\"avg_glucose_level\",\"avg_glucose_level\",\"avg_glucose_level\",\"avg_glucose_level\",\"avg_glucose_level\",\"avg_glucose_level\",\"avg_glucose_level\",\"avg_glucose_level\",\"avg_glucose_level\",\"avg_glucose_level\",\"avg_glucose_level\",\"avg_glucose_level\",\"avg_glucose_level\",\"avg_glucose_level\",\"avg_glucose_level\",\"avg_glucose_level\",\"avg_glucose_level\",\"avg_glucose_level\",\"avg_glucose_level\",\"avg_glucose_level\",\"avg_glucose_level\",\"avg_glucose_level\",\"avg_glucose_level\",\"avg_glucose_level\",\"avg_glucose_level\",\"avg_glucose_level\",\"avg_glucose_level\",\"avg_glucose_level\",\"avg_glucose_level\",\"avg_glucose_level\",\"avg_glucose_level\",\"avg_glucose_level\",\"avg_glucose_level\",\"avg_glucose_level\",\"avg_glucose_level\",\"avg_glucose_level\",\"avg_glucose_level\",\"avg_glucose_level\",\"avg_glucose_level\",\"avg_glucose_level\",\"avg_glucose_level\",\"avg_glucose_level\",\"avg_glucose_level\",\"avg_glucose_level\",\"avg_glucose_level\",\"avg_glucose_level\",\"avg_glucose_level\",\"avg_glucose_level\",\"avg_glucose_level\",\"avg_glucose_level\",\"avg_glucose_level\",\"avg_glucose_level\",\"avg_glucose_level\",\"avg_glucose_level\",\"avg_glucose_level\",\"avg_glucose_level\",\"avg_glucose_level\",\"avg_glucose_level\",\"avg_glucose_level\",\"avg_glucose_level\",\"avg_glucose_level\",\"avg_glucose_level\",\"avg_glucose_level\",\"avg_glucose_level\",\"avg_glucose_level\",\"avg_glucose_level\",\"avg_glucose_level\",\"avg_glucose_level\",\"avg_glucose_level\",\"avg_glucose_level\",\"avg_glucose_level\",\"avg_glucose_level\",\"avg_glucose_level\",\"avg_glucose_level\",\"avg_glucose_level\",\"avg_glucose_level\",\"avg_glucose_level\",\"avg_glucose_level\",\"avg_glucose_level\",\"avg_glucose_level\",\"avg_glucose_level\",\"avg_glucose_level\",\"avg_glucose_level\",\"avg_glucose_level\",\"avg_glucose_level\",\"avg_glucose_level\",\"avg_glucose_level\",\"avg_glucose_level\",\"avg_glucose_level\",\"avg_glucose_level\",\"avg_glucose_level\",\"avg_glucose_level\",\"avg_glucose_level\",\"avg_glucose_level\",\"avg_glucose_level\",\"avg_glucose_level\",\"avg_glucose_level\",\"avg_glucose_level\",\"avg_glucose_level\",\"avg_glucose_level\",\"avg_glucose_level\",\"avg_glucose_level\",\"avg_glucose_level\",\"avg_glucose_level\",\"avg_glucose_level\",\"avg_glucose_level\",\"avg_glucose_level\",\"avg_glucose_level\",\"avg_glucose_level\",\"avg_glucose_level\",\"avg_glucose_level\",\"avg_glucose_level\",\"avg_glucose_level\",\"avg_glucose_level\",\"avg_glucose_level\",\"avg_glucose_level\",\"avg_glucose_level\",\"avg_glucose_level\",\"avg_glucose_level\",\"avg_glucose_level\",\"avg_glucose_level\",\"avg_glucose_level\",\"avg_glucose_level\",\"avg_glucose_level\",\"avg_glucose_level\",\"avg_glucose_level\",\"avg_glucose_level\",\"avg_glucose_level\",\"avg_glucose_level\",\"avg_glucose_level\",\"avg_glucose_level\",\"avg_glucose_level\",\"avg_glucose_level\",\"avg_glucose_level\",\"avg_glucose_level\",\"avg_glucose_level\",\"avg_glucose_level\",\"avg_glucose_level\",\"avg_glucose_level\",\"avg_glucose_level\",\"avg_glucose_level\",\"avg_glucose_level\",\"avg_glucose_level\",\"avg_glucose_level\",\"avg_glucose_level\",\"avg_glucose_level\",\"avg_glucose_level\",\"avg_glucose_level\",\"avg_glucose_level\",\"avg_glucose_level\",\"avg_glucose_level\",\"avg_glucose_level\",\"avg_glucose_level\",\"avg_glucose_level\",\"avg_glucose_level\",\"avg_glucose_level\",\"avg_glucose_level\",\"avg_glucose_level\",\"avg_glucose_level\",\"avg_glucose_level\",\"avg_glucose_level\",\"avg_glucose_level\",\"avg_glucose_level\",\"avg_glucose_level\",\"avg_glucose_level\",\"avg_glucose_level\",\"avg_glucose_level\",\"avg_glucose_level\",\"avg_glucose_level\",\"avg_glucose_level\",\"avg_glucose_level\",\"avg_glucose_level\",\"avg_glucose_level\",\"avg_glucose_level\",\"avg_glucose_level\",\"avg_glucose_level\",\"avg_glucose_level\",\"avg_glucose_level\",\"avg_glucose_level\",\"avg_glucose_level\",\"avg_glucose_level\",\"avg_glucose_level\",\"avg_glucose_level\",\"avg_glucose_level\",\"avg_glucose_level\",\"avg_glucose_level\",\"avg_glucose_level\",\"avg_glucose_level\",\"avg_glucose_level\",\"avg_glucose_level\",\"avg_glucose_level\",\"avg_glucose_level\",\"avg_glucose_level\",\"avg_glucose_level\",\"avg_glucose_level\",\"avg_glucose_level\",\"avg_glucose_level\",\"avg_glucose_level\",\"avg_glucose_level\",\"avg_glucose_level\",\"avg_glucose_level\",\"avg_glucose_level\",\"avg_glucose_level\",\"avg_glucose_level\",\"avg_glucose_level\",\"avg_glucose_level\",\"avg_glucose_level\",\"avg_glucose_level\",\"avg_glucose_level\",\"avg_glucose_level\",\"avg_glucose_level\",\"avg_glucose_level\",\"avg_glucose_level\",\"avg_glucose_level\",\"avg_glucose_level\",\"avg_glucose_level\",\"avg_glucose_level\",\"avg_glucose_level\",\"avg_glucose_level\",\"avg_glucose_level\",\"avg_glucose_level\",\"avg_glucose_level\",\"avg_glucose_level\",\"avg_glucose_level\",\"avg_glucose_level\",\"avg_glucose_level\",\"avg_glucose_level\",\"avg_glucose_level\",\"avg_glucose_level\",\"avg_glucose_level\",\"avg_glucose_level\",\"avg_glucose_level\",\"avg_glucose_level\",\"avg_glucose_level\",\"avg_glucose_level\",\"avg_glucose_level\",\"avg_glucose_level\",\"avg_glucose_level\",\"avg_glucose_level\",\"avg_glucose_level\",\"avg_glucose_level\",\"avg_glucose_level\",\"avg_glucose_level\",\"avg_glucose_level\",\"avg_glucose_level\",\"avg_glucose_level\",\"avg_glucose_level\",\"avg_glucose_level\",\"avg_glucose_level\",\"avg_glucose_level\",\"avg_glucose_level\",\"avg_glucose_level\",\"avg_glucose_level\",\"avg_glucose_level\",\"avg_glucose_level\",\"avg_glucose_level\",\"avg_glucose_level\",\"avg_glucose_level\",\"avg_glucose_level\",\"avg_glucose_level\",\"avg_glucose_level\",\"avg_glucose_level\",\"avg_glucose_level\",\"avg_glucose_level\",\"avg_glucose_level\",\"avg_glucose_level\",\"avg_glucose_level\",\"avg_glucose_level\",\"avg_glucose_level\",\"avg_glucose_level\",\"avg_glucose_level\",\"avg_glucose_level\",\"avg_glucose_level\",\"avg_glucose_level\",\"avg_glucose_level\",\"avg_glucose_level\",\"avg_glucose_level\",\"avg_glucose_level\",\"avg_glucose_level\",\"avg_glucose_level\",\"avg_glucose_level\",\"avg_glucose_level\",\"avg_glucose_level\",\"avg_glucose_level\",\"avg_glucose_level\",\"avg_glucose_level\",\"avg_glucose_level\",\"avg_glucose_level\",\"avg_glucose_level\",\"avg_glucose_level\",\"avg_glucose_level\",\"avg_glucose_level\",\"avg_glucose_level\",\"avg_glucose_level\",\"avg_glucose_level\",\"avg_glucose_level\",\"avg_glucose_level\",\"avg_glucose_level\",\"avg_glucose_level\",\"avg_glucose_level\",\"avg_glucose_level\",\"avg_glucose_level\",\"avg_glucose_level\",\"avg_glucose_level\",\"avg_glucose_level\",\"avg_glucose_level\",\"avg_glucose_level\",\"avg_glucose_level\",\"avg_glucose_level\",\"avg_glucose_level\",\"avg_glucose_level\",\"avg_glucose_level\",\"avg_glucose_level\",\"avg_glucose_level\",\"avg_glucose_level\",\"avg_glucose_level\",\"avg_glucose_level\",\"avg_glucose_level\",\"avg_glucose_level\",\"avg_glucose_level\",\"avg_glucose_level\",\"avg_glucose_level\",\"avg_glucose_level\",\"avg_glucose_level\",\"avg_glucose_level\",\"avg_glucose_level\",\"avg_glucose_level\",\"avg_glucose_level\",\"avg_glucose_level\",\"avg_glucose_level\",\"avg_glucose_level\",\"avg_glucose_level\",\"avg_glucose_level\",\"avg_glucose_level\",\"avg_glucose_level\",\"avg_glucose_level\",\"avg_glucose_level\",\"avg_glucose_level\",\"avg_glucose_level\",\"avg_glucose_level\",\"avg_glucose_level\",\"avg_glucose_level\",\"avg_glucose_level\",\"avg_glucose_level\",\"avg_glucose_level\",\"avg_glucose_level\",\"avg_glucose_level\",\"avg_glucose_level\",\"avg_glucose_level\",\"avg_glucose_level\",\"avg_glucose_level\",\"avg_glucose_level\",\"avg_glucose_level\",\"avg_glucose_level\",\"avg_glucose_level\",\"avg_glucose_level\",\"avg_glucose_level\",\"avg_glucose_level\",\"avg_glucose_level\",\"avg_glucose_level\",\"avg_glucose_level\",\"avg_glucose_level\",\"avg_glucose_level\",\"avg_glucose_level\",\"avg_glucose_level\",\"avg_glucose_level\",\"avg_glucose_level\",\"avg_glucose_level\",\"avg_glucose_level\",\"avg_glucose_level\",\"avg_glucose_level\",\"avg_glucose_level\",\"avg_glucose_level\",\"avg_glucose_level\",\"avg_glucose_level\",\"avg_glucose_level\",\"avg_glucose_level\",\"avg_glucose_level\",\"avg_glucose_level\",\"avg_glucose_level\",\"avg_glucose_level\",\"avg_glucose_level\",\"avg_glucose_level\",\"avg_glucose_level\",\"avg_glucose_level\",\"avg_glucose_level\",\"avg_glucose_level\",\"avg_glucose_level\",\"avg_glucose_level\",\"avg_glucose_level\",\"avg_glucose_level\",\"avg_glucose_level\",\"avg_glucose_level\",\"avg_glucose_level\",\"avg_glucose_level\",\"avg_glucose_level\",\"avg_glucose_level\",\"avg_glucose_level\",\"avg_glucose_level\",\"avg_glucose_level\",\"avg_glucose_level\",\"avg_glucose_level\",\"avg_glucose_level\",\"avg_glucose_level\",\"avg_glucose_level\",\"avg_glucose_level\",\"avg_glucose_level\",\"avg_glucose_level\",\"avg_glucose_level\",\"avg_glucose_level\",\"avg_glucose_level\",\"avg_glucose_level\",\"avg_glucose_level\",\"avg_glucose_level\",\"avg_glucose_level\",\"avg_glucose_level\",\"avg_glucose_level\",\"avg_glucose_level\",\"avg_glucose_level\",\"avg_glucose_level\",\"avg_glucose_level\",\"avg_glucose_level\",\"avg_glucose_level\",\"avg_glucose_level\",\"avg_glucose_level\",\"avg_glucose_level\",\"avg_glucose_level\",\"avg_glucose_level\",\"avg_glucose_level\",\"avg_glucose_level\",\"avg_glucose_level\",\"avg_glucose_level\",\"avg_glucose_level\",\"avg_glucose_level\",\"avg_glucose_level\",\"avg_glucose_level\",\"avg_glucose_level\",\"avg_glucose_level\",\"avg_glucose_level\",\"avg_glucose_level\",\"avg_glucose_level\",\"avg_glucose_level\",\"avg_glucose_level\",\"avg_glucose_level\",\"avg_glucose_level\",\"avg_glucose_level\",\"avg_glucose_level\",\"avg_glucose_level\",\"avg_glucose_level\",\"avg_glucose_level\",\"avg_glucose_level\",\"avg_glucose_level\",\"avg_glucose_level\",\"avg_glucose_level\",\"avg_glucose_level\",\"avg_glucose_level\",\"avg_glucose_level\",\"avg_glucose_level\",\"avg_glucose_level\",\"avg_glucose_level\",\"avg_glucose_level\",\"avg_glucose_level\",\"avg_glucose_level\",\"avg_glucose_level\",\"avg_glucose_level\",\"avg_glucose_level\",\"avg_glucose_level\",\"avg_glucose_level\",\"avg_glucose_level\",\"avg_glucose_level\",\"avg_glucose_level\",\"avg_glucose_level\",\"avg_glucose_level\",\"avg_glucose_level\",\"avg_glucose_level\",\"avg_glucose_level\",\"avg_glucose_level\",\"avg_glucose_level\",\"avg_glucose_level\",\"avg_glucose_level\",\"avg_glucose_level\",\"avg_glucose_level\",\"avg_glucose_level\",\"avg_glucose_level\",\"avg_glucose_level\",\"avg_glucose_level\",\"avg_glucose_level\",\"avg_glucose_level\",\"avg_glucose_level\",\"avg_glucose_level\",\"avg_glucose_level\",\"avg_glucose_level\",\"avg_glucose_level\",\"avg_glucose_level\",\"avg_glucose_level\",\"avg_glucose_level\",\"avg_glucose_level\",\"avg_glucose_level\",\"avg_glucose_level\",\"avg_glucose_level\",\"avg_glucose_level\",\"avg_glucose_level\",\"avg_glucose_level\",\"avg_glucose_level\",\"avg_glucose_level\",\"avg_glucose_level\",\"avg_glucose_level\",\"avg_glucose_level\",\"avg_glucose_level\",\"avg_glucose_level\",\"avg_glucose_level\",\"avg_glucose_level\",\"avg_glucose_level\",\"avg_glucose_level\",\"avg_glucose_level\",\"avg_glucose_level\",\"avg_glucose_level\",\"avg_glucose_level\",\"avg_glucose_level\",\"avg_glucose_level\",\"avg_glucose_level\",\"avg_glucose_level\",\"avg_glucose_level\",\"avg_glucose_level\",\"avg_glucose_level\",\"avg_glucose_level\",\"avg_glucose_level\",\"avg_glucose_level\",\"avg_glucose_level\",\"avg_glucose_level\",\"avg_glucose_level\",\"avg_glucose_level\",\"avg_glucose_level\",\"avg_glucose_level\",\"avg_glucose_level\",\"avg_glucose_level\",\"avg_glucose_level\",\"avg_glucose_level\",\"avg_glucose_level\",\"avg_glucose_level\",\"avg_glucose_level\",\"avg_glucose_level\",\"avg_glucose_level\",\"avg_glucose_level\",\"avg_glucose_level\",\"avg_glucose_level\",\"avg_glucose_level\",\"avg_glucose_level\",\"avg_glucose_level\",\"avg_glucose_level\",\"avg_glucose_level\",\"avg_glucose_level\",\"avg_glucose_level\",\"avg_glucose_level\",\"avg_glucose_level\",\"avg_glucose_level\",\"avg_glucose_level\",\"avg_glucose_level\",\"avg_glucose_level\",\"avg_glucose_level\",\"avg_glucose_level\",\"avg_glucose_level\",\"avg_glucose_level\",\"avg_glucose_level\",\"avg_glucose_level\",\"avg_glucose_level\",\"avg_glucose_level\",\"avg_glucose_level\",\"avg_glucose_level\",\"avg_glucose_level\",\"avg_glucose_level\",\"avg_glucose_level\",\"avg_glucose_level\",\"avg_glucose_level\",\"avg_glucose_level\",\"avg_glucose_level\",\"avg_glucose_level\",\"avg_glucose_level\",\"avg_glucose_level\",\"avg_glucose_level\",\"avg_glucose_level\",\"avg_glucose_level\",\"avg_glucose_level\",\"avg_glucose_level\",\"avg_glucose_level\",\"avg_glucose_level\",\"avg_glucose_level\",\"avg_glucose_level\",\"avg_glucose_level\",\"avg_glucose_level\",\"avg_glucose_level\",\"avg_glucose_level\",\"avg_glucose_level\",\"avg_glucose_level\",\"avg_glucose_level\",\"avg_glucose_level\",\"avg_glucose_level\",\"avg_glucose_level\",\"avg_glucose_level\",\"avg_glucose_level\",\"avg_glucose_level\",\"avg_glucose_level\",\"avg_glucose_level\",\"avg_glucose_level\",\"avg_glucose_level\",\"avg_glucose_level\",\"avg_glucose_level\",\"avg_glucose_level\",\"avg_glucose_level\",\"avg_glucose_level\",\"avg_glucose_level\",\"avg_glucose_level\",\"avg_glucose_level\",\"avg_glucose_level\",\"avg_glucose_level\",\"avg_glucose_level\",\"avg_glucose_level\",\"avg_glucose_level\",\"avg_glucose_level\",\"avg_glucose_level\",\"avg_glucose_level\",\"avg_glucose_level\",\"avg_glucose_level\",\"avg_glucose_level\",\"avg_glucose_level\",\"avg_glucose_level\",\"avg_glucose_level\",\"avg_glucose_level\",\"avg_glucose_level\",\"avg_glucose_level\",\"avg_glucose_level\",\"avg_glucose_level\",\"avg_glucose_level\",\"avg_glucose_level\",\"avg_glucose_level\",\"avg_glucose_level\",\"avg_glucose_level\",\"avg_glucose_level\",\"avg_glucose_level\",\"avg_glucose_level\",\"avg_glucose_level\",\"avg_glucose_level\",\"avg_glucose_level\",\"avg_glucose_level\",\"avg_glucose_level\",\"avg_glucose_level\",\"avg_glucose_level\",\"avg_glucose_level\",\"avg_glucose_level\",\"avg_glucose_level\",\"avg_glucose_level\",\"avg_glucose_level\",\"avg_glucose_level\",\"avg_glucose_level\",\"avg_glucose_level\",\"avg_glucose_level\",\"avg_glucose_level\",\"avg_glucose_level\",\"avg_glucose_level\",\"avg_glucose_level\",\"avg_glucose_level\",\"avg_glucose_level\",\"avg_glucose_level\",\"avg_glucose_level\",\"avg_glucose_level\",\"avg_glucose_level\",\"avg_glucose_level\",\"avg_glucose_level\",\"avg_glucose_level\",\"avg_glucose_level\",\"avg_glucose_level\",\"avg_glucose_level\",\"avg_glucose_level\",\"avg_glucose_level\",\"avg_glucose_level\",\"avg_glucose_level\",\"avg_glucose_level\",\"avg_glucose_level\",\"avg_glucose_level\",\"avg_glucose_level\",\"avg_glucose_level\",\"avg_glucose_level\",\"avg_glucose_level\",\"avg_glucose_level\",\"avg_glucose_level\",\"avg_glucose_level\",\"avg_glucose_level\",\"avg_glucose_level\",\"avg_glucose_level\",\"avg_glucose_level\",\"avg_glucose_level\",\"avg_glucose_level\",\"avg_glucose_level\",\"avg_glucose_level\",\"avg_glucose_level\",\"avg_glucose_level\",\"avg_glucose_level\",\"avg_glucose_level\",\"avg_glucose_level\",\"avg_glucose_level\",\"avg_glucose_level\",\"avg_glucose_level\",\"avg_glucose_level\",\"avg_glucose_level\",\"avg_glucose_level\",\"avg_glucose_level\",\"avg_glucose_level\",\"avg_glucose_level\",\"avg_glucose_level\",\"avg_glucose_level\",\"avg_glucose_level\",\"avg_glucose_level\",\"avg_glucose_level\",\"avg_glucose_level\",\"avg_glucose_level\",\"avg_glucose_level\",\"avg_glucose_level\",\"avg_glucose_level\",\"avg_glucose_level\",\"avg_glucose_level\",\"avg_glucose_level\",\"avg_glucose_level\",\"avg_glucose_level\",\"avg_glucose_level\",\"avg_glucose_level\",\"avg_glucose_level\",\"avg_glucose_level\",\"avg_glucose_level\",\"avg_glucose_level\",\"avg_glucose_level\",\"avg_glucose_level\",\"avg_glucose_level\",\"avg_glucose_level\",\"avg_glucose_level\",\"avg_glucose_level\",\"avg_glucose_level\",\"avg_glucose_level\",\"avg_glucose_level\",\"avg_glucose_level\",\"avg_glucose_level\",\"avg_glucose_level\",\"avg_glucose_level\",\"avg_glucose_level\",\"avg_glucose_level\",\"avg_glucose_level\",\"avg_glucose_level\",\"avg_glucose_level\",\"avg_glucose_level\",\"avg_glucose_level\",\"avg_glucose_level\",\"avg_glucose_level\",\"avg_glucose_level\",\"avg_glucose_level\",\"avg_glucose_level\",\"avg_glucose_level\",\"avg_glucose_level\",\"avg_glucose_level\",\"avg_glucose_level\",\"avg_glucose_level\",\"avg_glucose_level\",\"avg_glucose_level\",\"avg_glucose_level\",\"avg_glucose_level\",\"avg_glucose_level\",\"avg_glucose_level\",\"avg_glucose_level\",\"avg_glucose_level\",\"avg_glucose_level\",\"avg_glucose_level\",\"avg_glucose_level\",\"avg_glucose_level\",\"avg_glucose_level\",\"avg_glucose_level\",\"avg_glucose_level\",\"avg_glucose_level\",\"avg_glucose_level\",\"avg_glucose_level\",\"avg_glucose_level\",\"avg_glucose_level\",\"avg_glucose_level\",\"avg_glucose_level\",\"avg_glucose_level\",\"avg_glucose_level\",\"avg_glucose_level\",\"avg_glucose_level\",\"avg_glucose_level\",\"avg_glucose_level\",\"avg_glucose_level\",\"avg_glucose_level\",\"avg_glucose_level\",\"avg_glucose_level\",\"avg_glucose_level\",\"avg_glucose_level\",\"avg_glucose_level\",\"avg_glucose_level\",\"avg_glucose_level\",\"avg_glucose_level\",\"avg_glucose_level\",\"avg_glucose_level\",\"avg_glucose_level\",\"avg_glucose_level\",\"avg_glucose_level\",\"avg_glucose_level\",\"avg_glucose_level\",\"avg_glucose_level\",\"avg_glucose_level\",\"avg_glucose_level\",\"avg_glucose_level\",\"avg_glucose_level\",\"avg_glucose_level\",\"avg_glucose_level\",\"avg_glucose_level\",\"avg_glucose_level\",\"avg_glucose_level\",\"avg_glucose_level\",\"avg_glucose_level\",\"avg_glucose_level\",\"avg_glucose_level\",\"avg_glucose_level\",\"avg_glucose_level\",\"avg_glucose_level\",\"avg_glucose_level\",\"avg_glucose_level\",\"avg_glucose_level\",\"avg_glucose_level\",\"avg_glucose_level\",\"avg_glucose_level\",\"avg_glucose_level\",\"avg_glucose_level\",\"avg_glucose_level\",\"avg_glucose_level\",\"avg_glucose_level\",\"avg_glucose_level\",\"avg_glucose_level\",\"avg_glucose_level\",\"avg_glucose_level\",\"avg_glucose_level\",\"avg_glucose_level\",\"avg_glucose_level\",\"avg_glucose_level\",\"avg_glucose_level\",\"avg_glucose_level\",\"avg_glucose_level\",\"avg_glucose_level\",\"avg_glucose_level\",\"avg_glucose_level\",\"avg_glucose_level\",\"avg_glucose_level\",\"avg_glucose_level\",\"avg_glucose_level\",\"avg_glucose_level\",\"avg_glucose_level\",\"avg_glucose_level\",\"avg_glucose_level\",\"avg_glucose_level\",\"avg_glucose_level\",\"avg_glucose_level\",\"avg_glucose_level\",\"avg_glucose_level\",\"avg_glucose_level\",\"avg_glucose_level\",\"avg_glucose_level\",\"avg_glucose_level\",\"avg_glucose_level\",\"avg_glucose_level\",\"avg_glucose_level\",\"avg_glucose_level\",\"avg_glucose_level\",\"avg_glucose_level\",\"avg_glucose_level\",\"avg_glucose_level\",\"avg_glucose_level\",\"avg_glucose_level\",\"avg_glucose_level\",\"avg_glucose_level\",\"avg_glucose_level\",\"avg_glucose_level\",\"avg_glucose_level\",\"avg_glucose_level\",\"avg_glucose_level\",\"avg_glucose_level\",\"avg_glucose_level\",\"avg_glucose_level\",\"avg_glucose_level\",\"avg_glucose_level\",\"avg_glucose_level\",\"avg_glucose_level\",\"avg_glucose_level\",\"avg_glucose_level\",\"avg_glucose_level\",\"avg_glucose_level\",\"avg_glucose_level\",\"avg_glucose_level\",\"avg_glucose_level\",\"avg_glucose_level\",\"avg_glucose_level\",\"avg_glucose_level\",\"avg_glucose_level\",\"avg_glucose_level\",\"avg_glucose_level\",\"avg_glucose_level\",\"avg_glucose_level\",\"avg_glucose_level\",\"avg_glucose_level\",\"avg_glucose_level\",\"avg_glucose_level\",\"avg_glucose_level\",\"avg_glucose_level\",\"avg_glucose_level\",\"avg_glucose_level\",\"avg_glucose_level\",\"avg_glucose_level\",\"avg_glucose_level\",\"avg_glucose_level\",\"avg_glucose_level\",\"avg_glucose_level\",\"avg_glucose_level\",\"avg_glucose_level\",\"avg_glucose_level\",\"avg_glucose_level\",\"avg_glucose_level\",\"avg_glucose_level\",\"avg_glucose_level\",\"avg_glucose_level\",\"avg_glucose_level\",\"avg_glucose_level\",\"avg_glucose_level\",\"avg_glucose_level\",\"avg_glucose_level\",\"avg_glucose_level\",\"avg_glucose_level\",\"avg_glucose_level\",\"avg_glucose_level\",\"avg_glucose_level\",\"avg_glucose_level\",\"avg_glucose_level\",\"avg_glucose_level\",\"avg_glucose_level\",\"avg_glucose_level\",\"avg_glucose_level\",\"avg_glucose_level\",\"avg_glucose_level\",\"avg_glucose_level\",\"avg_glucose_level\",\"avg_glucose_level\",\"avg_glucose_level\",\"avg_glucose_level\",\"avg_glucose_level\",\"avg_glucose_level\",\"avg_glucose_level\",\"avg_glucose_level\",\"avg_glucose_level\",\"avg_glucose_level\",\"avg_glucose_level\",\"avg_glucose_level\",\"avg_glucose_level\",\"avg_glucose_level\",\"avg_glucose_level\",\"avg_glucose_level\",\"avg_glucose_level\",\"avg_glucose_level\",\"avg_glucose_level\",\"avg_glucose_level\",\"avg_glucose_level\",\"avg_glucose_level\",\"avg_glucose_level\",\"avg_glucose_level\",\"avg_glucose_level\",\"avg_glucose_level\",\"avg_glucose_level\",\"avg_glucose_level\",\"avg_glucose_level\",\"avg_glucose_level\",\"avg_glucose_level\",\"avg_glucose_level\",\"avg_glucose_level\",\"avg_glucose_level\",\"avg_glucose_level\",\"avg_glucose_level\",\"avg_glucose_level\",\"avg_glucose_level\",\"avg_glucose_level\",\"avg_glucose_level\",\"avg_glucose_level\",\"avg_glucose_level\",\"avg_glucose_level\",\"avg_glucose_level\",\"avg_glucose_level\",\"avg_glucose_level\",\"avg_glucose_level\",\"avg_glucose_level\",\"avg_glucose_level\",\"avg_glucose_level\",\"avg_glucose_level\",\"avg_glucose_level\",\"avg_glucose_level\",\"avg_glucose_level\",\"avg_glucose_level\",\"avg_glucose_level\",\"avg_glucose_level\",\"avg_glucose_level\",\"avg_glucose_level\",\"avg_glucose_level\",\"avg_glucose_level\",\"avg_glucose_level\",\"avg_glucose_level\",\"avg_glucose_level\",\"avg_glucose_level\",\"avg_glucose_level\",\"avg_glucose_level\",\"avg_glucose_level\",\"avg_glucose_level\",\"avg_glucose_level\",\"avg_glucose_level\",\"avg_glucose_level\",\"avg_glucose_level\",\"avg_glucose_level\",\"avg_glucose_level\",\"avg_glucose_level\",\"avg_glucose_level\",\"avg_glucose_level\",\"avg_glucose_level\",\"avg_glucose_level\",\"avg_glucose_level\",\"avg_glucose_level\",\"avg_glucose_level\",\"avg_glucose_level\",\"avg_glucose_level\",\"avg_glucose_level\",\"avg_glucose_level\",\"avg_glucose_level\",\"avg_glucose_level\",\"avg_glucose_level\",\"avg_glucose_level\",\"avg_glucose_level\",\"avg_glucose_level\",\"avg_glucose_level\",\"avg_glucose_level\",\"avg_glucose_level\",\"avg_glucose_level\",\"avg_glucose_level\",\"avg_glucose_level\",\"avg_glucose_level\",\"avg_glucose_level\",\"avg_glucose_level\",\"avg_glucose_level\",\"avg_glucose_level\",\"avg_glucose_level\",\"avg_glucose_level\",\"avg_glucose_level\",\"avg_glucose_level\",\"avg_glucose_level\",\"avg_glucose_level\",\"avg_glucose_level\",\"avg_glucose_level\",\"avg_glucose_level\",\"avg_glucose_level\",\"avg_glucose_level\",\"avg_glucose_level\",\"avg_glucose_level\",\"avg_glucose_level\",\"avg_glucose_level\",\"avg_glucose_level\",\"avg_glucose_level\",\"avg_glucose_level\",\"avg_glucose_level\",\"avg_glucose_level\",\"avg_glucose_level\",\"avg_glucose_level\",\"avg_glucose_level\",\"avg_glucose_level\",\"avg_glucose_level\",\"avg_glucose_level\",\"avg_glucose_level\",\"avg_glucose_level\",\"avg_glucose_level\",\"avg_glucose_level\",\"avg_glucose_level\",\"avg_glucose_level\",\"avg_glucose_level\",\"avg_glucose_level\",\"avg_glucose_level\",\"avg_glucose_level\",\"avg_glucose_level\",\"avg_glucose_level\",\"avg_glucose_level\",\"avg_glucose_level\",\"avg_glucose_level\",\"avg_glucose_level\",\"avg_glucose_level\",\"avg_glucose_level\",\"avg_glucose_level\",\"avg_glucose_level\",\"avg_glucose_level\",\"avg_glucose_level\",\"avg_glucose_level\",\"avg_glucose_level\",\"avg_glucose_level\",\"avg_glucose_level\",\"avg_glucose_level\",\"avg_glucose_level\",\"avg_glucose_level\",\"avg_glucose_level\",\"avg_glucose_level\",\"avg_glucose_level\",\"avg_glucose_level\",\"avg_glucose_level\",\"avg_glucose_level\",\"avg_glucose_level\",\"avg_glucose_level\",\"avg_glucose_level\",\"avg_glucose_level\",\"avg_glucose_level\",\"avg_glucose_level\",\"avg_glucose_level\",\"avg_glucose_level\",\"avg_glucose_level\",\"avg_glucose_level\",\"avg_glucose_level\",\"avg_glucose_level\",\"avg_glucose_level\",\"avg_glucose_level\",\"avg_glucose_level\",\"avg_glucose_level\",\"avg_glucose_level\",\"avg_glucose_level\",\"avg_glucose_level\",\"avg_glucose_level\",\"avg_glucose_level\",\"avg_glucose_level\",\"avg_glucose_level\",\"avg_glucose_level\",\"avg_glucose_level\",\"avg_glucose_level\",\"avg_glucose_level\",\"avg_glucose_level\",\"avg_glucose_level\",\"avg_glucose_level\",\"avg_glucose_level\",\"avg_glucose_level\",\"avg_glucose_level\",\"avg_glucose_level\",\"avg_glucose_level\",\"avg_glucose_level\",\"avg_glucose_level\",\"avg_glucose_level\",\"avg_glucose_level\",\"avg_glucose_level\",\"avg_glucose_level\",\"avg_glucose_level\",\"avg_glucose_level\",\"avg_glucose_level\",\"avg_glucose_level\",\"avg_glucose_level\",\"avg_glucose_level\",\"avg_glucose_level\",\"avg_glucose_level\",\"avg_glucose_level\",\"avg_glucose_level\",\"avg_glucose_level\",\"avg_glucose_level\",\"avg_glucose_level\",\"avg_glucose_level\",\"avg_glucose_level\",\"avg_glucose_level\",\"avg_glucose_level\",\"avg_glucose_level\",\"avg_glucose_level\",\"avg_glucose_level\",\"avg_glucose_level\",\"avg_glucose_level\",\"avg_glucose_level\",\"avg_glucose_level\",\"avg_glucose_level\",\"avg_glucose_level\",\"avg_glucose_level\",\"avg_glucose_level\",\"avg_glucose_level\",\"avg_glucose_level\",\"avg_glucose_level\",\"avg_glucose_level\",\"avg_glucose_level\",\"avg_glucose_level\",\"avg_glucose_level\",\"avg_glucose_level\",\"avg_glucose_level\",\"avg_glucose_level\",\"avg_glucose_level\",\"avg_glucose_level\",\"avg_glucose_level\",\"avg_glucose_level\",\"avg_glucose_level\",\"avg_glucose_level\",\"avg_glucose_level\",\"avg_glucose_level\",\"avg_glucose_level\",\"avg_glucose_level\",\"avg_glucose_level\",\"avg_glucose_level\",\"avg_glucose_level\",\"avg_glucose_level\",\"avg_glucose_level\",\"avg_glucose_level\",\"avg_glucose_level\",\"avg_glucose_level\",\"avg_glucose_level\",\"avg_glucose_level\",\"avg_glucose_level\",\"avg_glucose_level\",\"avg_glucose_level\",\"avg_glucose_level\",\"avg_glucose_level\",\"avg_glucose_level\",\"avg_glucose_level\",\"avg_glucose_level\",\"avg_glucose_level\",\"avg_glucose_level\",\"avg_glucose_level\",\"avg_glucose_level\",\"avg_glucose_level\",\"avg_glucose_level\",\"avg_glucose_level\",\"avg_glucose_level\",\"avg_glucose_level\",\"avg_glucose_level\",\"avg_glucose_level\",\"avg_glucose_level\",\"avg_glucose_level\",\"avg_glucose_level\",\"avg_glucose_level\",\"avg_glucose_level\",\"avg_glucose_level\",\"avg_glucose_level\",\"avg_glucose_level\",\"avg_glucose_level\",\"avg_glucose_level\",\"avg_glucose_level\",\"avg_glucose_level\",\"avg_glucose_level\",\"avg_glucose_level\",\"avg_glucose_level\",\"avg_glucose_level\",\"avg_glucose_level\",\"avg_glucose_level\",\"avg_glucose_level\",\"avg_glucose_level\",\"avg_glucose_level\",\"avg_glucose_level\",\"avg_glucose_level\",\"avg_glucose_level\",\"avg_glucose_level\",\"avg_glucose_level\",\"avg_glucose_level\",\"avg_glucose_level\",\"avg_glucose_level\",\"avg_glucose_level\",\"avg_glucose_level\",\"avg_glucose_level\",\"avg_glucose_level\",\"avg_glucose_level\",\"avg_glucose_level\",\"avg_glucose_level\",\"avg_glucose_level\",\"avg_glucose_level\",\"avg_glucose_level\",\"avg_glucose_level\",\"avg_glucose_level\",\"avg_glucose_level\",\"avg_glucose_level\",\"avg_glucose_level\",\"avg_glucose_level\",\"avg_glucose_level\",\"avg_glucose_level\",\"avg_glucose_level\",\"avg_glucose_level\",\"avg_glucose_level\",\"avg_glucose_level\",\"avg_glucose_level\",\"avg_glucose_level\",\"avg_glucose_level\",\"avg_glucose_level\",\"avg_glucose_level\",\"avg_glucose_level\",\"avg_glucose_level\",\"avg_glucose_level\",\"avg_glucose_level\",\"avg_glucose_level\",\"avg_glucose_level\",\"avg_glucose_level\",\"avg_glucose_level\",\"avg_glucose_level\",\"avg_glucose_level\",\"avg_glucose_level\",\"avg_glucose_level\",\"avg_glucose_level\",\"avg_glucose_level\",\"avg_glucose_level\",\"avg_glucose_level\",\"avg_glucose_level\",\"avg_glucose_level\",\"avg_glucose_level\",\"avg_glucose_level\",\"avg_glucose_level\",\"avg_glucose_level\",\"avg_glucose_level\",\"avg_glucose_level\",\"avg_glucose_level\",\"avg_glucose_level\",\"avg_glucose_level\",\"avg_glucose_level\",\"avg_glucose_level\",\"avg_glucose_level\",\"avg_glucose_level\",\"avg_glucose_level\",\"avg_glucose_level\",\"avg_glucose_level\",\"avg_glucose_level\",\"avg_glucose_level\",\"avg_glucose_level\",\"avg_glucose_level\",\"avg_glucose_level\",\"avg_glucose_level\",\"avg_glucose_level\",\"avg_glucose_level\",\"avg_glucose_level\",\"avg_glucose_level\",\"avg_glucose_level\",\"avg_glucose_level\",\"avg_glucose_level\",\"avg_glucose_level\",\"avg_glucose_level\",\"avg_glucose_level\",\"avg_glucose_level\",\"avg_glucose_level\",\"avg_glucose_level\",\"avg_glucose_level\",\"avg_glucose_level\",\"avg_glucose_level\",\"avg_glucose_level\",\"avg_glucose_level\",\"avg_glucose_level\",\"avg_glucose_level\",\"avg_glucose_level\",\"avg_glucose_level\",\"avg_glucose_level\",\"avg_glucose_level\",\"avg_glucose_level\",\"avg_glucose_level\",\"avg_glucose_level\",\"avg_glucose_level\",\"avg_glucose_level\",\"avg_glucose_level\",\"avg_glucose_level\",\"avg_glucose_level\",\"avg_glucose_level\",\"avg_glucose_level\",\"avg_glucose_level\",\"avg_glucose_level\",\"avg_glucose_level\",\"avg_glucose_level\",\"avg_glucose_level\",\"avg_glucose_level\",\"avg_glucose_level\",\"avg_glucose_level\",\"avg_glucose_level\",\"avg_glucose_level\",\"avg_glucose_level\",\"avg_glucose_level\",\"avg_glucose_level\",\"avg_glucose_level\",\"avg_glucose_level\",\"avg_glucose_level\",\"avg_glucose_level\",\"avg_glucose_level\",\"avg_glucose_level\",\"avg_glucose_level\",\"avg_glucose_level\",\"avg_glucose_level\",\"avg_glucose_level\",\"avg_glucose_level\",\"avg_glucose_level\",\"avg_glucose_level\",\"avg_glucose_level\",\"avg_glucose_level\",\"avg_glucose_level\",\"avg_glucose_level\",\"avg_glucose_level\",\"avg_glucose_level\",\"avg_glucose_level\",\"avg_glucose_level\",\"avg_glucose_level\",\"avg_glucose_level\",\"avg_glucose_level\",\"avg_glucose_level\",\"avg_glucose_level\",\"avg_glucose_level\",\"avg_glucose_level\",\"avg_glucose_level\",\"avg_glucose_level\",\"avg_glucose_level\",\"avg_glucose_level\",\"avg_glucose_level\",\"avg_glucose_level\",\"avg_glucose_level\",\"avg_glucose_level\",\"avg_glucose_level\",\"avg_glucose_level\",\"avg_glucose_level\",\"avg_glucose_level\",\"avg_glucose_level\",\"avg_glucose_level\",\"avg_glucose_level\",\"avg_glucose_level\",\"avg_glucose_level\",\"avg_glucose_level\",\"avg_glucose_level\",\"avg_glucose_level\",\"avg_glucose_level\",\"avg_glucose_level\",\"avg_glucose_level\",\"avg_glucose_level\",\"avg_glucose_level\",\"avg_glucose_level\",\"avg_glucose_level\",\"avg_glucose_level\",\"avg_glucose_level\",\"avg_glucose_level\",\"avg_glucose_level\",\"avg_glucose_level\",\"avg_glucose_level\",\"avg_glucose_level\",\"avg_glucose_level\",\"avg_glucose_level\",\"avg_glucose_level\",\"avg_glucose_level\",\"avg_glucose_level\",\"avg_glucose_level\",\"avg_glucose_level\",\"avg_glucose_level\",\"avg_glucose_level\",\"avg_glucose_level\",\"avg_glucose_level\",\"avg_glucose_level\",\"avg_glucose_level\",\"avg_glucose_level\",\"avg_glucose_level\",\"avg_glucose_level\",\"avg_glucose_level\",\"avg_glucose_level\",\"avg_glucose_level\",\"avg_glucose_level\",\"avg_glucose_level\",\"avg_glucose_level\",\"avg_glucose_level\",\"avg_glucose_level\",\"avg_glucose_level\",\"avg_glucose_level\",\"avg_glucose_level\",\"avg_glucose_level\",\"avg_glucose_level\",\"avg_glucose_level\",\"avg_glucose_level\",\"avg_glucose_level\",\"avg_glucose_level\",\"avg_glucose_level\",\"avg_glucose_level\",\"avg_glucose_level\",\"avg_glucose_level\",\"avg_glucose_level\",\"avg_glucose_level\",\"avg_glucose_level\",\"avg_glucose_level\",\"avg_glucose_level\",\"avg_glucose_level\",\"avg_glucose_level\",\"avg_glucose_level\",\"avg_glucose_level\",\"avg_glucose_level\",\"avg_glucose_level\",\"avg_glucose_level\",\"avg_glucose_level\",\"avg_glucose_level\",\"avg_glucose_level\",\"avg_glucose_level\",\"avg_glucose_level\",\"avg_glucose_level\",\"avg_glucose_level\",\"avg_glucose_level\",\"avg_glucose_level\",\"avg_glucose_level\",\"avg_glucose_level\",\"avg_glucose_level\",\"avg_glucose_level\",\"avg_glucose_level\",\"avg_glucose_level\",\"avg_glucose_level\",\"avg_glucose_level\",\"avg_glucose_level\",\"avg_glucose_level\",\"avg_glucose_level\",\"avg_glucose_level\",\"avg_glucose_level\",\"avg_glucose_level\",\"avg_glucose_level\",\"avg_glucose_level\",\"avg_glucose_level\",\"avg_glucose_level\",\"avg_glucose_level\",\"avg_glucose_level\",\"avg_glucose_level\",\"avg_glucose_level\",\"avg_glucose_level\",\"avg_glucose_level\",\"avg_glucose_level\",\"avg_glucose_level\",\"avg_glucose_level\",\"avg_glucose_level\",\"avg_glucose_level\",\"avg_glucose_level\",\"avg_glucose_level\",\"avg_glucose_level\",\"avg_glucose_level\",\"avg_glucose_level\",\"avg_glucose_level\",\"avg_glucose_level\",\"avg_glucose_level\",\"avg_glucose_level\",\"avg_glucose_level\",\"avg_glucose_level\",\"avg_glucose_level\",\"avg_glucose_level\",\"avg_glucose_level\",\"avg_glucose_level\",\"avg_glucose_level\",\"avg_glucose_level\",\"avg_glucose_level\",\"avg_glucose_level\",\"avg_glucose_level\",\"avg_glucose_level\",\"avg_glucose_level\",\"avg_glucose_level\",\"avg_glucose_level\",\"avg_glucose_level\",\"avg_glucose_level\",\"avg_glucose_level\",\"avg_glucose_level\",\"avg_glucose_level\",\"avg_glucose_level\",\"avg_glucose_level\",\"avg_glucose_level\",\"avg_glucose_level\",\"avg_glucose_level\",\"avg_glucose_level\",\"avg_glucose_level\",\"avg_glucose_level\",\"avg_glucose_level\",\"avg_glucose_level\",\"avg_glucose_level\",\"avg_glucose_level\",\"avg_glucose_level\",\"avg_glucose_level\",\"avg_glucose_level\",\"avg_glucose_level\",\"avg_glucose_level\",\"avg_glucose_level\",\"avg_glucose_level\",\"avg_glucose_level\",\"avg_glucose_level\",\"avg_glucose_level\",\"avg_glucose_level\",\"avg_glucose_level\",\"avg_glucose_level\",\"avg_glucose_level\",\"avg_glucose_level\",\"avg_glucose_level\",\"avg_glucose_level\",\"avg_glucose_level\",\"avg_glucose_level\",\"avg_glucose_level\",\"avg_glucose_level\",\"avg_glucose_level\",\"avg_glucose_level\",\"avg_glucose_level\",\"avg_glucose_level\",\"avg_glucose_level\",\"avg_glucose_level\",\"avg_glucose_level\",\"avg_glucose_level\",\"avg_glucose_level\",\"avg_glucose_level\",\"avg_glucose_level\",\"avg_glucose_level\",\"avg_glucose_level\",\"avg_glucose_level\",\"avg_glucose_level\",\"avg_glucose_level\",\"avg_glucose_level\",\"avg_glucose_level\",\"avg_glucose_level\",\"avg_glucose_level\",\"avg_glucose_level\",\"avg_glucose_level\",\"avg_glucose_level\",\"avg_glucose_level\",\"avg_glucose_level\",\"avg_glucose_level\",\"avg_glucose_level\",\"avg_glucose_level\",\"avg_glucose_level\",\"avg_glucose_level\",\"avg_glucose_level\",\"avg_glucose_level\",\"avg_glucose_level\",\"avg_glucose_level\",\"avg_glucose_level\",\"avg_glucose_level\",\"avg_glucose_level\",\"avg_glucose_level\",\"avg_glucose_level\",\"avg_glucose_level\",\"avg_glucose_level\",\"avg_glucose_level\",\"avg_glucose_level\",\"avg_glucose_level\",\"avg_glucose_level\",\"avg_glucose_level\",\"avg_glucose_level\",\"avg_glucose_level\",\"avg_glucose_level\",\"avg_glucose_level\",\"avg_glucose_level\",\"avg_glucose_level\",\"avg_glucose_level\",\"avg_glucose_level\",\"avg_glucose_level\",\"avg_glucose_level\",\"avg_glucose_level\",\"avg_glucose_level\",\"avg_glucose_level\",\"avg_glucose_level\",\"avg_glucose_level\",\"avg_glucose_level\",\"avg_glucose_level\",\"avg_glucose_level\",\"avg_glucose_level\",\"avg_glucose_level\",\"avg_glucose_level\",\"avg_glucose_level\",\"avg_glucose_level\",\"avg_glucose_level\",\"avg_glucose_level\",\"avg_glucose_level\",\"avg_glucose_level\",\"avg_glucose_level\",\"avg_glucose_level\",\"avg_glucose_level\",\"avg_glucose_level\",\"avg_glucose_level\",\"avg_glucose_level\",\"avg_glucose_level\",\"avg_glucose_level\",\"avg_glucose_level\",\"avg_glucose_level\",\"avg_glucose_level\",\"avg_glucose_level\",\"avg_glucose_level\",\"avg_glucose_level\",\"avg_glucose_level\",\"avg_glucose_level\",\"avg_glucose_level\",\"avg_glucose_level\",\"avg_glucose_level\",\"avg_glucose_level\",\"avg_glucose_level\",\"avg_glucose_level\",\"avg_glucose_level\",\"avg_glucose_level\",\"avg_glucose_level\",\"avg_glucose_level\",\"avg_glucose_level\",\"avg_glucose_level\",\"avg_glucose_level\",\"avg_glucose_level\",\"avg_glucose_level\",\"avg_glucose_level\",\"avg_glucose_level\",\"avg_glucose_level\",\"avg_glucose_level\",\"avg_glucose_level\",\"avg_glucose_level\",\"avg_glucose_level\",\"avg_glucose_level\",\"avg_glucose_level\",\"avg_glucose_level\",\"avg_glucose_level\",\"avg_glucose_level\",\"avg_glucose_level\",\"avg_glucose_level\",\"avg_glucose_level\",\"avg_glucose_level\",\"avg_glucose_level\",\"avg_glucose_level\",\"avg_glucose_level\",\"avg_glucose_level\",\"avg_glucose_level\",\"avg_glucose_level\",\"avg_glucose_level\",\"avg_glucose_level\",\"avg_glucose_level\",\"avg_glucose_level\",\"avg_glucose_level\",\"avg_glucose_level\",\"avg_glucose_level\",\"avg_glucose_level\",\"avg_glucose_level\",\"avg_glucose_level\",\"avg_glucose_level\",\"avg_glucose_level\",\"avg_glucose_level\",\"avg_glucose_level\",\"avg_glucose_level\",\"avg_glucose_level\",\"avg_glucose_level\",\"avg_glucose_level\",\"avg_glucose_level\",\"avg_glucose_level\",\"avg_glucose_level\",\"avg_glucose_level\",\"avg_glucose_level\",\"avg_glucose_level\",\"avg_glucose_level\",\"avg_glucose_level\",\"avg_glucose_level\",\"avg_glucose_level\",\"avg_glucose_level\",\"avg_glucose_level\",\"avg_glucose_level\",\"avg_glucose_level\",\"avg_glucose_level\",\"avg_glucose_level\",\"avg_glucose_level\",\"avg_glucose_level\",\"avg_glucose_level\",\"avg_glucose_level\",\"avg_glucose_level\",\"avg_glucose_level\",\"avg_glucose_level\",\"avg_glucose_level\",\"avg_glucose_level\",\"avg_glucose_level\",\"avg_glucose_level\",\"avg_glucose_level\",\"avg_glucose_level\",\"avg_glucose_level\",\"avg_glucose_level\",\"avg_glucose_level\",\"avg_glucose_level\",\"avg_glucose_level\",\"avg_glucose_level\",\"avg_glucose_level\",\"avg_glucose_level\",\"avg_glucose_level\",\"avg_glucose_level\",\"avg_glucose_level\",\"avg_glucose_level\",\"avg_glucose_level\",\"avg_glucose_level\",\"avg_glucose_level\",\"avg_glucose_level\",\"avg_glucose_level\",\"avg_glucose_level\",\"avg_glucose_level\",\"avg_glucose_level\",\"avg_glucose_level\",\"avg_glucose_level\",\"avg_glucose_level\",\"avg_glucose_level\",\"avg_glucose_level\",\"avg_glucose_level\",\"avg_glucose_level\",\"avg_glucose_level\",\"avg_glucose_level\",\"avg_glucose_level\",\"avg_glucose_level\",\"avg_glucose_level\",\"avg_glucose_level\",\"avg_glucose_level\",\"avg_glucose_level\",\"avg_glucose_level\",\"avg_glucose_level\",\"avg_glucose_level\",\"avg_glucose_level\",\"avg_glucose_level\",\"avg_glucose_level\",\"avg_glucose_level\",\"avg_glucose_level\",\"avg_glucose_level\",\"avg_glucose_level\",\"avg_glucose_level\",\"avg_glucose_level\",\"avg_glucose_level\",\"avg_glucose_level\",\"avg_glucose_level\",\"avg_glucose_level\",\"avg_glucose_level\",\"avg_glucose_level\",\"avg_glucose_level\",\"avg_glucose_level\",\"avg_glucose_level\",\"avg_glucose_level\",\"avg_glucose_level\",\"avg_glucose_level\",\"avg_glucose_level\",\"avg_glucose_level\",\"avg_glucose_level\",\"avg_glucose_level\",\"avg_glucose_level\",\"avg_glucose_level\",\"avg_glucose_level\",\"avg_glucose_level\",\"avg_glucose_level\",\"avg_glucose_level\",\"avg_glucose_level\",\"avg_glucose_level\",\"avg_glucose_level\",\"avg_glucose_level\",\"avg_glucose_level\",\"avg_glucose_level\",\"avg_glucose_level\",\"avg_glucose_level\",\"avg_glucose_level\",\"avg_glucose_level\",\"avg_glucose_level\",\"avg_glucose_level\",\"avg_glucose_level\",\"avg_glucose_level\",\"avg_glucose_level\",\"avg_glucose_level\",\"avg_glucose_level\",\"avg_glucose_level\",\"avg_glucose_level\",\"avg_glucose_level\",\"avg_glucose_level\",\"avg_glucose_level\",\"avg_glucose_level\",\"avg_glucose_level\",\"avg_glucose_level\",\"avg_glucose_level\",\"avg_glucose_level\",\"avg_glucose_level\",\"avg_glucose_level\",\"avg_glucose_level\",\"avg_glucose_level\",\"avg_glucose_level\",\"avg_glucose_level\",\"avg_glucose_level\",\"avg_glucose_level\",\"avg_glucose_level\",\"avg_glucose_level\",\"avg_glucose_level\",\"avg_glucose_level\",\"avg_glucose_level\",\"avg_glucose_level\",\"avg_glucose_level\",\"avg_glucose_level\",\"avg_glucose_level\",\"avg_glucose_level\",\"avg_glucose_level\",\"avg_glucose_level\",\"avg_glucose_level\",\"avg_glucose_level\",\"avg_glucose_level\",\"avg_glucose_level\",\"avg_glucose_level\",\"avg_glucose_level\",\"avg_glucose_level\",\"avg_glucose_level\",\"avg_glucose_level\",\"avg_glucose_level\",\"avg_glucose_level\",\"avg_glucose_level\",\"avg_glucose_level\",\"avg_glucose_level\",\"avg_glucose_level\",\"avg_glucose_level\",\"avg_glucose_level\",\"avg_glucose_level\",\"avg_glucose_level\",\"avg_glucose_level\",\"avg_glucose_level\",\"avg_glucose_level\",\"avg_glucose_level\",\"avg_glucose_level\",\"avg_glucose_level\",\"avg_glucose_level\",\"avg_glucose_level\",\"avg_glucose_level\",\"avg_glucose_level\",\"avg_glucose_level\",\"avg_glucose_level\",\"avg_glucose_level\",\"avg_glucose_level\",\"avg_glucose_level\",\"avg_glucose_level\",\"avg_glucose_level\",\"avg_glucose_level\",\"avg_glucose_level\",\"avg_glucose_level\",\"avg_glucose_level\",\"avg_glucose_level\",\"avg_glucose_level\",\"avg_glucose_level\",\"avg_glucose_level\",\"avg_glucose_level\",\"avg_glucose_level\",\"avg_glucose_level\",\"avg_glucose_level\",\"avg_glucose_level\",\"avg_glucose_level\",\"avg_glucose_level\",\"avg_glucose_level\",\"avg_glucose_level\",\"avg_glucose_level\",\"avg_glucose_level\",\"avg_glucose_level\",\"avg_glucose_level\",\"avg_glucose_level\",\"avg_glucose_level\",\"avg_glucose_level\",\"avg_glucose_level\",\"avg_glucose_level\",\"avg_glucose_level\",\"avg_glucose_level\",\"avg_glucose_level\",\"avg_glucose_level\",\"avg_glucose_level\",\"avg_glucose_level\",\"avg_glucose_level\",\"avg_glucose_level\",\"avg_glucose_level\",\"avg_glucose_level\",\"avg_glucose_level\",\"avg_glucose_level\",\"avg_glucose_level\",\"avg_glucose_level\",\"avg_glucose_level\",\"avg_glucose_level\",\"avg_glucose_level\",\"avg_glucose_level\",\"avg_glucose_level\",\"avg_glucose_level\",\"avg_glucose_level\",\"avg_glucose_level\",\"avg_glucose_level\",\"avg_glucose_level\",\"avg_glucose_level\",\"avg_glucose_level\",\"avg_glucose_level\",\"avg_glucose_level\",\"avg_glucose_level\",\"avg_glucose_level\",\"avg_glucose_level\",\"avg_glucose_level\",\"avg_glucose_level\",\"avg_glucose_level\",\"avg_glucose_level\",\"avg_glucose_level\",\"avg_glucose_level\",\"avg_glucose_level\",\"avg_glucose_level\",\"avg_glucose_level\",\"avg_glucose_level\",\"avg_glucose_level\",\"avg_glucose_level\",\"avg_glucose_level\",\"avg_glucose_level\",\"avg_glucose_level\",\"avg_glucose_level\",\"avg_glucose_level\",\"avg_glucose_level\",\"avg_glucose_level\",\"avg_glucose_level\",\"avg_glucose_level\",\"avg_glucose_level\",\"avg_glucose_level\",\"avg_glucose_level\",\"avg_glucose_level\",\"avg_glucose_level\",\"avg_glucose_level\",\"avg_glucose_level\",\"avg_glucose_level\",\"avg_glucose_level\",\"avg_glucose_level\",\"avg_glucose_level\",\"avg_glucose_level\",\"avg_glucose_level\",\"avg_glucose_level\",\"avg_glucose_level\",\"avg_glucose_level\",\"avg_glucose_level\",\"avg_glucose_level\",\"avg_glucose_level\",\"avg_glucose_level\",\"avg_glucose_level\",\"avg_glucose_level\",\"avg_glucose_level\",\"avg_glucose_level\",\"avg_glucose_level\",\"avg_glucose_level\",\"avg_glucose_level\",\"avg_glucose_level\",\"avg_glucose_level\",\"avg_glucose_level\",\"avg_glucose_level\",\"avg_glucose_level\",\"avg_glucose_level\",\"avg_glucose_level\",\"avg_glucose_level\",\"avg_glucose_level\",\"avg_glucose_level\",\"avg_glucose_level\",\"avg_glucose_level\",\"avg_glucose_level\",\"avg_glucose_level\",\"avg_glucose_level\",\"avg_glucose_level\",\"avg_glucose_level\",\"avg_glucose_level\",\"avg_glucose_level\",\"avg_glucose_level\",\"avg_glucose_level\",\"avg_glucose_level\",\"avg_glucose_level\",\"avg_glucose_level\",\"avg_glucose_level\",\"avg_glucose_level\",\"avg_glucose_level\",\"avg_glucose_level\",\"avg_glucose_level\",\"avg_glucose_level\",\"avg_glucose_level\",\"avg_glucose_level\",\"avg_glucose_level\",\"avg_glucose_level\",\"avg_glucose_level\",\"avg_glucose_level\",\"avg_glucose_level\",\"avg_glucose_level\",\"avg_glucose_level\",\"avg_glucose_level\",\"avg_glucose_level\",\"avg_glucose_level\",\"avg_glucose_level\",\"avg_glucose_level\",\"avg_glucose_level\",\"avg_glucose_level\",\"avg_glucose_level\",\"avg_glucose_level\",\"avg_glucose_level\",\"avg_glucose_level\",\"avg_glucose_level\",\"avg_glucose_level\",\"avg_glucose_level\",\"avg_glucose_level\",\"avg_glucose_level\",\"avg_glucose_level\",\"avg_glucose_level\",\"avg_glucose_level\",\"avg_glucose_level\",\"avg_glucose_level\",\"avg_glucose_level\",\"avg_glucose_level\",\"avg_glucose_level\",\"avg_glucose_level\",\"avg_glucose_level\",\"avg_glucose_level\",\"avg_glucose_level\",\"avg_glucose_level\",\"avg_glucose_level\",\"avg_glucose_level\",\"avg_glucose_level\",\"avg_glucose_level\",\"avg_glucose_level\",\"avg_glucose_level\",\"avg_glucose_level\",\"avg_glucose_level\",\"avg_glucose_level\",\"avg_glucose_level\",\"avg_glucose_level\",\"avg_glucose_level\",\"avg_glucose_level\",\"avg_glucose_level\",\"avg_glucose_level\",\"avg_glucose_level\",\"avg_glucose_level\",\"avg_glucose_level\",\"avg_glucose_level\",\"avg_glucose_level\",\"avg_glucose_level\",\"avg_glucose_level\",\"avg_glucose_level\",\"avg_glucose_level\",\"avg_glucose_level\",\"avg_glucose_level\",\"avg_glucose_level\",\"avg_glucose_level\",\"avg_glucose_level\",\"avg_glucose_level\",\"avg_glucose_level\",\"avg_glucose_level\",\"avg_glucose_level\",\"avg_glucose_level\",\"avg_glucose_level\",\"avg_glucose_level\",\"avg_glucose_level\",\"avg_glucose_level\",\"avg_glucose_level\",\"avg_glucose_level\",\"avg_glucose_level\",\"avg_glucose_level\",\"avg_glucose_level\",\"avg_glucose_level\",\"avg_glucose_level\",\"avg_glucose_level\",\"avg_glucose_level\",\"avg_glucose_level\",\"avg_glucose_level\",\"avg_glucose_level\",\"avg_glucose_level\",\"avg_glucose_level\",\"avg_glucose_level\",\"avg_glucose_level\",\"avg_glucose_level\",\"avg_glucose_level\",\"avg_glucose_level\",\"avg_glucose_level\",\"avg_glucose_level\",\"avg_glucose_level\",\"avg_glucose_level\",\"avg_glucose_level\",\"avg_glucose_level\",\"avg_glucose_level\",\"avg_glucose_level\",\"avg_glucose_level\",\"avg_glucose_level\",\"avg_glucose_level\",\"avg_glucose_level\",\"avg_glucose_level\",\"avg_glucose_level\",\"avg_glucose_level\",\"avg_glucose_level\",\"avg_glucose_level\",\"avg_glucose_level\",\"avg_glucose_level\",\"avg_glucose_level\",\"avg_glucose_level\",\"avg_glucose_level\",\"avg_glucose_level\",\"avg_glucose_level\",\"avg_glucose_level\",\"avg_glucose_level\",\"avg_glucose_level\",\"avg_glucose_level\",\"avg_glucose_level\",\"avg_glucose_level\",\"avg_glucose_level\",\"avg_glucose_level\",\"avg_glucose_level\",\"avg_glucose_level\",\"avg_glucose_level\",\"avg_glucose_level\",\"avg_glucose_level\",\"avg_glucose_level\",\"avg_glucose_level\",\"avg_glucose_level\",\"avg_glucose_level\",\"avg_glucose_level\",\"avg_glucose_level\",\"avg_glucose_level\",\"avg_glucose_level\",\"avg_glucose_level\",\"avg_glucose_level\",\"avg_glucose_level\",\"avg_glucose_level\",\"avg_glucose_level\",\"avg_glucose_level\",\"avg_glucose_level\",\"avg_glucose_level\",\"avg_glucose_level\",\"avg_glucose_level\",\"avg_glucose_level\",\"avg_glucose_level\",\"avg_glucose_level\",\"avg_glucose_level\",\"avg_glucose_level\",\"avg_glucose_level\",\"avg_glucose_level\",\"avg_glucose_level\",\"avg_glucose_level\",\"avg_glucose_level\",\"avg_glucose_level\",\"avg_glucose_level\",\"avg_glucose_level\",\"avg_glucose_level\",\"avg_glucose_level\",\"avg_glucose_level\",\"avg_glucose_level\",\"avg_glucose_level\",\"avg_glucose_level\",\"avg_glucose_level\",\"avg_glucose_level\",\"avg_glucose_level\",\"avg_glucose_level\",\"avg_glucose_level\",\"avg_glucose_level\",\"avg_glucose_level\",\"avg_glucose_level\",\"avg_glucose_level\",\"avg_glucose_level\",\"avg_glucose_level\",\"avg_glucose_level\",\"avg_glucose_level\",\"avg_glucose_level\",\"avg_glucose_level\",\"avg_glucose_level\",\"avg_glucose_level\",\"avg_glucose_level\",\"avg_glucose_level\",\"avg_glucose_level\",\"avg_glucose_level\",\"avg_glucose_level\",\"avg_glucose_level\",\"avg_glucose_level\",\"avg_glucose_level\",\"avg_glucose_level\",\"avg_glucose_level\",\"avg_glucose_level\",\"avg_glucose_level\",\"avg_glucose_level\",\"avg_glucose_level\",\"avg_glucose_level\",\"avg_glucose_level\",\"avg_glucose_level\",\"avg_glucose_level\",\"avg_glucose_level\",\"avg_glucose_level\",\"avg_glucose_level\",\"avg_glucose_level\",\"avg_glucose_level\",\"avg_glucose_level\",\"avg_glucose_level\",\"avg_glucose_level\",\"avg_glucose_level\",\"avg_glucose_level\",\"avg_glucose_level\",\"avg_glucose_level\",\"avg_glucose_level\",\"avg_glucose_level\",\"avg_glucose_level\",\"avg_glucose_level\",\"avg_glucose_level\",\"avg_glucose_level\",\"avg_glucose_level\",\"avg_glucose_level\",\"avg_glucose_level\",\"avg_glucose_level\",\"avg_glucose_level\",\"avg_glucose_level\",\"avg_glucose_level\",\"avg_glucose_level\",\"avg_glucose_level\",\"avg_glucose_level\",\"avg_glucose_level\",\"avg_glucose_level\",\"avg_glucose_level\",\"avg_glucose_level\",\"avg_glucose_level\",\"avg_glucose_level\",\"avg_glucose_level\",\"avg_glucose_level\",\"avg_glucose_level\",\"avg_glucose_level\",\"avg_glucose_level\",\"avg_glucose_level\",\"avg_glucose_level\",\"avg_glucose_level\",\"avg_glucose_level\",\"avg_glucose_level\",\"avg_glucose_level\",\"avg_glucose_level\",\"avg_glucose_level\",\"avg_glucose_level\",\"avg_glucose_level\",\"avg_glucose_level\",\"avg_glucose_level\",\"avg_glucose_level\",\"avg_glucose_level\",\"avg_glucose_level\",\"avg_glucose_level\",\"avg_glucose_level\",\"avg_glucose_level\",\"avg_glucose_level\",\"avg_glucose_level\",\"avg_glucose_level\",\"avg_glucose_level\",\"avg_glucose_level\",\"avg_glucose_level\",\"avg_glucose_level\",\"avg_glucose_level\",\"avg_glucose_level\",\"avg_glucose_level\",\"avg_glucose_level\",\"avg_glucose_level\",\"avg_glucose_level\",\"avg_glucose_level\",\"avg_glucose_level\",\"avg_glucose_level\",\"avg_glucose_level\",\"avg_glucose_level\",\"avg_glucose_level\",\"avg_glucose_level\",\"avg_glucose_level\",\"avg_glucose_level\",\"avg_glucose_level\",\"avg_glucose_level\",\"avg_glucose_level\",\"avg_glucose_level\",\"avg_glucose_level\",\"avg_glucose_level\",\"avg_glucose_level\",\"avg_glucose_level\",\"avg_glucose_level\",\"avg_glucose_level\",\"avg_glucose_level\",\"avg_glucose_level\",\"avg_glucose_level\",\"avg_glucose_level\",\"avg_glucose_level\",\"avg_glucose_level\",\"avg_glucose_level\",\"avg_glucose_level\",\"avg_glucose_level\",\"avg_glucose_level\",\"avg_glucose_level\",\"avg_glucose_level\",\"avg_glucose_level\",\"avg_glucose_level\",\"avg_glucose_level\",\"avg_glucose_level\",\"avg_glucose_level\",\"avg_glucose_level\",\"avg_glucose_level\",\"avg_glucose_level\",\"avg_glucose_level\",\"avg_glucose_level\",\"avg_glucose_level\",\"avg_glucose_level\",\"avg_glucose_level\",\"avg_glucose_level\",\"avg_glucose_level\",\"avg_glucose_level\",\"avg_glucose_level\",\"avg_glucose_level\",\"avg_glucose_level\",\"avg_glucose_level\",\"avg_glucose_level\",\"avg_glucose_level\",\"avg_glucose_level\",\"avg_glucose_level\",\"avg_glucose_level\",\"avg_glucose_level\",\"avg_glucose_level\",\"avg_glucose_level\",\"avg_glucose_level\",\"avg_glucose_level\",\"avg_glucose_level\",\"avg_glucose_level\",\"avg_glucose_level\",\"avg_glucose_level\",\"avg_glucose_level\",\"avg_glucose_level\",\"avg_glucose_level\",\"avg_glucose_level\",\"avg_glucose_level\",\"avg_glucose_level\",\"avg_glucose_level\",\"avg_glucose_level\",\"avg_glucose_level\",\"avg_glucose_level\",\"avg_glucose_level\",\"avg_glucose_level\",\"avg_glucose_level\",\"avg_glucose_level\",\"avg_glucose_level\",\"avg_glucose_level\",\"avg_glucose_level\",\"avg_glucose_level\",\"avg_glucose_level\",\"avg_glucose_level\",\"avg_glucose_level\",\"avg_glucose_level\",\"avg_glucose_level\",\"avg_glucose_level\",\"avg_glucose_level\",\"avg_glucose_level\",\"avg_glucose_level\",\"avg_glucose_level\",\"avg_glucose_level\",\"avg_glucose_level\",\"avg_glucose_level\",\"avg_glucose_level\",\"avg_glucose_level\",\"avg_glucose_level\",\"avg_glucose_level\",\"avg_glucose_level\",\"avg_glucose_level\",\"avg_glucose_level\",\"avg_glucose_level\",\"avg_glucose_level\",\"avg_glucose_level\",\"avg_glucose_level\",\"avg_glucose_level\",\"avg_glucose_level\",\"avg_glucose_level\",\"avg_glucose_level\",\"avg_glucose_level\",\"avg_glucose_level\",\"avg_glucose_level\",\"avg_glucose_level\",\"avg_glucose_level\",\"avg_glucose_level\",\"avg_glucose_level\",\"avg_glucose_level\",\"avg_glucose_level\",\"avg_glucose_level\",\"avg_glucose_level\",\"avg_glucose_level\",\"avg_glucose_level\",\"avg_glucose_level\",\"avg_glucose_level\",\"avg_glucose_level\",\"avg_glucose_level\",\"avg_glucose_level\",\"avg_glucose_level\",\"avg_glucose_level\",\"avg_glucose_level\",\"avg_glucose_level\",\"avg_glucose_level\",\"avg_glucose_level\",\"avg_glucose_level\",\"avg_glucose_level\",\"avg_glucose_level\",\"avg_glucose_level\",\"avg_glucose_level\",\"avg_glucose_level\",\"avg_glucose_level\",\"avg_glucose_level\",\"avg_glucose_level\",\"avg_glucose_level\",\"avg_glucose_level\",\"avg_glucose_level\",\"avg_glucose_level\",\"avg_glucose_level\",\"avg_glucose_level\",\"avg_glucose_level\",\"avg_glucose_level\",\"avg_glucose_level\",\"avg_glucose_level\",\"avg_glucose_level\",\"avg_glucose_level\",\"avg_glucose_level\",\"avg_glucose_level\",\"avg_glucose_level\",\"avg_glucose_level\",\"avg_glucose_level\",\"avg_glucose_level\",\"avg_glucose_level\",\"avg_glucose_level\",\"avg_glucose_level\",\"avg_glucose_level\",\"avg_glucose_level\",\"avg_glucose_level\",\"avg_glucose_level\",\"avg_glucose_level\",\"avg_glucose_level\",\"avg_glucose_level\",\"avg_glucose_level\",\"avg_glucose_level\",\"avg_glucose_level\",\"avg_glucose_level\",\"avg_glucose_level\",\"avg_glucose_level\",\"avg_glucose_level\",\"avg_glucose_level\",\"avg_glucose_level\",\"avg_glucose_level\",\"avg_glucose_level\",\"avg_glucose_level\",\"avg_glucose_level\",\"avg_glucose_level\",\"avg_glucose_level\",\"avg_glucose_level\",\"avg_glucose_level\",\"avg_glucose_level\",\"avg_glucose_level\",\"avg_glucose_level\",\"avg_glucose_level\",\"avg_glucose_level\",\"avg_glucose_level\",\"avg_glucose_level\",\"avg_glucose_level\",\"avg_glucose_level\",\"avg_glucose_level\",\"avg_glucose_level\",\"avg_glucose_level\",\"avg_glucose_level\",\"avg_glucose_level\",\"avg_glucose_level\",\"avg_glucose_level\",\"avg_glucose_level\",\"avg_glucose_level\",\"avg_glucose_level\",\"avg_glucose_level\",\"avg_glucose_level\",\"avg_glucose_level\",\"avg_glucose_level\",\"avg_glucose_level\",\"avg_glucose_level\",\"avg_glucose_level\",\"avg_glucose_level\",\"avg_glucose_level\",\"avg_glucose_level\",\"avg_glucose_level\",\"avg_glucose_level\",\"avg_glucose_level\",\"avg_glucose_level\",\"avg_glucose_level\",\"avg_glucose_level\",\"avg_glucose_level\",\"avg_glucose_level\",\"avg_glucose_level\",\"avg_glucose_level\",\"avg_glucose_level\",\"avg_glucose_level\",\"avg_glucose_level\",\"avg_glucose_level\",\"avg_glucose_level\",\"avg_glucose_level\",\"avg_glucose_level\",\"avg_glucose_level\",\"avg_glucose_level\",\"avg_glucose_level\",\"avg_glucose_level\",\"avg_glucose_level\",\"avg_glucose_level\",\"avg_glucose_level\",\"avg_glucose_level\",\"avg_glucose_level\",\"avg_glucose_level\",\"avg_glucose_level\",\"avg_glucose_level\",\"avg_glucose_level\",\"avg_glucose_level\",\"avg_glucose_level\",\"avg_glucose_level\",\"avg_glucose_level\",\"avg_glucose_level\",\"avg_glucose_level\",\"avg_glucose_level\",\"avg_glucose_level\",\"avg_glucose_level\",\"avg_glucose_level\",\"avg_glucose_level\",\"avg_glucose_level\",\"avg_glucose_level\",\"avg_glucose_level\",\"avg_glucose_level\",\"avg_glucose_level\",\"avg_glucose_level\",\"avg_glucose_level\",\"avg_glucose_level\",\"avg_glucose_level\",\"avg_glucose_level\",\"avg_glucose_level\",\"avg_glucose_level\",\"avg_glucose_level\",\"avg_glucose_level\",\"avg_glucose_level\",\"avg_glucose_level\",\"avg_glucose_level\",\"avg_glucose_level\",\"avg_glucose_level\",\"avg_glucose_level\",\"avg_glucose_level\",\"avg_glucose_level\",\"avg_glucose_level\",\"avg_glucose_level\",\"avg_glucose_level\",\"avg_glucose_level\",\"avg_glucose_level\",\"avg_glucose_level\",\"avg_glucose_level\",\"avg_glucose_level\",\"avg_glucose_level\",\"avg_glucose_level\",\"avg_glucose_level\",\"avg_glucose_level\",\"avg_glucose_level\",\"avg_glucose_level\",\"avg_glucose_level\",\"avg_glucose_level\",\"avg_glucose_level\",\"avg_glucose_level\",\"avg_glucose_level\",\"avg_glucose_level\",\"avg_glucose_level\",\"avg_glucose_level\",\"avg_glucose_level\",\"avg_glucose_level\",\"avg_glucose_level\",\"avg_glucose_level\",\"avg_glucose_level\",\"avg_glucose_level\",\"avg_glucose_level\",\"avg_glucose_level\",\"avg_glucose_level\",\"avg_glucose_level\",\"avg_glucose_level\",\"avg_glucose_level\",\"avg_glucose_level\",\"avg_glucose_level\",\"avg_glucose_level\",\"avg_glucose_level\",\"avg_glucose_level\",\"avg_glucose_level\",\"avg_glucose_level\",\"avg_glucose_level\",\"avg_glucose_level\",\"avg_glucose_level\",\"avg_glucose_level\",\"avg_glucose_level\",\"avg_glucose_level\",\"avg_glucose_level\",\"avg_glucose_level\",\"avg_glucose_level\",\"avg_glucose_level\",\"avg_glucose_level\",\"avg_glucose_level\",\"avg_glucose_level\",\"avg_glucose_level\",\"avg_glucose_level\",\"avg_glucose_level\",\"avg_glucose_level\",\"avg_glucose_level\",\"avg_glucose_level\",\"avg_glucose_level\",\"avg_glucose_level\",\"avg_glucose_level\",\"avg_glucose_level\",\"avg_glucose_level\",\"avg_glucose_level\",\"avg_glucose_level\",\"avg_glucose_level\",\"avg_glucose_level\",\"avg_glucose_level\",\"avg_glucose_level\",\"avg_glucose_level\",\"avg_glucose_level\",\"avg_glucose_level\",\"avg_glucose_level\",\"avg_glucose_level\",\"avg_glucose_level\",\"avg_glucose_level\",\"avg_glucose_level\",\"avg_glucose_level\",\"avg_glucose_level\",\"avg_glucose_level\",\"avg_glucose_level\",\"avg_glucose_level\",\"avg_glucose_level\",\"avg_glucose_level\",\"avg_glucose_level\",\"avg_glucose_level\",\"avg_glucose_level\",\"avg_glucose_level\",\"avg_glucose_level\",\"avg_glucose_level\",\"avg_glucose_level\",\"avg_glucose_level\",\"avg_glucose_level\",\"avg_glucose_level\",\"avg_glucose_level\",\"avg_glucose_level\",\"avg_glucose_level\",\"avg_glucose_level\",\"avg_glucose_level\",\"avg_glucose_level\",\"avg_glucose_level\",\"avg_glucose_level\",\"avg_glucose_level\",\"avg_glucose_level\",\"avg_glucose_level\",\"avg_glucose_level\",\"avg_glucose_level\",\"avg_glucose_level\",\"avg_glucose_level\",\"avg_glucose_level\",\"avg_glucose_level\",\"avg_glucose_level\",\"avg_glucose_level\",\"avg_glucose_level\",\"avg_glucose_level\",\"avg_glucose_level\",\"avg_glucose_level\",\"avg_glucose_level\",\"avg_glucose_level\",\"avg_glucose_level\",\"avg_glucose_level\",\"avg_glucose_level\",\"avg_glucose_level\",\"avg_glucose_level\",\"avg_glucose_level\",\"avg_glucose_level\",\"avg_glucose_level\",\"avg_glucose_level\",\"avg_glucose_level\",\"avg_glucose_level\",\"avg_glucose_level\",\"avg_glucose_level\",\"avg_glucose_level\",\"avg_glucose_level\",\"avg_glucose_level\",\"avg_glucose_level\",\"avg_glucose_level\",\"avg_glucose_level\",\"avg_glucose_level\",\"avg_glucose_level\",\"avg_glucose_level\",\"avg_glucose_level\",\"avg_glucose_level\",\"avg_glucose_level\",\"avg_glucose_level\",\"avg_glucose_level\",\"avg_glucose_level\",\"avg_glucose_level\",\"avg_glucose_level\",\"avg_glucose_level\",\"avg_glucose_level\",\"avg_glucose_level\",\"avg_glucose_level\",\"avg_glucose_level\",\"avg_glucose_level\",\"avg_glucose_level\",\"avg_glucose_level\",\"avg_glucose_level\",\"avg_glucose_level\",\"avg_glucose_level\",\"avg_glucose_level\",\"avg_glucose_level\",\"avg_glucose_level\",\"avg_glucose_level\",\"avg_glucose_level\",\"avg_glucose_level\",\"avg_glucose_level\",\"avg_glucose_level\",\"avg_glucose_level\",\"avg_glucose_level\",\"avg_glucose_level\",\"avg_glucose_level\",\"avg_glucose_level\",\"avg_glucose_level\",\"avg_glucose_level\",\"avg_glucose_level\",\"avg_glucose_level\",\"avg_glucose_level\",\"avg_glucose_level\",\"avg_glucose_level\",\"avg_glucose_level\",\"avg_glucose_level\",\"avg_glucose_level\",\"avg_glucose_level\",\"avg_glucose_level\",\"avg_glucose_level\",\"avg_glucose_level\",\"avg_glucose_level\",\"avg_glucose_level\",\"avg_glucose_level\",\"avg_glucose_level\",\"avg_glucose_level\",\"avg_glucose_level\",\"avg_glucose_level\",\"avg_glucose_level\",\"avg_glucose_level\",\"avg_glucose_level\",\"avg_glucose_level\",\"avg_glucose_level\",\"avg_glucose_level\",\"avg_glucose_level\",\"avg_glucose_level\",\"avg_glucose_level\",\"avg_glucose_level\",\"avg_glucose_level\",\"avg_glucose_level\",\"avg_glucose_level\",\"avg_glucose_level\",\"avg_glucose_level\",\"avg_glucose_level\",\"avg_glucose_level\",\"avg_glucose_level\",\"avg_glucose_level\",\"avg_glucose_level\",\"avg_glucose_level\",\"avg_glucose_level\",\"avg_glucose_level\",\"avg_glucose_level\",\"avg_glucose_level\",\"avg_glucose_level\",\"avg_glucose_level\",\"avg_glucose_level\",\"avg_glucose_level\",\"avg_glucose_level\",\"avg_glucose_level\",\"avg_glucose_level\",\"avg_glucose_level\",\"avg_glucose_level\",\"avg_glucose_level\",\"avg_glucose_level\",\"avg_glucose_level\",\"avg_glucose_level\",\"avg_glucose_level\"],\"yaxis\":\"y2\",\"type\":\"scatter\"}],                        {\"barmode\":\"overlay\",\"hovermode\":\"closest\",\"legend\":{\"traceorder\":\"reversed\"},\"xaxis\":{\"anchor\":\"y2\",\"domain\":[0.0,1.0],\"zeroline\":false},\"yaxis\":{\"anchor\":\"free\",\"domain\":[0.35,1],\"position\":0.0},\"yaxis2\":{\"anchor\":\"x\",\"domain\":[0,0.25],\"dtick\":1,\"showticklabels\":false},\"template\":{\"data\":{\"histogram2dcontour\":[{\"type\":\"histogram2dcontour\",\"colorbar\":{\"outlinewidth\":0,\"ticks\":\"\"},\"colorscale\":[[0.0,\"#0d0887\"],[0.1111111111111111,\"#46039f\"],[0.2222222222222222,\"#7201a8\"],[0.3333333333333333,\"#9c179e\"],[0.4444444444444444,\"#bd3786\"],[0.5555555555555556,\"#d8576b\"],[0.6666666666666666,\"#ed7953\"],[0.7777777777777778,\"#fb9f3a\"],[0.8888888888888888,\"#fdca26\"],[1.0,\"#f0f921\"]]}],\"choropleth\":[{\"type\":\"choropleth\",\"colorbar\":{\"outlinewidth\":0,\"ticks\":\"\"}}],\"histogram2d\":[{\"type\":\"histogram2d\",\"colorbar\":{\"outlinewidth\":0,\"ticks\":\"\"},\"colorscale\":[[0.0,\"#0d0887\"],[0.1111111111111111,\"#46039f\"],[0.2222222222222222,\"#7201a8\"],[0.3333333333333333,\"#9c179e\"],[0.4444444444444444,\"#bd3786\"],[0.5555555555555556,\"#d8576b\"],[0.6666666666666666,\"#ed7953\"],[0.7777777777777778,\"#fb9f3a\"],[0.8888888888888888,\"#fdca26\"],[1.0,\"#f0f921\"]]}],\"heatmap\":[{\"type\":\"heatmap\",\"colorbar\":{\"outlinewidth\":0,\"ticks\":\"\"},\"colorscale\":[[0.0,\"#0d0887\"],[0.1111111111111111,\"#46039f\"],[0.2222222222222222,\"#7201a8\"],[0.3333333333333333,\"#9c179e\"],[0.4444444444444444,\"#bd3786\"],[0.5555555555555556,\"#d8576b\"],[0.6666666666666666,\"#ed7953\"],[0.7777777777777778,\"#fb9f3a\"],[0.8888888888888888,\"#fdca26\"],[1.0,\"#f0f921\"]]}],\"heatmapgl\":[{\"type\":\"heatmapgl\",\"colorbar\":{\"outlinewidth\":0,\"ticks\":\"\"},\"colorscale\":[[0.0,\"#0d0887\"],[0.1111111111111111,\"#46039f\"],[0.2222222222222222,\"#7201a8\"],[0.3333333333333333,\"#9c179e\"],[0.4444444444444444,\"#bd3786\"],[0.5555555555555556,\"#d8576b\"],[0.6666666666666666,\"#ed7953\"],[0.7777777777777778,\"#fb9f3a\"],[0.8888888888888888,\"#fdca26\"],[1.0,\"#f0f921\"]]}],\"contourcarpet\":[{\"type\":\"contourcarpet\",\"colorbar\":{\"outlinewidth\":0,\"ticks\":\"\"}}],\"contour\":[{\"type\":\"contour\",\"colorbar\":{\"outlinewidth\":0,\"ticks\":\"\"},\"colorscale\":[[0.0,\"#0d0887\"],[0.1111111111111111,\"#46039f\"],[0.2222222222222222,\"#7201a8\"],[0.3333333333333333,\"#9c179e\"],[0.4444444444444444,\"#bd3786\"],[0.5555555555555556,\"#d8576b\"],[0.6666666666666666,\"#ed7953\"],[0.7777777777777778,\"#fb9f3a\"],[0.8888888888888888,\"#fdca26\"],[1.0,\"#f0f921\"]]}],\"surface\":[{\"type\":\"surface\",\"colorbar\":{\"outlinewidth\":0,\"ticks\":\"\"},\"colorscale\":[[0.0,\"#0d0887\"],[0.1111111111111111,\"#46039f\"],[0.2222222222222222,\"#7201a8\"],[0.3333333333333333,\"#9c179e\"],[0.4444444444444444,\"#bd3786\"],[0.5555555555555556,\"#d8576b\"],[0.6666666666666666,\"#ed7953\"],[0.7777777777777778,\"#fb9f3a\"],[0.8888888888888888,\"#fdca26\"],[1.0,\"#f0f921\"]]}],\"mesh3d\":[{\"type\":\"mesh3d\",\"colorbar\":{\"outlinewidth\":0,\"ticks\":\"\"}}],\"scatter\":[{\"fillpattern\":{\"fillmode\":\"overlay\",\"size\":10,\"solidity\":0.2},\"type\":\"scatter\"}],\"parcoords\":[{\"type\":\"parcoords\",\"line\":{\"colorbar\":{\"outlinewidth\":0,\"ticks\":\"\"}}}],\"scatterpolargl\":[{\"type\":\"scatterpolargl\",\"marker\":{\"colorbar\":{\"outlinewidth\":0,\"ticks\":\"\"}}}],\"bar\":[{\"error_x\":{\"color\":\"#2a3f5f\"},\"error_y\":{\"color\":\"#2a3f5f\"},\"marker\":{\"line\":{\"color\":\"#E5ECF6\",\"width\":0.5},\"pattern\":{\"fillmode\":\"overlay\",\"size\":10,\"solidity\":0.2}},\"type\":\"bar\"}],\"scattergeo\":[{\"type\":\"scattergeo\",\"marker\":{\"colorbar\":{\"outlinewidth\":0,\"ticks\":\"\"}}}],\"scatterpolar\":[{\"type\":\"scatterpolar\",\"marker\":{\"colorbar\":{\"outlinewidth\":0,\"ticks\":\"\"}}}],\"histogram\":[{\"marker\":{\"pattern\":{\"fillmode\":\"overlay\",\"size\":10,\"solidity\":0.2}},\"type\":\"histogram\"}],\"scattergl\":[{\"type\":\"scattergl\",\"marker\":{\"colorbar\":{\"outlinewidth\":0,\"ticks\":\"\"}}}],\"scatter3d\":[{\"type\":\"scatter3d\",\"line\":{\"colorbar\":{\"outlinewidth\":0,\"ticks\":\"\"}},\"marker\":{\"colorbar\":{\"outlinewidth\":0,\"ticks\":\"\"}}}],\"scattermapbox\":[{\"type\":\"scattermapbox\",\"marker\":{\"colorbar\":{\"outlinewidth\":0,\"ticks\":\"\"}}}],\"scatterternary\":[{\"type\":\"scatterternary\",\"marker\":{\"colorbar\":{\"outlinewidth\":0,\"ticks\":\"\"}}}],\"scattercarpet\":[{\"type\":\"scattercarpet\",\"marker\":{\"colorbar\":{\"outlinewidth\":0,\"ticks\":\"\"}}}],\"carpet\":[{\"aaxis\":{\"endlinecolor\":\"#2a3f5f\",\"gridcolor\":\"white\",\"linecolor\":\"white\",\"minorgridcolor\":\"white\",\"startlinecolor\":\"#2a3f5f\"},\"baxis\":{\"endlinecolor\":\"#2a3f5f\",\"gridcolor\":\"white\",\"linecolor\":\"white\",\"minorgridcolor\":\"white\",\"startlinecolor\":\"#2a3f5f\"},\"type\":\"carpet\"}],\"table\":[{\"cells\":{\"fill\":{\"color\":\"#EBF0F8\"},\"line\":{\"color\":\"white\"}},\"header\":{\"fill\":{\"color\":\"#C8D4E3\"},\"line\":{\"color\":\"white\"}},\"type\":\"table\"}],\"barpolar\":[{\"marker\":{\"line\":{\"color\":\"#E5ECF6\",\"width\":0.5},\"pattern\":{\"fillmode\":\"overlay\",\"size\":10,\"solidity\":0.2}},\"type\":\"barpolar\"}],\"pie\":[{\"automargin\":true,\"type\":\"pie\"}]},\"layout\":{\"autotypenumbers\":\"strict\",\"colorway\":[\"#636efa\",\"#EF553B\",\"#00cc96\",\"#ab63fa\",\"#FFA15A\",\"#19d3f3\",\"#FF6692\",\"#B6E880\",\"#FF97FF\",\"#FECB52\"],\"font\":{\"color\":\"#2a3f5f\"},\"hovermode\":\"closest\",\"hoverlabel\":{\"align\":\"left\"},\"paper_bgcolor\":\"white\",\"plot_bgcolor\":\"#E5ECF6\",\"polar\":{\"bgcolor\":\"#E5ECF6\",\"angularaxis\":{\"gridcolor\":\"white\",\"linecolor\":\"white\",\"ticks\":\"\"},\"radialaxis\":{\"gridcolor\":\"white\",\"linecolor\":\"white\",\"ticks\":\"\"}},\"ternary\":{\"bgcolor\":\"#E5ECF6\",\"aaxis\":{\"gridcolor\":\"white\",\"linecolor\":\"white\",\"ticks\":\"\"},\"baxis\":{\"gridcolor\":\"white\",\"linecolor\":\"white\",\"ticks\":\"\"},\"caxis\":{\"gridcolor\":\"white\",\"linecolor\":\"white\",\"ticks\":\"\"}},\"coloraxis\":{\"colorbar\":{\"outlinewidth\":0,\"ticks\":\"\"}},\"colorscale\":{\"sequential\":[[0.0,\"#0d0887\"],[0.1111111111111111,\"#46039f\"],[0.2222222222222222,\"#7201a8\"],[0.3333333333333333,\"#9c179e\"],[0.4444444444444444,\"#bd3786\"],[0.5555555555555556,\"#d8576b\"],[0.6666666666666666,\"#ed7953\"],[0.7777777777777778,\"#fb9f3a\"],[0.8888888888888888,\"#fdca26\"],[1.0,\"#f0f921\"]],\"sequentialminus\":[[0.0,\"#0d0887\"],[0.1111111111111111,\"#46039f\"],[0.2222222222222222,\"#7201a8\"],[0.3333333333333333,\"#9c179e\"],[0.4444444444444444,\"#bd3786\"],[0.5555555555555556,\"#d8576b\"],[0.6666666666666666,\"#ed7953\"],[0.7777777777777778,\"#fb9f3a\"],[0.8888888888888888,\"#fdca26\"],[1.0,\"#f0f921\"]],\"diverging\":[[0,\"#8e0152\"],[0.1,\"#c51b7d\"],[0.2,\"#de77ae\"],[0.3,\"#f1b6da\"],[0.4,\"#fde0ef\"],[0.5,\"#f7f7f7\"],[0.6,\"#e6f5d0\"],[0.7,\"#b8e186\"],[0.8,\"#7fbc41\"],[0.9,\"#4d9221\"],[1,\"#276419\"]]},\"xaxis\":{\"gridcolor\":\"white\",\"linecolor\":\"white\",\"ticks\":\"\",\"title\":{\"standoff\":15},\"zerolinecolor\":\"white\",\"automargin\":true,\"zerolinewidth\":2},\"yaxis\":{\"gridcolor\":\"white\",\"linecolor\":\"white\",\"ticks\":\"\",\"title\":{\"standoff\":15},\"zerolinecolor\":\"white\",\"automargin\":true,\"zerolinewidth\":2},\"scene\":{\"xaxis\":{\"backgroundcolor\":\"#E5ECF6\",\"gridcolor\":\"white\",\"linecolor\":\"white\",\"showbackground\":true,\"ticks\":\"\",\"zerolinecolor\":\"white\",\"gridwidth\":2},\"yaxis\":{\"backgroundcolor\":\"#E5ECF6\",\"gridcolor\":\"white\",\"linecolor\":\"white\",\"showbackground\":true,\"ticks\":\"\",\"zerolinecolor\":\"white\",\"gridwidth\":2},\"zaxis\":{\"backgroundcolor\":\"#E5ECF6\",\"gridcolor\":\"white\",\"linecolor\":\"white\",\"showbackground\":true,\"ticks\":\"\",\"zerolinecolor\":\"white\",\"gridwidth\":2}},\"shapedefaults\":{\"line\":{\"color\":\"#2a3f5f\"}},\"annotationdefaults\":{\"arrowcolor\":\"#2a3f5f\",\"arrowhead\":0,\"arrowwidth\":1},\"geo\":{\"bgcolor\":\"white\",\"landcolor\":\"#E5ECF6\",\"subunitcolor\":\"white\",\"showland\":true,\"showlakes\":true,\"lakecolor\":\"white\"},\"title\":{\"x\":0.05},\"mapbox\":{\"style\":\"light\"}}}},                        {\"responsive\": true}                    ).then(function(){\n",
              "                            \n",
              "var gd = document.getElementById('f648d055-0a6d-4e23-8d8a-2c34acc46188');\n",
              "var x = new MutationObserver(function (mutations, observer) {{\n",
              "        var display = window.getComputedStyle(gd).display;\n",
              "        if (!display || display === 'none') {{\n",
              "            console.log([gd, 'removed!']);\n",
              "            Plotly.purge(gd);\n",
              "            observer.disconnect();\n",
              "        }}\n",
              "}});\n",
              "\n",
              "// Listen for the removal of the full notebook cells\n",
              "var notebookContainer = gd.closest('#notebook-container');\n",
              "if (notebookContainer) {{\n",
              "    x.observe(notebookContainer, {childList: true});\n",
              "}}\n",
              "\n",
              "// Listen for the clearing of the current output cell\n",
              "var outputEl = gd.closest('.output');\n",
              "if (outputEl) {{\n",
              "    x.observe(outputEl, {childList: true});\n",
              "}}\n",
              "\n",
              "                        })                };                            </script>        </div>\n",
              "</body>\n",
              "</html>"
            ]
          },
          "metadata": {}
        }
      ],
      "source": [
        "avg_glucose_level = list(data['avg_glucose_level'].values)\n",
        "hist_data = [avg_glucose_level]\n",
        "group_labels = [\"avg_glucose_level\"]\n",
        "fig = ff.create_distplot(hist_data,group_labels,show_hist = True)\n",
        "fig.show()"
      ]
    },
    {
      "cell_type": "code",
      "execution_count": 234,
      "metadata": {
        "id": "oLNUM9iRGoWO",
        "colab": {
          "base_uri": "https://localhost:8080/"
        },
        "outputId": "96ce9763-f8e0-41f7-834d-66069f0b4e94"
      },
      "outputs": [
        {
          "output_type": "stream",
          "name": "stdout",
          "text": [
            "Total outlier dalam avg_glucose_level yang memiliki gejala stroke :  (83, 11)\n"
          ]
        }
      ],
      "source": [
        "cond1 = data['avg_glucose_level'] > 170\n",
        "cond2 = data['stroke'] == 1\n",
        "print(\"Total outlier dalam avg_glucose_level yang memiliki gejala stroke : \", data[cond1 & cond2].shape)"
      ]
    },
    {
      "cell_type": "markdown",
      "metadata": {
        "id": "OtZ8WrOnHD6H"
      },
      "source": [
        "Karena jumlah data outliernya sebesar 83, maka kami tidak menghilangkannya agar data yang akan diproses tidak terlalu seidikit"
      ]
    },
    {
      "cell_type": "markdown",
      "metadata": {
        "id": "a4tmOl5xA5Nf"
      },
      "source": [
        "### Kolom BMI"
      ]
    },
    {
      "cell_type": "code",
      "execution_count": 235,
      "metadata": {
        "id": "LviJCd8OA78b",
        "colab": {
          "base_uri": "https://localhost:8080/",
          "height": 542
        },
        "outputId": "f2c2b85a-2e7d-419e-ac6e-a80b73a6f37d"
      },
      "outputs": [
        {
          "output_type": "display_data",
          "data": {
            "text/html": [
              "<html>\n",
              "<head><meta charset=\"utf-8\" /></head>\n",
              "<body>\n",
              "    <div>            <script src=\"https://cdnjs.cloudflare.com/ajax/libs/mathjax/2.7.5/MathJax.js?config=TeX-AMS-MML_SVG\"></script><script type=\"text/javascript\">if (window.MathJax && window.MathJax.Hub && window.MathJax.Hub.Config) {window.MathJax.Hub.Config({SVG: {font: \"STIX-Web\"}});}</script>                <script type=\"text/javascript\">window.PlotlyConfig = {MathJaxConfig: 'local'};</script>\n",
              "        <script charset=\"utf-8\" src=\"https://cdn.plot.ly/plotly-2.24.1.min.js\"></script>                <div id=\"d9d1b5d8-6e3e-443a-a514-82088cc22311\" class=\"plotly-graph-div\" style=\"height:525px; width:100%;\"></div>            <script type=\"text/javascript\">                                    window.PLOTLYENV=window.PLOTLYENV || {};                                    if (document.getElementById(\"d9d1b5d8-6e3e-443a-a514-82088cc22311\")) {                    Plotly.newPlot(                        \"d9d1b5d8-6e3e-443a-a514-82088cc22311\",                        [{\"autobinx\":false,\"histnorm\":\"probability density\",\"legendgroup\":\"bmi\",\"marker\":{\"color\":\"rgb(31, 119, 180)\"},\"name\":\"bmi\",\"opacity\":0.7,\"x\":[36.6,28.893236911794666,32.5,34.4,24.0,29.0,27.4,22.8,28.893236911794666,24.2,29.7,36.8,27.3,28.893236911794666,28.2,30.9,37.5,25.8,37.8,28.893236911794666,22.4,48.9,26.6,32.5,27.2,23.5,28.2,28.893236911794666,28.3,28.893236911794666,44.2,25.4,22.2,30.5,29.7,26.5,33.7,23.1,32.0,29.9,23.9,28.5,26.4,28.893236911794666,20.2,33.6,28.893236911794666,38.6,33.7,39.2,28.893236911794666,28.893236911794666,27.7,31.4,28.893236911794666,36.5,33.2,28.893236911794666,32.8,27.7,40.4,22.2,25.3,30.2,28.893236911794666,24.0,47.5,20.3,30.0,28.9,28.893236911794666,28.1,31.1,27.4,26.4,21.7,27.0,24.1,28.893236911794666,45.9,44.1,28.893236911794666,22.9,29.7,28.893236911794666,29.1,27.3,32.3,41.1,25.6,29.8,26.3,37.5,26.2,29.4,32.3,24.4,31.4,27.7,28.0,28.8,31.4,34.6,19.4,28.5,28.893236911794666,30.3,40.4,24.2,41.5,22.6,24.2,28.893236911794666,56.6,27.1,30.9,27.3,31.3,24.0,31.0,28.0,30.3,31.7,35.8,28.893236911794666,28.4,28.893236911794666,24.0,29.0,28.893236911794666,36.5,20.1,36.5,28.893236911794666,26.7,38.7,29.9,34.9,27.0,26.6,25.0,23.8,21.8,36.8,30.0,27.5,28.893236911794666,24.6,32.9,26.1,28.893236911794666,31.9,34.1,27.5,25.6,36.9,31.4,37.3,34.1,25.0,28.893236911794666,28.893236911794666,28.893236911794666,45.7,34.2,23.6,27.3,28.893236911794666,22.3,31.4,28.893236911794666,28.893236911794666,26.4,32.9,28.893236911794666,37.1,45.0,25.5,28.893236911794666,26.1,30.8,32.0,29.9,28.893236911794666,37.4,31.7,34.5,27.9,29.5,28.893236911794666,46.0,42.5,35.5,31.1,26.9,35.8,45.5,28.5,28.893236911794666,26.6,28.893236911794666,31.5,32.0,30.8,31.1,33.0,23.4,26.9,33.6,23.9,26.3,27.3,30.7,20.5,21.5,31.0,27.1,40.0,28.893236911794666,28.6,28.1,28.4,42.2,25.8,31.9,31.0,27.5,28.893236911794666,29.6,35.4,16.9,21.5,34.4,28.0,26.8,39.3,31.7,32.6,28.4,35.9,21.2,34.5,42.4,40.5,36.7,30.9,29.3,28.893236911794666,19.6,18.0,39.2,17.6,35.9,19.1,50.1,17.7,27.0,32.3,54.6,35.0,22.0,39.4,26.1,42.4,33.0,19.7,22.5,24.6,25.2,41.8,60.9,31.5,27.3,23.7,24.5,28.4,26.9,26.7,31.2,25.0,25.4,27.5,16.0,27.0,31.6,25.1,30.9,24.8,23.4,29.4,18.3,20.0,19.5,36.0,27.7,27.5,28.5,26.8,33.6,29.1,28.5,34.9,25.1,35.3,26.4,31.5,40.1,43.1,36.7,29.3,21.2,31.2,21.4,27.9,34.3,31.0,27.7,36.0,38.7,27.6,25.1,16.5,22.8,35.4,24.3,34.3,40.1,25.7,21.9,38.4,26.1,30.5,25.9,54.7,29.9,18.6,27.1,24.9,25.2,19.4,29.0,48.2,28.893236911794666,34.6,24.6,25.8,26.1,29.0,27.2,20.7,30.0,37.3,34.1,23.6,25.2,39.5,23.5,23.3,64.8,28.1,28.893236911794666,24.4,29.8,24.9,35.1,32.3,43.6,21.0,47.3,16.6,37.5,24.2,31.6,21.6,31.0,31.1,15.5,27.3,20.5,35.6,16.7,41.8,41.9,16.4,17.1,29.2,27.1,37.9,44.6,22.8,33.2,22.3,26.4,39.6,28.1,39.2,36.0,37.8,40.3,41.5,17.7,21.2,41.6,23.8,23.7,24.8,39.0,37.9,31.1,23.2,18.9,36.1,36.3,40.5,25.4,46.5,16.8,46.6,26.4,26.2,35.2,20.9,36.8,34.4,22.2,13.8,40.3,28.4,31.7,34.2,54.7,24.6,28.893236911794666,36.9,31.1,31.9,31.8,18.0,28.5,29.5,22.0,29.4,28.8,26.2,26.9,23.2,27.9,36.8,28.9,31.0,29.4,15.3,37.1,30.5,38.2,23.2,30.2,45.2,21.8,24.4,17.0,19.5,49.8,27.8,25.1,26.8,60.2,27.5,28.1,27.3,27.4,22.2,22.9,26.6,23.0,32.6,22.1,28.893236911794666,22.5,28.893236911794666,25.5,31.4,26.0,20.0,31.6,31.2,21.7,24.2,25.0,36.7,28.9,29.7,44.3,51.0,39.7,34.7,35.0,21.3,29.1,23.9,36.0,41.2,27.1,33.2,25.4,30.7,34.8,19.2,31.7,35.7,37.8,29.7,35.8,23.6,39.7,40.5,21.4,40.8,24.7,21.0,45.0,26.2,28.893236911794666,28.3,41.6,19.0,32.4,34.0,39.4,28.7,31.8,31.2,20.9,32.1,31.0,23.1,26.7,27.9,27.3,51.5,20.4,29.6,30.6,33.6,71.9,24.2,17.7,22.6,28.1,26.5,28.7,39.5,35.1,27.9,19.3,28.4,26.7,40.9,17.2,28.3,16.1,27.6,16.5,35.8,16.2,24.6,32.0,35.3,19.2,40.4,30.7,24.3,26.4,34.7,31.7,35.6,22.8,28.0,35.6,40.6,29.3,21.0,20.0,26.7,18.4,34.5,27.7,21.1,24.4,19.4,42.3,32.2,26.8,25.4,23.5,50.2,26.1,17.5,24.2,30.8,23.4,30.9,23.6,18.7,27.7,16.7,31.2,17.0,29.8,19.7,29.1,27.2,22.3,27.0,42.1,34.2,40.9,29.4,32.8,21.9,39.6,28.3,47.8,39.3,28.0,27.1,31.2,23.1,20.8,34.1,30.1,35.8,34.6,29.8,26.7,30.2,29.7,54.6,23.3,35.6,27.0,21.6,29.4,22.8,17.3,29.8,36.4,34.7,28.7,26.7,22.1,27.7,40.5,23.0,25.3,22.1,28.0,12.0,28.4,29.6,36.2,22.8,55.7,24.3,26.9,25.3,35.3,18.3,28.893236911794666,26.0,21.0,28.893236911794666,55.7,27.6,20.5,30.2,21.9,28.8,36.2,25.9,28.893236911794666,21.4,20.4,31.6,14.4,23.7,30.2,19.5,32.6,34.2,43.0,42.2,19.7,41.7,21.6,24.2,19.2,25.8,23.2,20.8,28.4,30.2,23.1,16.7,39.5,33.8,34.6,25.0,43.9,27.1,25.9,22.7,27.1,25.6,28.4,57.5,35.8,19.5,31.2,43.6,31.2,23.5,18.7,24.4,29.4,37.0,29.4,38.5,23.5,28.893236911794666,16.3,35.9,35.9,20.3,32.3,27.9,22.3,31.8,29.7,27.1,24.5,28.9,28.893236911794666,24.6,31.6,32.3,41.1,30.0,26.4,30.0,20.8,44.0,30.6,17.2,29.1,27.4,23.5,31.8,23.5,28.5,32.7,54.2,25.6,41.2,27.0,21.3,34.3,29.5,31.6,26.1,27.5,26.5,33.2,40.2,32.5,23.4,32.5,23.9,29.5,24.0,17.7,26.2,33.3,17.4,29.0,21.7,37.8,41.8,24.2,31.1,23.1,25.1,41.3,22.7,24.0,20.5,20.4,27.6,27.0,26.4,34.9,35.0,28.5,32.3,23.9,52.3,26.4,20.9,23.3,32.7,26.5,27.9,30.3,27.6,14.6,40.9,28.4,23.7,27.9,25.2,34.4,36.7,22.2,27.2,27.3,27.3,42.2,26.4,39.4,34.8,20.0,34.1,31.4,17.8,46.1,28.1,24.7,22.7,34.6,21.4,27.4,36.6,32.9,24.7,21.4,33.1,26.7,24.4,25.8,34.3,18.1,43.8,26.9,36.6,24.9,27.6,20.9,30.3,37.4,35.9,50.3,31.5,24.4,38.9,28.6,28.893236911794666,27.5,28.893236911794666,43.7,27.0,29.3,34.7,28.893236911794666,39.9,26.7,24.8,29.7,15.9,31.4,28.893236911794666,27.8,35.5,31.7,33.2,27.7,31.9,25.8,27.7,23.4,24.3,30.3,29.1,20.1,21.2,31.6,41.6,36.4,30.5,32.8,32.3,30.1,34.7,29.7,28.893236911794666,31.3,35.6,35.2,27.6,35.2,28.1,31.8,23.3,28.8,19.5,30.0,25.5,28.8,40.2,32.9,22.4,36.9,19.8,12.3,32.4,24.8,16.4,35.9,23.0,78.0,30.5,26.8,35.3,27.9,22.1,38.3,41.0,28.893236911794666,22.8,30.1,20.8,31.7,30.1,30.8,42.6,37.1,34.2,43.4,18.7,34.0,23.2,41.7,15.1,20.6,18.9,26.6,30.1,32.1,15.1,33.5,23.4,43.2,19.1,26.1,17.3,32.1,28.893236911794666,30.4,29.9,32.8,22.7,28.7,35.2,22.4,32.3,18.6,42.1,38.0,22.3,33.4,23.2,18.0,20.1,19.2,28.7,28.1,22.6,18.0,21.4,27.8,27.6,32.2,24.9,27.1,24.6,24.6,18.9,16.3,31.8,21.0,20.1,29.1,32.3,29.4,50.2,44.9,28.5,19.5,45.0,22.8,25.5,31.5,31.6,31.0,29.5,23.1,30.7,44.7,33.5,25.9,28.3,26.8,27.8,36.0,22.1,38.4,30.1,26.2,26.6,32.6,27.0,25.3,31.9,18.4,30.4,28.2,35.7,35.0,27.2,23.0,25.0,24.5,30.9,26.0,27.2,30.4,21.7,29.1,17.6,29.2,28.1,26.6,26.9,36.2,25.9,40.9,31.5,23.3,37.6,39.8,35.1,21.9,53.4,34.4,24.0,29.3,26.0,31.3,31.0,26.5,16.0,21.1,42.2,27.7,23.6,18.3,44.3,27.3,55.2,44.7,33.1,30.0,40.1,23.1,30.3,30.5,22.8,42.0,29.9,24.0,36.7,22.2,25.5,34.3,16.0,25.6,23.3,41.6,35.6,22.0,26.8,31.9,19.7,28.893236911794666,31.1,34.4,33.2,28.893236911794666,21.6,25.4,41.6,33.1,21.8,30.0,35.2,35.6,28.893236911794666,27.8,29.3,37.2,26.1,21.6,22.7,30.2,18.0,27.8,23.5,41.2,22.7,29.2,42.2,24.0,45.5,19.4,28.2,20.1,27.2,26.5,17.6,42.8,29.3,21.3,29.8,24.1,35.2,18.8,17.4,31.5,29.9,27.3,28.1,28.9,25.2,24.3,37.9,28.2,18.4,23.1,39.4,29.5,18.3,28.7,32.9,26.7,20.1,17.6,43.7,41.1,26.8,31.2,27.4,25.1,33.0,30.7,42.9,14.3,33.2,43.0,22.3,32.8,30.5,36.0,26.5,20.1,28.893236911794666,28.1,16.2,30.0,31.3,26.7,37.7,35.8,27.0,20.7,22.2,28.893236911794666,41.5,33.5,21.8,22.1,30.2,38.7,32.1,41.3,20.1,22.1,24.9,23.0,29.3,22.8,31.6,19.4,22.5,31.6,29.1,28.893236911794666,43.4,26.5,29.7,21.8,23.4,23.0,21.5,14.6,28.5,29.0,26.9,29.6,28.5,25.5,30.5,23.0,22.8,31.4,35.2,23.3,28.893236911794666,31.2,24.8,25.8,48.4,43.1,28.893236911794666,27.8,21.4,22.1,31.8,20.1,29.1,22.6,25.1,33.3,15.9,20.8,19.5,39.0,23.1,18.8,50.6,36.3,32.8,35.8,26.7,26.3,26.5,43.7,24.7,46.2,49.5,43.3,30.9,38.7,28.6,30.2,30.5,33.9,28.6,24.5,28.893236911794666,17.2,27.2,19.3,18.5,32.0,44.5,37.0,30.8,24.7,18.3,44.0,27.6,45.4,28.5,17.6,28.893236911794666,27.5,32.8,29.5,36.4,26.1,35.3,28.893236911794666,18.1,27.1,23.0,55.0,26.6,28.893236911794666,24.1,30.3,32.2,26.5,30.6,25.8,41.9,29.2,44.3,29.1,17.5,31.9,32.2,26.0,25.4,54.8,27.9,28.893236911794666,32.8,34.0,25.5,35.6,28.3,36.9,22.1,31.5,26.7,24.9,32.4,32.2,30.3,28.7,24.1,25.3,24.8,28.893236911794666,34.8,39.2,24.7,28.6,27.7,33.1,27.3,20.3,33.9,28.893236911794666,28.3,32.4,19.7,33.7,35.5,20.0,16.3,36.4,28.1,26.9,29.4,17.2,26.5,19.5,30.6,31.9,26.6,19.9,18.0,26.7,25.3,31.4,21.1,17.9,27.5,37.6,24.1,18.1,31.0,26.6,38.7,27.2,27.8,28.3,27.5,43.3,20.1,25.9,25.8,16.4,29.4,28.9,26.7,27.8,38.7,26.8,36.1,26.7,27.0,21.2,21.0,37.4,26.5,28.9,29.5,17.7,34.9,28.1,36.8,33.3,29.2,34.0,33.9,28.7,21.1,38.2,27.7,35.8,27.1,20.5,35.6,15.6,43.0,17.8,28.893236911794666,25.8,20.5,19.9,24.4,18.3,35.1,35.1,37.1,29.4,31.7,31.4,33.1,28.5,24.0,18.0,27.6,16.9,16.4,35.1,28.8,17.6,21.3,19.7,37.3,35.5,25.5,30.0,21.9,45.5,28.893236911794666,34.9,19.3,32.1,26.9,32.5,19.5,31.7,21.0,28.893236911794666,20.3,28.893236911794666,21.5,40.4,28.893236911794666,30.1,40.2,34.7,25.9,23.7,34.3,34.3,26.3,22.1,33.3,37.3,20.5,19.1,34.7,16.3,28.0,17.2,41.1,25.0,27.5,21.5,15.1,29.6,30.2,34.9,30.7,36.5,21.5,33.2,50.2,22.3,28.893236911794666,27.3,28.3,31.9,24.9,32.7,26.4,24.8,30.7,25.4,32.0,24.4,20.4,29.5,24.4,22.8,20.0,36.3,32.8,34.4,30.5,29.7,36.9,34.2,37.0,28.893236911794666,47.5,24.2,30.6,52.8,38.6,32.8,42.9,25.9,24.7,35.8,28.893236911794666,31.2,26.1,30.8,40.5,25.2,28.7,28.893236911794666,30.4,15.2,36.6,34.5,23.7,35.7,38.9,40.0,18.4,29.0,20.6,28.2,66.8,26.2,34.8,34.5,30.6,55.1,18.8,29.1,22.1,28.9,34.7,20.3,25.1,18.2,25.5,34.4,48.5,25.2,32.5,42.1,19.5,27.7,25.1,29.6,32.9,55.9,25.1,24.7,17.5,20.8,23.3,22.8,26.6,25.5,25.8,25.4,57.3,28.893236911794666,20.2,27.7,23.1,14.3,23.3,23.4,22.8,30.9,28.4,41.9,34.3,25.1,10.3,31.8,31.8,23.0,25.4,14.1,35.1,26.9,33.0,22.1,20.8,30.0,44.0,16.6,28.4,26.3,39.4,15.7,34.1,29.8,23.6,18.3,28.3,18.5,18.4,24.1,25.5,25.3,39.9,28.8,37.2,28.893236911794666,49.8,34.3,29.0,28.893236911794666,37.2,28.893236911794666,19.4,26.2,21.1,28.893236911794666,31.6,29.3,28.4,35.3,40.1,39.0,31.5,28.5,28.5,56.0,28.6,35.2,32.5,35.9,25.1,16.8,27.9,16.3,28.893236911794666,28.893236911794666,21.4,32.7,23.6,19.8,33.1,28.1,38.9,23.8,33.8,26.7,28.893236911794666,32.2,28.1,21.3,44.0,21.5,37.3,44.8,21.4,32.3,35.4,19.7,31.3,35.5,25.8,32.8,35.9,41.8,27.3,27.7,13.4,17.0,20.0,40.9,38.5,30.9,33.4,17.1,28.6,24.0,32.0,28.4,20.3,33.8,43.2,22.7,29.9,28.893236911794666,28.893236911794666,29.9,22.7,16.1,33.8,22.6,25.5,22.5,27.9,23.5,32.2,28.893236911794666,29.9,28.7,37.2,22.2,26.6,24.6,41.7,26.2,27.1,41.8,34.2,19.2,25.2,18.7,43.0,28.2,34.7,25.5,39.8,20.8,28.2,31.0,28.893236911794666,21.6,26.2,28.893236911794666,26.0,22.5,24.0,31.5,36.3,25.4,32.2,39.8,18.6,30.7,16.4,20.5,28.7,29.0,24.4,29.9,25.3,23.5,20.5,33.5,22.0,29.0,28.893236911794666,30.7,37.4,51.8,16.6,29.5,27.3,27.5,33.9,27.9,22.9,32.1,18.2,30.2,31.3,20.3,23.2,30.8,22.9,42.8,22.2,28.7,32.3,24.2,23.9,34.2,29.0,29.9,23.0,17.3,21.0,34.3,19.8,24.3,16.4,32.6,23.7,28.893236911794666,27.0,25.6,34.0,24.9,26.3,43.1,39.6,15.2,41.8,20.1,39.3,28.3,27.5,33.9,20.0,34.8,20.7,24.6,39.4,28.893236911794666,28.893236911794666,29.4,24.8,32.3,25.3,39.0,29.4,31.9,26.4,20.6,26.3,23.6,18.0,26.4,22.0,30.5,29.1,24.9,36.4,31.2,32.8,31.6,35.8,35.2,28.0,24.9,35.7,30.7,33.9,28.893236911794666,27.8,23.2,17.1,31.6,23.8,29.6,45.0,25.6,27.7,25.5,18.3,21.0,28.6,23.5,36.1,29.2,27.6,36.0,20.4,19.9,29.2,27.9,38.1,24.1,37.8,29.1,35.7,28.893236911794666,34.5,34.1,21.1,57.7,22.2,20.5,26.2,23.5,29.1,39.8,21.2,28.893236911794666,20.2,30.8,33.8,17.1,21.3,28.893236911794666,22.3,28.9,26.7,41.0,16.7,29.1,23.6,27.8,31.4,28.2,30.8,36.1,32.7,26.4,20.7,18.5,33.5,14.1,23.4,23.2,36.0,35.6,21.8,34.9,20.4,25.0,22.3,27.3,28.9,30.4,36.9,27.7,44.4,28.2,35.0,20.6,26.5,25.1,22.2,27.3,27.3,41.9,38.8,18.3,19.5,17.2,20.8,23.8,24.7,23.1,22.4,29.9,20.0,28.7,26.2,29.6,30.8,32.7,21.8,35.7,25.4,32.8,21.1,31.7,20.0,34.7,28.0,16.4,28.893236911794666,24.6,24.6,30.3,23.7,33.5,24.9,48.9,31.4,18.4,24.2,34.3,28.893236911794666,25.1,33.3,22.6,26.3,29.7,18.5,21.4,45.5,34.2,32.7,38.1,26.7,22.6,27.7,20.7,25.7,17.3,23.3,16.2,20.5,33.6,20.2,49.3,26.2,30.1,25.1,32.7,26.4,21.0,24.1,20.4,30.9,39.1,27.7,29.5,30.3,28.893236911794666,37.8,30.2,24.2,25.2,22.2,17.7,29.6,32.2,28.7,19.5,38.5,20.6,21.5,43.8,18.0,28.2,26.6,35.5,30.7,18.7,22.4,25.2,24.2,20.5,24.5,24.8,42.6,23.8,42.3,42.2,26.1,22.8,42.3,28.5,23.0,32.8,49.8,23.8,31.7,34.9,54.0,26.8,21.3,19.8,42.4,16.4,28.2,26.3,17.0,23.3,56.1,25.1,35.3,36.3,30.4,43.9,26.4,28.3,42.3,38.0,32.7,28.8,38.5,30.1,31.3,28.4,26.6,20.4,34.7,32.5,30.7,29.6,28.893236911794666,39.4,28.893236911794666,26.1,27.2,41.3,28.893236911794666,20.9,41.5,31.1,24.5,23.0,24.7,19.3,37.0,31.0,33.1,26.6,27.7,40.3,19.5,26.7,26.1,38.2,21.3,97.6,40.9,27.3,20.9,29.2,17.9,38.0,26.1,53.9,22.2,24.6,33.4,34.4,17.6,19.2,31.8,28.1,32.1,17.4,20.2,23.4,39.5,21.5,24.3,15.3,32.4,16.1,34.3,43.8,19.6,36.7,33.7,38.9,28.0,23.9,16.6,42.9,17.1,27.2,30.3,33.9,20.0,19.4,21.5,28.5,34.4,43.7,13.7,33.7,18.0,27.9,21.8,35.8,23.1,30.3,32.0,25.0,30.7,24.3,11.5,30.7,33.7,26.5,17.6,28.893236911794666,22.5,18.5,22.4,25.3,37.3,39.7,28.0,41.4,25.3,28.1,41.2,28.8,31.0,28.3,23.9,44.2,27.6,35.7,37.4,27.5,23.4,25.8,28.893236911794666,22.8,19.5,38.0,23.4,29.5,28.2,14.2,28.9,31.4,32.4,22.0,26.4,26.1,37.6,18.8,23.8,49.4,23.8,20.4,40.3,23.6,34.3,32.7,28.7,24.5,24.8,23.2,23.0,39.3,20.1,25.4,23.8,28.4,15.4,28.2,26.0,41.5,32.2,25.7,33.0,35.0,27.4,16.4,31.5,29.2,25.9,32.3,28.893236911794666,30.4,45.1,25.9,36.6,18.6,27.5,31.3,37.5,23.1,35.0,27.0,29.8,23.5,48.5,31.8,20.0,29.4,24.3,45.4,29.5,49.2,28.893236911794666,29.4,29.1,38.8,23.4,48.7,19.7,20.3,33.5,36.7,24.4,38.8,44.2,33.4,32.5,15.1,21.5,30.4,33.4,18.2,18.7,38.4,36.4,20.6,48.9,18.2,17.0,31.8,33.0,24.7,28.1,40.3,35.2,31.2,37.6,38.7,28.893236911794666,28.893236911794666,28.1,29.2,31.1,24.1,18.7,39.6,15.7,53.8,32.4,42.7,18.6,31.4,33.7,24.5,33.7,35.4,28.893236911794666,22.5,33.6,29.7,28.893236911794666,25.7,20.2,22.7,17.4,22.2,23.8,28.7,33.1,28.0,16.7,27.1,26.4,23.7,33.3,18.9,25.5,35.9,23.2,22.2,34.0,20.4,34.5,31.9,19.8,29.0,36.7,21.3,23.7,25.7,34.0,30.7,44.8,27.7,23.2,30.1,29.3,29.5,25.8,26.2,28.8,29.8,26.5,27.8,29.0,19.1,17.1,24.6,18.3,42.8,46.5,38.4,26.0,26.8,21.1,29.0,43.0,36.6,27.5,40.2,37.1,32.0,32.2,20.6,24.1,25.0,25.2,27.6,48.8,27.6,39.5,27.2,26.3,28.9,30.0,23.7,25.5,24.6,20.7,36.4,23.4,32.3,18.8,15.5,21.4,31.7,29.7,34.3,22.1,21.5,30.4,21.6,30.9,21.9,19.2,30.3,23.0,24.1,52.7,27.6,23.9,26.9,23.9,40.5,32.0,20.5,44.5,16.2,35.8,24.0,33.9,36.0,22.9,44.5,17.5,32.3,30.3,33.5,30.9,25.5,30.0,32.2,21.7,24.7,28.8,27.0,26.0,27.1,18.5,18.8,31.5,18.1,24.3,28.0,28.893236911794666,17.3,17.2,26.9,22.4,25.8,21.3,43.0,24.4,30.1,21.3,17.8,28.4,23.4,24.3,27.8,30.5,28.893236911794666,25.8,26.7,28.1,22.2,25.1,20.9,28.9,28.893236911794666,35.9,29.8,26.7,28.4,26.7,32.5,43.8,28.3,36.6,33.1,27.0,23.6,28.893236911794666,21.8,23.5,28.7,31.6,31.9,25.2,25.9,32.5,28.1,27.4,21.2,26.8,18.5,28.893236911794666,30.6,19.9,28.893236911794666,26.5,43.8,31.8,36.6,22.9,18.7,29.6,43.6,28.893236911794666,20.3,21.3,39.2,52.8,30.2,35.3,37.0,32.1,30.5,22.8,34.5,37.4,19.5,55.7,30.4,25.3,23.1,30.7,18.8,28.6,27.5,26.5,40.3,37.9,17.1,53.5,33.6,43.4,30.5,38.1,29.9,32.7,28.6,38.5,22.9,38.0,43.8,20.8,26.8,25.5,28.893236911794666,25.4,26.7,50.5,21.3,34.7,17.9,36.3,18.4,34.5,33.4,19.4,25.6,24.5,30.0,28.9,28.1,23.0,33.5,34.8,17.6,21.1,29.0,15.8,41.2,29.7,40.8,33.2,37.0,24.5,34.5,28.0,26.8,21.0,23.8,29.3,24.4,22.6,22.8,29.7,32.4,35.8,31.1,31.9,33.7,25.6,19.9,45.3,15.5,28.3,40.2,24.3,24.6,26.6,30.9,23.5,23.9,34.2,34.9,26.2,36.2,22.4,19.3,41.7,46.0,26.9,40.1,27.7,29.5,26.0,22.7,16.0,27.7,33.1,33.1,29.7,34.0,33.3,27.0,14.2,19.4,15.3,28.7,21.0,28.9,20.3,28.0,29.6,30.2,22.2,28.4,29.6,28.6,32.6,29.0,30.1,31.2,20.7,45.1,14.8,37.4,19.9,16.0,27.4,33.4,18.5,33.4,20.8,22.0,32.5,19.2,32.9,23.5,21.7,29.1,28.893236911794666,30.3,29.4,30.1,32.9,34.0,38.6,29.3,43.6,22.7,36.6,22.6,25.6,31.4,26.0,27.0,33.3,17.3,26.9,24.8,20.0,35.8,36.9,29.6,31.1,25.1,51.9,36.3,28.2,35.8,30.9,22.1,17.6,29.5,27.0,33.2,24.4,34.4,36.7,27.2,27.5,32.6,28.893236911794666,28.4,25.5,28.7,23.8,34.4,26.1,28.5,29.6,29.4,28.2,28.7,38.1,28.893236911794666,22.2,25.7,17.7,26.4,32.8,34.5,39.5,23.5,38.8,21.2,32.0,63.3,32.6,25.2,27.4,28.893236911794666,38.6,32.9,26.0,29.2,29.2,26.4,23.1,21.2,26.2,23.4,19.8,20.4,25.9,34.1,18.3,35.0,26.4,27.6,27.0,28.893236911794666,31.3,18.0,22.1,34.4,33.2,23.1,39.7,40.7,30.9,27.5,28.3,33.4,33.1,41.5,17.1,30.0,24.9,32.5,26.1,19.2,38.7,29.5,28.1,14.1,33.9,26.0,52.8,28.893236911794666,29.2,26.3,23.6,18.6,29.7,30.9,22.8,25.5,25.6,23.0,20.6,28.893236911794666,28.4,29.7,26.0,37.5,42.3,21.4,29.3,31.0,22.0,20.9,45.9,61.2,29.1,28.4,22.6,24.2,16.3,35.9,29.8,37.0,35.8,21.1,37.6,24.8,31.9,17.5,28.893236911794666,17.6,38.9,15.2,27.4,27.9,16.1,39.0,36.6,33.7,27.6,31.0,28.893236911794666,28.5,31.4,25.3,17.2,26.9,32.0,22.5,17.3,27.0,33.1,25.0,28.893236911794666,31.1,19.6,24.7,48.0,38.0,24.0,30.0,24.6,23.1,17.4,43.1,27.1,14.3,46.8,26.0,29.3,50.1,28.893236911794666,18.6,27.0,25.7,25.5,27.3,24.1,42.7,41.2,20.2,30.9,27.7,22.3,39.4,34.2,20.1,36.8,28.893236911794666,33.9,27.7,22.7,32.2,22.0,23.2,26.7,23.0,23.4,24.1,31.5,26.1,23.7,20.8,18.8,32.5,24.3,24.1,32.5,39.3,23.9,22.0,37.3,33.0,24.7,32.8,29.8,24.1,21.6,27.1,27.0,18.7,35.8,27.1,33.1,25.9,26.7,22.2,26.0,23.5,23.5,15.9,24.9,26.5,35.7,28.893236911794666,32.1,28.5,40.1,26.6,21.7,28.8,32.0,31.4,32.1,19.8,25.3,28.8,26.0,30.7,43.3,35.2,20.9,35.3,27.0,26.1,29.1,32.6,21.8,32.3,28.1,32.3,21.7,25.0,28.9,21.7,45.3,40.2,22.5,21.3,26.1,28.8,28.893236911794666,32.4,20.4,25.9,38.8,30.8,24.6,20.6,38.8,40.4,28.893236911794666,36.2,18.8,27.6,28.3,39.4,33.5,40.4,25.9,27.6,44.7,30.8,22.3,27.9,22.9,27.3,25.0,48.3,22.7,39.1,27.8,28.893236911794666,36.7,38.5,29.4,30.5,23.6,20.6,31.7,24.9,33.4,22.2,26.5,27.1,30.3,18.6,26.4,17.8,37.4,32.1,38.2,28.893236911794666,39.1,29.5,28.6,40.1,31.8,34.6,24.5,26.2,33.0,22.3,28.893236911794666,58.1,36.9,43.9,18.2,23.1,32.6,41.2,28.6,26.0,36.8,35.8,24.2,22.9,23.1,28.893236911794666,28.9,26.5,29.3,24.8,20.1,18.2,34.7,24.0,29.0,27.3,27.6,20.4,17.7,27.9,41.5,27.4,27.8,17.8,32.0,37.3,28.1,29.1,22.9,38.8,29.0,28.6,29.8,28.9,29.1,28.893236911794666,16.7,34.1,25.7,30.8,23.9,18.8,28.893236911794666,41.8,36.4,28.7,28.3,15.1,22.7,26.6,20.8,23.0,35.8,29.9,43.4,36.3,40.1,35.9,32.4,20.3,33.2,22.3,18.1,28.2,29.7,28.893236911794666,29.0,25.4,26.5,22.7,27.5,23.8,35.6,27.2,30.4,21.5,31.8,29.5,30.6,27.6,23.0,24.8,28.0,22.2,27.8,30.2,26.8,22.0,34.3,29.2,30.3,28.893236911794666,28.893236911794666,21.4,28.893236911794666,26.6,30.0,33.7,30.9,31.1,23.0,20.2,31.6,23.9,26.1,15.8,28.893236911794666,28.7,28.9,25.1,19.8,30.8,22.1,20.4,31.2,24.9,27.0,20.1,24.4,22.6,22.4,26.2,22.9,32.6,31.3,43.9,41.8,28.893236911794666,37.7,20.8,21.6,22.1,39.2,36.7,32.0,25.9,28.9,29.3,32.3,33.2,31.6,20.6,23.3,30.8,28.893236911794666,28.893236911794666,28.893236911794666,23.7,49.3,30.3,24.4,28.2,33.8,42.6,31.9,34.0,19.8,30.5,21.7,24.6,38.1,19.2,30.1,23.3,34.5,30.8,43.8,29.9,50.4,22.6,19.5,33.4,24.2,52.7,25.6,26.9,35.2,22.1,34.4,26.0,26.9,20.1,24.7,32.1,29.8,27.5,22.8,27.6,33.0,33.7,25.1,15.3,22.2,21.4,26.0,29.9,28.6,21.2,16.0,22.7,25.3,31.6,38.9,27.1,24.1,31.5,32.0,31.8,34.0,23.4,29.3,17.2,31.9,31.6,23.2,30.0,26.3,31.8,25.5,21.3,29.6,28.7,30.8,32.1,34.0,16.9,32.1,22.6,31.3,29.0,27.6,17.7,35.9,33.8,17.6,48.3,39.9,11.3,31.5,29.6,19.4,18.1,36.2,17.9,33.0,20.4,33.6,34.5,30.0,12.8,26.2,13.5,25.6,18.8,14.5,23.4,39.7,40.8,29.5,33.0,25.6,33.1,28.1,49.3,16.9,35.9,32.1,34.1,15.1,42.0,16.8,28.8,32.2,16.2,44.2,23.4,31.0,28.7,23.6,35.7,39.5,27.3,31.3,33.4,29.2,26.0,18.1,22.4,29.4,21.6,27.9,29.6,30.2,43.4,30.5,33.2,27.7,33.5,28.0,31.5,24.0,27.4,37.9,26.2,22.4,28.893236911794666,43.7,28.4,29.8,24.8,34.8,27.4,28.893236911794666,33.5,35.0,24.4,28.3,29.1,31.3,32.8,29.1,31.9,14.2,26.3,22.8,24.8,34.1,21.5,26.1,21.4,33.5,23.0,18.5,23.4,31.4,31.1,37.7,25.3,35.6,24.8,32.7,24.9,26.0,22.8,24.0,20.3,30.3,23.7,25.7,21.9,15.8,30.5,25.7,19.0,28.8,28.893236911794666,22.4,32.4,36.6,27.9,27.7,28.893236911794666,34.3,26.7,19.0,20.6,26.7,29.2,21.3,51.9,14.1,28.9,30.9,36.1,25.0,28.6,20.5,16.7,36.6,26.4,33.1,27.5,26.9,23.9,26.9,27.8,32.7,28.7,22.6,26.5,28.3,24.3,24.0,32.4,28.7,36.7,27.7,24.8,31.2,26.1,26.8,26.7,19.6,25.8,32.5,28.3,24.5,25.2,32.3,30.1,35.7,20.0,23.5,23.4,22.3,28.7,20.9,29.4,27.6,43.9,28.7,34.7,37.1,24.2,22.7,29.3,20.0,22.7,25.4,37.6,44.7,26.3,25.0,28.893236911794666,32.3,24.9,33.7,26.6,53.4,41.7,22.0,20.3,42.7,28.2,32.5,22.5,26.5,41.0,27.0,25.9,23.7,30.0,15.0,21.5,25.9,24.3,39.2,14.4,26.6,30.7,35.4,29.2,26.7,21.5,19.1,25.4,34.0,23.9,20.9,18.2,27.6,50.3,24.5,16.6,24.0,18.8,34.0,25.8,30.3,28.9,21.3,26.8,29.2,25.0,21.5,17.1,32.5,26.9,30.4,29.8,20.3,41.1,28.893236911794666,33.9,39.0,31.2,38.2,44.7,33.5,27.0,31.1,29.2,26.6,17.9,24.2,19.5,28.5,21.3,41.3,31.3,40.8,36.6,26.7,18.7,15.2,26.8,25.1,31.3,59.7,29.8,33.5,24.5,33.6,39.7,47.4,26.4,33.0,31.4,27.2,35.7,29.5,21.0,26.6,24.3,43.9,28.893236911794666,52.5,27.0,32.7,29.4,15.1,32.1,32.9,27.6,26.5,19.2,25.9,21.9,17.4,13.2,25.2,28.2,31.5,25.2,14.5,28.0,15.1,31.4,26.3,28.893236911794666,39.6,28.9,31.4,34.3,27.0,27.2,23.8,25.3,32.6,31.8,22.4,28.0,23.9,25.3,16.4,26.9,25.4,18.7,37.5,41.4,37.5,15.8,37.6,30.5,22.1,19.2,38.0,18.7,25.7,30.1,36.3,20.4,20.9,28.4,33.8,24.0,43.3,36.4,37.9,32.6,23.9,18.1,36.4,29.2,30.8,23.8,17.9,31.8,19.5,31.5,24.1,28.893236911794666,35.9,31.6,19.0,18.8,33.5,25.0,52.9,24.8,24.5,40.4,20.2,31.9,25.4,15.4,38.6,31.0,26.4,28.893236911794666,37.7,35.2,54.7,21.6,23.9,28.893236911794666,26.1,39.7,29.9,31.4,34.5,29.4,26.9,22.4,20.5,18.6,31.4,18.5,41.8,21.2,28.6,16.0,30.6,29.0,28.6,34.8,28.893236911794666,42.0,30.3,30.9,32.1,19.6,32.8,31.5,28.893236911794666,34.7,21.5,27.6,28.6,21.1,23.8,33.5,33.4,23.3,21.0,21.2,18.4,26.9,20.2,21.9,24.2,29.6,38.1,22.0,29.8,24.0,26.9,38.0,16.9,23.4,38.5,21.6,15.9,25.1,41.1,21.5,21.0,24.1,30.6,19.8,29.2,33.7,31.0,21.5,19.1,21.4,24.8,35.1,28.6,35.7,45.4,34.5,21.2,22.7,39.1,21.9,16.5,23.0,22.5,20.4,28.7,22.4,26.3,23.6,25.9,30.7,24.5,24.0,20.1,38.0,26.6,24.5,28.893236911794666,41.3,34.8,35.5,24.1,19.0,28.893236911794666,16.6,28.6,22.4,38.6,32.0,40.1,32.0,23.9,25.0,28.5,19.8,25.7,28.0,37.2,24.8,39.2,61.6,27.2,38.0,36.2,16.6,38.0,31.4,35.3,35.8,28.6,34.0,15.5,31.1,37.5,37.7,24.2,33.4,33.0,25.7,19.4,33.4,18.0,40.1,26.9,22.5,27.6,23.3,35.7,28.4,29.4,31.9,25.1,35.6,21.1,17.8,31.5,26.6,44.8,31.3,17.2,25.3,28.8,49.9,18.0,23.5,18.1,41.7,28.893236911794666,20.7,30.3,27.8,18.9,20.4,31.8,44.8,37.1,39.9,24.1,18.1,36.3,19.1,21.1,28.9,18.9,43.3,37.2,32.2,26.3,25.4,18.3,21.4,22.9,16.2,29.6,21.5,24.2,37.3,33.3,33.1,22.2,24.4,30.3,28.2,17.0,53.8,30.4,22.3,25.3,28.893236911794666,29.8,43.8,34.5,25.5,31.5,39.2,47.3,17.0,38.2,31.1,22.4,32.0,24.7,36.3,20.2,27.4,29.6,54.3,28.6,43.9,22.2,28.4,23.7,18.3,18.3,28.9,28.893236911794666,27.1,13.8,21.9,24.0,28.893236911794666,20.8,39.8,26.2,43.9,27.3,28.893236911794666,22.0,40.0,20.1,42.2,25.8,27.2,30.9,47.9,33.1,37.8,25.4,28.4,16.6,35.1,32.7,29.8,13.0,27.5,23.6,36.9,16.7,26.5,37.0,27.7,23.5,40.4,27.7,28.3,55.0,28.7,25.0,24.8,35.5,25.0,17.3,37.8,32.8,28.7,28.8,28.4,24.9,29.6,26.1,29.5,23.9,25.8,36.2,31.3,26.1,19.1,17.6,21.4,24.0,25.5,19.9,19.9,35.5,26.9,24.2,30.0,30.9,26.5,30.6,19.1,23.2,30.5,15.8,16.9,18.0,13.9,36.7,30.8,34.6,16.3,38.2,27.3,30.4,34.5,17.4,32.0,33.4,40.2,30.1,46.2,35.6,29.4,27.3,17.4,26.9,17.7,23.6,27.7,38.0,35.2,28.893236911794666,32.4,36.1,30.6,29.0,22.3,27.3,17.4,39.0,26.7,24.2,22.8,25.6,21.9,25.9,30.6,25.7,33.3,23.8,17.2,31.0,24.7,27.1,28.893236911794666,38.3,50.9,29.2,23.6,33.5,16.3,30.8,31.1,26.4,18.6,37.3,26.6,17.6,22.3,20.2,30.9,31.5,29.7,32.5,32.8,25.4,27.2,31.6,39.6,19.8,29.6,25.5,25.8,32.1,25.6,26.3,39.4,25.6,34.0,35.8,24.9,29.3,23.4,24.5,29.8,28.9,27.3,23.2,34.2,23.3,26.9,21.8,26.9,29.9,22.4,27.5,35.0,27.9,25.5,28.6,34.8,50.6,30.9,14.8,31.4,22.3,19.1,27.4,17.5,36.2,25.4,25.7,28.6,33.7,37.9,28.4,20.0,29.1,27.6,27.6,24.2,31.0,34.5,27.0,20.7,26.1,19.2,28.0,23.6,57.2,33.0,22.2,24.8,24.7,27.9,21.6,34.8,32.9,28.0,28.893236911794666,25.0,24.7,27.3,34.2,39.1,22.7,33.9,18.6,16.7,20.6,20.1,45.2,25.3,32.4,34.9,43.7,23.0,21.5,24.9,22.9,25.0,21.3,46.1,64.4,37.0,21.3,28.3,31.1,25.1,27.6,29.4,14.1,35.2,23.9,34.0,27.1,29.5,28.893236911794666,20.7,39.5,33.7,23.2,30.1,28.8,92.0,38.0,27.7,43.2,24.1,28.7,34.8,23.5,28.5,20.3,43.0,18.3,27.2,22.0,50.8,35.4,55.9,27.9,19.8,26.0,26.8,28.893236911794666,32.5,15.0,14.2,17.0,26.2,24.9,26.6,22.7,32.7,36.7,31.5,36.9,27.6,20.7,20.2,23.4,25.3,28.2,27.0,24.8,34.8,17.3,27.8,16.2,28.893236911794666,21.7,21.4,29.3,36.2,28.3,23.5,25.9,27.1,21.5,30.5,23.4,37.6,24.0,25.1,28.7,41.8,25.6,27.2,24.4,20.7,19.6,24.8,32.6,20.5,36.2,45.4,27.6,28.893236911794666,34.7,32.4,28.893236911794666,28.7,45.3,40.3,38.9,46.0,32.4,19.4,27.5,26.2,31.1,34.6,24.3,34.6,28.5,32.1,28.0,20.9,33.8,25.8,31.8,26.8,25.9,29.2,25.3,41.7,38.8,29.1,30.9,39.3,41.8,26.2,33.8,26.1,24.1,30.7,22.4,23.0,30.2,30.3,28.7,36.3,16.3,34.5,20.8,31.0,17.6,22.7,38.4,40.8,32.9,31.3,28.5,27.6,40.2,24.7,17.7,25.4,28.5,26.2,26.0,45.3,31.5,20.6,29.4,57.9,39.1,23.8,38.1,19.5,35.5,26.4,22.2,29.1,41.9,22.6,33.3,21.3,20.4,28.7,28.8,38.7,32.3,37.9,25.3,27.7,25.1,16.8,27.7,28.6,37.6,32.7,22.7,16.0,23.5,45.8,20.8,16.7,22.2,33.1,32.7,41.4,24.1,28.0,24.2,23.5,23.0,20.3,24.8,26.1,24.2,19.3,18.2,24.2,41.5,28.0,37.0,32.2,35.9,47.6,32.1,55.7,22.2,20.1,14.6,28.4,20.6,19.8,23.4,25.1,30.1,33.3,24.0,27.8,21.4,25.5,28.893236911794666,21.8,18.9,21.9,30.6,29.8,28.7,35.5,29.1,32.8,22.8,31.3,29.0,19.0,24.1,21.4,28.0,27.6,28.7,24.5,25.0,29.6,29.9,35.6,27.9,42.6,21.2,28.5,25.6,28.893236911794666,31.1,30.4,22.9,31.9,48.8,43.0,21.8,35.5,24.3,23.1,18.5,42.4,32.3,22.6,17.8,18.4,26.9,32.0,23.4,31.4,22.4,28.9,27.4,57.2,28.4,23.5,28.3,38.2,33.3,33.3,28.8,32.1,28.9,25.5,25.9,19.5,23.8,24.9,18.5,30.6,16.1,32.5,27.4,30.2,23.5,36.0,24.8,27.5,40.0,18.1,18.8,23.6,29.7,43.7,27.3,20.2,23.8,21.4,25.1,17.9,34.5,27.1,26.1,43.4,33.2,37.2,41.3,35.4,26.1,24.5,28.893236911794666,32.7,29.2,20.4,33.5,14.0,33.5,27.5,35.3,30.1,32.6,47.5,31.6,23.5,40.3,34.1,16.1,26.4,19.0,34.7,23.3,32.6,26.0,35.1,18.6,30.4,32.8,21.6,23.3,31.4,26.3,20.1,28.3,40.4,18.6,44.7,25.3,28.3,39.9,28.893236911794666,34.7,31.9,35.0,32.7,30.6,27.9,20.4,29.6,23.5,46.4,27.4,25.2,25.8,33.3,27.7,28.9,33.1,38.1,27.9,17.4,27.1,22.7,28.3,21.5,30.0,18.6,45.2,39.7,31.5,23.2,27.3,26.5,19.3,26.1,19.8,25.1,37.3,30.3,16.1,25.1,26.7,29.3,38.7,35.8,21.7,31.4,26.9,33.0,24.5,44.9,25.5,22.1,24.3,32.4,28.893236911794666,33.1,26.7,37.9,39.6,19.8,30.0,23.1,34.3,38.4,32.8,34.4,44.6,32.8,26.4,27.3,32.4,43.2,33.6,26.4,46.9,36.3,34.9,29.6,16.5,35.4,23.6,33.1,40.2,14.8,34.8,33.5,31.9,16.1,50.2,35.9,39.6,27.5,32.3,15.4,28.4,19.5,25.0,26.3,39.6,38.6,33.9,32.2,25.1,37.4,30.1,27.0,32.4,26.8,27.2,36.7,36.0,37.2,19.1,21.8,26.5,35.0,32.6,23.9,33.7,29.4,29.0,20.2,28.893236911794666,27.4,25.0,30.7,23.0,26.6,18.1,47.1,29.7,19.9,13.3,32.7,31.8,31.4,20.4,33.2,30.5,30.3,34.2,34.4,48.1,22.8,30.5,35.9,33.7,24.1,25.4,25.5,29.2,28.893236911794666,17.4,29.9,21.5,24.7,25.1,34.4,27.9,31.5,31.8,30.1,26.4,27.2,22.5,29.8,26.1,24.9,23.5,30.1,37.3,25.5,35.3,27.6,28.7,29.9,34.2,24.9,36.8,24.5,34.6,30.0,28.8,28.6,23.6,20.1,21.1,34.1,28.893236911794666,29.5,37.8,31.2,31.1,34.2,17.7,39.2,22.2,29.5,27.0,16.8,23.3,33.5,15.6,28.2,22.6,20.2,22.2,22.6,26.7,22.9,21.5,30.3,14.8,24.3,17.4,29.0,26.3,51.7,29.2,18.3,21.9,16.3,27.4,20.4,23.2,30.3,16.7,31.0,28.893236911794666,33.5,17.0,19.4,14.6,32.2,37.7,27.4,25.0,20.1,21.7,38.2,17.0,28.4,30.0,34.1,19.3,21.6,32.9,27.2,27.8,29.9,28.4,24.1,24.0,23.4,32.6,33.1,33.8,30.3,36.9,29.7,38.8,30.9,36.9,18.8,25.5,32.3,25.8,31.1,27.9,18.6,20.1,26.7,30.3,30.4,30.0,24.9,60.9,24.3,38.7,18.6,17.1,29.4,16.9,34.2,27.6,47.8,18.9,24.4,25.2,30.7,26.1,25.3,32.8,45.7,24.6,32.3,47.6,34.4,18.2,44.5,36.6,19.4,22.9,20.0,36.1,27.3,42.2,26.4,23.6,18.6,18.0,31.1,30.0,43.8,23.8,36.2,32.6,18.0,25.5,29.9,32.1,25.4,23.4,23.4,21.8,30.8,37.9,42.5,23.4,35.4,32.3,27.0,46.3,30.1,34.7,18.3,16.2,33.2,18.6,25.1,24.1,33.1,24.8,23.4,54.1,28.9,38.1,37.2,19.6,29.0,26.7,20.5,34.1,42.4,37.7,39.1,28.9,30.7,33.8,28.893236911794666,32.1,40.5,24.8,31.8,27.0,13.7,23.4,16.4,14.9,38.8,38.6,32.2,28.893236911794666,30.6,28.1,35.2,21.8,28.1,28.2,28.4,37.4,21.8,19.8,16.2,33.6,21.2,28.4,28.893236911794666,41.1,24.9,56.6,28.8,33.7,38.6,33.8,22.4,37.3,23.4,39.1,21.2,31.2,28.0,21.1,15.7,29.1,26.1,16.2,27.1,28.8,37.9,21.6,30.1,29.7,26.4,46.0,26.1,23.2,28.4,20.5,24.6,32.2,30.5,28.893236911794666,24.9,26.5,34.5,21.5,15.9,17.7,26.5,24.4,26.6,23.9,30.1,23.6,18.4,32.1,24.4,27.3,34.8,28.4,40.2,31.1,24.0,38.1,29.9,24.5,49.5,35.5,29.5,28.8,22.1,29.4,45.0,27.1,28.3,20.1,31.3,17.6,24.5,24.1,31.3,31.5,29.9,30.2,27.8,15.6,26.3,24.8,17.1,20.3,18.7,28.8,28.7,24.6,25.3,29.7,28.893236911794666,21.1,26.9,26.2,26.3,24.8,25.0,34.6,42.7,28.893236911794666,24.5,19.3,29.3,22.1,27.8,24.7,25.3,41.2,47.6,23.4,22.7,29.7,32.3,36.9,27.7,24.3,37.4,25.1,24.3,24.3,28.7,16.8,35.8,40.0,24.3,25.6,37.8,23.0,21.0,15.5,17.1,28.0,40.8,37.5,24.2,26.9,33.1,21.8,34.7,30.2,16.8,21.0,30.9,38.9,28.893236911794666,24.3,17.4,28.2,40.8,17.5,28.893236911794666,28.3,24.5,21.7,46.9,18.6,28.893236911794666,40.0,30.6,25.6,26.2],\"xaxis\":\"x\",\"xbins\":{\"end\":97.6,\"size\":1.0,\"start\":10.3},\"yaxis\":\"y\",\"type\":\"histogram\"},{\"legendgroup\":\"bmi\",\"marker\":{\"color\":\"rgb(31, 119, 180)\"},\"mode\":\"lines\",\"name\":\"bmi\",\"showlegend\":false,\"x\":[10.3,10.4746,10.6492,10.8238,10.9984,11.173,11.3476,11.522200000000002,11.696800000000001,11.871400000000001,12.046000000000001,12.220600000000001,12.3952,12.5698,12.7444,12.919,13.0936,13.2682,13.4428,13.6174,13.792000000000002,13.9666,14.141200000000001,14.3158,14.490400000000001,14.665000000000001,14.8396,15.0142,15.1888,15.3634,15.538,15.7126,15.8872,16.0618,16.2364,16.411,16.5856,16.7602,16.934800000000003,17.1094,17.284,17.4586,17.633200000000002,17.8078,17.9824,18.157,18.3316,18.5062,18.680799999999998,18.8554,19.03,19.2046,19.379199999999997,19.553800000000003,19.7284,19.903,20.0776,20.252200000000002,20.4268,20.601399999999998,20.776000000000003,20.9506,21.1252,21.299799999999998,21.474400000000003,21.649,21.8236,21.998199999999997,22.172800000000002,22.3474,22.522,22.696600000000004,22.8712,23.0458,23.220399999999998,23.395000000000003,23.5696,23.7442,23.918799999999997,24.093400000000003,24.268,24.4426,24.6172,24.791800000000002,24.9664,25.141,25.315600000000003,25.4902,25.6648,25.839399999999998,26.014000000000003,26.1886,26.3632,26.5378,26.7124,26.887,27.0616,27.2362,27.4108,27.5854,27.76,27.9346,28.1092,28.2838,28.458399999999997,28.633,28.8076,28.982200000000002,29.1568,29.3314,29.506,29.6806,29.8552,30.0298,30.2044,30.379,30.5536,30.7282,30.9028,31.077399999999997,31.252000000000002,31.4266,31.601200000000002,31.7758,31.9504,32.125,32.2996,32.474199999999996,32.6488,32.8234,32.998000000000005,33.1726,33.3472,33.5218,33.6964,33.871,34.0456,34.220200000000006,34.394800000000004,34.5694,34.744,34.9186,35.0932,35.2678,35.4424,35.617000000000004,35.7916,35.9662,36.1408,36.3154,36.49,36.6646,36.839200000000005,37.0138,37.1884,37.363,37.5376,37.7122,37.8868,38.0614,38.236000000000004,38.4106,38.5852,38.7598,38.9344,39.109,39.2836,39.458200000000005,39.6328,39.8074,39.982,40.1566,40.3312,40.5058,40.6804,40.855000000000004,41.0296,41.2042,41.3788,41.553399999999996,41.728,41.9026,42.077200000000005,42.2518,42.4264,42.601,42.7756,42.950199999999995,43.12479999999999,43.299400000000006,43.474000000000004,43.6486,43.8232,43.9978,44.172399999999996,44.346999999999994,44.52159999999999,44.696200000000005,44.8708,45.0454,45.22,45.3946,45.569199999999995,45.74379999999999,45.918400000000005,46.093,46.2676,46.4422,46.6168,46.791399999999996,46.965999999999994,47.140600000000006,47.315200000000004,47.4898,47.6644,47.839,48.0136,48.188199999999995,48.36279999999999,48.537400000000005,48.712,48.8866,49.0612,49.2358,49.410399999999996,49.584999999999994,49.759600000000006,49.934200000000004,50.1088,50.2834,50.458,50.6326,50.807199999999995,50.98179999999999,51.156400000000005,51.331,51.5056,51.6802,51.8548,52.029399999999995,52.20400000000001,52.378600000000006,52.553200000000004,52.7278,52.9024,53.077,53.251599999999996,53.426199999999994,53.60079999999999,53.775400000000005,53.95,54.1246,54.2992,54.4738,54.648399999999995,54.82300000000001,54.997600000000006,55.172200000000004,55.3468,55.5214,55.696,55.870599999999996,56.045199999999994,56.21979999999999,56.394400000000005,56.569,56.7436,56.9182,57.0928,57.26740000000001,57.44200000000001,57.616600000000005,57.7912,57.9658,58.1404,58.315,58.489599999999996,58.664199999999994,58.83879999999999,59.013400000000004,59.188,59.3626,59.5372,59.7118,59.88640000000001,60.06100000000001,60.235600000000005,60.4102,60.5848,60.7594,60.934,61.108599999999996,61.283199999999994,61.45779999999999,61.632400000000004,61.807,61.9816,62.1562,62.330799999999996,62.50540000000001,62.68000000000001,62.854600000000005,63.0292,63.2038,63.3784,63.553,63.727599999999995,63.90219999999999,64.07679999999999,64.2514,64.426,64.6006,64.7752,64.9498,65.12440000000001,65.299,65.4736,65.6482,65.8228,65.9974,66.172,66.3466,66.5212,66.69579999999999,66.8704,67.045,67.2196,67.3942,67.5688,67.74340000000001,67.918,68.0926,68.2672,68.4418,68.6164,68.791,68.9656,69.1402,69.31479999999999,69.4894,69.664,69.8386,70.0132,70.1878,70.36240000000001,70.537,70.7116,70.8862,71.0608,71.2354,71.41,71.5846,71.75919999999999,71.93379999999999,72.1084,72.283,72.4576,72.6322,72.8068,72.98140000000001,73.156,73.3306,73.5052,73.6798,73.8544,74.029,74.2036,74.37819999999999,74.55279999999999,74.7274,74.902,75.0766,75.2512,75.4258,75.6004,75.77499999999999,75.94959999999999,76.12419999999999,76.2988,76.4734,76.648,76.8226,76.99719999999999,77.1718,77.34639999999999,77.521,77.69559999999998,77.8702,78.0448,78.2194,78.39399999999999,78.56859999999999,78.74319999999999,78.9178,79.0924,79.267,79.4416,79.61619999999999,79.7908,79.96539999999999,80.14,80.31459999999998,80.4892,80.6638,80.8384,81.01299999999999,81.18759999999999,81.36219999999999,81.5368,81.7114,81.886,82.0606,82.23519999999999,82.4098,82.58439999999999,82.759,82.93359999999998,83.1082,83.2828,83.45739999999999,83.63199999999999,83.80659999999999,83.9812,84.1558,84.3304,84.505,84.6796,84.85419999999999,85.0288,85.20339999999999,85.378,85.55259999999998,85.7272,85.9018,86.07639999999999,86.25099999999999,86.42559999999999,86.6002,86.7748,86.9494,87.124,87.2986,87.47319999999999,87.6478,87.82239999999999,87.997,88.17159999999998,88.3462,88.5208,88.69539999999999,88.86999999999999,89.04459999999999,89.2192,89.3938,89.5684,89.743,89.9176,90.09219999999999,90.2668,90.44139999999999,90.616,90.79059999999998,90.9652,91.1398,91.31439999999999,91.48899999999999,91.66359999999999,91.8382,92.0128,92.1874,92.362,92.53659999999999,92.71119999999999,92.8858,93.06039999999999,93.235,93.40959999999998,93.5842,93.7588,93.93339999999999,94.108,94.28259999999999,94.4572,94.6318,94.8064,94.981,95.15559999999999,95.33019999999999,95.5048,95.67939999999999,95.854,96.02859999999998,96.2032,96.3778,96.55239999999999,96.727,96.90159999999999,97.0762,97.2508,97.4254],\"xaxis\":\"x\",\"y\":[0.0002634934226150591,0.0003056949364609194,0.0003541821814108947,0.000410075219626051,0.0004746868839574202,0.0005495241665613373,0.0006362796974539274,0.0007368127243256628,0.0008531199967552217,0.0009872980403137011,0.0011414993284505376,0.001317885649650306,0.0015185823564304254,0.0017456370418369553,0.002000985459816763,0.0022864262263888754,0.0026036041546957872,0.0029540002335755092,0.003338924569999435,0.003759507414435865,0.004216682968533391,0.004711161228825191,0.0052433846904930085,0.005813469187902061,0.006421131180130167,0.007065606965952917,0.007745572136154901,0.008459071564073183,0.009203471024098867,0.009975440909322548,0.010770980497541376,0.011585487998658855,0.012413877581493,0.013250740198500461,0.014090540796338544,0.014927840856259774,0.015757532479264785,0.01657506861175932,0.017376673567629237,0.0181595187169128,0.018921849999726324,0.01966305668576091,0.02038367442616594,0.02108532000944118,0.021770560159802353,0.022442721940195014,0.023105657460332815,0.023763480143443105,0.024420293197836004,0.025079932599285138,0.025745746359457422,0.026420428904283335,0.027105924103639326,0.027803403330535863,0.028513316670194362,0.029235507073883366,0.029969369976243134,0.030714035696429207,0.03146854959020588,0.03223202578689634,0.0330037543489434,0.033783248304261174,0.03457022533421208,0.035364527844033454,0.036165993535211056,0.03697429538751201,0.037788774333429025,0.03860828939451047,0.03943110854205582,0.04025485929476722,0.04107655162572341,0.041892677893028446,0.04269938612871168,0.043492715039378314,0.044268872340691046,0.045024533264885674,0.0457571337252414,0.04646513290293218,0.04714822285021388,0.04780746768701003,0.04844536143676407,0.04906580061882207,0.04967397439121485,0.050276180345044934,0.05087957720088708,0.05149188621485986,0.05212105113263989,0.05277486268006335,0.053460549058727144,0.05418433035093861,0.05495093389815329,0.05576307112361401,0.05662088477370475,0.05752138894458585,0.05845794103705094,0.05941980214945086,0.06039185659940386,0.06135456810421177,0.062284245937062534,0.06315367674424124,0.0639331464127554,0.06459183375574645,0.06509950874082848,0.06542841944164553,0.06555521172320923,0.06546270133830467,0.06514131521946064,0.06459003984027625,0.06381675837234946,0.06283791998519568,0.06167755596070739,0.06036572848711416,0.05893655911186494,0.057426026481377596,0.055869741724132095,0.054300902928827846,0.05274859977312086,0.05123659090197144,0.04978261776763749,0.04839825777960336,0.047089264673267295,0.04585630120428305,0.044695942418467006,0.04360181800119464,0.04256576831653391,0.04157890757922656,0.0406325149147694,0.03971870526268733,0.0388308629072532,0.037963847448140554,0.037114002925065184,0.03627901443314809,0.03545766283070216,0.034649527828578525,0.03385468422586697,0.033073426988049236,0.03230604996200428,0.03155269183570861,0.03081325272113109,0.03008737632681953,0.02937448655837018,0.028673863652096492,0.02798474344308515,0.027306423740986286,0.026638363589625062,0.02598026395797752,0.025332121725630718,0.02469425232630414,0.02406727981211383,0.023452096179886688,0.02284979439770561,0.022261581572961216,0.021688680046163002,0.021132224855463476,0.020593166015504382,0.02007218344803335,0.01956962127489814,0.01908544663514906,0.018619236319271194,0.018170192425735237,0.017737186040636364,0.01731882573442908,0.016913545598613144,0.01651970577750696,0.016135697177140647,0.015760041446590864,0.015391477581367214,0.015029027666777309,0.014672036313650647,0.014320181049923579,0.01397345399687187,0.01363211816404713,0.013296644205803516,0.012967635120035969,0.012645746903119658,0.012331612567154475,0.012025775351182317,0.011728634771597248,0.011440406819638128,0.01116109759375356,0.010890488324367436,0.010628129304181583,0.010373340658506798,0.010125218952569504,0.009882649966924489,0.009644329156845672,0.009408791976471015,0.009174456160870417,0.008939677174591454,0.008702816500525913,0.008462320554012212,0.008216806133936373,0.00796514682262119,0.0077065538879765695,0.00744064515610177,0.007167495993403432,0.0068876678233839245,0.006602211288398007,0.006312643016766156,0.006020896768105348,0.005729251363220004,0.0054402391844553,0.0051565401336878145,0.004880866756675603,0.004615846778315463,0.004363909516238112,0.004127182501748162,0.003907404084613515,0.003705856801814585,0.003523324871533941,0.0033600774240407517,0.003215877164243205,0.0030900122935567194,0.002981347936036301,0.0028883922224049985,0.002809371720758088,0.002742311095596103,0.0026851126435407137,0.0026356325085705543,0.0025917516691573747,0.0025514409457286563,0.0025128200705355937,0.002474211152237976,0.0024341866315321036,0.0023916111630465082,0.0023456759768361616,0.0022959234345835016,0.002242258968950463,0.0021849475921257985,0.0021245927908622535,0.002062096868868468,0.0019986035006698743,0.0019354251666857595,0.0018739599339683431,0.0018156034221103777,0.0017616625052854812,0.0017132772172284586,0.0016713564508394705,0.001636531516776994,0.0016091296900910559,0.0015891678319751793,0.0015763643261378743,0.0015701661623491855,0.001569787184019251,0.0015742533275730287,0.0015824510431126369,0.0015931758368000258,0.0016051788079028627,0.0016172099588610204,0.001628057766114432,0.001636584912292478,0.0016417601767719635,0.001642686317005388,0.0016386234584995303,0.0016290071847641036,0.0016134603130596279,0.0015917973576878124,0.0015640209678002982,0.0015303101682193254,0.0014910009587408661,0.0014465606246811603,0.0013975578405532073,0.0013446311727722342,0.0012884587955237052,0.0012297320628134503,0.0011691350263352501,0.0011073311147652611,0.0010449571147650826,0.0009826234773280173,0.0009209189907394971,0.0008604171754670324,0.0008016814871766242,0.0007452666183803754,0.0006917138479968383,0.0006415394081527748,0.0005952160658254295,0.0005531493655007002,0.0005156510560248559,0.0004829129654711427,0.000454984879983794,0.0004317597824006758,0.0004129691422502787,0.0003981899128311998,0.00038686362283349017,0.0003783266131563634,0.00037184922894383557,0.00036668077710775264,0.00036209640963276576,0.0003574418563447315,0.00035217212256994593,0.00034588085570807267,0.00033831799842890767,0.0003293944822758214,0.00031917395166731767,0.00030785271555252685,0.0002957301795715674,0.0002831728117515431,0.00027057516556095097,0.0002583215889562667,0.00024675199093109686,0.00023613446099834728,0.000226646717392367,0.00021836739405552822,0.0002112771717786811,0.00020526881926879526,0.00020016442541801626,0.00019573754243083164,0.00019173766160093464,0.000187914421957089,0.00018403919216400047,0.00017992212944372866,0.00017542344777761435,0.000170458348978612,0.00016499580429321764,0.0001590520404775529,0.00015268011008735534,0.00014595725462435594,0.00013897186871372524,0.00013181174040990834,0.00012455490464391693,0.00011726395913489509,0.0001099841302262188,0.00010274482401340234,9.556393488052616e-05,8.845387060587027e-05,8.14281247349621e-05,7.450728530119967e-05,6.772358602301393e-05,6.112342997543882e-05,5.47676817746176e-05,4.872986763578397e-05,4.309268982967607e-05,3.7943419681010124e-05,3.336877205032063e-05,2.9449798167734264e-05,2.6257194693218252e-05,2.3847256749034407e-05,2.225854376832809e-05,2.1509213757865656e-05,2.1594934246732985e-05,2.2487299882605236e-05,2.413276378736238e-05,2.6452195875840623e-05,2.934128290453177e-05,3.2672048780623666e-05,3.6295773543526675e-05,4.004751212019961e-05,4.37522621005725e-05,4.7232622184237146e-05,5.031755168642287e-05,5.285162637830953e-05,5.4704027329583634e-05,5.577643062334607e-05,5.60090065437981e-05,5.538388904579489e-05,5.392572322206581e-05,5.169920708799059e-05,4.880387061752714e-05,4.536663269898871e-05,4.15329034209619e-05,3.7457124423154225e-05,3.3293649802787724e-05,2.9188767869903898e-05,2.5274469610286952e-05,2.166431459943555e-05,1.845146690228258e-05,1.5708709683959107e-05,1.3490029944722438e-05,1.183321700312775e-05,1.0762852315594471e-05,1.0293085465359683e-05,1.042968393624052e-05,1.1170997731225471e-05,1.2507674262070157e-05,1.4421171642090872e-05,1.6881325820135574e-05,1.9843405482875832e-05,2.3245216776184282e-05,2.700487980469041e-05,3.101987857468756e-05,3.516788169893395e-05,3.930964897481743e-05,4.3294096029982566e-05,4.6965313046247645e-05,5.01710592749254e-05,5.277202105604044e-05,5.4650963260276184e-05,5.57208497860355e-05,5.593107140688824e-05,5.527109524436585e-05,5.377111838578223e-05,5.1499633013373404e-05,4.855814715157737e-05,4.5073607341701304e-05,4.118929672771795e-05,3.705510615324974e-05,3.281808548285819e-05,2.861408362856158e-05,2.4561100310519664e-05,2.0754732815066124e-05,1.726584396202239e-05,1.4140338463373192e-05,1.1400742100204595e-05,9.049149406200398e-06,7.071046853312062e-06,5.4395251512882864e-06,4.119453272378591e-06,3.071280553243145e-06,2.254242927742772e-06,1.6288581255954324e-06,1.1586896253102592e-06,8.114323069869315e-07,5.594210305922045e-07,3.7968776393774247e-07,2.536972368745458e-07,1.6688073809302796e-07,1.0806824081483109e-07,6.88956090685912e-08,4.3240159612049414e-08,2.671700294794332e-08,1.625179720837077e-08,9.733254486066515e-09,5.740667229436221e-09,3.337187258075119e-09,1.9177413995714246e-09,1.1004687462138587e-09,6.51700127303422e-10,4.36226964248125e-10,3.8655820489466674e-10,4.868317145407873e-10,7.689450525239465e-10,1.3203002703412288e-09,2.3043664882298883e-09,3.997112690958417e-09,6.8442879184393166e-09,1.1546503094473923e-08,1.9180976226290206e-08,3.1370383249908735e-08,5.0510087041911215e-08,8.006449446799445e-08,1.2494065254282254e-07,1.9194158315640112e-07,2.902924521635984e-07,4.3221889326521374e-07,6.335385860973623e-07,9.142052547874277e-07,1.2987204315288072e-06,1.8163057174232496e-06,2.5007112327257303e-06,3.38952981252931e-06,4.522896927503113e-06,5.9414882754453146e-06,7.683783546278672e-06,9.782645785478021e-06,1.2261366436134325e-05,1.5129436892812587e-05,1.8378413875610747e-05,2.19783303469485e-05,2.5875147277590824e-05,2.9989727842900225e-05,3.421873403128074e-05,3.843769478926427e-05,4.250628461927487e-05,4.62756034598144e-05,4.959699378915663e-05,5.233170572536495e-05,5.436056162118572e-05,5.559270765266471e-05,5.597258793201228e-05,5.5484436909691293e-05,5.4153840716864284e-05,5.2046234463240695e-05,4.9262536623390665e-05,4.5932426387890924e-05,4.2206002547851695e-05,3.824469195831409e-05,3.421228716859608e-05,3.0266890085312663e-05,2.6554342331443835e-05,2.320346710607452e-05,2.0323172733691054e-05,1.8001216022480736e-05,1.6304229524996535e-05,1.5278505684968924e-05,1.4951014041468918e-05,1.5330202271817403e-05,1.6406281927366498e-05,1.8150898924875774e-05,2.0516304310065846e-05,2.3434337478717107e-05,2.6815679369729506e-05,3.054990144825861e-05,3.4506812498501176e-05,3.853948749736469e-05,4.248916356312235e-05,4.6191932942041755e-05,4.948688831847343e-05,5.222512290654919e-05,5.427879741015461e-05,5.554939107642116e-05],\"yaxis\":\"y\",\"type\":\"scatter\"},{\"legendgroup\":\"bmi\",\"marker\":{\"color\":\"rgb(31, 119, 180)\",\"symbol\":\"line-ns-open\"},\"mode\":\"markers\",\"name\":\"bmi\",\"showlegend\":false,\"x\":[36.6,28.893236911794666,32.5,34.4,24.0,29.0,27.4,22.8,28.893236911794666,24.2,29.7,36.8,27.3,28.893236911794666,28.2,30.9,37.5,25.8,37.8,28.893236911794666,22.4,48.9,26.6,32.5,27.2,23.5,28.2,28.893236911794666,28.3,28.893236911794666,44.2,25.4,22.2,30.5,29.7,26.5,33.7,23.1,32.0,29.9,23.9,28.5,26.4,28.893236911794666,20.2,33.6,28.893236911794666,38.6,33.7,39.2,28.893236911794666,28.893236911794666,27.7,31.4,28.893236911794666,36.5,33.2,28.893236911794666,32.8,27.7,40.4,22.2,25.3,30.2,28.893236911794666,24.0,47.5,20.3,30.0,28.9,28.893236911794666,28.1,31.1,27.4,26.4,21.7,27.0,24.1,28.893236911794666,45.9,44.1,28.893236911794666,22.9,29.7,28.893236911794666,29.1,27.3,32.3,41.1,25.6,29.8,26.3,37.5,26.2,29.4,32.3,24.4,31.4,27.7,28.0,28.8,31.4,34.6,19.4,28.5,28.893236911794666,30.3,40.4,24.2,41.5,22.6,24.2,28.893236911794666,56.6,27.1,30.9,27.3,31.3,24.0,31.0,28.0,30.3,31.7,35.8,28.893236911794666,28.4,28.893236911794666,24.0,29.0,28.893236911794666,36.5,20.1,36.5,28.893236911794666,26.7,38.7,29.9,34.9,27.0,26.6,25.0,23.8,21.8,36.8,30.0,27.5,28.893236911794666,24.6,32.9,26.1,28.893236911794666,31.9,34.1,27.5,25.6,36.9,31.4,37.3,34.1,25.0,28.893236911794666,28.893236911794666,28.893236911794666,45.7,34.2,23.6,27.3,28.893236911794666,22.3,31.4,28.893236911794666,28.893236911794666,26.4,32.9,28.893236911794666,37.1,45.0,25.5,28.893236911794666,26.1,30.8,32.0,29.9,28.893236911794666,37.4,31.7,34.5,27.9,29.5,28.893236911794666,46.0,42.5,35.5,31.1,26.9,35.8,45.5,28.5,28.893236911794666,26.6,28.893236911794666,31.5,32.0,30.8,31.1,33.0,23.4,26.9,33.6,23.9,26.3,27.3,30.7,20.5,21.5,31.0,27.1,40.0,28.893236911794666,28.6,28.1,28.4,42.2,25.8,31.9,31.0,27.5,28.893236911794666,29.6,35.4,16.9,21.5,34.4,28.0,26.8,39.3,31.7,32.6,28.4,35.9,21.2,34.5,42.4,40.5,36.7,30.9,29.3,28.893236911794666,19.6,18.0,39.2,17.6,35.9,19.1,50.1,17.7,27.0,32.3,54.6,35.0,22.0,39.4,26.1,42.4,33.0,19.7,22.5,24.6,25.2,41.8,60.9,31.5,27.3,23.7,24.5,28.4,26.9,26.7,31.2,25.0,25.4,27.5,16.0,27.0,31.6,25.1,30.9,24.8,23.4,29.4,18.3,20.0,19.5,36.0,27.7,27.5,28.5,26.8,33.6,29.1,28.5,34.9,25.1,35.3,26.4,31.5,40.1,43.1,36.7,29.3,21.2,31.2,21.4,27.9,34.3,31.0,27.7,36.0,38.7,27.6,25.1,16.5,22.8,35.4,24.3,34.3,40.1,25.7,21.9,38.4,26.1,30.5,25.9,54.7,29.9,18.6,27.1,24.9,25.2,19.4,29.0,48.2,28.893236911794666,34.6,24.6,25.8,26.1,29.0,27.2,20.7,30.0,37.3,34.1,23.6,25.2,39.5,23.5,23.3,64.8,28.1,28.893236911794666,24.4,29.8,24.9,35.1,32.3,43.6,21.0,47.3,16.6,37.5,24.2,31.6,21.6,31.0,31.1,15.5,27.3,20.5,35.6,16.7,41.8,41.9,16.4,17.1,29.2,27.1,37.9,44.6,22.8,33.2,22.3,26.4,39.6,28.1,39.2,36.0,37.8,40.3,41.5,17.7,21.2,41.6,23.8,23.7,24.8,39.0,37.9,31.1,23.2,18.9,36.1,36.3,40.5,25.4,46.5,16.8,46.6,26.4,26.2,35.2,20.9,36.8,34.4,22.2,13.8,40.3,28.4,31.7,34.2,54.7,24.6,28.893236911794666,36.9,31.1,31.9,31.8,18.0,28.5,29.5,22.0,29.4,28.8,26.2,26.9,23.2,27.9,36.8,28.9,31.0,29.4,15.3,37.1,30.5,38.2,23.2,30.2,45.2,21.8,24.4,17.0,19.5,49.8,27.8,25.1,26.8,60.2,27.5,28.1,27.3,27.4,22.2,22.9,26.6,23.0,32.6,22.1,28.893236911794666,22.5,28.893236911794666,25.5,31.4,26.0,20.0,31.6,31.2,21.7,24.2,25.0,36.7,28.9,29.7,44.3,51.0,39.7,34.7,35.0,21.3,29.1,23.9,36.0,41.2,27.1,33.2,25.4,30.7,34.8,19.2,31.7,35.7,37.8,29.7,35.8,23.6,39.7,40.5,21.4,40.8,24.7,21.0,45.0,26.2,28.893236911794666,28.3,41.6,19.0,32.4,34.0,39.4,28.7,31.8,31.2,20.9,32.1,31.0,23.1,26.7,27.9,27.3,51.5,20.4,29.6,30.6,33.6,71.9,24.2,17.7,22.6,28.1,26.5,28.7,39.5,35.1,27.9,19.3,28.4,26.7,40.9,17.2,28.3,16.1,27.6,16.5,35.8,16.2,24.6,32.0,35.3,19.2,40.4,30.7,24.3,26.4,34.7,31.7,35.6,22.8,28.0,35.6,40.6,29.3,21.0,20.0,26.7,18.4,34.5,27.7,21.1,24.4,19.4,42.3,32.2,26.8,25.4,23.5,50.2,26.1,17.5,24.2,30.8,23.4,30.9,23.6,18.7,27.7,16.7,31.2,17.0,29.8,19.7,29.1,27.2,22.3,27.0,42.1,34.2,40.9,29.4,32.8,21.9,39.6,28.3,47.8,39.3,28.0,27.1,31.2,23.1,20.8,34.1,30.1,35.8,34.6,29.8,26.7,30.2,29.7,54.6,23.3,35.6,27.0,21.6,29.4,22.8,17.3,29.8,36.4,34.7,28.7,26.7,22.1,27.7,40.5,23.0,25.3,22.1,28.0,12.0,28.4,29.6,36.2,22.8,55.7,24.3,26.9,25.3,35.3,18.3,28.893236911794666,26.0,21.0,28.893236911794666,55.7,27.6,20.5,30.2,21.9,28.8,36.2,25.9,28.893236911794666,21.4,20.4,31.6,14.4,23.7,30.2,19.5,32.6,34.2,43.0,42.2,19.7,41.7,21.6,24.2,19.2,25.8,23.2,20.8,28.4,30.2,23.1,16.7,39.5,33.8,34.6,25.0,43.9,27.1,25.9,22.7,27.1,25.6,28.4,57.5,35.8,19.5,31.2,43.6,31.2,23.5,18.7,24.4,29.4,37.0,29.4,38.5,23.5,28.893236911794666,16.3,35.9,35.9,20.3,32.3,27.9,22.3,31.8,29.7,27.1,24.5,28.9,28.893236911794666,24.6,31.6,32.3,41.1,30.0,26.4,30.0,20.8,44.0,30.6,17.2,29.1,27.4,23.5,31.8,23.5,28.5,32.7,54.2,25.6,41.2,27.0,21.3,34.3,29.5,31.6,26.1,27.5,26.5,33.2,40.2,32.5,23.4,32.5,23.9,29.5,24.0,17.7,26.2,33.3,17.4,29.0,21.7,37.8,41.8,24.2,31.1,23.1,25.1,41.3,22.7,24.0,20.5,20.4,27.6,27.0,26.4,34.9,35.0,28.5,32.3,23.9,52.3,26.4,20.9,23.3,32.7,26.5,27.9,30.3,27.6,14.6,40.9,28.4,23.7,27.9,25.2,34.4,36.7,22.2,27.2,27.3,27.3,42.2,26.4,39.4,34.8,20.0,34.1,31.4,17.8,46.1,28.1,24.7,22.7,34.6,21.4,27.4,36.6,32.9,24.7,21.4,33.1,26.7,24.4,25.8,34.3,18.1,43.8,26.9,36.6,24.9,27.6,20.9,30.3,37.4,35.9,50.3,31.5,24.4,38.9,28.6,28.893236911794666,27.5,28.893236911794666,43.7,27.0,29.3,34.7,28.893236911794666,39.9,26.7,24.8,29.7,15.9,31.4,28.893236911794666,27.8,35.5,31.7,33.2,27.7,31.9,25.8,27.7,23.4,24.3,30.3,29.1,20.1,21.2,31.6,41.6,36.4,30.5,32.8,32.3,30.1,34.7,29.7,28.893236911794666,31.3,35.6,35.2,27.6,35.2,28.1,31.8,23.3,28.8,19.5,30.0,25.5,28.8,40.2,32.9,22.4,36.9,19.8,12.3,32.4,24.8,16.4,35.9,23.0,78.0,30.5,26.8,35.3,27.9,22.1,38.3,41.0,28.893236911794666,22.8,30.1,20.8,31.7,30.1,30.8,42.6,37.1,34.2,43.4,18.7,34.0,23.2,41.7,15.1,20.6,18.9,26.6,30.1,32.1,15.1,33.5,23.4,43.2,19.1,26.1,17.3,32.1,28.893236911794666,30.4,29.9,32.8,22.7,28.7,35.2,22.4,32.3,18.6,42.1,38.0,22.3,33.4,23.2,18.0,20.1,19.2,28.7,28.1,22.6,18.0,21.4,27.8,27.6,32.2,24.9,27.1,24.6,24.6,18.9,16.3,31.8,21.0,20.1,29.1,32.3,29.4,50.2,44.9,28.5,19.5,45.0,22.8,25.5,31.5,31.6,31.0,29.5,23.1,30.7,44.7,33.5,25.9,28.3,26.8,27.8,36.0,22.1,38.4,30.1,26.2,26.6,32.6,27.0,25.3,31.9,18.4,30.4,28.2,35.7,35.0,27.2,23.0,25.0,24.5,30.9,26.0,27.2,30.4,21.7,29.1,17.6,29.2,28.1,26.6,26.9,36.2,25.9,40.9,31.5,23.3,37.6,39.8,35.1,21.9,53.4,34.4,24.0,29.3,26.0,31.3,31.0,26.5,16.0,21.1,42.2,27.7,23.6,18.3,44.3,27.3,55.2,44.7,33.1,30.0,40.1,23.1,30.3,30.5,22.8,42.0,29.9,24.0,36.7,22.2,25.5,34.3,16.0,25.6,23.3,41.6,35.6,22.0,26.8,31.9,19.7,28.893236911794666,31.1,34.4,33.2,28.893236911794666,21.6,25.4,41.6,33.1,21.8,30.0,35.2,35.6,28.893236911794666,27.8,29.3,37.2,26.1,21.6,22.7,30.2,18.0,27.8,23.5,41.2,22.7,29.2,42.2,24.0,45.5,19.4,28.2,20.1,27.2,26.5,17.6,42.8,29.3,21.3,29.8,24.1,35.2,18.8,17.4,31.5,29.9,27.3,28.1,28.9,25.2,24.3,37.9,28.2,18.4,23.1,39.4,29.5,18.3,28.7,32.9,26.7,20.1,17.6,43.7,41.1,26.8,31.2,27.4,25.1,33.0,30.7,42.9,14.3,33.2,43.0,22.3,32.8,30.5,36.0,26.5,20.1,28.893236911794666,28.1,16.2,30.0,31.3,26.7,37.7,35.8,27.0,20.7,22.2,28.893236911794666,41.5,33.5,21.8,22.1,30.2,38.7,32.1,41.3,20.1,22.1,24.9,23.0,29.3,22.8,31.6,19.4,22.5,31.6,29.1,28.893236911794666,43.4,26.5,29.7,21.8,23.4,23.0,21.5,14.6,28.5,29.0,26.9,29.6,28.5,25.5,30.5,23.0,22.8,31.4,35.2,23.3,28.893236911794666,31.2,24.8,25.8,48.4,43.1,28.893236911794666,27.8,21.4,22.1,31.8,20.1,29.1,22.6,25.1,33.3,15.9,20.8,19.5,39.0,23.1,18.8,50.6,36.3,32.8,35.8,26.7,26.3,26.5,43.7,24.7,46.2,49.5,43.3,30.9,38.7,28.6,30.2,30.5,33.9,28.6,24.5,28.893236911794666,17.2,27.2,19.3,18.5,32.0,44.5,37.0,30.8,24.7,18.3,44.0,27.6,45.4,28.5,17.6,28.893236911794666,27.5,32.8,29.5,36.4,26.1,35.3,28.893236911794666,18.1,27.1,23.0,55.0,26.6,28.893236911794666,24.1,30.3,32.2,26.5,30.6,25.8,41.9,29.2,44.3,29.1,17.5,31.9,32.2,26.0,25.4,54.8,27.9,28.893236911794666,32.8,34.0,25.5,35.6,28.3,36.9,22.1,31.5,26.7,24.9,32.4,32.2,30.3,28.7,24.1,25.3,24.8,28.893236911794666,34.8,39.2,24.7,28.6,27.7,33.1,27.3,20.3,33.9,28.893236911794666,28.3,32.4,19.7,33.7,35.5,20.0,16.3,36.4,28.1,26.9,29.4,17.2,26.5,19.5,30.6,31.9,26.6,19.9,18.0,26.7,25.3,31.4,21.1,17.9,27.5,37.6,24.1,18.1,31.0,26.6,38.7,27.2,27.8,28.3,27.5,43.3,20.1,25.9,25.8,16.4,29.4,28.9,26.7,27.8,38.7,26.8,36.1,26.7,27.0,21.2,21.0,37.4,26.5,28.9,29.5,17.7,34.9,28.1,36.8,33.3,29.2,34.0,33.9,28.7,21.1,38.2,27.7,35.8,27.1,20.5,35.6,15.6,43.0,17.8,28.893236911794666,25.8,20.5,19.9,24.4,18.3,35.1,35.1,37.1,29.4,31.7,31.4,33.1,28.5,24.0,18.0,27.6,16.9,16.4,35.1,28.8,17.6,21.3,19.7,37.3,35.5,25.5,30.0,21.9,45.5,28.893236911794666,34.9,19.3,32.1,26.9,32.5,19.5,31.7,21.0,28.893236911794666,20.3,28.893236911794666,21.5,40.4,28.893236911794666,30.1,40.2,34.7,25.9,23.7,34.3,34.3,26.3,22.1,33.3,37.3,20.5,19.1,34.7,16.3,28.0,17.2,41.1,25.0,27.5,21.5,15.1,29.6,30.2,34.9,30.7,36.5,21.5,33.2,50.2,22.3,28.893236911794666,27.3,28.3,31.9,24.9,32.7,26.4,24.8,30.7,25.4,32.0,24.4,20.4,29.5,24.4,22.8,20.0,36.3,32.8,34.4,30.5,29.7,36.9,34.2,37.0,28.893236911794666,47.5,24.2,30.6,52.8,38.6,32.8,42.9,25.9,24.7,35.8,28.893236911794666,31.2,26.1,30.8,40.5,25.2,28.7,28.893236911794666,30.4,15.2,36.6,34.5,23.7,35.7,38.9,40.0,18.4,29.0,20.6,28.2,66.8,26.2,34.8,34.5,30.6,55.1,18.8,29.1,22.1,28.9,34.7,20.3,25.1,18.2,25.5,34.4,48.5,25.2,32.5,42.1,19.5,27.7,25.1,29.6,32.9,55.9,25.1,24.7,17.5,20.8,23.3,22.8,26.6,25.5,25.8,25.4,57.3,28.893236911794666,20.2,27.7,23.1,14.3,23.3,23.4,22.8,30.9,28.4,41.9,34.3,25.1,10.3,31.8,31.8,23.0,25.4,14.1,35.1,26.9,33.0,22.1,20.8,30.0,44.0,16.6,28.4,26.3,39.4,15.7,34.1,29.8,23.6,18.3,28.3,18.5,18.4,24.1,25.5,25.3,39.9,28.8,37.2,28.893236911794666,49.8,34.3,29.0,28.893236911794666,37.2,28.893236911794666,19.4,26.2,21.1,28.893236911794666,31.6,29.3,28.4,35.3,40.1,39.0,31.5,28.5,28.5,56.0,28.6,35.2,32.5,35.9,25.1,16.8,27.9,16.3,28.893236911794666,28.893236911794666,21.4,32.7,23.6,19.8,33.1,28.1,38.9,23.8,33.8,26.7,28.893236911794666,32.2,28.1,21.3,44.0,21.5,37.3,44.8,21.4,32.3,35.4,19.7,31.3,35.5,25.8,32.8,35.9,41.8,27.3,27.7,13.4,17.0,20.0,40.9,38.5,30.9,33.4,17.1,28.6,24.0,32.0,28.4,20.3,33.8,43.2,22.7,29.9,28.893236911794666,28.893236911794666,29.9,22.7,16.1,33.8,22.6,25.5,22.5,27.9,23.5,32.2,28.893236911794666,29.9,28.7,37.2,22.2,26.6,24.6,41.7,26.2,27.1,41.8,34.2,19.2,25.2,18.7,43.0,28.2,34.7,25.5,39.8,20.8,28.2,31.0,28.893236911794666,21.6,26.2,28.893236911794666,26.0,22.5,24.0,31.5,36.3,25.4,32.2,39.8,18.6,30.7,16.4,20.5,28.7,29.0,24.4,29.9,25.3,23.5,20.5,33.5,22.0,29.0,28.893236911794666,30.7,37.4,51.8,16.6,29.5,27.3,27.5,33.9,27.9,22.9,32.1,18.2,30.2,31.3,20.3,23.2,30.8,22.9,42.8,22.2,28.7,32.3,24.2,23.9,34.2,29.0,29.9,23.0,17.3,21.0,34.3,19.8,24.3,16.4,32.6,23.7,28.893236911794666,27.0,25.6,34.0,24.9,26.3,43.1,39.6,15.2,41.8,20.1,39.3,28.3,27.5,33.9,20.0,34.8,20.7,24.6,39.4,28.893236911794666,28.893236911794666,29.4,24.8,32.3,25.3,39.0,29.4,31.9,26.4,20.6,26.3,23.6,18.0,26.4,22.0,30.5,29.1,24.9,36.4,31.2,32.8,31.6,35.8,35.2,28.0,24.9,35.7,30.7,33.9,28.893236911794666,27.8,23.2,17.1,31.6,23.8,29.6,45.0,25.6,27.7,25.5,18.3,21.0,28.6,23.5,36.1,29.2,27.6,36.0,20.4,19.9,29.2,27.9,38.1,24.1,37.8,29.1,35.7,28.893236911794666,34.5,34.1,21.1,57.7,22.2,20.5,26.2,23.5,29.1,39.8,21.2,28.893236911794666,20.2,30.8,33.8,17.1,21.3,28.893236911794666,22.3,28.9,26.7,41.0,16.7,29.1,23.6,27.8,31.4,28.2,30.8,36.1,32.7,26.4,20.7,18.5,33.5,14.1,23.4,23.2,36.0,35.6,21.8,34.9,20.4,25.0,22.3,27.3,28.9,30.4,36.9,27.7,44.4,28.2,35.0,20.6,26.5,25.1,22.2,27.3,27.3,41.9,38.8,18.3,19.5,17.2,20.8,23.8,24.7,23.1,22.4,29.9,20.0,28.7,26.2,29.6,30.8,32.7,21.8,35.7,25.4,32.8,21.1,31.7,20.0,34.7,28.0,16.4,28.893236911794666,24.6,24.6,30.3,23.7,33.5,24.9,48.9,31.4,18.4,24.2,34.3,28.893236911794666,25.1,33.3,22.6,26.3,29.7,18.5,21.4,45.5,34.2,32.7,38.1,26.7,22.6,27.7,20.7,25.7,17.3,23.3,16.2,20.5,33.6,20.2,49.3,26.2,30.1,25.1,32.7,26.4,21.0,24.1,20.4,30.9,39.1,27.7,29.5,30.3,28.893236911794666,37.8,30.2,24.2,25.2,22.2,17.7,29.6,32.2,28.7,19.5,38.5,20.6,21.5,43.8,18.0,28.2,26.6,35.5,30.7,18.7,22.4,25.2,24.2,20.5,24.5,24.8,42.6,23.8,42.3,42.2,26.1,22.8,42.3,28.5,23.0,32.8,49.8,23.8,31.7,34.9,54.0,26.8,21.3,19.8,42.4,16.4,28.2,26.3,17.0,23.3,56.1,25.1,35.3,36.3,30.4,43.9,26.4,28.3,42.3,38.0,32.7,28.8,38.5,30.1,31.3,28.4,26.6,20.4,34.7,32.5,30.7,29.6,28.893236911794666,39.4,28.893236911794666,26.1,27.2,41.3,28.893236911794666,20.9,41.5,31.1,24.5,23.0,24.7,19.3,37.0,31.0,33.1,26.6,27.7,40.3,19.5,26.7,26.1,38.2,21.3,97.6,40.9,27.3,20.9,29.2,17.9,38.0,26.1,53.9,22.2,24.6,33.4,34.4,17.6,19.2,31.8,28.1,32.1,17.4,20.2,23.4,39.5,21.5,24.3,15.3,32.4,16.1,34.3,43.8,19.6,36.7,33.7,38.9,28.0,23.9,16.6,42.9,17.1,27.2,30.3,33.9,20.0,19.4,21.5,28.5,34.4,43.7,13.7,33.7,18.0,27.9,21.8,35.8,23.1,30.3,32.0,25.0,30.7,24.3,11.5,30.7,33.7,26.5,17.6,28.893236911794666,22.5,18.5,22.4,25.3,37.3,39.7,28.0,41.4,25.3,28.1,41.2,28.8,31.0,28.3,23.9,44.2,27.6,35.7,37.4,27.5,23.4,25.8,28.893236911794666,22.8,19.5,38.0,23.4,29.5,28.2,14.2,28.9,31.4,32.4,22.0,26.4,26.1,37.6,18.8,23.8,49.4,23.8,20.4,40.3,23.6,34.3,32.7,28.7,24.5,24.8,23.2,23.0,39.3,20.1,25.4,23.8,28.4,15.4,28.2,26.0,41.5,32.2,25.7,33.0,35.0,27.4,16.4,31.5,29.2,25.9,32.3,28.893236911794666,30.4,45.1,25.9,36.6,18.6,27.5,31.3,37.5,23.1,35.0,27.0,29.8,23.5,48.5,31.8,20.0,29.4,24.3,45.4,29.5,49.2,28.893236911794666,29.4,29.1,38.8,23.4,48.7,19.7,20.3,33.5,36.7,24.4,38.8,44.2,33.4,32.5,15.1,21.5,30.4,33.4,18.2,18.7,38.4,36.4,20.6,48.9,18.2,17.0,31.8,33.0,24.7,28.1,40.3,35.2,31.2,37.6,38.7,28.893236911794666,28.893236911794666,28.1,29.2,31.1,24.1,18.7,39.6,15.7,53.8,32.4,42.7,18.6,31.4,33.7,24.5,33.7,35.4,28.893236911794666,22.5,33.6,29.7,28.893236911794666,25.7,20.2,22.7,17.4,22.2,23.8,28.7,33.1,28.0,16.7,27.1,26.4,23.7,33.3,18.9,25.5,35.9,23.2,22.2,34.0,20.4,34.5,31.9,19.8,29.0,36.7,21.3,23.7,25.7,34.0,30.7,44.8,27.7,23.2,30.1,29.3,29.5,25.8,26.2,28.8,29.8,26.5,27.8,29.0,19.1,17.1,24.6,18.3,42.8,46.5,38.4,26.0,26.8,21.1,29.0,43.0,36.6,27.5,40.2,37.1,32.0,32.2,20.6,24.1,25.0,25.2,27.6,48.8,27.6,39.5,27.2,26.3,28.9,30.0,23.7,25.5,24.6,20.7,36.4,23.4,32.3,18.8,15.5,21.4,31.7,29.7,34.3,22.1,21.5,30.4,21.6,30.9,21.9,19.2,30.3,23.0,24.1,52.7,27.6,23.9,26.9,23.9,40.5,32.0,20.5,44.5,16.2,35.8,24.0,33.9,36.0,22.9,44.5,17.5,32.3,30.3,33.5,30.9,25.5,30.0,32.2,21.7,24.7,28.8,27.0,26.0,27.1,18.5,18.8,31.5,18.1,24.3,28.0,28.893236911794666,17.3,17.2,26.9,22.4,25.8,21.3,43.0,24.4,30.1,21.3,17.8,28.4,23.4,24.3,27.8,30.5,28.893236911794666,25.8,26.7,28.1,22.2,25.1,20.9,28.9,28.893236911794666,35.9,29.8,26.7,28.4,26.7,32.5,43.8,28.3,36.6,33.1,27.0,23.6,28.893236911794666,21.8,23.5,28.7,31.6,31.9,25.2,25.9,32.5,28.1,27.4,21.2,26.8,18.5,28.893236911794666,30.6,19.9,28.893236911794666,26.5,43.8,31.8,36.6,22.9,18.7,29.6,43.6,28.893236911794666,20.3,21.3,39.2,52.8,30.2,35.3,37.0,32.1,30.5,22.8,34.5,37.4,19.5,55.7,30.4,25.3,23.1,30.7,18.8,28.6,27.5,26.5,40.3,37.9,17.1,53.5,33.6,43.4,30.5,38.1,29.9,32.7,28.6,38.5,22.9,38.0,43.8,20.8,26.8,25.5,28.893236911794666,25.4,26.7,50.5,21.3,34.7,17.9,36.3,18.4,34.5,33.4,19.4,25.6,24.5,30.0,28.9,28.1,23.0,33.5,34.8,17.6,21.1,29.0,15.8,41.2,29.7,40.8,33.2,37.0,24.5,34.5,28.0,26.8,21.0,23.8,29.3,24.4,22.6,22.8,29.7,32.4,35.8,31.1,31.9,33.7,25.6,19.9,45.3,15.5,28.3,40.2,24.3,24.6,26.6,30.9,23.5,23.9,34.2,34.9,26.2,36.2,22.4,19.3,41.7,46.0,26.9,40.1,27.7,29.5,26.0,22.7,16.0,27.7,33.1,33.1,29.7,34.0,33.3,27.0,14.2,19.4,15.3,28.7,21.0,28.9,20.3,28.0,29.6,30.2,22.2,28.4,29.6,28.6,32.6,29.0,30.1,31.2,20.7,45.1,14.8,37.4,19.9,16.0,27.4,33.4,18.5,33.4,20.8,22.0,32.5,19.2,32.9,23.5,21.7,29.1,28.893236911794666,30.3,29.4,30.1,32.9,34.0,38.6,29.3,43.6,22.7,36.6,22.6,25.6,31.4,26.0,27.0,33.3,17.3,26.9,24.8,20.0,35.8,36.9,29.6,31.1,25.1,51.9,36.3,28.2,35.8,30.9,22.1,17.6,29.5,27.0,33.2,24.4,34.4,36.7,27.2,27.5,32.6,28.893236911794666,28.4,25.5,28.7,23.8,34.4,26.1,28.5,29.6,29.4,28.2,28.7,38.1,28.893236911794666,22.2,25.7,17.7,26.4,32.8,34.5,39.5,23.5,38.8,21.2,32.0,63.3,32.6,25.2,27.4,28.893236911794666,38.6,32.9,26.0,29.2,29.2,26.4,23.1,21.2,26.2,23.4,19.8,20.4,25.9,34.1,18.3,35.0,26.4,27.6,27.0,28.893236911794666,31.3,18.0,22.1,34.4,33.2,23.1,39.7,40.7,30.9,27.5,28.3,33.4,33.1,41.5,17.1,30.0,24.9,32.5,26.1,19.2,38.7,29.5,28.1,14.1,33.9,26.0,52.8,28.893236911794666,29.2,26.3,23.6,18.6,29.7,30.9,22.8,25.5,25.6,23.0,20.6,28.893236911794666,28.4,29.7,26.0,37.5,42.3,21.4,29.3,31.0,22.0,20.9,45.9,61.2,29.1,28.4,22.6,24.2,16.3,35.9,29.8,37.0,35.8,21.1,37.6,24.8,31.9,17.5,28.893236911794666,17.6,38.9,15.2,27.4,27.9,16.1,39.0,36.6,33.7,27.6,31.0,28.893236911794666,28.5,31.4,25.3,17.2,26.9,32.0,22.5,17.3,27.0,33.1,25.0,28.893236911794666,31.1,19.6,24.7,48.0,38.0,24.0,30.0,24.6,23.1,17.4,43.1,27.1,14.3,46.8,26.0,29.3,50.1,28.893236911794666,18.6,27.0,25.7,25.5,27.3,24.1,42.7,41.2,20.2,30.9,27.7,22.3,39.4,34.2,20.1,36.8,28.893236911794666,33.9,27.7,22.7,32.2,22.0,23.2,26.7,23.0,23.4,24.1,31.5,26.1,23.7,20.8,18.8,32.5,24.3,24.1,32.5,39.3,23.9,22.0,37.3,33.0,24.7,32.8,29.8,24.1,21.6,27.1,27.0,18.7,35.8,27.1,33.1,25.9,26.7,22.2,26.0,23.5,23.5,15.9,24.9,26.5,35.7,28.893236911794666,32.1,28.5,40.1,26.6,21.7,28.8,32.0,31.4,32.1,19.8,25.3,28.8,26.0,30.7,43.3,35.2,20.9,35.3,27.0,26.1,29.1,32.6,21.8,32.3,28.1,32.3,21.7,25.0,28.9,21.7,45.3,40.2,22.5,21.3,26.1,28.8,28.893236911794666,32.4,20.4,25.9,38.8,30.8,24.6,20.6,38.8,40.4,28.893236911794666,36.2,18.8,27.6,28.3,39.4,33.5,40.4,25.9,27.6,44.7,30.8,22.3,27.9,22.9,27.3,25.0,48.3,22.7,39.1,27.8,28.893236911794666,36.7,38.5,29.4,30.5,23.6,20.6,31.7,24.9,33.4,22.2,26.5,27.1,30.3,18.6,26.4,17.8,37.4,32.1,38.2,28.893236911794666,39.1,29.5,28.6,40.1,31.8,34.6,24.5,26.2,33.0,22.3,28.893236911794666,58.1,36.9,43.9,18.2,23.1,32.6,41.2,28.6,26.0,36.8,35.8,24.2,22.9,23.1,28.893236911794666,28.9,26.5,29.3,24.8,20.1,18.2,34.7,24.0,29.0,27.3,27.6,20.4,17.7,27.9,41.5,27.4,27.8,17.8,32.0,37.3,28.1,29.1,22.9,38.8,29.0,28.6,29.8,28.9,29.1,28.893236911794666,16.7,34.1,25.7,30.8,23.9,18.8,28.893236911794666,41.8,36.4,28.7,28.3,15.1,22.7,26.6,20.8,23.0,35.8,29.9,43.4,36.3,40.1,35.9,32.4,20.3,33.2,22.3,18.1,28.2,29.7,28.893236911794666,29.0,25.4,26.5,22.7,27.5,23.8,35.6,27.2,30.4,21.5,31.8,29.5,30.6,27.6,23.0,24.8,28.0,22.2,27.8,30.2,26.8,22.0,34.3,29.2,30.3,28.893236911794666,28.893236911794666,21.4,28.893236911794666,26.6,30.0,33.7,30.9,31.1,23.0,20.2,31.6,23.9,26.1,15.8,28.893236911794666,28.7,28.9,25.1,19.8,30.8,22.1,20.4,31.2,24.9,27.0,20.1,24.4,22.6,22.4,26.2,22.9,32.6,31.3,43.9,41.8,28.893236911794666,37.7,20.8,21.6,22.1,39.2,36.7,32.0,25.9,28.9,29.3,32.3,33.2,31.6,20.6,23.3,30.8,28.893236911794666,28.893236911794666,28.893236911794666,23.7,49.3,30.3,24.4,28.2,33.8,42.6,31.9,34.0,19.8,30.5,21.7,24.6,38.1,19.2,30.1,23.3,34.5,30.8,43.8,29.9,50.4,22.6,19.5,33.4,24.2,52.7,25.6,26.9,35.2,22.1,34.4,26.0,26.9,20.1,24.7,32.1,29.8,27.5,22.8,27.6,33.0,33.7,25.1,15.3,22.2,21.4,26.0,29.9,28.6,21.2,16.0,22.7,25.3,31.6,38.9,27.1,24.1,31.5,32.0,31.8,34.0,23.4,29.3,17.2,31.9,31.6,23.2,30.0,26.3,31.8,25.5,21.3,29.6,28.7,30.8,32.1,34.0,16.9,32.1,22.6,31.3,29.0,27.6,17.7,35.9,33.8,17.6,48.3,39.9,11.3,31.5,29.6,19.4,18.1,36.2,17.9,33.0,20.4,33.6,34.5,30.0,12.8,26.2,13.5,25.6,18.8,14.5,23.4,39.7,40.8,29.5,33.0,25.6,33.1,28.1,49.3,16.9,35.9,32.1,34.1,15.1,42.0,16.8,28.8,32.2,16.2,44.2,23.4,31.0,28.7,23.6,35.7,39.5,27.3,31.3,33.4,29.2,26.0,18.1,22.4,29.4,21.6,27.9,29.6,30.2,43.4,30.5,33.2,27.7,33.5,28.0,31.5,24.0,27.4,37.9,26.2,22.4,28.893236911794666,43.7,28.4,29.8,24.8,34.8,27.4,28.893236911794666,33.5,35.0,24.4,28.3,29.1,31.3,32.8,29.1,31.9,14.2,26.3,22.8,24.8,34.1,21.5,26.1,21.4,33.5,23.0,18.5,23.4,31.4,31.1,37.7,25.3,35.6,24.8,32.7,24.9,26.0,22.8,24.0,20.3,30.3,23.7,25.7,21.9,15.8,30.5,25.7,19.0,28.8,28.893236911794666,22.4,32.4,36.6,27.9,27.7,28.893236911794666,34.3,26.7,19.0,20.6,26.7,29.2,21.3,51.9,14.1,28.9,30.9,36.1,25.0,28.6,20.5,16.7,36.6,26.4,33.1,27.5,26.9,23.9,26.9,27.8,32.7,28.7,22.6,26.5,28.3,24.3,24.0,32.4,28.7,36.7,27.7,24.8,31.2,26.1,26.8,26.7,19.6,25.8,32.5,28.3,24.5,25.2,32.3,30.1,35.7,20.0,23.5,23.4,22.3,28.7,20.9,29.4,27.6,43.9,28.7,34.7,37.1,24.2,22.7,29.3,20.0,22.7,25.4,37.6,44.7,26.3,25.0,28.893236911794666,32.3,24.9,33.7,26.6,53.4,41.7,22.0,20.3,42.7,28.2,32.5,22.5,26.5,41.0,27.0,25.9,23.7,30.0,15.0,21.5,25.9,24.3,39.2,14.4,26.6,30.7,35.4,29.2,26.7,21.5,19.1,25.4,34.0,23.9,20.9,18.2,27.6,50.3,24.5,16.6,24.0,18.8,34.0,25.8,30.3,28.9,21.3,26.8,29.2,25.0,21.5,17.1,32.5,26.9,30.4,29.8,20.3,41.1,28.893236911794666,33.9,39.0,31.2,38.2,44.7,33.5,27.0,31.1,29.2,26.6,17.9,24.2,19.5,28.5,21.3,41.3,31.3,40.8,36.6,26.7,18.7,15.2,26.8,25.1,31.3,59.7,29.8,33.5,24.5,33.6,39.7,47.4,26.4,33.0,31.4,27.2,35.7,29.5,21.0,26.6,24.3,43.9,28.893236911794666,52.5,27.0,32.7,29.4,15.1,32.1,32.9,27.6,26.5,19.2,25.9,21.9,17.4,13.2,25.2,28.2,31.5,25.2,14.5,28.0,15.1,31.4,26.3,28.893236911794666,39.6,28.9,31.4,34.3,27.0,27.2,23.8,25.3,32.6,31.8,22.4,28.0,23.9,25.3,16.4,26.9,25.4,18.7,37.5,41.4,37.5,15.8,37.6,30.5,22.1,19.2,38.0,18.7,25.7,30.1,36.3,20.4,20.9,28.4,33.8,24.0,43.3,36.4,37.9,32.6,23.9,18.1,36.4,29.2,30.8,23.8,17.9,31.8,19.5,31.5,24.1,28.893236911794666,35.9,31.6,19.0,18.8,33.5,25.0,52.9,24.8,24.5,40.4,20.2,31.9,25.4,15.4,38.6,31.0,26.4,28.893236911794666,37.7,35.2,54.7,21.6,23.9,28.893236911794666,26.1,39.7,29.9,31.4,34.5,29.4,26.9,22.4,20.5,18.6,31.4,18.5,41.8,21.2,28.6,16.0,30.6,29.0,28.6,34.8,28.893236911794666,42.0,30.3,30.9,32.1,19.6,32.8,31.5,28.893236911794666,34.7,21.5,27.6,28.6,21.1,23.8,33.5,33.4,23.3,21.0,21.2,18.4,26.9,20.2,21.9,24.2,29.6,38.1,22.0,29.8,24.0,26.9,38.0,16.9,23.4,38.5,21.6,15.9,25.1,41.1,21.5,21.0,24.1,30.6,19.8,29.2,33.7,31.0,21.5,19.1,21.4,24.8,35.1,28.6,35.7,45.4,34.5,21.2,22.7,39.1,21.9,16.5,23.0,22.5,20.4,28.7,22.4,26.3,23.6,25.9,30.7,24.5,24.0,20.1,38.0,26.6,24.5,28.893236911794666,41.3,34.8,35.5,24.1,19.0,28.893236911794666,16.6,28.6,22.4,38.6,32.0,40.1,32.0,23.9,25.0,28.5,19.8,25.7,28.0,37.2,24.8,39.2,61.6,27.2,38.0,36.2,16.6,38.0,31.4,35.3,35.8,28.6,34.0,15.5,31.1,37.5,37.7,24.2,33.4,33.0,25.7,19.4,33.4,18.0,40.1,26.9,22.5,27.6,23.3,35.7,28.4,29.4,31.9,25.1,35.6,21.1,17.8,31.5,26.6,44.8,31.3,17.2,25.3,28.8,49.9,18.0,23.5,18.1,41.7,28.893236911794666,20.7,30.3,27.8,18.9,20.4,31.8,44.8,37.1,39.9,24.1,18.1,36.3,19.1,21.1,28.9,18.9,43.3,37.2,32.2,26.3,25.4,18.3,21.4,22.9,16.2,29.6,21.5,24.2,37.3,33.3,33.1,22.2,24.4,30.3,28.2,17.0,53.8,30.4,22.3,25.3,28.893236911794666,29.8,43.8,34.5,25.5,31.5,39.2,47.3,17.0,38.2,31.1,22.4,32.0,24.7,36.3,20.2,27.4,29.6,54.3,28.6,43.9,22.2,28.4,23.7,18.3,18.3,28.9,28.893236911794666,27.1,13.8,21.9,24.0,28.893236911794666,20.8,39.8,26.2,43.9,27.3,28.893236911794666,22.0,40.0,20.1,42.2,25.8,27.2,30.9,47.9,33.1,37.8,25.4,28.4,16.6,35.1,32.7,29.8,13.0,27.5,23.6,36.9,16.7,26.5,37.0,27.7,23.5,40.4,27.7,28.3,55.0,28.7,25.0,24.8,35.5,25.0,17.3,37.8,32.8,28.7,28.8,28.4,24.9,29.6,26.1,29.5,23.9,25.8,36.2,31.3,26.1,19.1,17.6,21.4,24.0,25.5,19.9,19.9,35.5,26.9,24.2,30.0,30.9,26.5,30.6,19.1,23.2,30.5,15.8,16.9,18.0,13.9,36.7,30.8,34.6,16.3,38.2,27.3,30.4,34.5,17.4,32.0,33.4,40.2,30.1,46.2,35.6,29.4,27.3,17.4,26.9,17.7,23.6,27.7,38.0,35.2,28.893236911794666,32.4,36.1,30.6,29.0,22.3,27.3,17.4,39.0,26.7,24.2,22.8,25.6,21.9,25.9,30.6,25.7,33.3,23.8,17.2,31.0,24.7,27.1,28.893236911794666,38.3,50.9,29.2,23.6,33.5,16.3,30.8,31.1,26.4,18.6,37.3,26.6,17.6,22.3,20.2,30.9,31.5,29.7,32.5,32.8,25.4,27.2,31.6,39.6,19.8,29.6,25.5,25.8,32.1,25.6,26.3,39.4,25.6,34.0,35.8,24.9,29.3,23.4,24.5,29.8,28.9,27.3,23.2,34.2,23.3,26.9,21.8,26.9,29.9,22.4,27.5,35.0,27.9,25.5,28.6,34.8,50.6,30.9,14.8,31.4,22.3,19.1,27.4,17.5,36.2,25.4,25.7,28.6,33.7,37.9,28.4,20.0,29.1,27.6,27.6,24.2,31.0,34.5,27.0,20.7,26.1,19.2,28.0,23.6,57.2,33.0,22.2,24.8,24.7,27.9,21.6,34.8,32.9,28.0,28.893236911794666,25.0,24.7,27.3,34.2,39.1,22.7,33.9,18.6,16.7,20.6,20.1,45.2,25.3,32.4,34.9,43.7,23.0,21.5,24.9,22.9,25.0,21.3,46.1,64.4,37.0,21.3,28.3,31.1,25.1,27.6,29.4,14.1,35.2,23.9,34.0,27.1,29.5,28.893236911794666,20.7,39.5,33.7,23.2,30.1,28.8,92.0,38.0,27.7,43.2,24.1,28.7,34.8,23.5,28.5,20.3,43.0,18.3,27.2,22.0,50.8,35.4,55.9,27.9,19.8,26.0,26.8,28.893236911794666,32.5,15.0,14.2,17.0,26.2,24.9,26.6,22.7,32.7,36.7,31.5,36.9,27.6,20.7,20.2,23.4,25.3,28.2,27.0,24.8,34.8,17.3,27.8,16.2,28.893236911794666,21.7,21.4,29.3,36.2,28.3,23.5,25.9,27.1,21.5,30.5,23.4,37.6,24.0,25.1,28.7,41.8,25.6,27.2,24.4,20.7,19.6,24.8,32.6,20.5,36.2,45.4,27.6,28.893236911794666,34.7,32.4,28.893236911794666,28.7,45.3,40.3,38.9,46.0,32.4,19.4,27.5,26.2,31.1,34.6,24.3,34.6,28.5,32.1,28.0,20.9,33.8,25.8,31.8,26.8,25.9,29.2,25.3,41.7,38.8,29.1,30.9,39.3,41.8,26.2,33.8,26.1,24.1,30.7,22.4,23.0,30.2,30.3,28.7,36.3,16.3,34.5,20.8,31.0,17.6,22.7,38.4,40.8,32.9,31.3,28.5,27.6,40.2,24.7,17.7,25.4,28.5,26.2,26.0,45.3,31.5,20.6,29.4,57.9,39.1,23.8,38.1,19.5,35.5,26.4,22.2,29.1,41.9,22.6,33.3,21.3,20.4,28.7,28.8,38.7,32.3,37.9,25.3,27.7,25.1,16.8,27.7,28.6,37.6,32.7,22.7,16.0,23.5,45.8,20.8,16.7,22.2,33.1,32.7,41.4,24.1,28.0,24.2,23.5,23.0,20.3,24.8,26.1,24.2,19.3,18.2,24.2,41.5,28.0,37.0,32.2,35.9,47.6,32.1,55.7,22.2,20.1,14.6,28.4,20.6,19.8,23.4,25.1,30.1,33.3,24.0,27.8,21.4,25.5,28.893236911794666,21.8,18.9,21.9,30.6,29.8,28.7,35.5,29.1,32.8,22.8,31.3,29.0,19.0,24.1,21.4,28.0,27.6,28.7,24.5,25.0,29.6,29.9,35.6,27.9,42.6,21.2,28.5,25.6,28.893236911794666,31.1,30.4,22.9,31.9,48.8,43.0,21.8,35.5,24.3,23.1,18.5,42.4,32.3,22.6,17.8,18.4,26.9,32.0,23.4,31.4,22.4,28.9,27.4,57.2,28.4,23.5,28.3,38.2,33.3,33.3,28.8,32.1,28.9,25.5,25.9,19.5,23.8,24.9,18.5,30.6,16.1,32.5,27.4,30.2,23.5,36.0,24.8,27.5,40.0,18.1,18.8,23.6,29.7,43.7,27.3,20.2,23.8,21.4,25.1,17.9,34.5,27.1,26.1,43.4,33.2,37.2,41.3,35.4,26.1,24.5,28.893236911794666,32.7,29.2,20.4,33.5,14.0,33.5,27.5,35.3,30.1,32.6,47.5,31.6,23.5,40.3,34.1,16.1,26.4,19.0,34.7,23.3,32.6,26.0,35.1,18.6,30.4,32.8,21.6,23.3,31.4,26.3,20.1,28.3,40.4,18.6,44.7,25.3,28.3,39.9,28.893236911794666,34.7,31.9,35.0,32.7,30.6,27.9,20.4,29.6,23.5,46.4,27.4,25.2,25.8,33.3,27.7,28.9,33.1,38.1,27.9,17.4,27.1,22.7,28.3,21.5,30.0,18.6,45.2,39.7,31.5,23.2,27.3,26.5,19.3,26.1,19.8,25.1,37.3,30.3,16.1,25.1,26.7,29.3,38.7,35.8,21.7,31.4,26.9,33.0,24.5,44.9,25.5,22.1,24.3,32.4,28.893236911794666,33.1,26.7,37.9,39.6,19.8,30.0,23.1,34.3,38.4,32.8,34.4,44.6,32.8,26.4,27.3,32.4,43.2,33.6,26.4,46.9,36.3,34.9,29.6,16.5,35.4,23.6,33.1,40.2,14.8,34.8,33.5,31.9,16.1,50.2,35.9,39.6,27.5,32.3,15.4,28.4,19.5,25.0,26.3,39.6,38.6,33.9,32.2,25.1,37.4,30.1,27.0,32.4,26.8,27.2,36.7,36.0,37.2,19.1,21.8,26.5,35.0,32.6,23.9,33.7,29.4,29.0,20.2,28.893236911794666,27.4,25.0,30.7,23.0,26.6,18.1,47.1,29.7,19.9,13.3,32.7,31.8,31.4,20.4,33.2,30.5,30.3,34.2,34.4,48.1,22.8,30.5,35.9,33.7,24.1,25.4,25.5,29.2,28.893236911794666,17.4,29.9,21.5,24.7,25.1,34.4,27.9,31.5,31.8,30.1,26.4,27.2,22.5,29.8,26.1,24.9,23.5,30.1,37.3,25.5,35.3,27.6,28.7,29.9,34.2,24.9,36.8,24.5,34.6,30.0,28.8,28.6,23.6,20.1,21.1,34.1,28.893236911794666,29.5,37.8,31.2,31.1,34.2,17.7,39.2,22.2,29.5,27.0,16.8,23.3,33.5,15.6,28.2,22.6,20.2,22.2,22.6,26.7,22.9,21.5,30.3,14.8,24.3,17.4,29.0,26.3,51.7,29.2,18.3,21.9,16.3,27.4,20.4,23.2,30.3,16.7,31.0,28.893236911794666,33.5,17.0,19.4,14.6,32.2,37.7,27.4,25.0,20.1,21.7,38.2,17.0,28.4,30.0,34.1,19.3,21.6,32.9,27.2,27.8,29.9,28.4,24.1,24.0,23.4,32.6,33.1,33.8,30.3,36.9,29.7,38.8,30.9,36.9,18.8,25.5,32.3,25.8,31.1,27.9,18.6,20.1,26.7,30.3,30.4,30.0,24.9,60.9,24.3,38.7,18.6,17.1,29.4,16.9,34.2,27.6,47.8,18.9,24.4,25.2,30.7,26.1,25.3,32.8,45.7,24.6,32.3,47.6,34.4,18.2,44.5,36.6,19.4,22.9,20.0,36.1,27.3,42.2,26.4,23.6,18.6,18.0,31.1,30.0,43.8,23.8,36.2,32.6,18.0,25.5,29.9,32.1,25.4,23.4,23.4,21.8,30.8,37.9,42.5,23.4,35.4,32.3,27.0,46.3,30.1,34.7,18.3,16.2,33.2,18.6,25.1,24.1,33.1,24.8,23.4,54.1,28.9,38.1,37.2,19.6,29.0,26.7,20.5,34.1,42.4,37.7,39.1,28.9,30.7,33.8,28.893236911794666,32.1,40.5,24.8,31.8,27.0,13.7,23.4,16.4,14.9,38.8,38.6,32.2,28.893236911794666,30.6,28.1,35.2,21.8,28.1,28.2,28.4,37.4,21.8,19.8,16.2,33.6,21.2,28.4,28.893236911794666,41.1,24.9,56.6,28.8,33.7,38.6,33.8,22.4,37.3,23.4,39.1,21.2,31.2,28.0,21.1,15.7,29.1,26.1,16.2,27.1,28.8,37.9,21.6,30.1,29.7,26.4,46.0,26.1,23.2,28.4,20.5,24.6,32.2,30.5,28.893236911794666,24.9,26.5,34.5,21.5,15.9,17.7,26.5,24.4,26.6,23.9,30.1,23.6,18.4,32.1,24.4,27.3,34.8,28.4,40.2,31.1,24.0,38.1,29.9,24.5,49.5,35.5,29.5,28.8,22.1,29.4,45.0,27.1,28.3,20.1,31.3,17.6,24.5,24.1,31.3,31.5,29.9,30.2,27.8,15.6,26.3,24.8,17.1,20.3,18.7,28.8,28.7,24.6,25.3,29.7,28.893236911794666,21.1,26.9,26.2,26.3,24.8,25.0,34.6,42.7,28.893236911794666,24.5,19.3,29.3,22.1,27.8,24.7,25.3,41.2,47.6,23.4,22.7,29.7,32.3,36.9,27.7,24.3,37.4,25.1,24.3,24.3,28.7,16.8,35.8,40.0,24.3,25.6,37.8,23.0,21.0,15.5,17.1,28.0,40.8,37.5,24.2,26.9,33.1,21.8,34.7,30.2,16.8,21.0,30.9,38.9,28.893236911794666,24.3,17.4,28.2,40.8,17.5,28.893236911794666,28.3,24.5,21.7,46.9,18.6,28.893236911794666,40.0,30.6,25.6,26.2],\"xaxis\":\"x\",\"y\":[\"bmi\",\"bmi\",\"bmi\",\"bmi\",\"bmi\",\"bmi\",\"bmi\",\"bmi\",\"bmi\",\"bmi\",\"bmi\",\"bmi\",\"bmi\",\"bmi\",\"bmi\",\"bmi\",\"bmi\",\"bmi\",\"bmi\",\"bmi\",\"bmi\",\"bmi\",\"bmi\",\"bmi\",\"bmi\",\"bmi\",\"bmi\",\"bmi\",\"bmi\",\"bmi\",\"bmi\",\"bmi\",\"bmi\",\"bmi\",\"bmi\",\"bmi\",\"bmi\",\"bmi\",\"bmi\",\"bmi\",\"bmi\",\"bmi\",\"bmi\",\"bmi\",\"bmi\",\"bmi\",\"bmi\",\"bmi\",\"bmi\",\"bmi\",\"bmi\",\"bmi\",\"bmi\",\"bmi\",\"bmi\",\"bmi\",\"bmi\",\"bmi\",\"bmi\",\"bmi\",\"bmi\",\"bmi\",\"bmi\",\"bmi\",\"bmi\",\"bmi\",\"bmi\",\"bmi\",\"bmi\",\"bmi\",\"bmi\",\"bmi\",\"bmi\",\"bmi\",\"bmi\",\"bmi\",\"bmi\",\"bmi\",\"bmi\",\"bmi\",\"bmi\",\"bmi\",\"bmi\",\"bmi\",\"bmi\",\"bmi\",\"bmi\",\"bmi\",\"bmi\",\"bmi\",\"bmi\",\"bmi\",\"bmi\",\"bmi\",\"bmi\",\"bmi\",\"bmi\",\"bmi\",\"bmi\",\"bmi\",\"bmi\",\"bmi\",\"bmi\",\"bmi\",\"bmi\",\"bmi\",\"bmi\",\"bmi\",\"bmi\",\"bmi\",\"bmi\",\"bmi\",\"bmi\",\"bmi\",\"bmi\",\"bmi\",\"bmi\",\"bmi\",\"bmi\",\"bmi\",\"bmi\",\"bmi\",\"bmi\",\"bmi\",\"bmi\",\"bmi\",\"bmi\",\"bmi\",\"bmi\",\"bmi\",\"bmi\",\"bmi\",\"bmi\",\"bmi\",\"bmi\",\"bmi\",\"bmi\",\"bmi\",\"bmi\",\"bmi\",\"bmi\",\"bmi\",\"bmi\",\"bmi\",\"bmi\",\"bmi\",\"bmi\",\"bmi\",\"bmi\",\"bmi\",\"bmi\",\"bmi\",\"bmi\",\"bmi\",\"bmi\",\"bmi\",\"bmi\",\"bmi\",\"bmi\",\"bmi\",\"bmi\",\"bmi\",\"bmi\",\"bmi\",\"bmi\",\"bmi\",\"bmi\",\"bmi\",\"bmi\",\"bmi\",\"bmi\",\"bmi\",\"bmi\",\"bmi\",\"bmi\",\"bmi\",\"bmi\",\"bmi\",\"bmi\",\"bmi\",\"bmi\",\"bmi\",\"bmi\",\"bmi\",\"bmi\",\"bmi\",\"bmi\",\"bmi\",\"bmi\",\"bmi\",\"bmi\",\"bmi\",\"bmi\",\"bmi\",\"bmi\",\"bmi\",\"bmi\",\"bmi\",\"bmi\",\"bmi\",\"bmi\",\"bmi\",\"bmi\",\"bmi\",\"bmi\",\"bmi\",\"bmi\",\"bmi\",\"bmi\",\"bmi\",\"bmi\",\"bmi\",\"bmi\",\"bmi\",\"bmi\",\"bmi\",\"bmi\",\"bmi\",\"bmi\",\"bmi\",\"bmi\",\"bmi\",\"bmi\",\"bmi\",\"bmi\",\"bmi\",\"bmi\",\"bmi\",\"bmi\",\"bmi\",\"bmi\",\"bmi\",\"bmi\",\"bmi\",\"bmi\",\"bmi\",\"bmi\",\"bmi\",\"bmi\",\"bmi\",\"bmi\",\"bmi\",\"bmi\",\"bmi\",\"bmi\",\"bmi\",\"bmi\",\"bmi\",\"bmi\",\"bmi\",\"bmi\",\"bmi\",\"bmi\",\"bmi\",\"bmi\",\"bmi\",\"bmi\",\"bmi\",\"bmi\",\"bmi\",\"bmi\",\"bmi\",\"bmi\",\"bmi\",\"bmi\",\"bmi\",\"bmi\",\"bmi\",\"bmi\",\"bmi\",\"bmi\",\"bmi\",\"bmi\",\"bmi\",\"bmi\",\"bmi\",\"bmi\",\"bmi\",\"bmi\",\"bmi\",\"bmi\",\"bmi\",\"bmi\",\"bmi\",\"bmi\",\"bmi\",\"bmi\",\"bmi\",\"bmi\",\"bmi\",\"bmi\",\"bmi\",\"bmi\",\"bmi\",\"bmi\",\"bmi\",\"bmi\",\"bmi\",\"bmi\",\"bmi\",\"bmi\",\"bmi\",\"bmi\",\"bmi\",\"bmi\",\"bmi\",\"bmi\",\"bmi\",\"bmi\",\"bmi\",\"bmi\",\"bmi\",\"bmi\",\"bmi\",\"bmi\",\"bmi\",\"bmi\",\"bmi\",\"bmi\",\"bmi\",\"bmi\",\"bmi\",\"bmi\",\"bmi\",\"bmi\",\"bmi\",\"bmi\",\"bmi\",\"bmi\",\"bmi\",\"bmi\",\"bmi\",\"bmi\",\"bmi\",\"bmi\",\"bmi\",\"bmi\",\"bmi\",\"bmi\",\"bmi\",\"bmi\",\"bmi\",\"bmi\",\"bmi\",\"bmi\",\"bmi\",\"bmi\",\"bmi\",\"bmi\",\"bmi\",\"bmi\",\"bmi\",\"bmi\",\"bmi\",\"bmi\",\"bmi\",\"bmi\",\"bmi\",\"bmi\",\"bmi\",\"bmi\",\"bmi\",\"bmi\",\"bmi\",\"bmi\",\"bmi\",\"bmi\",\"bmi\",\"bmi\",\"bmi\",\"bmi\",\"bmi\",\"bmi\",\"bmi\",\"bmi\",\"bmi\",\"bmi\",\"bmi\",\"bmi\",\"bmi\",\"bmi\",\"bmi\",\"bmi\",\"bmi\",\"bmi\",\"bmi\",\"bmi\",\"bmi\",\"bmi\",\"bmi\",\"bmi\",\"bmi\",\"bmi\",\"bmi\",\"bmi\",\"bmi\",\"bmi\",\"bmi\",\"bmi\",\"bmi\",\"bmi\",\"bmi\",\"bmi\",\"bmi\",\"bmi\",\"bmi\",\"bmi\",\"bmi\",\"bmi\",\"bmi\",\"bmi\",\"bmi\",\"bmi\",\"bmi\",\"bmi\",\"bmi\",\"bmi\",\"bmi\",\"bmi\",\"bmi\",\"bmi\",\"bmi\",\"bmi\",\"bmi\",\"bmi\",\"bmi\",\"bmi\",\"bmi\",\"bmi\",\"bmi\",\"bmi\",\"bmi\",\"bmi\",\"bmi\",\"bmi\",\"bmi\",\"bmi\",\"bmi\",\"bmi\",\"bmi\",\"bmi\",\"bmi\",\"bmi\",\"bmi\",\"bmi\",\"bmi\",\"bmi\",\"bmi\",\"bmi\",\"bmi\",\"bmi\",\"bmi\",\"bmi\",\"bmi\",\"bmi\",\"bmi\",\"bmi\",\"bmi\",\"bmi\",\"bmi\",\"bmi\",\"bmi\",\"bmi\",\"bmi\",\"bmi\",\"bmi\",\"bmi\",\"bmi\",\"bmi\",\"bmi\",\"bmi\",\"bmi\",\"bmi\",\"bmi\",\"bmi\",\"bmi\",\"bmi\",\"bmi\",\"bmi\",\"bmi\",\"bmi\",\"bmi\",\"bmi\",\"bmi\",\"bmi\",\"bmi\",\"bmi\",\"bmi\",\"bmi\",\"bmi\",\"bmi\",\"bmi\",\"bmi\",\"bmi\",\"bmi\",\"bmi\",\"bmi\",\"bmi\",\"bmi\",\"bmi\",\"bmi\",\"bmi\",\"bmi\",\"bmi\",\"bmi\",\"bmi\",\"bmi\",\"bmi\",\"bmi\",\"bmi\",\"bmi\",\"bmi\",\"bmi\",\"bmi\",\"bmi\",\"bmi\",\"bmi\",\"bmi\",\"bmi\",\"bmi\",\"bmi\",\"bmi\",\"bmi\",\"bmi\",\"bmi\",\"bmi\",\"bmi\",\"bmi\",\"bmi\",\"bmi\",\"bmi\",\"bmi\",\"bmi\",\"bmi\",\"bmi\",\"bmi\",\"bmi\",\"bmi\",\"bmi\",\"bmi\",\"bmi\",\"bmi\",\"bmi\",\"bmi\",\"bmi\",\"bmi\",\"bmi\",\"bmi\",\"bmi\",\"bmi\",\"bmi\",\"bmi\",\"bmi\",\"bmi\",\"bmi\",\"bmi\",\"bmi\",\"bmi\",\"bmi\",\"bmi\",\"bmi\",\"bmi\",\"bmi\",\"bmi\",\"bmi\",\"bmi\",\"bmi\",\"bmi\",\"bmi\",\"bmi\",\"bmi\",\"bmi\",\"bmi\",\"bmi\",\"bmi\",\"bmi\",\"bmi\",\"bmi\",\"bmi\",\"bmi\",\"bmi\",\"bmi\",\"bmi\",\"bmi\",\"bmi\",\"bmi\",\"bmi\",\"bmi\",\"bmi\",\"bmi\",\"bmi\",\"bmi\",\"bmi\",\"bmi\",\"bmi\",\"bmi\",\"bmi\",\"bmi\",\"bmi\",\"bmi\",\"bmi\",\"bmi\",\"bmi\",\"bmi\",\"bmi\",\"bmi\",\"bmi\",\"bmi\",\"bmi\",\"bmi\",\"bmi\",\"bmi\",\"bmi\",\"bmi\",\"bmi\",\"bmi\",\"bmi\",\"bmi\",\"bmi\",\"bmi\",\"bmi\",\"bmi\",\"bmi\",\"bmi\",\"bmi\",\"bmi\",\"bmi\",\"bmi\",\"bmi\",\"bmi\",\"bmi\",\"bmi\",\"bmi\",\"bmi\",\"bmi\",\"bmi\",\"bmi\",\"bmi\",\"bmi\",\"bmi\",\"bmi\",\"bmi\",\"bmi\",\"bmi\",\"bmi\",\"bmi\",\"bmi\",\"bmi\",\"bmi\",\"bmi\",\"bmi\",\"bmi\",\"bmi\",\"bmi\",\"bmi\",\"bmi\",\"bmi\",\"bmi\",\"bmi\",\"bmi\",\"bmi\",\"bmi\",\"bmi\",\"bmi\",\"bmi\",\"bmi\",\"bmi\",\"bmi\",\"bmi\",\"bmi\",\"bmi\",\"bmi\",\"bmi\",\"bmi\",\"bmi\",\"bmi\",\"bmi\",\"bmi\",\"bmi\",\"bmi\",\"bmi\",\"bmi\",\"bmi\",\"bmi\",\"bmi\",\"bmi\",\"bmi\",\"bmi\",\"bmi\",\"bmi\",\"bmi\",\"bmi\",\"bmi\",\"bmi\",\"bmi\",\"bmi\",\"bmi\",\"bmi\",\"bmi\",\"bmi\",\"bmi\",\"bmi\",\"bmi\",\"bmi\",\"bmi\",\"bmi\",\"bmi\",\"bmi\",\"bmi\",\"bmi\",\"bmi\",\"bmi\",\"bmi\",\"bmi\",\"bmi\",\"bmi\",\"bmi\",\"bmi\",\"bmi\",\"bmi\",\"bmi\",\"bmi\",\"bmi\",\"bmi\",\"bmi\",\"bmi\",\"bmi\",\"bmi\",\"bmi\",\"bmi\",\"bmi\",\"bmi\",\"bmi\",\"bmi\",\"bmi\",\"bmi\",\"bmi\",\"bmi\",\"bmi\",\"bmi\",\"bmi\",\"bmi\",\"bmi\",\"bmi\",\"bmi\",\"bmi\",\"bmi\",\"bmi\",\"bmi\",\"bmi\",\"bmi\",\"bmi\",\"bmi\",\"bmi\",\"bmi\",\"bmi\",\"bmi\",\"bmi\",\"bmi\",\"bmi\",\"bmi\",\"bmi\",\"bmi\",\"bmi\",\"bmi\",\"bmi\",\"bmi\",\"bmi\",\"bmi\",\"bmi\",\"bmi\",\"bmi\",\"bmi\",\"bmi\",\"bmi\",\"bmi\",\"bmi\",\"bmi\",\"bmi\",\"bmi\",\"bmi\",\"bmi\",\"bmi\",\"bmi\",\"bmi\",\"bmi\",\"bmi\",\"bmi\",\"bmi\",\"bmi\",\"bmi\",\"bmi\",\"bmi\",\"bmi\",\"bmi\",\"bmi\",\"bmi\",\"bmi\",\"bmi\",\"bmi\",\"bmi\",\"bmi\",\"bmi\",\"bmi\",\"bmi\",\"bmi\",\"bmi\",\"bmi\",\"bmi\",\"bmi\",\"bmi\",\"bmi\",\"bmi\",\"bmi\",\"bmi\",\"bmi\",\"bmi\",\"bmi\",\"bmi\",\"bmi\",\"bmi\",\"bmi\",\"bmi\",\"bmi\",\"bmi\",\"bmi\",\"bmi\",\"bmi\",\"bmi\",\"bmi\",\"bmi\",\"bmi\",\"bmi\",\"bmi\",\"bmi\",\"bmi\",\"bmi\",\"bmi\",\"bmi\",\"bmi\",\"bmi\",\"bmi\",\"bmi\",\"bmi\",\"bmi\",\"bmi\",\"bmi\",\"bmi\",\"bmi\",\"bmi\",\"bmi\",\"bmi\",\"bmi\",\"bmi\",\"bmi\",\"bmi\",\"bmi\",\"bmi\",\"bmi\",\"bmi\",\"bmi\",\"bmi\",\"bmi\",\"bmi\",\"bmi\",\"bmi\",\"bmi\",\"bmi\",\"bmi\",\"bmi\",\"bmi\",\"bmi\",\"bmi\",\"bmi\",\"bmi\",\"bmi\",\"bmi\",\"bmi\",\"bmi\",\"bmi\",\"bmi\",\"bmi\",\"bmi\",\"bmi\",\"bmi\",\"bmi\",\"bmi\",\"bmi\",\"bmi\",\"bmi\",\"bmi\",\"bmi\",\"bmi\",\"bmi\",\"bmi\",\"bmi\",\"bmi\",\"bmi\",\"bmi\",\"bmi\",\"bmi\",\"bmi\",\"bmi\",\"bmi\",\"bmi\",\"bmi\",\"bmi\",\"bmi\",\"bmi\",\"bmi\",\"bmi\",\"bmi\",\"bmi\",\"bmi\",\"bmi\",\"bmi\",\"bmi\",\"bmi\",\"bmi\",\"bmi\",\"bmi\",\"bmi\",\"bmi\",\"bmi\",\"bmi\",\"bmi\",\"bmi\",\"bmi\",\"bmi\",\"bmi\",\"bmi\",\"bmi\",\"bmi\",\"bmi\",\"bmi\",\"bmi\",\"bmi\",\"bmi\",\"bmi\",\"bmi\",\"bmi\",\"bmi\",\"bmi\",\"bmi\",\"bmi\",\"bmi\",\"bmi\",\"bmi\",\"bmi\",\"bmi\",\"bmi\",\"bmi\",\"bmi\",\"bmi\",\"bmi\",\"bmi\",\"bmi\",\"bmi\",\"bmi\",\"bmi\",\"bmi\",\"bmi\",\"bmi\",\"bmi\",\"bmi\",\"bmi\",\"bmi\",\"bmi\",\"bmi\",\"bmi\",\"bmi\",\"bmi\",\"bmi\",\"bmi\",\"bmi\",\"bmi\",\"bmi\",\"bmi\",\"bmi\",\"bmi\",\"bmi\",\"bmi\",\"bmi\",\"bmi\",\"bmi\",\"bmi\",\"bmi\",\"bmi\",\"bmi\",\"bmi\",\"bmi\",\"bmi\",\"bmi\",\"bmi\",\"bmi\",\"bmi\",\"bmi\",\"bmi\",\"bmi\",\"bmi\",\"bmi\",\"bmi\",\"bmi\",\"bmi\",\"bmi\",\"bmi\",\"bmi\",\"bmi\",\"bmi\",\"bmi\",\"bmi\",\"bmi\",\"bmi\",\"bmi\",\"bmi\",\"bmi\",\"bmi\",\"bmi\",\"bmi\",\"bmi\",\"bmi\",\"bmi\",\"bmi\",\"bmi\",\"bmi\",\"bmi\",\"bmi\",\"bmi\",\"bmi\",\"bmi\",\"bmi\",\"bmi\",\"bmi\",\"bmi\",\"bmi\",\"bmi\",\"bmi\",\"bmi\",\"bmi\",\"bmi\",\"bmi\",\"bmi\",\"bmi\",\"bmi\",\"bmi\",\"bmi\",\"bmi\",\"bmi\",\"bmi\",\"bmi\",\"bmi\",\"bmi\",\"bmi\",\"bmi\",\"bmi\",\"bmi\",\"bmi\",\"bmi\",\"bmi\",\"bmi\",\"bmi\",\"bmi\",\"bmi\",\"bmi\",\"bmi\",\"bmi\",\"bmi\",\"bmi\",\"bmi\",\"bmi\",\"bmi\",\"bmi\",\"bmi\",\"bmi\",\"bmi\",\"bmi\",\"bmi\",\"bmi\",\"bmi\",\"bmi\",\"bmi\",\"bmi\",\"bmi\",\"bmi\",\"bmi\",\"bmi\",\"bmi\",\"bmi\",\"bmi\",\"bmi\",\"bmi\",\"bmi\",\"bmi\",\"bmi\",\"bmi\",\"bmi\",\"bmi\",\"bmi\",\"bmi\",\"bmi\",\"bmi\",\"bmi\",\"bmi\",\"bmi\",\"bmi\",\"bmi\",\"bmi\",\"bmi\",\"bmi\",\"bmi\",\"bmi\",\"bmi\",\"bmi\",\"bmi\",\"bmi\",\"bmi\",\"bmi\",\"bmi\",\"bmi\",\"bmi\",\"bmi\",\"bmi\",\"bmi\",\"bmi\",\"bmi\",\"bmi\",\"bmi\",\"bmi\",\"bmi\",\"bmi\",\"bmi\",\"bmi\",\"bmi\",\"bmi\",\"bmi\",\"bmi\",\"bmi\",\"bmi\",\"bmi\",\"bmi\",\"bmi\",\"bmi\",\"bmi\",\"bmi\",\"bmi\",\"bmi\",\"bmi\",\"bmi\",\"bmi\",\"bmi\",\"bmi\",\"bmi\",\"bmi\",\"bmi\",\"bmi\",\"bmi\",\"bmi\",\"bmi\",\"bmi\",\"bmi\",\"bmi\",\"bmi\",\"bmi\",\"bmi\",\"bmi\",\"bmi\",\"bmi\",\"bmi\",\"bmi\",\"bmi\",\"bmi\",\"bmi\",\"bmi\",\"bmi\",\"bmi\",\"bmi\",\"bmi\",\"bmi\",\"bmi\",\"bmi\",\"bmi\",\"bmi\",\"bmi\",\"bmi\",\"bmi\",\"bmi\",\"bmi\",\"bmi\",\"bmi\",\"bmi\",\"bmi\",\"bmi\",\"bmi\",\"bmi\",\"bmi\",\"bmi\",\"bmi\",\"bmi\",\"bmi\",\"bmi\",\"bmi\",\"bmi\",\"bmi\",\"bmi\",\"bmi\",\"bmi\",\"bmi\",\"bmi\",\"bmi\",\"bmi\",\"bmi\",\"bmi\",\"bmi\",\"bmi\",\"bmi\",\"bmi\",\"bmi\",\"bmi\",\"bmi\",\"bmi\",\"bmi\",\"bmi\",\"bmi\",\"bmi\",\"bmi\",\"bmi\",\"bmi\",\"bmi\",\"bmi\",\"bmi\",\"bmi\",\"bmi\",\"bmi\",\"bmi\",\"bmi\",\"bmi\",\"bmi\",\"bmi\",\"bmi\",\"bmi\",\"bmi\",\"bmi\",\"bmi\",\"bmi\",\"bmi\",\"bmi\",\"bmi\",\"bmi\",\"bmi\",\"bmi\",\"bmi\",\"bmi\",\"bmi\",\"bmi\",\"bmi\",\"bmi\",\"bmi\",\"bmi\",\"bmi\",\"bmi\",\"bmi\",\"bmi\",\"bmi\",\"bmi\",\"bmi\",\"bmi\",\"bmi\",\"bmi\",\"bmi\",\"bmi\",\"bmi\",\"bmi\",\"bmi\",\"bmi\",\"bmi\",\"bmi\",\"bmi\",\"bmi\",\"bmi\",\"bmi\",\"bmi\",\"bmi\",\"bmi\",\"bmi\",\"bmi\",\"bmi\",\"bmi\",\"bmi\",\"bmi\",\"bmi\",\"bmi\",\"bmi\",\"bmi\",\"bmi\",\"bmi\",\"bmi\",\"bmi\",\"bmi\",\"bmi\",\"bmi\",\"bmi\",\"bmi\",\"bmi\",\"bmi\",\"bmi\",\"bmi\",\"bmi\",\"bmi\",\"bmi\",\"bmi\",\"bmi\",\"bmi\",\"bmi\",\"bmi\",\"bmi\",\"bmi\",\"bmi\",\"bmi\",\"bmi\",\"bmi\",\"bmi\",\"bmi\",\"bmi\",\"bmi\",\"bmi\",\"bmi\",\"bmi\",\"bmi\",\"bmi\",\"bmi\",\"bmi\",\"bmi\",\"bmi\",\"bmi\",\"bmi\",\"bmi\",\"bmi\",\"bmi\",\"bmi\",\"bmi\",\"bmi\",\"bmi\",\"bmi\",\"bmi\",\"bmi\",\"bmi\",\"bmi\",\"bmi\",\"bmi\",\"bmi\",\"bmi\",\"bmi\",\"bmi\",\"bmi\",\"bmi\",\"bmi\",\"bmi\",\"bmi\",\"bmi\",\"bmi\",\"bmi\",\"bmi\",\"bmi\",\"bmi\",\"bmi\",\"bmi\",\"bmi\",\"bmi\",\"bmi\",\"bmi\",\"bmi\",\"bmi\",\"bmi\",\"bmi\",\"bmi\",\"bmi\",\"bmi\",\"bmi\",\"bmi\",\"bmi\",\"bmi\",\"bmi\",\"bmi\",\"bmi\",\"bmi\",\"bmi\",\"bmi\",\"bmi\",\"bmi\",\"bmi\",\"bmi\",\"bmi\",\"bmi\",\"bmi\",\"bmi\",\"bmi\",\"bmi\",\"bmi\",\"bmi\",\"bmi\",\"bmi\",\"bmi\",\"bmi\",\"bmi\",\"bmi\",\"bmi\",\"bmi\",\"bmi\",\"bmi\",\"bmi\",\"bmi\",\"bmi\",\"bmi\",\"bmi\",\"bmi\",\"bmi\",\"bmi\",\"bmi\",\"bmi\",\"bmi\",\"bmi\",\"bmi\",\"bmi\",\"bmi\",\"bmi\",\"bmi\",\"bmi\",\"bmi\",\"bmi\",\"bmi\",\"bmi\",\"bmi\",\"bmi\",\"bmi\",\"bmi\",\"bmi\",\"bmi\",\"bmi\",\"bmi\",\"bmi\",\"bmi\",\"bmi\",\"bmi\",\"bmi\",\"bmi\",\"bmi\",\"bmi\",\"bmi\",\"bmi\",\"bmi\",\"bmi\",\"bmi\",\"bmi\",\"bmi\",\"bmi\",\"bmi\",\"bmi\",\"bmi\",\"bmi\",\"bmi\",\"bmi\",\"bmi\",\"bmi\",\"bmi\",\"bmi\",\"bmi\",\"bmi\",\"bmi\",\"bmi\",\"bmi\",\"bmi\",\"bmi\",\"bmi\",\"bmi\",\"bmi\",\"bmi\",\"bmi\",\"bmi\",\"bmi\",\"bmi\",\"bmi\",\"bmi\",\"bmi\",\"bmi\",\"bmi\",\"bmi\",\"bmi\",\"bmi\",\"bmi\",\"bmi\",\"bmi\",\"bmi\",\"bmi\",\"bmi\",\"bmi\",\"bmi\",\"bmi\",\"bmi\",\"bmi\",\"bmi\",\"bmi\",\"bmi\",\"bmi\",\"bmi\",\"bmi\",\"bmi\",\"bmi\",\"bmi\",\"bmi\",\"bmi\",\"bmi\",\"bmi\",\"bmi\",\"bmi\",\"bmi\",\"bmi\",\"bmi\",\"bmi\",\"bmi\",\"bmi\",\"bmi\",\"bmi\",\"bmi\",\"bmi\",\"bmi\",\"bmi\",\"bmi\",\"bmi\",\"bmi\",\"bmi\",\"bmi\",\"bmi\",\"bmi\",\"bmi\",\"bmi\",\"bmi\",\"bmi\",\"bmi\",\"bmi\",\"bmi\",\"bmi\",\"bmi\",\"bmi\",\"bmi\",\"bmi\",\"bmi\",\"bmi\",\"bmi\",\"bmi\",\"bmi\",\"bmi\",\"bmi\",\"bmi\",\"bmi\",\"bmi\",\"bmi\",\"bmi\",\"bmi\",\"bmi\",\"bmi\",\"bmi\",\"bmi\",\"bmi\",\"bmi\",\"bmi\",\"bmi\",\"bmi\",\"bmi\",\"bmi\",\"bmi\",\"bmi\",\"bmi\",\"bmi\",\"bmi\",\"bmi\",\"bmi\",\"bmi\",\"bmi\",\"bmi\",\"bmi\",\"bmi\",\"bmi\",\"bmi\",\"bmi\",\"bmi\",\"bmi\",\"bmi\",\"bmi\",\"bmi\",\"bmi\",\"bmi\",\"bmi\",\"bmi\",\"bmi\",\"bmi\",\"bmi\",\"bmi\",\"bmi\",\"bmi\",\"bmi\",\"bmi\",\"bmi\",\"bmi\",\"bmi\",\"bmi\",\"bmi\",\"bmi\",\"bmi\",\"bmi\",\"bmi\",\"bmi\",\"bmi\",\"bmi\",\"bmi\",\"bmi\",\"bmi\",\"bmi\",\"bmi\",\"bmi\",\"bmi\",\"bmi\",\"bmi\",\"bmi\",\"bmi\",\"bmi\",\"bmi\",\"bmi\",\"bmi\",\"bmi\",\"bmi\",\"bmi\",\"bmi\",\"bmi\",\"bmi\",\"bmi\",\"bmi\",\"bmi\",\"bmi\",\"bmi\",\"bmi\",\"bmi\",\"bmi\",\"bmi\",\"bmi\",\"bmi\",\"bmi\",\"bmi\",\"bmi\",\"bmi\",\"bmi\",\"bmi\",\"bmi\",\"bmi\",\"bmi\",\"bmi\",\"bmi\",\"bmi\",\"bmi\",\"bmi\",\"bmi\",\"bmi\",\"bmi\",\"bmi\",\"bmi\",\"bmi\",\"bmi\",\"bmi\",\"bmi\",\"bmi\",\"bmi\",\"bmi\",\"bmi\",\"bmi\",\"bmi\",\"bmi\",\"bmi\",\"bmi\",\"bmi\",\"bmi\",\"bmi\",\"bmi\",\"bmi\",\"bmi\",\"bmi\",\"bmi\",\"bmi\",\"bmi\",\"bmi\",\"bmi\",\"bmi\",\"bmi\",\"bmi\",\"bmi\",\"bmi\",\"bmi\",\"bmi\",\"bmi\",\"bmi\",\"bmi\",\"bmi\",\"bmi\",\"bmi\",\"bmi\",\"bmi\",\"bmi\",\"bmi\",\"bmi\",\"bmi\",\"bmi\",\"bmi\",\"bmi\",\"bmi\",\"bmi\",\"bmi\",\"bmi\",\"bmi\",\"bmi\",\"bmi\",\"bmi\",\"bmi\",\"bmi\",\"bmi\",\"bmi\",\"bmi\",\"bmi\",\"bmi\",\"bmi\",\"bmi\",\"bmi\",\"bmi\",\"bmi\",\"bmi\",\"bmi\",\"bmi\",\"bmi\",\"bmi\",\"bmi\",\"bmi\",\"bmi\",\"bmi\",\"bmi\",\"bmi\",\"bmi\",\"bmi\",\"bmi\",\"bmi\",\"bmi\",\"bmi\",\"bmi\",\"bmi\",\"bmi\",\"bmi\",\"bmi\",\"bmi\",\"bmi\",\"bmi\",\"bmi\",\"bmi\",\"bmi\",\"bmi\",\"bmi\",\"bmi\",\"bmi\",\"bmi\",\"bmi\",\"bmi\",\"bmi\",\"bmi\",\"bmi\",\"bmi\",\"bmi\",\"bmi\",\"bmi\",\"bmi\",\"bmi\",\"bmi\",\"bmi\",\"bmi\",\"bmi\",\"bmi\",\"bmi\",\"bmi\",\"bmi\",\"bmi\",\"bmi\",\"bmi\",\"bmi\",\"bmi\",\"bmi\",\"bmi\",\"bmi\",\"bmi\",\"bmi\",\"bmi\",\"bmi\",\"bmi\",\"bmi\",\"bmi\",\"bmi\",\"bmi\",\"bmi\",\"bmi\",\"bmi\",\"bmi\",\"bmi\",\"bmi\",\"bmi\",\"bmi\",\"bmi\",\"bmi\",\"bmi\",\"bmi\",\"bmi\",\"bmi\",\"bmi\",\"bmi\",\"bmi\",\"bmi\",\"bmi\",\"bmi\",\"bmi\",\"bmi\",\"bmi\",\"bmi\",\"bmi\",\"bmi\",\"bmi\",\"bmi\",\"bmi\",\"bmi\",\"bmi\",\"bmi\",\"bmi\",\"bmi\",\"bmi\",\"bmi\",\"bmi\",\"bmi\",\"bmi\",\"bmi\",\"bmi\",\"bmi\",\"bmi\",\"bmi\",\"bmi\",\"bmi\",\"bmi\",\"bmi\",\"bmi\",\"bmi\",\"bmi\",\"bmi\",\"bmi\",\"bmi\",\"bmi\",\"bmi\",\"bmi\",\"bmi\",\"bmi\",\"bmi\",\"bmi\",\"bmi\",\"bmi\",\"bmi\",\"bmi\",\"bmi\",\"bmi\",\"bmi\",\"bmi\",\"bmi\",\"bmi\",\"bmi\",\"bmi\",\"bmi\",\"bmi\",\"bmi\",\"bmi\",\"bmi\",\"bmi\",\"bmi\",\"bmi\",\"bmi\",\"bmi\",\"bmi\",\"bmi\",\"bmi\",\"bmi\",\"bmi\",\"bmi\",\"bmi\",\"bmi\",\"bmi\",\"bmi\",\"bmi\",\"bmi\",\"bmi\",\"bmi\",\"bmi\",\"bmi\",\"bmi\",\"bmi\",\"bmi\",\"bmi\",\"bmi\",\"bmi\",\"bmi\",\"bmi\",\"bmi\",\"bmi\",\"bmi\",\"bmi\",\"bmi\",\"bmi\",\"bmi\",\"bmi\",\"bmi\",\"bmi\",\"bmi\",\"bmi\",\"bmi\",\"bmi\",\"bmi\",\"bmi\",\"bmi\",\"bmi\",\"bmi\",\"bmi\",\"bmi\",\"bmi\",\"bmi\",\"bmi\",\"bmi\",\"bmi\",\"bmi\",\"bmi\",\"bmi\",\"bmi\",\"bmi\",\"bmi\",\"bmi\",\"bmi\",\"bmi\",\"bmi\",\"bmi\",\"bmi\",\"bmi\",\"bmi\",\"bmi\",\"bmi\",\"bmi\",\"bmi\",\"bmi\",\"bmi\",\"bmi\",\"bmi\",\"bmi\",\"bmi\",\"bmi\",\"bmi\",\"bmi\",\"bmi\",\"bmi\",\"bmi\",\"bmi\",\"bmi\",\"bmi\",\"bmi\",\"bmi\",\"bmi\",\"bmi\",\"bmi\",\"bmi\",\"bmi\",\"bmi\",\"bmi\",\"bmi\",\"bmi\",\"bmi\",\"bmi\",\"bmi\",\"bmi\",\"bmi\",\"bmi\",\"bmi\",\"bmi\",\"bmi\",\"bmi\",\"bmi\",\"bmi\",\"bmi\",\"bmi\",\"bmi\",\"bmi\",\"bmi\",\"bmi\",\"bmi\",\"bmi\",\"bmi\",\"bmi\",\"bmi\",\"bmi\",\"bmi\",\"bmi\",\"bmi\",\"bmi\",\"bmi\",\"bmi\",\"bmi\",\"bmi\",\"bmi\",\"bmi\",\"bmi\",\"bmi\",\"bmi\",\"bmi\",\"bmi\",\"bmi\",\"bmi\",\"bmi\",\"bmi\",\"bmi\",\"bmi\",\"bmi\",\"bmi\",\"bmi\",\"bmi\",\"bmi\",\"bmi\",\"bmi\",\"bmi\",\"bmi\",\"bmi\",\"bmi\",\"bmi\",\"bmi\",\"bmi\",\"bmi\",\"bmi\",\"bmi\",\"bmi\",\"bmi\",\"bmi\",\"bmi\",\"bmi\",\"bmi\",\"bmi\",\"bmi\",\"bmi\",\"bmi\",\"bmi\",\"bmi\",\"bmi\",\"bmi\",\"bmi\",\"bmi\",\"bmi\",\"bmi\",\"bmi\",\"bmi\",\"bmi\",\"bmi\",\"bmi\",\"bmi\",\"bmi\",\"bmi\",\"bmi\",\"bmi\",\"bmi\",\"bmi\",\"bmi\",\"bmi\",\"bmi\",\"bmi\",\"bmi\",\"bmi\",\"bmi\",\"bmi\",\"bmi\",\"bmi\",\"bmi\",\"bmi\",\"bmi\",\"bmi\",\"bmi\",\"bmi\",\"bmi\",\"bmi\",\"bmi\",\"bmi\",\"bmi\",\"bmi\",\"bmi\",\"bmi\",\"bmi\",\"bmi\",\"bmi\",\"bmi\",\"bmi\",\"bmi\",\"bmi\",\"bmi\",\"bmi\",\"bmi\",\"bmi\",\"bmi\",\"bmi\",\"bmi\",\"bmi\",\"bmi\",\"bmi\",\"bmi\",\"bmi\",\"bmi\",\"bmi\",\"bmi\",\"bmi\",\"bmi\",\"bmi\",\"bmi\",\"bmi\",\"bmi\",\"bmi\",\"bmi\",\"bmi\",\"bmi\",\"bmi\",\"bmi\",\"bmi\",\"bmi\",\"bmi\",\"bmi\",\"bmi\",\"bmi\",\"bmi\",\"bmi\",\"bmi\",\"bmi\",\"bmi\",\"bmi\",\"bmi\",\"bmi\",\"bmi\",\"bmi\",\"bmi\",\"bmi\",\"bmi\",\"bmi\",\"bmi\",\"bmi\",\"bmi\",\"bmi\",\"bmi\",\"bmi\",\"bmi\",\"bmi\",\"bmi\",\"bmi\",\"bmi\",\"bmi\",\"bmi\",\"bmi\",\"bmi\",\"bmi\",\"bmi\",\"bmi\",\"bmi\",\"bmi\",\"bmi\",\"bmi\",\"bmi\",\"bmi\",\"bmi\",\"bmi\",\"bmi\",\"bmi\",\"bmi\",\"bmi\",\"bmi\",\"bmi\",\"bmi\",\"bmi\",\"bmi\",\"bmi\",\"bmi\",\"bmi\",\"bmi\",\"bmi\",\"bmi\",\"bmi\",\"bmi\",\"bmi\",\"bmi\",\"bmi\",\"bmi\",\"bmi\",\"bmi\",\"bmi\",\"bmi\",\"bmi\",\"bmi\",\"bmi\",\"bmi\",\"bmi\",\"bmi\",\"bmi\",\"bmi\",\"bmi\",\"bmi\",\"bmi\",\"bmi\",\"bmi\",\"bmi\",\"bmi\",\"bmi\",\"bmi\",\"bmi\",\"bmi\",\"bmi\",\"bmi\",\"bmi\",\"bmi\",\"bmi\",\"bmi\",\"bmi\",\"bmi\",\"bmi\",\"bmi\",\"bmi\",\"bmi\",\"bmi\",\"bmi\",\"bmi\",\"bmi\",\"bmi\",\"bmi\",\"bmi\",\"bmi\",\"bmi\",\"bmi\",\"bmi\",\"bmi\",\"bmi\",\"bmi\",\"bmi\",\"bmi\",\"bmi\",\"bmi\",\"bmi\",\"bmi\",\"bmi\",\"bmi\",\"bmi\",\"bmi\",\"bmi\",\"bmi\",\"bmi\",\"bmi\",\"bmi\",\"bmi\",\"bmi\",\"bmi\",\"bmi\",\"bmi\",\"bmi\",\"bmi\",\"bmi\",\"bmi\",\"bmi\",\"bmi\",\"bmi\",\"bmi\",\"bmi\",\"bmi\",\"bmi\",\"bmi\",\"bmi\",\"bmi\",\"bmi\",\"bmi\",\"bmi\",\"bmi\",\"bmi\",\"bmi\",\"bmi\",\"bmi\",\"bmi\",\"bmi\",\"bmi\",\"bmi\",\"bmi\",\"bmi\",\"bmi\",\"bmi\",\"bmi\",\"bmi\",\"bmi\",\"bmi\",\"bmi\",\"bmi\",\"bmi\",\"bmi\",\"bmi\",\"bmi\",\"bmi\",\"bmi\",\"bmi\",\"bmi\",\"bmi\",\"bmi\",\"bmi\",\"bmi\",\"bmi\",\"bmi\",\"bmi\",\"bmi\",\"bmi\",\"bmi\",\"bmi\",\"bmi\",\"bmi\",\"bmi\",\"bmi\",\"bmi\",\"bmi\",\"bmi\",\"bmi\",\"bmi\",\"bmi\",\"bmi\",\"bmi\",\"bmi\",\"bmi\",\"bmi\",\"bmi\",\"bmi\",\"bmi\",\"bmi\",\"bmi\",\"bmi\",\"bmi\",\"bmi\",\"bmi\",\"bmi\",\"bmi\",\"bmi\",\"bmi\",\"bmi\",\"bmi\",\"bmi\",\"bmi\",\"bmi\",\"bmi\",\"bmi\",\"bmi\",\"bmi\",\"bmi\",\"bmi\",\"bmi\",\"bmi\",\"bmi\",\"bmi\",\"bmi\",\"bmi\",\"bmi\",\"bmi\",\"bmi\",\"bmi\",\"bmi\",\"bmi\",\"bmi\",\"bmi\",\"bmi\",\"bmi\",\"bmi\",\"bmi\",\"bmi\",\"bmi\",\"bmi\",\"bmi\",\"bmi\",\"bmi\",\"bmi\",\"bmi\",\"bmi\",\"bmi\",\"bmi\",\"bmi\",\"bmi\",\"bmi\",\"bmi\",\"bmi\",\"bmi\",\"bmi\",\"bmi\",\"bmi\",\"bmi\",\"bmi\",\"bmi\",\"bmi\",\"bmi\",\"bmi\",\"bmi\",\"bmi\",\"bmi\",\"bmi\",\"bmi\",\"bmi\",\"bmi\",\"bmi\",\"bmi\",\"bmi\",\"bmi\",\"bmi\",\"bmi\",\"bmi\",\"bmi\",\"bmi\",\"bmi\",\"bmi\",\"bmi\",\"bmi\",\"bmi\",\"bmi\",\"bmi\",\"bmi\",\"bmi\",\"bmi\",\"bmi\",\"bmi\",\"bmi\",\"bmi\",\"bmi\",\"bmi\",\"bmi\",\"bmi\",\"bmi\",\"bmi\",\"bmi\",\"bmi\",\"bmi\",\"bmi\",\"bmi\",\"bmi\",\"bmi\",\"bmi\",\"bmi\",\"bmi\",\"bmi\",\"bmi\",\"bmi\",\"bmi\",\"bmi\",\"bmi\",\"bmi\",\"bmi\",\"bmi\",\"bmi\",\"bmi\",\"bmi\",\"bmi\",\"bmi\",\"bmi\",\"bmi\",\"bmi\",\"bmi\",\"bmi\",\"bmi\",\"bmi\",\"bmi\",\"bmi\",\"bmi\",\"bmi\",\"bmi\",\"bmi\",\"bmi\",\"bmi\",\"bmi\",\"bmi\",\"bmi\",\"bmi\",\"bmi\",\"bmi\",\"bmi\",\"bmi\",\"bmi\",\"bmi\",\"bmi\",\"bmi\",\"bmi\",\"bmi\",\"bmi\",\"bmi\",\"bmi\",\"bmi\",\"bmi\",\"bmi\",\"bmi\",\"bmi\",\"bmi\",\"bmi\",\"bmi\",\"bmi\",\"bmi\",\"bmi\",\"bmi\",\"bmi\",\"bmi\",\"bmi\",\"bmi\",\"bmi\",\"bmi\",\"bmi\",\"bmi\",\"bmi\",\"bmi\",\"bmi\",\"bmi\",\"bmi\",\"bmi\",\"bmi\",\"bmi\",\"bmi\",\"bmi\",\"bmi\",\"bmi\",\"bmi\",\"bmi\",\"bmi\",\"bmi\",\"bmi\",\"bmi\",\"bmi\",\"bmi\",\"bmi\",\"bmi\",\"bmi\",\"bmi\",\"bmi\",\"bmi\",\"bmi\",\"bmi\",\"bmi\",\"bmi\",\"bmi\",\"bmi\",\"bmi\",\"bmi\",\"bmi\",\"bmi\",\"bmi\",\"bmi\",\"bmi\",\"bmi\",\"bmi\",\"bmi\",\"bmi\",\"bmi\",\"bmi\",\"bmi\",\"bmi\",\"bmi\",\"bmi\",\"bmi\",\"bmi\",\"bmi\",\"bmi\",\"bmi\",\"bmi\",\"bmi\",\"bmi\",\"bmi\",\"bmi\",\"bmi\",\"bmi\",\"bmi\",\"bmi\",\"bmi\",\"bmi\",\"bmi\",\"bmi\",\"bmi\",\"bmi\",\"bmi\",\"bmi\",\"bmi\",\"bmi\",\"bmi\",\"bmi\",\"bmi\",\"bmi\",\"bmi\",\"bmi\",\"bmi\",\"bmi\",\"bmi\",\"bmi\",\"bmi\",\"bmi\",\"bmi\",\"bmi\",\"bmi\",\"bmi\",\"bmi\",\"bmi\",\"bmi\",\"bmi\",\"bmi\",\"bmi\",\"bmi\",\"bmi\",\"bmi\",\"bmi\",\"bmi\",\"bmi\",\"bmi\",\"bmi\",\"bmi\",\"bmi\",\"bmi\",\"bmi\",\"bmi\",\"bmi\",\"bmi\",\"bmi\",\"bmi\",\"bmi\",\"bmi\",\"bmi\",\"bmi\",\"bmi\",\"bmi\",\"bmi\",\"bmi\",\"bmi\",\"bmi\",\"bmi\",\"bmi\",\"bmi\",\"bmi\",\"bmi\",\"bmi\",\"bmi\",\"bmi\",\"bmi\",\"bmi\",\"bmi\",\"bmi\",\"bmi\",\"bmi\",\"bmi\",\"bmi\",\"bmi\",\"bmi\",\"bmi\",\"bmi\",\"bmi\",\"bmi\",\"bmi\",\"bmi\",\"bmi\",\"bmi\",\"bmi\",\"bmi\",\"bmi\",\"bmi\",\"bmi\",\"bmi\",\"bmi\",\"bmi\",\"bmi\",\"bmi\",\"bmi\",\"bmi\",\"bmi\",\"bmi\",\"bmi\",\"bmi\",\"bmi\",\"bmi\",\"bmi\",\"bmi\",\"bmi\",\"bmi\",\"bmi\",\"bmi\",\"bmi\",\"bmi\",\"bmi\",\"bmi\",\"bmi\",\"bmi\",\"bmi\",\"bmi\",\"bmi\",\"bmi\",\"bmi\",\"bmi\",\"bmi\",\"bmi\",\"bmi\",\"bmi\",\"bmi\",\"bmi\",\"bmi\",\"bmi\",\"bmi\",\"bmi\",\"bmi\",\"bmi\",\"bmi\",\"bmi\",\"bmi\",\"bmi\",\"bmi\",\"bmi\",\"bmi\",\"bmi\",\"bmi\",\"bmi\",\"bmi\",\"bmi\",\"bmi\",\"bmi\",\"bmi\",\"bmi\",\"bmi\",\"bmi\",\"bmi\",\"bmi\",\"bmi\",\"bmi\",\"bmi\",\"bmi\",\"bmi\",\"bmi\",\"bmi\",\"bmi\",\"bmi\",\"bmi\",\"bmi\",\"bmi\",\"bmi\",\"bmi\",\"bmi\",\"bmi\",\"bmi\",\"bmi\",\"bmi\",\"bmi\",\"bmi\",\"bmi\",\"bmi\",\"bmi\",\"bmi\",\"bmi\",\"bmi\",\"bmi\",\"bmi\",\"bmi\",\"bmi\",\"bmi\",\"bmi\",\"bmi\",\"bmi\",\"bmi\",\"bmi\",\"bmi\",\"bmi\",\"bmi\",\"bmi\",\"bmi\",\"bmi\",\"bmi\",\"bmi\",\"bmi\",\"bmi\",\"bmi\",\"bmi\",\"bmi\",\"bmi\",\"bmi\",\"bmi\",\"bmi\",\"bmi\",\"bmi\",\"bmi\",\"bmi\",\"bmi\",\"bmi\",\"bmi\",\"bmi\",\"bmi\",\"bmi\",\"bmi\",\"bmi\",\"bmi\",\"bmi\",\"bmi\",\"bmi\",\"bmi\",\"bmi\",\"bmi\",\"bmi\",\"bmi\",\"bmi\",\"bmi\",\"bmi\",\"bmi\",\"bmi\",\"bmi\",\"bmi\",\"bmi\",\"bmi\",\"bmi\",\"bmi\",\"bmi\",\"bmi\",\"bmi\",\"bmi\",\"bmi\",\"bmi\",\"bmi\",\"bmi\",\"bmi\",\"bmi\",\"bmi\",\"bmi\",\"bmi\",\"bmi\",\"bmi\",\"bmi\",\"bmi\",\"bmi\",\"bmi\",\"bmi\",\"bmi\",\"bmi\",\"bmi\",\"bmi\",\"bmi\",\"bmi\",\"bmi\",\"bmi\",\"bmi\",\"bmi\",\"bmi\",\"bmi\",\"bmi\",\"bmi\",\"bmi\",\"bmi\",\"bmi\",\"bmi\",\"bmi\",\"bmi\",\"bmi\",\"bmi\",\"bmi\",\"bmi\",\"bmi\",\"bmi\",\"bmi\",\"bmi\",\"bmi\",\"bmi\",\"bmi\",\"bmi\",\"bmi\",\"bmi\",\"bmi\",\"bmi\",\"bmi\",\"bmi\",\"bmi\",\"bmi\",\"bmi\",\"bmi\",\"bmi\",\"bmi\",\"bmi\",\"bmi\",\"bmi\",\"bmi\",\"bmi\",\"bmi\",\"bmi\",\"bmi\",\"bmi\",\"bmi\",\"bmi\",\"bmi\",\"bmi\",\"bmi\",\"bmi\",\"bmi\",\"bmi\",\"bmi\",\"bmi\",\"bmi\",\"bmi\",\"bmi\",\"bmi\",\"bmi\",\"bmi\",\"bmi\",\"bmi\",\"bmi\",\"bmi\",\"bmi\",\"bmi\",\"bmi\",\"bmi\",\"bmi\",\"bmi\",\"bmi\",\"bmi\",\"bmi\",\"bmi\",\"bmi\",\"bmi\",\"bmi\",\"bmi\",\"bmi\",\"bmi\",\"bmi\",\"bmi\",\"bmi\",\"bmi\",\"bmi\",\"bmi\",\"bmi\",\"bmi\",\"bmi\",\"bmi\",\"bmi\",\"bmi\",\"bmi\",\"bmi\",\"bmi\",\"bmi\",\"bmi\",\"bmi\",\"bmi\",\"bmi\",\"bmi\",\"bmi\",\"bmi\",\"bmi\",\"bmi\",\"bmi\",\"bmi\",\"bmi\",\"bmi\",\"bmi\",\"bmi\",\"bmi\",\"bmi\",\"bmi\",\"bmi\",\"bmi\",\"bmi\",\"bmi\",\"bmi\",\"bmi\",\"bmi\",\"bmi\",\"bmi\",\"bmi\",\"bmi\",\"bmi\",\"bmi\",\"bmi\",\"bmi\",\"bmi\",\"bmi\",\"bmi\",\"bmi\",\"bmi\",\"bmi\",\"bmi\",\"bmi\",\"bmi\",\"bmi\",\"bmi\",\"bmi\",\"bmi\",\"bmi\",\"bmi\",\"bmi\",\"bmi\",\"bmi\",\"bmi\",\"bmi\",\"bmi\",\"bmi\",\"bmi\",\"bmi\",\"bmi\",\"bmi\",\"bmi\",\"bmi\",\"bmi\",\"bmi\",\"bmi\",\"bmi\",\"bmi\",\"bmi\",\"bmi\",\"bmi\",\"bmi\",\"bmi\",\"bmi\",\"bmi\",\"bmi\",\"bmi\",\"bmi\",\"bmi\",\"bmi\",\"bmi\",\"bmi\",\"bmi\",\"bmi\",\"bmi\",\"bmi\",\"bmi\",\"bmi\",\"bmi\",\"bmi\",\"bmi\",\"bmi\",\"bmi\",\"bmi\",\"bmi\",\"bmi\",\"bmi\",\"bmi\",\"bmi\",\"bmi\",\"bmi\",\"bmi\",\"bmi\",\"bmi\",\"bmi\",\"bmi\",\"bmi\",\"bmi\",\"bmi\",\"bmi\",\"bmi\",\"bmi\",\"bmi\",\"bmi\",\"bmi\",\"bmi\",\"bmi\",\"bmi\",\"bmi\",\"bmi\",\"bmi\",\"bmi\",\"bmi\",\"bmi\",\"bmi\",\"bmi\",\"bmi\",\"bmi\",\"bmi\",\"bmi\",\"bmi\",\"bmi\",\"bmi\",\"bmi\",\"bmi\",\"bmi\",\"bmi\",\"bmi\",\"bmi\",\"bmi\",\"bmi\",\"bmi\",\"bmi\",\"bmi\",\"bmi\",\"bmi\",\"bmi\",\"bmi\",\"bmi\",\"bmi\",\"bmi\",\"bmi\",\"bmi\",\"bmi\",\"bmi\",\"bmi\",\"bmi\",\"bmi\",\"bmi\",\"bmi\",\"bmi\",\"bmi\",\"bmi\",\"bmi\",\"bmi\",\"bmi\",\"bmi\",\"bmi\",\"bmi\",\"bmi\",\"bmi\",\"bmi\",\"bmi\",\"bmi\",\"bmi\",\"bmi\",\"bmi\",\"bmi\",\"bmi\",\"bmi\",\"bmi\",\"bmi\",\"bmi\",\"bmi\",\"bmi\",\"bmi\",\"bmi\",\"bmi\",\"bmi\",\"bmi\",\"bmi\",\"bmi\",\"bmi\",\"bmi\",\"bmi\",\"bmi\",\"bmi\",\"bmi\",\"bmi\",\"bmi\",\"bmi\",\"bmi\",\"bmi\",\"bmi\",\"bmi\",\"bmi\",\"bmi\",\"bmi\",\"bmi\",\"bmi\",\"bmi\",\"bmi\",\"bmi\",\"bmi\",\"bmi\",\"bmi\",\"bmi\",\"bmi\",\"bmi\",\"bmi\",\"bmi\",\"bmi\",\"bmi\",\"bmi\",\"bmi\",\"bmi\",\"bmi\",\"bmi\",\"bmi\",\"bmi\",\"bmi\",\"bmi\",\"bmi\",\"bmi\",\"bmi\",\"bmi\",\"bmi\",\"bmi\",\"bmi\",\"bmi\",\"bmi\",\"bmi\",\"bmi\",\"bmi\",\"bmi\",\"bmi\",\"bmi\",\"bmi\",\"bmi\",\"bmi\",\"bmi\",\"bmi\",\"bmi\",\"bmi\",\"bmi\",\"bmi\",\"bmi\",\"bmi\",\"bmi\",\"bmi\",\"bmi\",\"bmi\",\"bmi\",\"bmi\",\"bmi\",\"bmi\",\"bmi\",\"bmi\",\"bmi\",\"bmi\",\"bmi\",\"bmi\",\"bmi\",\"bmi\",\"bmi\",\"bmi\",\"bmi\",\"bmi\",\"bmi\",\"bmi\",\"bmi\",\"bmi\",\"bmi\",\"bmi\",\"bmi\",\"bmi\",\"bmi\",\"bmi\",\"bmi\",\"bmi\",\"bmi\",\"bmi\",\"bmi\",\"bmi\",\"bmi\",\"bmi\",\"bmi\",\"bmi\",\"bmi\",\"bmi\",\"bmi\",\"bmi\",\"bmi\",\"bmi\",\"bmi\",\"bmi\",\"bmi\",\"bmi\",\"bmi\",\"bmi\",\"bmi\",\"bmi\",\"bmi\",\"bmi\",\"bmi\",\"bmi\",\"bmi\",\"bmi\",\"bmi\",\"bmi\",\"bmi\",\"bmi\",\"bmi\",\"bmi\",\"bmi\",\"bmi\",\"bmi\",\"bmi\",\"bmi\",\"bmi\",\"bmi\",\"bmi\",\"bmi\",\"bmi\",\"bmi\",\"bmi\",\"bmi\",\"bmi\",\"bmi\",\"bmi\",\"bmi\",\"bmi\",\"bmi\",\"bmi\",\"bmi\",\"bmi\",\"bmi\",\"bmi\",\"bmi\",\"bmi\",\"bmi\",\"bmi\",\"bmi\",\"bmi\",\"bmi\",\"bmi\",\"bmi\",\"bmi\",\"bmi\",\"bmi\",\"bmi\",\"bmi\",\"bmi\",\"bmi\",\"bmi\",\"bmi\",\"bmi\",\"bmi\",\"bmi\",\"bmi\",\"bmi\",\"bmi\",\"bmi\",\"bmi\",\"bmi\",\"bmi\",\"bmi\",\"bmi\",\"bmi\",\"bmi\",\"bmi\",\"bmi\",\"bmi\",\"bmi\",\"bmi\",\"bmi\",\"bmi\",\"bmi\",\"bmi\",\"bmi\",\"bmi\",\"bmi\",\"bmi\",\"bmi\",\"bmi\",\"bmi\",\"bmi\",\"bmi\",\"bmi\",\"bmi\",\"bmi\",\"bmi\",\"bmi\",\"bmi\",\"bmi\",\"bmi\",\"bmi\",\"bmi\",\"bmi\",\"bmi\",\"bmi\",\"bmi\",\"bmi\",\"bmi\",\"bmi\",\"bmi\",\"bmi\",\"bmi\",\"bmi\",\"bmi\",\"bmi\",\"bmi\",\"bmi\",\"bmi\",\"bmi\",\"bmi\",\"bmi\",\"bmi\",\"bmi\",\"bmi\",\"bmi\",\"bmi\",\"bmi\",\"bmi\",\"bmi\",\"bmi\",\"bmi\",\"bmi\",\"bmi\",\"bmi\",\"bmi\",\"bmi\",\"bmi\",\"bmi\",\"bmi\",\"bmi\",\"bmi\",\"bmi\",\"bmi\",\"bmi\",\"bmi\",\"bmi\",\"bmi\",\"bmi\",\"bmi\",\"bmi\",\"bmi\",\"bmi\",\"bmi\",\"bmi\",\"bmi\",\"bmi\",\"bmi\",\"bmi\",\"bmi\",\"bmi\",\"bmi\",\"bmi\",\"bmi\",\"bmi\",\"bmi\",\"bmi\",\"bmi\",\"bmi\",\"bmi\",\"bmi\",\"bmi\",\"bmi\",\"bmi\",\"bmi\",\"bmi\",\"bmi\",\"bmi\",\"bmi\",\"bmi\",\"bmi\",\"bmi\",\"bmi\",\"bmi\",\"bmi\",\"bmi\",\"bmi\",\"bmi\",\"bmi\",\"bmi\",\"bmi\",\"bmi\",\"bmi\",\"bmi\",\"bmi\",\"bmi\",\"bmi\",\"bmi\",\"bmi\",\"bmi\",\"bmi\",\"bmi\",\"bmi\",\"bmi\",\"bmi\",\"bmi\",\"bmi\",\"bmi\",\"bmi\",\"bmi\",\"bmi\",\"bmi\",\"bmi\",\"bmi\",\"bmi\",\"bmi\",\"bmi\",\"bmi\",\"bmi\",\"bmi\",\"bmi\",\"bmi\",\"bmi\",\"bmi\",\"bmi\",\"bmi\",\"bmi\",\"bmi\",\"bmi\",\"bmi\",\"bmi\",\"bmi\",\"bmi\",\"bmi\",\"bmi\",\"bmi\",\"bmi\",\"bmi\",\"bmi\",\"bmi\",\"bmi\",\"bmi\",\"bmi\",\"bmi\",\"bmi\",\"bmi\",\"bmi\",\"bmi\",\"bmi\",\"bmi\",\"bmi\",\"bmi\",\"bmi\",\"bmi\",\"bmi\",\"bmi\",\"bmi\",\"bmi\",\"bmi\",\"bmi\",\"bmi\",\"bmi\",\"bmi\",\"bmi\",\"bmi\",\"bmi\",\"bmi\",\"bmi\",\"bmi\",\"bmi\",\"bmi\",\"bmi\",\"bmi\",\"bmi\",\"bmi\",\"bmi\",\"bmi\",\"bmi\",\"bmi\",\"bmi\",\"bmi\",\"bmi\",\"bmi\",\"bmi\",\"bmi\",\"bmi\",\"bmi\",\"bmi\",\"bmi\",\"bmi\",\"bmi\",\"bmi\",\"bmi\",\"bmi\",\"bmi\",\"bmi\",\"bmi\",\"bmi\",\"bmi\",\"bmi\",\"bmi\",\"bmi\",\"bmi\",\"bmi\",\"bmi\",\"bmi\",\"bmi\",\"bmi\",\"bmi\",\"bmi\",\"bmi\",\"bmi\",\"bmi\",\"bmi\",\"bmi\",\"bmi\",\"bmi\",\"bmi\",\"bmi\",\"bmi\",\"bmi\",\"bmi\",\"bmi\",\"bmi\",\"bmi\",\"bmi\",\"bmi\",\"bmi\",\"bmi\",\"bmi\",\"bmi\",\"bmi\",\"bmi\",\"bmi\",\"bmi\",\"bmi\",\"bmi\",\"bmi\",\"bmi\",\"bmi\",\"bmi\",\"bmi\",\"bmi\",\"bmi\",\"bmi\",\"bmi\",\"bmi\",\"bmi\",\"bmi\",\"bmi\",\"bmi\",\"bmi\",\"bmi\",\"bmi\",\"bmi\",\"bmi\",\"bmi\",\"bmi\",\"bmi\",\"bmi\",\"bmi\",\"bmi\",\"bmi\",\"bmi\",\"bmi\",\"bmi\",\"bmi\",\"bmi\",\"bmi\",\"bmi\",\"bmi\",\"bmi\",\"bmi\",\"bmi\",\"bmi\",\"bmi\",\"bmi\",\"bmi\",\"bmi\",\"bmi\",\"bmi\",\"bmi\",\"bmi\",\"bmi\",\"bmi\",\"bmi\",\"bmi\",\"bmi\",\"bmi\",\"bmi\",\"bmi\",\"bmi\",\"bmi\",\"bmi\",\"bmi\",\"bmi\",\"bmi\",\"bmi\",\"bmi\",\"bmi\",\"bmi\",\"bmi\",\"bmi\",\"bmi\",\"bmi\",\"bmi\",\"bmi\",\"bmi\",\"bmi\",\"bmi\",\"bmi\",\"bmi\",\"bmi\",\"bmi\",\"bmi\",\"bmi\",\"bmi\",\"bmi\",\"bmi\",\"bmi\",\"bmi\",\"bmi\",\"bmi\",\"bmi\",\"bmi\",\"bmi\",\"bmi\",\"bmi\",\"bmi\",\"bmi\",\"bmi\",\"bmi\",\"bmi\",\"bmi\",\"bmi\",\"bmi\",\"bmi\",\"bmi\",\"bmi\",\"bmi\",\"bmi\",\"bmi\",\"bmi\",\"bmi\",\"bmi\",\"bmi\",\"bmi\",\"bmi\",\"bmi\",\"bmi\",\"bmi\",\"bmi\",\"bmi\",\"bmi\",\"bmi\",\"bmi\",\"bmi\",\"bmi\",\"bmi\",\"bmi\",\"bmi\",\"bmi\",\"bmi\",\"bmi\",\"bmi\",\"bmi\",\"bmi\",\"bmi\",\"bmi\",\"bmi\",\"bmi\",\"bmi\",\"bmi\",\"bmi\",\"bmi\",\"bmi\",\"bmi\",\"bmi\",\"bmi\",\"bmi\",\"bmi\",\"bmi\",\"bmi\",\"bmi\",\"bmi\",\"bmi\",\"bmi\",\"bmi\",\"bmi\",\"bmi\",\"bmi\",\"bmi\",\"bmi\",\"bmi\",\"bmi\",\"bmi\",\"bmi\",\"bmi\",\"bmi\",\"bmi\",\"bmi\",\"bmi\",\"bmi\",\"bmi\",\"bmi\",\"bmi\",\"bmi\",\"bmi\",\"bmi\",\"bmi\",\"bmi\",\"bmi\",\"bmi\",\"bmi\",\"bmi\",\"bmi\",\"bmi\",\"bmi\",\"bmi\",\"bmi\",\"bmi\",\"bmi\",\"bmi\",\"bmi\",\"bmi\",\"bmi\",\"bmi\",\"bmi\",\"bmi\",\"bmi\",\"bmi\",\"bmi\",\"bmi\",\"bmi\",\"bmi\",\"bmi\",\"bmi\",\"bmi\",\"bmi\",\"bmi\",\"bmi\",\"bmi\",\"bmi\",\"bmi\",\"bmi\",\"bmi\",\"bmi\",\"bmi\",\"bmi\",\"bmi\",\"bmi\",\"bmi\",\"bmi\",\"bmi\",\"bmi\",\"bmi\",\"bmi\",\"bmi\",\"bmi\",\"bmi\",\"bmi\",\"bmi\",\"bmi\",\"bmi\",\"bmi\",\"bmi\",\"bmi\",\"bmi\",\"bmi\",\"bmi\",\"bmi\",\"bmi\",\"bmi\",\"bmi\",\"bmi\",\"bmi\",\"bmi\",\"bmi\",\"bmi\",\"bmi\",\"bmi\",\"bmi\",\"bmi\",\"bmi\",\"bmi\",\"bmi\",\"bmi\",\"bmi\",\"bmi\",\"bmi\",\"bmi\",\"bmi\",\"bmi\",\"bmi\",\"bmi\",\"bmi\",\"bmi\",\"bmi\",\"bmi\",\"bmi\",\"bmi\",\"bmi\",\"bmi\",\"bmi\",\"bmi\",\"bmi\",\"bmi\",\"bmi\",\"bmi\",\"bmi\",\"bmi\",\"bmi\",\"bmi\",\"bmi\",\"bmi\",\"bmi\",\"bmi\",\"bmi\",\"bmi\",\"bmi\",\"bmi\",\"bmi\",\"bmi\",\"bmi\",\"bmi\",\"bmi\",\"bmi\",\"bmi\",\"bmi\",\"bmi\",\"bmi\",\"bmi\",\"bmi\",\"bmi\",\"bmi\",\"bmi\",\"bmi\",\"bmi\",\"bmi\",\"bmi\",\"bmi\",\"bmi\",\"bmi\",\"bmi\",\"bmi\",\"bmi\",\"bmi\",\"bmi\",\"bmi\",\"bmi\",\"bmi\",\"bmi\",\"bmi\",\"bmi\",\"bmi\",\"bmi\",\"bmi\",\"bmi\",\"bmi\",\"bmi\",\"bmi\",\"bmi\",\"bmi\",\"bmi\",\"bmi\",\"bmi\",\"bmi\",\"bmi\",\"bmi\",\"bmi\",\"bmi\",\"bmi\",\"bmi\",\"bmi\",\"bmi\",\"bmi\",\"bmi\",\"bmi\",\"bmi\",\"bmi\",\"bmi\",\"bmi\",\"bmi\",\"bmi\",\"bmi\",\"bmi\",\"bmi\",\"bmi\",\"bmi\",\"bmi\",\"bmi\",\"bmi\",\"bmi\",\"bmi\",\"bmi\",\"bmi\",\"bmi\",\"bmi\",\"bmi\",\"bmi\",\"bmi\",\"bmi\",\"bmi\",\"bmi\",\"bmi\",\"bmi\",\"bmi\",\"bmi\",\"bmi\",\"bmi\",\"bmi\",\"bmi\",\"bmi\",\"bmi\",\"bmi\",\"bmi\",\"bmi\",\"bmi\",\"bmi\",\"bmi\",\"bmi\",\"bmi\",\"bmi\",\"bmi\",\"bmi\",\"bmi\",\"bmi\",\"bmi\",\"bmi\",\"bmi\",\"bmi\",\"bmi\",\"bmi\",\"bmi\",\"bmi\",\"bmi\",\"bmi\",\"bmi\",\"bmi\",\"bmi\",\"bmi\",\"bmi\",\"bmi\",\"bmi\",\"bmi\",\"bmi\",\"bmi\",\"bmi\",\"bmi\",\"bmi\",\"bmi\",\"bmi\",\"bmi\",\"bmi\",\"bmi\",\"bmi\",\"bmi\",\"bmi\",\"bmi\",\"bmi\",\"bmi\",\"bmi\",\"bmi\",\"bmi\",\"bmi\",\"bmi\",\"bmi\",\"bmi\",\"bmi\",\"bmi\",\"bmi\",\"bmi\",\"bmi\",\"bmi\",\"bmi\",\"bmi\",\"bmi\",\"bmi\",\"bmi\",\"bmi\",\"bmi\",\"bmi\",\"bmi\",\"bmi\",\"bmi\",\"bmi\",\"bmi\",\"bmi\",\"bmi\",\"bmi\",\"bmi\",\"bmi\",\"bmi\",\"bmi\",\"bmi\",\"bmi\",\"bmi\",\"bmi\",\"bmi\",\"bmi\",\"bmi\",\"bmi\",\"bmi\",\"bmi\",\"bmi\",\"bmi\",\"bmi\",\"bmi\",\"bmi\",\"bmi\",\"bmi\",\"bmi\",\"bmi\",\"bmi\",\"bmi\",\"bmi\",\"bmi\",\"bmi\",\"bmi\",\"bmi\",\"bmi\",\"bmi\",\"bmi\",\"bmi\",\"bmi\",\"bmi\",\"bmi\",\"bmi\",\"bmi\",\"bmi\",\"bmi\",\"bmi\",\"bmi\",\"bmi\",\"bmi\",\"bmi\",\"bmi\",\"bmi\",\"bmi\",\"bmi\",\"bmi\",\"bmi\",\"bmi\",\"bmi\",\"bmi\",\"bmi\",\"bmi\",\"bmi\",\"bmi\",\"bmi\",\"bmi\",\"bmi\",\"bmi\",\"bmi\",\"bmi\",\"bmi\",\"bmi\",\"bmi\",\"bmi\",\"bmi\",\"bmi\",\"bmi\",\"bmi\",\"bmi\",\"bmi\",\"bmi\",\"bmi\",\"bmi\",\"bmi\",\"bmi\",\"bmi\",\"bmi\",\"bmi\",\"bmi\",\"bmi\",\"bmi\",\"bmi\",\"bmi\",\"bmi\",\"bmi\",\"bmi\",\"bmi\",\"bmi\",\"bmi\",\"bmi\",\"bmi\",\"bmi\",\"bmi\",\"bmi\",\"bmi\",\"bmi\",\"bmi\",\"bmi\",\"bmi\",\"bmi\",\"bmi\",\"bmi\",\"bmi\",\"bmi\",\"bmi\",\"bmi\",\"bmi\",\"bmi\",\"bmi\",\"bmi\",\"bmi\",\"bmi\",\"bmi\",\"bmi\",\"bmi\",\"bmi\",\"bmi\",\"bmi\",\"bmi\",\"bmi\",\"bmi\",\"bmi\",\"bmi\",\"bmi\",\"bmi\",\"bmi\",\"bmi\",\"bmi\",\"bmi\",\"bmi\",\"bmi\",\"bmi\",\"bmi\",\"bmi\",\"bmi\",\"bmi\",\"bmi\",\"bmi\",\"bmi\",\"bmi\",\"bmi\",\"bmi\",\"bmi\",\"bmi\",\"bmi\",\"bmi\",\"bmi\",\"bmi\",\"bmi\",\"bmi\",\"bmi\",\"bmi\",\"bmi\",\"bmi\",\"bmi\",\"bmi\",\"bmi\",\"bmi\",\"bmi\",\"bmi\",\"bmi\",\"bmi\",\"bmi\",\"bmi\",\"bmi\",\"bmi\",\"bmi\",\"bmi\",\"bmi\",\"bmi\",\"bmi\",\"bmi\",\"bmi\",\"bmi\",\"bmi\",\"bmi\",\"bmi\",\"bmi\",\"bmi\",\"bmi\",\"bmi\",\"bmi\",\"bmi\",\"bmi\",\"bmi\",\"bmi\",\"bmi\",\"bmi\",\"bmi\",\"bmi\",\"bmi\",\"bmi\",\"bmi\",\"bmi\",\"bmi\",\"bmi\",\"bmi\",\"bmi\",\"bmi\",\"bmi\",\"bmi\",\"bmi\",\"bmi\",\"bmi\",\"bmi\",\"bmi\",\"bmi\",\"bmi\",\"bmi\",\"bmi\",\"bmi\",\"bmi\",\"bmi\",\"bmi\",\"bmi\",\"bmi\",\"bmi\",\"bmi\",\"bmi\",\"bmi\",\"bmi\",\"bmi\",\"bmi\",\"bmi\",\"bmi\",\"bmi\",\"bmi\",\"bmi\",\"bmi\",\"bmi\",\"bmi\",\"bmi\",\"bmi\",\"bmi\",\"bmi\",\"bmi\",\"bmi\",\"bmi\",\"bmi\",\"bmi\",\"bmi\",\"bmi\",\"bmi\",\"bmi\",\"bmi\",\"bmi\",\"bmi\",\"bmi\",\"bmi\",\"bmi\",\"bmi\",\"bmi\",\"bmi\",\"bmi\",\"bmi\",\"bmi\",\"bmi\",\"bmi\",\"bmi\",\"bmi\",\"bmi\",\"bmi\",\"bmi\",\"bmi\",\"bmi\",\"bmi\",\"bmi\",\"bmi\",\"bmi\",\"bmi\",\"bmi\",\"bmi\",\"bmi\",\"bmi\",\"bmi\",\"bmi\",\"bmi\",\"bmi\",\"bmi\",\"bmi\",\"bmi\",\"bmi\",\"bmi\",\"bmi\",\"bmi\",\"bmi\",\"bmi\",\"bmi\",\"bmi\",\"bmi\",\"bmi\",\"bmi\",\"bmi\",\"bmi\",\"bmi\",\"bmi\",\"bmi\",\"bmi\",\"bmi\",\"bmi\",\"bmi\",\"bmi\",\"bmi\",\"bmi\",\"bmi\",\"bmi\",\"bmi\",\"bmi\",\"bmi\",\"bmi\",\"bmi\",\"bmi\",\"bmi\",\"bmi\",\"bmi\",\"bmi\",\"bmi\",\"bmi\",\"bmi\",\"bmi\",\"bmi\",\"bmi\",\"bmi\",\"bmi\",\"bmi\",\"bmi\",\"bmi\",\"bmi\",\"bmi\",\"bmi\",\"bmi\",\"bmi\",\"bmi\",\"bmi\",\"bmi\",\"bmi\",\"bmi\",\"bmi\",\"bmi\",\"bmi\",\"bmi\",\"bmi\",\"bmi\",\"bmi\",\"bmi\",\"bmi\",\"bmi\",\"bmi\",\"bmi\",\"bmi\",\"bmi\",\"bmi\",\"bmi\",\"bmi\",\"bmi\",\"bmi\",\"bmi\",\"bmi\",\"bmi\",\"bmi\",\"bmi\",\"bmi\",\"bmi\",\"bmi\",\"bmi\",\"bmi\",\"bmi\",\"bmi\",\"bmi\",\"bmi\",\"bmi\",\"bmi\",\"bmi\",\"bmi\",\"bmi\",\"bmi\",\"bmi\",\"bmi\",\"bmi\",\"bmi\",\"bmi\",\"bmi\",\"bmi\",\"bmi\",\"bmi\",\"bmi\",\"bmi\",\"bmi\",\"bmi\",\"bmi\",\"bmi\",\"bmi\",\"bmi\",\"bmi\",\"bmi\",\"bmi\",\"bmi\",\"bmi\",\"bmi\",\"bmi\",\"bmi\",\"bmi\",\"bmi\",\"bmi\",\"bmi\",\"bmi\",\"bmi\",\"bmi\",\"bmi\",\"bmi\",\"bmi\",\"bmi\",\"bmi\",\"bmi\",\"bmi\",\"bmi\",\"bmi\",\"bmi\",\"bmi\",\"bmi\",\"bmi\",\"bmi\",\"bmi\",\"bmi\",\"bmi\",\"bmi\",\"bmi\",\"bmi\",\"bmi\",\"bmi\",\"bmi\",\"bmi\",\"bmi\",\"bmi\",\"bmi\",\"bmi\",\"bmi\",\"bmi\",\"bmi\",\"bmi\",\"bmi\",\"bmi\",\"bmi\",\"bmi\",\"bmi\",\"bmi\",\"bmi\",\"bmi\",\"bmi\",\"bmi\",\"bmi\",\"bmi\",\"bmi\",\"bmi\",\"bmi\",\"bmi\",\"bmi\",\"bmi\",\"bmi\",\"bmi\",\"bmi\",\"bmi\",\"bmi\",\"bmi\",\"bmi\",\"bmi\",\"bmi\",\"bmi\",\"bmi\",\"bmi\",\"bmi\",\"bmi\",\"bmi\",\"bmi\",\"bmi\",\"bmi\",\"bmi\",\"bmi\",\"bmi\",\"bmi\",\"bmi\",\"bmi\",\"bmi\",\"bmi\",\"bmi\",\"bmi\",\"bmi\",\"bmi\",\"bmi\",\"bmi\",\"bmi\",\"bmi\",\"bmi\",\"bmi\",\"bmi\",\"bmi\",\"bmi\",\"bmi\",\"bmi\",\"bmi\",\"bmi\",\"bmi\",\"bmi\",\"bmi\",\"bmi\",\"bmi\",\"bmi\",\"bmi\",\"bmi\",\"bmi\",\"bmi\",\"bmi\",\"bmi\",\"bmi\",\"bmi\",\"bmi\",\"bmi\",\"bmi\",\"bmi\",\"bmi\",\"bmi\",\"bmi\",\"bmi\",\"bmi\",\"bmi\",\"bmi\",\"bmi\",\"bmi\",\"bmi\",\"bmi\",\"bmi\",\"bmi\",\"bmi\",\"bmi\",\"bmi\",\"bmi\",\"bmi\",\"bmi\",\"bmi\",\"bmi\",\"bmi\",\"bmi\",\"bmi\",\"bmi\",\"bmi\",\"bmi\",\"bmi\",\"bmi\",\"bmi\",\"bmi\",\"bmi\",\"bmi\",\"bmi\",\"bmi\",\"bmi\",\"bmi\",\"bmi\",\"bmi\",\"bmi\",\"bmi\",\"bmi\",\"bmi\",\"bmi\",\"bmi\",\"bmi\",\"bmi\",\"bmi\",\"bmi\",\"bmi\",\"bmi\",\"bmi\",\"bmi\",\"bmi\",\"bmi\",\"bmi\",\"bmi\",\"bmi\",\"bmi\",\"bmi\",\"bmi\",\"bmi\",\"bmi\",\"bmi\",\"bmi\",\"bmi\",\"bmi\",\"bmi\",\"bmi\",\"bmi\",\"bmi\",\"bmi\",\"bmi\",\"bmi\",\"bmi\",\"bmi\",\"bmi\",\"bmi\",\"bmi\",\"bmi\",\"bmi\",\"bmi\",\"bmi\",\"bmi\",\"bmi\",\"bmi\",\"bmi\",\"bmi\",\"bmi\",\"bmi\",\"bmi\",\"bmi\",\"bmi\",\"bmi\",\"bmi\",\"bmi\",\"bmi\",\"bmi\",\"bmi\",\"bmi\",\"bmi\",\"bmi\",\"bmi\",\"bmi\",\"bmi\",\"bmi\",\"bmi\",\"bmi\",\"bmi\",\"bmi\",\"bmi\",\"bmi\",\"bmi\",\"bmi\",\"bmi\",\"bmi\",\"bmi\",\"bmi\",\"bmi\",\"bmi\",\"bmi\",\"bmi\",\"bmi\",\"bmi\",\"bmi\",\"bmi\",\"bmi\",\"bmi\",\"bmi\",\"bmi\",\"bmi\",\"bmi\",\"bmi\",\"bmi\",\"bmi\",\"bmi\",\"bmi\",\"bmi\",\"bmi\",\"bmi\",\"bmi\",\"bmi\",\"bmi\",\"bmi\",\"bmi\",\"bmi\",\"bmi\",\"bmi\",\"bmi\",\"bmi\",\"bmi\",\"bmi\",\"bmi\",\"bmi\",\"bmi\",\"bmi\",\"bmi\",\"bmi\",\"bmi\",\"bmi\",\"bmi\",\"bmi\",\"bmi\",\"bmi\",\"bmi\",\"bmi\",\"bmi\",\"bmi\",\"bmi\",\"bmi\",\"bmi\",\"bmi\",\"bmi\",\"bmi\",\"bmi\",\"bmi\",\"bmi\",\"bmi\",\"bmi\",\"bmi\",\"bmi\",\"bmi\",\"bmi\",\"bmi\",\"bmi\",\"bmi\",\"bmi\",\"bmi\",\"bmi\",\"bmi\",\"bmi\",\"bmi\",\"bmi\",\"bmi\",\"bmi\",\"bmi\",\"bmi\",\"bmi\",\"bmi\",\"bmi\",\"bmi\",\"bmi\",\"bmi\",\"bmi\",\"bmi\",\"bmi\",\"bmi\",\"bmi\",\"bmi\",\"bmi\",\"bmi\",\"bmi\",\"bmi\",\"bmi\",\"bmi\",\"bmi\",\"bmi\",\"bmi\",\"bmi\",\"bmi\",\"bmi\",\"bmi\",\"bmi\",\"bmi\",\"bmi\",\"bmi\",\"bmi\",\"bmi\",\"bmi\",\"bmi\",\"bmi\",\"bmi\",\"bmi\",\"bmi\",\"bmi\",\"bmi\",\"bmi\",\"bmi\",\"bmi\",\"bmi\",\"bmi\",\"bmi\",\"bmi\",\"bmi\",\"bmi\",\"bmi\",\"bmi\",\"bmi\",\"bmi\",\"bmi\",\"bmi\",\"bmi\",\"bmi\",\"bmi\",\"bmi\",\"bmi\",\"bmi\",\"bmi\",\"bmi\",\"bmi\",\"bmi\",\"bmi\",\"bmi\",\"bmi\",\"bmi\",\"bmi\",\"bmi\",\"bmi\",\"bmi\",\"bmi\",\"bmi\",\"bmi\",\"bmi\",\"bmi\",\"bmi\",\"bmi\",\"bmi\",\"bmi\",\"bmi\",\"bmi\",\"bmi\",\"bmi\",\"bmi\",\"bmi\",\"bmi\",\"bmi\",\"bmi\",\"bmi\",\"bmi\",\"bmi\",\"bmi\",\"bmi\",\"bmi\",\"bmi\",\"bmi\",\"bmi\",\"bmi\",\"bmi\",\"bmi\",\"bmi\",\"bmi\",\"bmi\",\"bmi\",\"bmi\",\"bmi\",\"bmi\",\"bmi\",\"bmi\",\"bmi\",\"bmi\",\"bmi\",\"bmi\",\"bmi\",\"bmi\",\"bmi\",\"bmi\",\"bmi\",\"bmi\",\"bmi\",\"bmi\",\"bmi\",\"bmi\",\"bmi\",\"bmi\",\"bmi\",\"bmi\",\"bmi\",\"bmi\",\"bmi\",\"bmi\",\"bmi\",\"bmi\",\"bmi\",\"bmi\",\"bmi\",\"bmi\",\"bmi\",\"bmi\",\"bmi\",\"bmi\",\"bmi\",\"bmi\",\"bmi\",\"bmi\",\"bmi\",\"bmi\",\"bmi\",\"bmi\",\"bmi\",\"bmi\",\"bmi\",\"bmi\",\"bmi\",\"bmi\",\"bmi\",\"bmi\",\"bmi\",\"bmi\",\"bmi\",\"bmi\",\"bmi\",\"bmi\",\"bmi\",\"bmi\",\"bmi\",\"bmi\",\"bmi\",\"bmi\",\"bmi\",\"bmi\",\"bmi\",\"bmi\",\"bmi\",\"bmi\",\"bmi\",\"bmi\",\"bmi\",\"bmi\",\"bmi\",\"bmi\",\"bmi\",\"bmi\",\"bmi\",\"bmi\",\"bmi\",\"bmi\",\"bmi\",\"bmi\",\"bmi\",\"bmi\",\"bmi\",\"bmi\",\"bmi\",\"bmi\",\"bmi\",\"bmi\",\"bmi\",\"bmi\",\"bmi\",\"bmi\",\"bmi\",\"bmi\",\"bmi\",\"bmi\",\"bmi\",\"bmi\",\"bmi\",\"bmi\",\"bmi\",\"bmi\",\"bmi\",\"bmi\",\"bmi\",\"bmi\",\"bmi\",\"bmi\",\"bmi\",\"bmi\",\"bmi\",\"bmi\",\"bmi\",\"bmi\",\"bmi\",\"bmi\",\"bmi\",\"bmi\",\"bmi\",\"bmi\",\"bmi\",\"bmi\",\"bmi\",\"bmi\",\"bmi\",\"bmi\",\"bmi\",\"bmi\",\"bmi\",\"bmi\",\"bmi\",\"bmi\",\"bmi\",\"bmi\",\"bmi\",\"bmi\",\"bmi\",\"bmi\",\"bmi\",\"bmi\",\"bmi\",\"bmi\",\"bmi\",\"bmi\",\"bmi\",\"bmi\",\"bmi\",\"bmi\",\"bmi\",\"bmi\",\"bmi\",\"bmi\",\"bmi\",\"bmi\",\"bmi\",\"bmi\",\"bmi\",\"bmi\",\"bmi\",\"bmi\",\"bmi\",\"bmi\",\"bmi\",\"bmi\",\"bmi\",\"bmi\",\"bmi\",\"bmi\",\"bmi\",\"bmi\",\"bmi\",\"bmi\",\"bmi\",\"bmi\",\"bmi\",\"bmi\",\"bmi\",\"bmi\",\"bmi\",\"bmi\",\"bmi\",\"bmi\",\"bmi\",\"bmi\",\"bmi\",\"bmi\",\"bmi\",\"bmi\",\"bmi\",\"bmi\",\"bmi\",\"bmi\",\"bmi\",\"bmi\",\"bmi\",\"bmi\",\"bmi\",\"bmi\",\"bmi\",\"bmi\",\"bmi\",\"bmi\",\"bmi\",\"bmi\",\"bmi\",\"bmi\",\"bmi\",\"bmi\",\"bmi\",\"bmi\",\"bmi\",\"bmi\",\"bmi\",\"bmi\",\"bmi\",\"bmi\",\"bmi\",\"bmi\",\"bmi\",\"bmi\",\"bmi\",\"bmi\",\"bmi\",\"bmi\",\"bmi\",\"bmi\",\"bmi\",\"bmi\",\"bmi\",\"bmi\",\"bmi\",\"bmi\",\"bmi\",\"bmi\",\"bmi\",\"bmi\",\"bmi\",\"bmi\",\"bmi\",\"bmi\",\"bmi\",\"bmi\",\"bmi\",\"bmi\"],\"yaxis\":\"y2\",\"type\":\"scatter\"}],                        {\"barmode\":\"overlay\",\"hovermode\":\"closest\",\"legend\":{\"traceorder\":\"reversed\"},\"xaxis\":{\"anchor\":\"y2\",\"domain\":[0.0,1.0],\"zeroline\":false},\"yaxis\":{\"anchor\":\"free\",\"domain\":[0.35,1],\"position\":0.0},\"yaxis2\":{\"anchor\":\"x\",\"domain\":[0,0.25],\"dtick\":1,\"showticklabels\":false},\"template\":{\"data\":{\"histogram2dcontour\":[{\"type\":\"histogram2dcontour\",\"colorbar\":{\"outlinewidth\":0,\"ticks\":\"\"},\"colorscale\":[[0.0,\"#0d0887\"],[0.1111111111111111,\"#46039f\"],[0.2222222222222222,\"#7201a8\"],[0.3333333333333333,\"#9c179e\"],[0.4444444444444444,\"#bd3786\"],[0.5555555555555556,\"#d8576b\"],[0.6666666666666666,\"#ed7953\"],[0.7777777777777778,\"#fb9f3a\"],[0.8888888888888888,\"#fdca26\"],[1.0,\"#f0f921\"]]}],\"choropleth\":[{\"type\":\"choropleth\",\"colorbar\":{\"outlinewidth\":0,\"ticks\":\"\"}}],\"histogram2d\":[{\"type\":\"histogram2d\",\"colorbar\":{\"outlinewidth\":0,\"ticks\":\"\"},\"colorscale\":[[0.0,\"#0d0887\"],[0.1111111111111111,\"#46039f\"],[0.2222222222222222,\"#7201a8\"],[0.3333333333333333,\"#9c179e\"],[0.4444444444444444,\"#bd3786\"],[0.5555555555555556,\"#d8576b\"],[0.6666666666666666,\"#ed7953\"],[0.7777777777777778,\"#fb9f3a\"],[0.8888888888888888,\"#fdca26\"],[1.0,\"#f0f921\"]]}],\"heatmap\":[{\"type\":\"heatmap\",\"colorbar\":{\"outlinewidth\":0,\"ticks\":\"\"},\"colorscale\":[[0.0,\"#0d0887\"],[0.1111111111111111,\"#46039f\"],[0.2222222222222222,\"#7201a8\"],[0.3333333333333333,\"#9c179e\"],[0.4444444444444444,\"#bd3786\"],[0.5555555555555556,\"#d8576b\"],[0.6666666666666666,\"#ed7953\"],[0.7777777777777778,\"#fb9f3a\"],[0.8888888888888888,\"#fdca26\"],[1.0,\"#f0f921\"]]}],\"heatmapgl\":[{\"type\":\"heatmapgl\",\"colorbar\":{\"outlinewidth\":0,\"ticks\":\"\"},\"colorscale\":[[0.0,\"#0d0887\"],[0.1111111111111111,\"#46039f\"],[0.2222222222222222,\"#7201a8\"],[0.3333333333333333,\"#9c179e\"],[0.4444444444444444,\"#bd3786\"],[0.5555555555555556,\"#d8576b\"],[0.6666666666666666,\"#ed7953\"],[0.7777777777777778,\"#fb9f3a\"],[0.8888888888888888,\"#fdca26\"],[1.0,\"#f0f921\"]]}],\"contourcarpet\":[{\"type\":\"contourcarpet\",\"colorbar\":{\"outlinewidth\":0,\"ticks\":\"\"}}],\"contour\":[{\"type\":\"contour\",\"colorbar\":{\"outlinewidth\":0,\"ticks\":\"\"},\"colorscale\":[[0.0,\"#0d0887\"],[0.1111111111111111,\"#46039f\"],[0.2222222222222222,\"#7201a8\"],[0.3333333333333333,\"#9c179e\"],[0.4444444444444444,\"#bd3786\"],[0.5555555555555556,\"#d8576b\"],[0.6666666666666666,\"#ed7953\"],[0.7777777777777778,\"#fb9f3a\"],[0.8888888888888888,\"#fdca26\"],[1.0,\"#f0f921\"]]}],\"surface\":[{\"type\":\"surface\",\"colorbar\":{\"outlinewidth\":0,\"ticks\":\"\"},\"colorscale\":[[0.0,\"#0d0887\"],[0.1111111111111111,\"#46039f\"],[0.2222222222222222,\"#7201a8\"],[0.3333333333333333,\"#9c179e\"],[0.4444444444444444,\"#bd3786\"],[0.5555555555555556,\"#d8576b\"],[0.6666666666666666,\"#ed7953\"],[0.7777777777777778,\"#fb9f3a\"],[0.8888888888888888,\"#fdca26\"],[1.0,\"#f0f921\"]]}],\"mesh3d\":[{\"type\":\"mesh3d\",\"colorbar\":{\"outlinewidth\":0,\"ticks\":\"\"}}],\"scatter\":[{\"fillpattern\":{\"fillmode\":\"overlay\",\"size\":10,\"solidity\":0.2},\"type\":\"scatter\"}],\"parcoords\":[{\"type\":\"parcoords\",\"line\":{\"colorbar\":{\"outlinewidth\":0,\"ticks\":\"\"}}}],\"scatterpolargl\":[{\"type\":\"scatterpolargl\",\"marker\":{\"colorbar\":{\"outlinewidth\":0,\"ticks\":\"\"}}}],\"bar\":[{\"error_x\":{\"color\":\"#2a3f5f\"},\"error_y\":{\"color\":\"#2a3f5f\"},\"marker\":{\"line\":{\"color\":\"#E5ECF6\",\"width\":0.5},\"pattern\":{\"fillmode\":\"overlay\",\"size\":10,\"solidity\":0.2}},\"type\":\"bar\"}],\"scattergeo\":[{\"type\":\"scattergeo\",\"marker\":{\"colorbar\":{\"outlinewidth\":0,\"ticks\":\"\"}}}],\"scatterpolar\":[{\"type\":\"scatterpolar\",\"marker\":{\"colorbar\":{\"outlinewidth\":0,\"ticks\":\"\"}}}],\"histogram\":[{\"marker\":{\"pattern\":{\"fillmode\":\"overlay\",\"size\":10,\"solidity\":0.2}},\"type\":\"histogram\"}],\"scattergl\":[{\"type\":\"scattergl\",\"marker\":{\"colorbar\":{\"outlinewidth\":0,\"ticks\":\"\"}}}],\"scatter3d\":[{\"type\":\"scatter3d\",\"line\":{\"colorbar\":{\"outlinewidth\":0,\"ticks\":\"\"}},\"marker\":{\"colorbar\":{\"outlinewidth\":0,\"ticks\":\"\"}}}],\"scattermapbox\":[{\"type\":\"scattermapbox\",\"marker\":{\"colorbar\":{\"outlinewidth\":0,\"ticks\":\"\"}}}],\"scatterternary\":[{\"type\":\"scatterternary\",\"marker\":{\"colorbar\":{\"outlinewidth\":0,\"ticks\":\"\"}}}],\"scattercarpet\":[{\"type\":\"scattercarpet\",\"marker\":{\"colorbar\":{\"outlinewidth\":0,\"ticks\":\"\"}}}],\"carpet\":[{\"aaxis\":{\"endlinecolor\":\"#2a3f5f\",\"gridcolor\":\"white\",\"linecolor\":\"white\",\"minorgridcolor\":\"white\",\"startlinecolor\":\"#2a3f5f\"},\"baxis\":{\"endlinecolor\":\"#2a3f5f\",\"gridcolor\":\"white\",\"linecolor\":\"white\",\"minorgridcolor\":\"white\",\"startlinecolor\":\"#2a3f5f\"},\"type\":\"carpet\"}],\"table\":[{\"cells\":{\"fill\":{\"color\":\"#EBF0F8\"},\"line\":{\"color\":\"white\"}},\"header\":{\"fill\":{\"color\":\"#C8D4E3\"},\"line\":{\"color\":\"white\"}},\"type\":\"table\"}],\"barpolar\":[{\"marker\":{\"line\":{\"color\":\"#E5ECF6\",\"width\":0.5},\"pattern\":{\"fillmode\":\"overlay\",\"size\":10,\"solidity\":0.2}},\"type\":\"barpolar\"}],\"pie\":[{\"automargin\":true,\"type\":\"pie\"}]},\"layout\":{\"autotypenumbers\":\"strict\",\"colorway\":[\"#636efa\",\"#EF553B\",\"#00cc96\",\"#ab63fa\",\"#FFA15A\",\"#19d3f3\",\"#FF6692\",\"#B6E880\",\"#FF97FF\",\"#FECB52\"],\"font\":{\"color\":\"#2a3f5f\"},\"hovermode\":\"closest\",\"hoverlabel\":{\"align\":\"left\"},\"paper_bgcolor\":\"white\",\"plot_bgcolor\":\"#E5ECF6\",\"polar\":{\"bgcolor\":\"#E5ECF6\",\"angularaxis\":{\"gridcolor\":\"white\",\"linecolor\":\"white\",\"ticks\":\"\"},\"radialaxis\":{\"gridcolor\":\"white\",\"linecolor\":\"white\",\"ticks\":\"\"}},\"ternary\":{\"bgcolor\":\"#E5ECF6\",\"aaxis\":{\"gridcolor\":\"white\",\"linecolor\":\"white\",\"ticks\":\"\"},\"baxis\":{\"gridcolor\":\"white\",\"linecolor\":\"white\",\"ticks\":\"\"},\"caxis\":{\"gridcolor\":\"white\",\"linecolor\":\"white\",\"ticks\":\"\"}},\"coloraxis\":{\"colorbar\":{\"outlinewidth\":0,\"ticks\":\"\"}},\"colorscale\":{\"sequential\":[[0.0,\"#0d0887\"],[0.1111111111111111,\"#46039f\"],[0.2222222222222222,\"#7201a8\"],[0.3333333333333333,\"#9c179e\"],[0.4444444444444444,\"#bd3786\"],[0.5555555555555556,\"#d8576b\"],[0.6666666666666666,\"#ed7953\"],[0.7777777777777778,\"#fb9f3a\"],[0.8888888888888888,\"#fdca26\"],[1.0,\"#f0f921\"]],\"sequentialminus\":[[0.0,\"#0d0887\"],[0.1111111111111111,\"#46039f\"],[0.2222222222222222,\"#7201a8\"],[0.3333333333333333,\"#9c179e\"],[0.4444444444444444,\"#bd3786\"],[0.5555555555555556,\"#d8576b\"],[0.6666666666666666,\"#ed7953\"],[0.7777777777777778,\"#fb9f3a\"],[0.8888888888888888,\"#fdca26\"],[1.0,\"#f0f921\"]],\"diverging\":[[0,\"#8e0152\"],[0.1,\"#c51b7d\"],[0.2,\"#de77ae\"],[0.3,\"#f1b6da\"],[0.4,\"#fde0ef\"],[0.5,\"#f7f7f7\"],[0.6,\"#e6f5d0\"],[0.7,\"#b8e186\"],[0.8,\"#7fbc41\"],[0.9,\"#4d9221\"],[1,\"#276419\"]]},\"xaxis\":{\"gridcolor\":\"white\",\"linecolor\":\"white\",\"ticks\":\"\",\"title\":{\"standoff\":15},\"zerolinecolor\":\"white\",\"automargin\":true,\"zerolinewidth\":2},\"yaxis\":{\"gridcolor\":\"white\",\"linecolor\":\"white\",\"ticks\":\"\",\"title\":{\"standoff\":15},\"zerolinecolor\":\"white\",\"automargin\":true,\"zerolinewidth\":2},\"scene\":{\"xaxis\":{\"backgroundcolor\":\"#E5ECF6\",\"gridcolor\":\"white\",\"linecolor\":\"white\",\"showbackground\":true,\"ticks\":\"\",\"zerolinecolor\":\"white\",\"gridwidth\":2},\"yaxis\":{\"backgroundcolor\":\"#E5ECF6\",\"gridcolor\":\"white\",\"linecolor\":\"white\",\"showbackground\":true,\"ticks\":\"\",\"zerolinecolor\":\"white\",\"gridwidth\":2},\"zaxis\":{\"backgroundcolor\":\"#E5ECF6\",\"gridcolor\":\"white\",\"linecolor\":\"white\",\"showbackground\":true,\"ticks\":\"\",\"zerolinecolor\":\"white\",\"gridwidth\":2}},\"shapedefaults\":{\"line\":{\"color\":\"#2a3f5f\"}},\"annotationdefaults\":{\"arrowcolor\":\"#2a3f5f\",\"arrowhead\":0,\"arrowwidth\":1},\"geo\":{\"bgcolor\":\"white\",\"landcolor\":\"#E5ECF6\",\"subunitcolor\":\"white\",\"showland\":true,\"showlakes\":true,\"lakecolor\":\"white\"},\"title\":{\"x\":0.05},\"mapbox\":{\"style\":\"light\"}}}},                        {\"responsive\": true}                    ).then(function(){\n",
              "                            \n",
              "var gd = document.getElementById('d9d1b5d8-6e3e-443a-a514-82088cc22311');\n",
              "var x = new MutationObserver(function (mutations, observer) {{\n",
              "        var display = window.getComputedStyle(gd).display;\n",
              "        if (!display || display === 'none') {{\n",
              "            console.log([gd, 'removed!']);\n",
              "            Plotly.purge(gd);\n",
              "            observer.disconnect();\n",
              "        }}\n",
              "}});\n",
              "\n",
              "// Listen for the removal of the full notebook cells\n",
              "var notebookContainer = gd.closest('#notebook-container');\n",
              "if (notebookContainer) {{\n",
              "    x.observe(notebookContainer, {childList: true});\n",
              "}}\n",
              "\n",
              "// Listen for the clearing of the current output cell\n",
              "var outputEl = gd.closest('.output');\n",
              "if (outputEl) {{\n",
              "    x.observe(outputEl, {childList: true});\n",
              "}}\n",
              "\n",
              "                        })                };                            </script>        </div>\n",
              "</body>\n",
              "</html>"
            ]
          },
          "metadata": {}
        }
      ],
      "source": [
        "bmi = list(data['bmi'].values)\n",
        "hist_data = [bmi]\n",
        "group_labels = [\"bmi\"]\n",
        "fig = ff.create_distplot(hist_data,group_labels,show_hist = True)\n",
        "fig.show()"
      ]
    },
    {
      "cell_type": "code",
      "execution_count": 236,
      "metadata": {
        "id": "ah8yRigDCkrm",
        "colab": {
          "base_uri": "https://localhost:8080/"
        },
        "outputId": "9a539398-8e95-44f3-8f03-ac82803e29ce"
      },
      "outputs": [
        {
          "output_type": "stream",
          "name": "stdout",
          "text": [
            "Total outlier dalam BMI yang memiliki gejala stroke :  (3, 11)\n"
          ]
        }
      ],
      "source": [
        "cond1 = data['bmi'] > 47\n",
        "cond2 = data['stroke'] == 1\n",
        "print(\"Total outlier dalam BMI yang memiliki gejala stroke : \", data[cond1 & cond2].shape)"
      ]
    },
    {
      "cell_type": "markdown",
      "metadata": {
        "id": "p0r7JLW2B6fP"
      },
      "source": [
        "Menghapus outlier pada kolom bmi"
      ]
    },
    {
      "cell_type": "code",
      "execution_count": 237,
      "metadata": {
        "id": "bpOtPHR4B_BW"
      },
      "outputs": [],
      "source": [
        "data.drop(data[data['bmi'] > 47].index, inplace = True)"
      ]
    },
    {
      "cell_type": "code",
      "execution_count": 238,
      "metadata": {
        "id": "A_ODLCdwC8wi",
        "colab": {
          "base_uri": "https://localhost:8080/",
          "height": 409
        },
        "outputId": "7c18ffef-6bfb-455e-e0d9-af042d54ae2c"
      },
      "outputs": [
        {
          "output_type": "display_data",
          "data": {
            "text/plain": [
              "<Figure size 1400x500 with 1 Axes>"
            ],
            "image/png": "[encoded data removed]"
          },
          "metadata": {}
        }
      ],
      "source": [
        "plt.figure(figsize = (14,5))\n",
        "sns.histplot(x=data['bmi'])\n",
        "plt.show()"
      ]
    },
    {
      "cell_type": "markdown",
      "metadata": {
        "id": "FN7sht5WHS7t"
      },
      "source": [
        "### Kolom Smoking Status"
      ]
    },
    {
      "cell_type": "code",
      "execution_count": 239,
      "metadata": {
        "id": "eYL0_Jy6HXyk",
        "colab": {
          "base_uri": "https://localhost:8080/"
        },
        "outputId": "db94cd86-17f1-46b8-a79c-abec2e32c3e5"
      },
      "outputs": [
        {
          "output_type": "execute_result",
          "data": {
            "text/plain": [
              "never smoked       1840\n",
              "Unknown            1519\n",
              "formerly smoked     861\n",
              "smokes              772\n",
              "Name: smoking_status, dtype: int64"
            ]
          },
          "metadata": {},
          "execution_count": 239
        }
      ],
      "source": [
        "data[\"smoking_status\"].value_counts()"
      ]
    },
    {
      "cell_type": "code",
      "source": [
        "data['smoking_status'] = data['smoking_status'].replace({\n",
        "    'never smoked': 1,\n",
        "    'Unknown': 2,\n",
        "    'formerly smoked': 3,\n",
        "    'smokes': 4\n",
        "})"
      ],
      "metadata": {
        "id": "vQteVrHBZJf1"
      },
      "execution_count": 240,
      "outputs": []
    },
    {
      "cell_type": "markdown",
      "metadata": {
        "id": "G3EFOGbtHhD4"
      },
      "source": [
        "### Kolom Stroke"
      ]
    },
    {
      "cell_type": "code",
      "execution_count": 241,
      "metadata": {
        "id": "uNxIDl4nHkQu",
        "colab": {
          "base_uri": "https://localhost:8080/"
        },
        "outputId": "f6052860-29cc-4a6f-d8ac-cb32a56bac16"
      },
      "outputs": [
        {
          "output_type": "execute_result",
          "data": {
            "text/plain": [
              "0    4746\n",
              "1     246\n",
              "Name: stroke, dtype: int64"
            ]
          },
          "metadata": {},
          "execution_count": 241
        }
      ],
      "source": [
        "data[\"stroke\"].value_counts()"
      ]
    },
    {
      "cell_type": "markdown",
      "metadata": {
        "id": "uxnPqQbgzoV0"
      },
      "source": [
        "## One-Hot Encoding dan Decoding"
      ]
    },
    {
      "cell_type": "code",
      "execution_count": 242,
      "metadata": {
        "id": "TKyCzRq0IxZd"
      },
      "outputs": [],
      "source": [
        "def onehot_enc(lbl, min_val=0):\n",
        "  mi = min(lbl)\n",
        "  enc = np.full((len(lbl), max(lbl) - mi + 1), min_val, np.int8)\n",
        "\n",
        "  for i, x in enumerate(lbl):\n",
        "    enc[i, x - mi] = 1\n",
        "\n",
        "  return enc\n",
        "\n",
        "\n",
        "def onehot_dec(enc, mi=0):\n",
        "  return [np.argmax(e) + mi for e in enc]"
      ]
    },
    {
      "cell_type": "code",
      "source": [
        "def onehot_enc_str(lbl):\n",
        "    unique_classes = sorted(list(set(lbl)))\n",
        "    num_classes = len(unique_classes)\n",
        "    class_to_index = {c: i for i, c in enumerate(unique_classes)}\n",
        "    enc = np.zeros((len(lbl), num_classes), dtype=np.int8)\n",
        "\n",
        "    for i, cls in enumerate(lbl):\n",
        "        enc[i, class_to_index[cls]] = 1\n",
        "\n",
        "    return enc\n",
        "\n",
        "def onehot_dec_str(enc, unique_classes):\n",
        "    decoded_classes = []\n",
        "\n",
        "    for row in enc:\n",
        "        class_index = np.argmax(row)\n",
        "        decoded_classes.append(unique_classes[class_index])\n",
        "\n",
        "    return decoded_classes"
      ],
      "metadata": {
        "id": "DjFTwKwGYvIB"
      },
      "execution_count": 243,
      "outputs": []
    },
    {
      "cell_type": "markdown",
      "metadata": {
        "id": "XJqAFEYUz1Ee"
      },
      "source": [
        "## Membuat Fungsi Aktivasi Sigmoid"
      ]
    },
    {
      "cell_type": "code",
      "execution_count": 244,
      "metadata": {
        "id": "uqg2wOdqz4Cl"
      },
      "outputs": [],
      "source": [
        "def sig(X):\n",
        "  return [1 / (1 + np.exp(-x)) for x in X]\n",
        "\n",
        "\n",
        "def sigd(X):\n",
        "  output = []\n",
        "\n",
        "  for i, x in enumerate(X):\n",
        "    s = sig([x])[0]\n",
        "\n",
        "    output.append(s * (1 - s))\n",
        "\n",
        "  return output"
      ]
    },
    {
      "cell_type": "markdown",
      "metadata": {
        "id": "_WBkK_ycHpe2"
      },
      "source": [
        "## Membuat Training Backpropagation"
      ]
    },
    {
      "cell_type": "code",
      "execution_count": 245,
      "metadata": {
        "id": "JnSEsfATSPKC"
      },
      "outputs": [],
      "source": [
        "def bp_fit(X, target, layer_conf, max_epoch, max_error=.1, learn_rate=.1, print_per_epoch=100):\n",
        "  np.random.seed(1)\n",
        "  nin = [np.empty(i) for i in layer_conf]\n",
        "  n = [np.empty(j + 1) if i < len(layer_conf) - 1 else np.empty(j) for i, j in enumerate(layer_conf)]\n",
        "\n",
        "  w = np.array([np.random.rand(layer_conf[i] + 1, layer_conf[i + 1]) for i in range(len(layer_conf) - 1)])\n",
        "  # Update bobot dengan metode Nguyen-Widrow\n",
        "  for i in range(len(w)):\n",
        "    beta = 0.7 * (layer_conf[i + 1] ** (1 / layer_conf[i]))\n",
        "    w[i] *= beta / np.linalg.norm(w[i], axis=0)\n",
        "\n",
        "  dw = [np.empty((layer_conf[i] + 1, layer_conf[i + 1])) for i in range(len(layer_conf) - 1)]\n",
        "  d = [np.empty(s) for s in layer_conf[1:]]\n",
        "  din = [np.empty(s) for s in layer_conf[1:-1]]\n",
        "  epoch = 0\n",
        "  mse = 1\n",
        "\n",
        "  for i in range(0, len(n)-1):\n",
        "    n[i][-1] = 1\n",
        "\n",
        "  while (max_epoch == -1 or epoch < max_epoch) and mse > max_error:\n",
        "    epoch += 1\n",
        "    mse = 0\n",
        "\n",
        "    for r in range(len(X)):\n",
        "      n[0][:-1] = X[r]\n",
        "\n",
        "      for L in range(1, len(layer_conf)):\n",
        "        nin[L] = np.dot(n[L-1], w[L-1])\n",
        "        n[L][:len(nin[L])] = sig(nin[L])\n",
        "\n",
        "      e = target[r] - n[-1]\n",
        "      mse += sum(e ** 2)\n",
        "      d[-1] = e * sigd(nin[-1])\n",
        "      dw[-1] = learn_rate * d[-1] * n[-2].reshape((-1, 1))\n",
        "\n",
        "      for L in range(len(layer_conf) - 1, 1, -1):\n",
        "        din[L-2] = np.dot(d[L-1], np.transpose(w[L-1][:-1]))\n",
        "        d[L-2] = din[L-2] * np.array(sigd(nin[L-1]))\n",
        "        dw[L-2] = (learn_rate * d[L-2]) * n[L-2].reshape((-1, 1))\n",
        "\n",
        "      w += dw\n",
        "\n",
        "    mse /= len(X)\n",
        "\n",
        "    if print_per_epoch > -1 and epoch % print_per_epoch == 0:\n",
        "      print(f'Epoch {epoch}, MSE: {mse}')\n",
        "\n",
        "  return w, epoch, mse"
      ]
    },
    {
      "cell_type": "markdown",
      "metadata": {
        "id": "0-rINhst0Fof"
      },
      "source": [
        "## Membuat Testing Backpropagation"
      ]
    },
    {
      "cell_type": "code",
      "execution_count": 246,
      "metadata": {
        "id": "Br_ntOB-0LAw"
      },
      "outputs": [],
      "source": [
        "def bp_predict(X, w):\n",
        "  n = [np.empty(len(i)) for i in w]\n",
        "  nin = [np.empty(len(i[0])) for i in w]\n",
        "  predict = []\n",
        "\n",
        "  n.append(np.empty(len(w[-1][0])))\n",
        "\n",
        "  for x in X:\n",
        "    n[0][:-1] = x\n",
        "\n",
        "    for L in range(0, len(w)):\n",
        "      nin[L] = np.dot(n[L], w[L])\n",
        "      n[L + 1][:len(nin[L])] = sig(nin[L])\n",
        "\n",
        "    predict.append(n[-1].copy())\n",
        "\n",
        "  return predict"
      ]
    },
    {
      "cell_type": "markdown",
      "source": [
        "## Drop Data Yang Tidak Diperlukan"
      ],
      "metadata": {
        "id": "Uih740HRYby3"
      }
    },
    {
      "cell_type": "code",
      "source": [
        "columns_to_drop = ['gender', 'ever_married', 'work_type',\n",
        "                    'Residence_type']\n",
        "\n",
        "data.drop(columns=columns_to_drop, inplace=True)"
      ],
      "metadata": {
        "id": "iLBN-JjuDJdw"
      },
      "execution_count": 247,
      "outputs": []
    },
    {
      "cell_type": "code",
      "source": [
        "data.head()"
      ],
      "metadata": {
        "id": "5zcbsWP7R_Ad",
        "colab": {
          "base_uri": "https://localhost:8080/",
          "height": 206
        },
        "outputId": "020c1b56-a1be-411d-caf7-6832b9e4a3e9"
      },
      "execution_count": 248,
      "outputs": [
        {
          "output_type": "execute_result",
          "data": {
            "text/plain": [
              "    age  hypertension  heart_disease  avg_glucose_level        bmi  \\\n",
              "0  67.0             0              1             228.69  36.600000   \n",
              "1  61.0             0              0             202.21  28.893237   \n",
              "2  80.0             0              1             105.92  32.500000   \n",
              "3  49.0             0              0             171.23  34.400000   \n",
              "4  79.0             1              0             174.12  24.000000   \n",
              "\n",
              "   smoking_status  stroke  \n",
              "0               3       1  \n",
              "1               1       1  \n",
              "2               1       1  \n",
              "3               4       1  \n",
              "4               1       1  "
            ],
            "text/html": [
              "\n",
              "  <div id=\"df-27f410d0-123f-4380-ab6d-2c8ca76a3025\" class=\"colab-df-container\">\n",
              "    <div>\n",
              "<style scoped>\n",
              "    .dataframe tbody tr th:only-of-type {\n",
              "        vertical-align: middle;\n",
              "    }\n",
              "\n",
              "    .dataframe tbody tr th {\n",
              "        vertical-align: top;\n",
              "    }\n",
              "\n",
              "    .dataframe thead th {\n",
              "        text-align: right;\n",
              "    }\n",
              "</style>\n",
              "<table border=\"1\" class=\"dataframe\">\n",
              "  <thead>\n",
              "    <tr style=\"text-align: right;\">\n",
              "      <th></th>\n",
              "      <th>age</th>\n",
              "      <th>hypertension</th>\n",
              "      <th>heart_disease</th>\n",
              "      <th>avg_glucose_level</th>\n",
              "      <th>bmi</th>\n",
              "      <th>smoking_status</th>\n",
              "      <th>stroke</th>\n",
              "    </tr>\n",
              "  </thead>\n",
              "  <tbody>\n",
              "    <tr>\n",
              "      <th>0</th>\n",
              "      <td>67.0</td>\n",
              "      <td>0</td>\n",
              "      <td>1</td>\n",
              "      <td>228.69</td>\n",
              "      <td>36.600000</td>\n",
              "      <td>3</td>\n",
              "      <td>1</td>\n",
              "    </tr>\n",
              "    <tr>\n",
              "      <th>1</th>\n",
              "      <td>61.0</td>\n",
              "      <td>0</td>\n",
              "      <td>0</td>\n",
              "      <td>202.21</td>\n",
              "      <td>28.893237</td>\n",
              "      <td>1</td>\n",
              "      <td>1</td>\n",
              "    </tr>\n",
              "    <tr>\n",
              "      <th>2</th>\n",
              "      <td>80.0</td>\n",
              "      <td>0</td>\n",
              "      <td>1</td>\n",
              "      <td>105.92</td>\n",
              "      <td>32.500000</td>\n",
              "      <td>1</td>\n",
              "      <td>1</td>\n",
              "    </tr>\n",
              "    <tr>\n",
              "      <th>3</th>\n",
              "      <td>49.0</td>\n",
              "      <td>0</td>\n",
              "      <td>0</td>\n",
              "      <td>171.23</td>\n",
              "      <td>34.400000</td>\n",
              "      <td>4</td>\n",
              "      <td>1</td>\n",
              "    </tr>\n",
              "    <tr>\n",
              "      <th>4</th>\n",
              "      <td>79.0</td>\n",
              "      <td>1</td>\n",
              "      <td>0</td>\n",
              "      <td>174.12</td>\n",
              "      <td>24.000000</td>\n",
              "      <td>1</td>\n",
              "      <td>1</td>\n",
              "    </tr>\n",
              "  </tbody>\n",
              "</table>\n",
              "</div>\n",
              "    <div class=\"colab-df-buttons\">\n",
              "\n",
              "  <div class=\"colab-df-container\">\n",
              "    <button class=\"colab-df-convert\" onclick=\"convertToInteractive('df-27f410d0-123f-4380-ab6d-2c8ca76a3025')\"\n",
              "            title=\"Convert this dataframe to an interactive table.\"\n",
              "            style=\"display:none;\">\n",
              "\n",
              "  <svg xmlns=\"http://www.w3.org/2000/svg\" height=\"24px\" viewBox=\"0 -960 960 960\">\n",
              "    <path d=\"M120-120v-720h720v720H120Zm60-500h600v-160H180v160Zm220 220h160v-160H400v160Zm0 220h160v-160H400v160ZM180-400h160v-160H180v160Zm440 0h160v-160H620v160ZM180-180h160v-160H180v160Zm440 0h160v-160H620v160Z\"/>\n",
              "  </svg>\n",
              "    </button>\n",
              "\n",
              "  <style>\n",
              "    .colab-df-container {\n",
              "      display:flex;\n",
              "      gap: 12px;\n",
              "    }\n",
              "\n",
              "    .colab-df-convert {\n",
              "      background-color: #E8F0FE;\n",
              "      border: none;\n",
              "      border-radius: 50%;\n",
              "      cursor: pointer;\n",
              "      display: none;\n",
              "      fill: #1967D2;\n",
              "      height: 32px;\n",
              "      padding: 0 0 0 0;\n",
              "      width: 32px;\n",
              "    }\n",
              "\n",
              "    .colab-df-convert:hover {\n",
              "      background-color: #E2EBFA;\n",
              "      box-shadow: 0px 1px 2px rgba(60, 64, 67, 0.3), 0px 1px 3px 1px rgba(60, 64, 67, 0.15);\n",
              "      fill: #174EA6;\n",
              "    }\n",
              "\n",
              "    .colab-df-buttons div {\n",
              "      margin-bottom: 4px;\n",
              "    }\n",
              "\n",
              "    [theme=dark] .colab-df-convert {\n",
              "      background-color: #3B4455;\n",
              "      fill: #D2E3FC;\n",
              "    }\n",
              "\n",
              "    [theme=dark] .colab-df-convert:hover {\n",
              "      background-color: #434B5C;\n",
              "      box-shadow: 0px 1px 3px 1px rgba(0, 0, 0, 0.15);\n",
              "      filter: drop-shadow(0px 1px 2px rgba(0, 0, 0, 0.3));\n",
              "      fill: #FFFFFF;\n",
              "    }\n",
              "  </style>\n",
              "\n",
              "    <script>\n",
              "      const buttonEl =\n",
              "        document.querySelector('#df-27f410d0-123f-4380-ab6d-2c8ca76a3025 button.colab-df-convert');\n",
              "      buttonEl.style.display =\n",
              "        google.colab.kernel.accessAllowed ? 'block' : 'none';\n",
              "\n",
              "      async function convertToInteractive(key) {\n",
              "        const element = document.querySelector('#df-27f410d0-123f-4380-ab6d-2c8ca76a3025');\n",
              "        const dataTable =\n",
              "          await google.colab.kernel.invokeFunction('convertToInteractive',\n",
              "                                                    [key], {});\n",
              "        if (!dataTable) return;\n",
              "\n",
              "        const docLinkHtml = 'Like what you see? Visit the ' +\n",
              "          '<a target=\"_blank\" href=https://colab.research.google.com/notebooks/data_table.ipynb>data table notebook</a>'\n",
              "          + ' to learn more about interactive tables.';\n",
              "        element.innerHTML = '';\n",
              "        dataTable['output_type'] = 'display_data';\n",
              "        await google.colab.output.renderOutput(dataTable, element);\n",
              "        const docLink = document.createElement('div');\n",
              "        docLink.innerHTML = docLinkHtml;\n",
              "        element.appendChild(docLink);\n",
              "      }\n",
              "    </script>\n",
              "  </div>\n",
              "\n",
              "\n",
              "<div id=\"df-0acb9817-2eca-43fa-96b6-fdcc63afe30e\">\n",
              "  <button class=\"colab-df-quickchart\" onclick=\"quickchart('df-0acb9817-2eca-43fa-96b6-fdcc63afe30e')\"\n",
              "            title=\"Suggest charts\"\n",
              "            style=\"display:none;\">\n",
              "\n",
              "<svg xmlns=\"http://www.w3.org/2000/svg\" height=\"24px\"viewBox=\"0 0 24 24\"\n",
              "     width=\"24px\">\n",
              "    <g>\n",
              "        <path d=\"M19 3H5c-1.1 0-2 .9-2 2v14c0 1.1.9 2 2 2h14c1.1 0 2-.9 2-2V5c0-1.1-.9-2-2-2zM9 17H7v-7h2v7zm4 0h-2V7h2v10zm4 0h-2v-4h2v4z\"/>\n",
              "    </g>\n",
              "</svg>\n",
              "  </button>\n",
              "\n",
              "<style>\n",
              "  .colab-df-quickchart {\n",
              "      --bg-color: #E8F0FE;\n",
              "      --fill-color: #1967D2;\n",
              "      --hover-bg-color: #E2EBFA;\n",
              "      --hover-fill-color: #174EA6;\n",
              "      --disabled-fill-color: #AAA;\n",
              "      --disabled-bg-color: #DDD;\n",
              "  }\n",
              "\n",
              "  [theme=dark] .colab-df-quickchart {\n",
              "      --bg-color: #3B4455;\n",
              "      --fill-color: #D2E3FC;\n",
              "      --hover-bg-color: #434B5C;\n",
              "      --hover-fill-color: #FFFFFF;\n",
              "      --disabled-bg-color: #3B4455;\n",
              "      --disabled-fill-color: #666;\n",
              "  }\n",
              "\n",
              "  .colab-df-quickchart {\n",
              "    background-color: var(--bg-color);\n",
              "    border: none;\n",
              "    border-radius: 50%;\n",
              "    cursor: pointer;\n",
              "    display: none;\n",
              "    fill: var(--fill-color);\n",
              "    height: 32px;\n",
              "    padding: 0;\n",
              "    width: 32px;\n",
              "  }\n",
              "\n",
              "  .colab-df-quickchart:hover {\n",
              "    background-color: var(--hover-bg-color);\n",
              "    box-shadow: 0 1px 2px rgba(60, 64, 67, 0.3), 0 1px 3px 1px rgba(60, 64, 67, 0.15);\n",
              "    fill: var(--button-hover-fill-color);\n",
              "  }\n",
              "\n",
              "  .colab-df-quickchart-complete:disabled,\n",
              "  .colab-df-quickchart-complete:disabled:hover {\n",
              "    background-color: var(--disabled-bg-color);\n",
              "    fill: var(--disabled-fill-color);\n",
              "    box-shadow: none;\n",
              "  }\n",
              "\n",
              "  .colab-df-spinner {\n",
              "    border: 2px solid var(--fill-color);\n",
              "    border-color: transparent;\n",
              "    border-bottom-color: var(--fill-color);\n",
              "    animation:\n",
              "      spin 1s steps(1) infinite;\n",
              "  }\n",
              "\n",
              "  @keyframes spin {\n",
              "    0% {\n",
              "      border-color: transparent;\n",
              "      border-bottom-color: var(--fill-color);\n",
              "      border-left-color: var(--fill-color);\n",
              "    }\n",
              "    20% {\n",
              "      border-color: transparent;\n",
              "      border-left-color: var(--fill-color);\n",
              "      border-top-color: var(--fill-color);\n",
              "    }\n",
              "    30% {\n",
              "      border-color: transparent;\n",
              "      border-left-color: var(--fill-color);\n",
              "      border-top-color: var(--fill-color);\n",
              "      border-right-color: var(--fill-color);\n",
              "    }\n",
              "    40% {\n",
              "      border-color: transparent;\n",
              "      border-right-color: var(--fill-color);\n",
              "      border-top-color: var(--fill-color);\n",
              "    }\n",
              "    60% {\n",
              "      border-color: transparent;\n",
              "      border-right-color: var(--fill-color);\n",
              "    }\n",
              "    80% {\n",
              "      border-color: transparent;\n",
              "      border-right-color: var(--fill-color);\n",
              "      border-bottom-color: var(--fill-color);\n",
              "    }\n",
              "    90% {\n",
              "      border-color: transparent;\n",
              "      border-bottom-color: var(--fill-color);\n",
              "    }\n",
              "  }\n",
              "</style>\n",
              "\n",
              "  <script>\n",
              "    async function quickchart(key) {\n",
              "      const quickchartButtonEl =\n",
              "        document.querySelector('#' + key + ' button');\n",
              "      quickchartButtonEl.disabled = true;  // To prevent multiple clicks.\n",
              "      quickchartButtonEl.classList.add('colab-df-spinner');\n",
              "      try {\n",
              "        const charts = await google.colab.kernel.invokeFunction(\n",
              "            'suggestCharts', [key], {});\n",
              "      } catch (error) {\n",
              "        console.error('Error during call to suggestCharts:', error);\n",
              "      }\n",
              "      quickchartButtonEl.classList.remove('colab-df-spinner');\n",
              "      quickchartButtonEl.classList.add('colab-df-quickchart-complete');\n",
              "    }\n",
              "    (() => {\n",
              "      let quickchartButtonEl =\n",
              "        document.querySelector('#df-0acb9817-2eca-43fa-96b6-fdcc63afe30e button');\n",
              "      quickchartButtonEl.style.display =\n",
              "        google.colab.kernel.accessAllowed ? 'block' : 'none';\n",
              "    })();\n",
              "  </script>\n",
              "</div>\n",
              "    </div>\n",
              "  </div>\n"
            ]
          },
          "metadata": {},
          "execution_count": 248
        }
      ]
    },
    {
      "cell_type": "markdown",
      "source": [
        "## Normalisasi Data\n"
      ],
      "metadata": {
        "id": "eVzZOgbXuSiA"
      }
    },
    {
      "cell_type": "code",
      "source": [
        "def minmax(df):\n",
        "  features = df.iloc[:, :-1]\n",
        "  label = df.iloc[:, -1]\n",
        "\n",
        "  scaled_features = (features - features.min()) / (features.max() - features.min())\n",
        "\n",
        "  scaled_df = pd.concat([scaled_features, label], axis=1)\n",
        "\n",
        "  return scaled_df"
      ],
      "metadata": {
        "id": "XP3snw9BZeMM"
      },
      "execution_count": 249,
      "outputs": []
    },
    {
      "cell_type": "code",
      "source": [
        "data = minmax(data)"
      ],
      "metadata": {
        "id": "3f9pu1uCbYby"
      },
      "execution_count": 250,
      "outputs": []
    },
    {
      "cell_type": "code",
      "source": [
        "data.head()"
      ],
      "metadata": {
        "colab": {
          "base_uri": "https://localhost:8080/",
          "height": 206
        },
        "id": "APgb0AH-i4RE",
        "outputId": "7011f7ac-e7e8-401d-f681-ca28a755b15f"
      },
      "execution_count": 251,
      "outputs": [
        {
          "output_type": "execute_result",
          "data": {
            "text/plain": [
              "        age  hypertension  heart_disease  avg_glucose_level       bmi  \\\n",
              "0  0.816895           0.0            1.0           0.801265  0.718579   \n",
              "1  0.743652           0.0            0.0           0.679023  0.508012   \n",
              "2  0.975586           0.0            1.0           0.234512  0.606557   \n",
              "3  0.597168           0.0            0.0           0.536008  0.658470   \n",
              "4  0.963379           1.0            0.0           0.549349  0.374317   \n",
              "\n",
              "   smoking_status  stroke  \n",
              "0        0.666667       1  \n",
              "1        0.000000       1  \n",
              "2        0.000000       1  \n",
              "3        1.000000       1  \n",
              "4        0.000000       1  "
            ],
            "text/html": [
              "\n",
              "  <div id=\"df-7bebb705-51ad-44f9-a9e2-077a5b66d214\" class=\"colab-df-container\">\n",
              "    <div>\n",
              "<style scoped>\n",
              "    .dataframe tbody tr th:only-of-type {\n",
              "        vertical-align: middle;\n",
              "    }\n",
              "\n",
              "    .dataframe tbody tr th {\n",
              "        vertical-align: top;\n",
              "    }\n",
              "\n",
              "    .dataframe thead th {\n",
              "        text-align: right;\n",
              "    }\n",
              "</style>\n",
              "<table border=\"1\" class=\"dataframe\">\n",
              "  <thead>\n",
              "    <tr style=\"text-align: right;\">\n",
              "      <th></th>\n",
              "      <th>age</th>\n",
              "      <th>hypertension</th>\n",
              "      <th>heart_disease</th>\n",
              "      <th>avg_glucose_level</th>\n",
              "      <th>bmi</th>\n",
              "      <th>smoking_status</th>\n",
              "      <th>stroke</th>\n",
              "    </tr>\n",
              "  </thead>\n",
              "  <tbody>\n",
              "    <tr>\n",
              "      <th>0</th>\n",
              "      <td>0.816895</td>\n",
              "      <td>0.0</td>\n",
              "      <td>1.0</td>\n",
              "      <td>0.801265</td>\n",
              "      <td>0.718579</td>\n",
              "      <td>0.666667</td>\n",
              "      <td>1</td>\n",
              "    </tr>\n",
              "    <tr>\n",
              "      <th>1</th>\n",
              "      <td>0.743652</td>\n",
              "      <td>0.0</td>\n",
              "      <td>0.0</td>\n",
              "      <td>0.679023</td>\n",
              "      <td>0.508012</td>\n",
              "      <td>0.000000</td>\n",
              "      <td>1</td>\n",
              "    </tr>\n",
              "    <tr>\n",
              "      <th>2</th>\n",
              "      <td>0.975586</td>\n",
              "      <td>0.0</td>\n",
              "      <td>1.0</td>\n",
              "      <td>0.234512</td>\n",
              "      <td>0.606557</td>\n",
              "      <td>0.000000</td>\n",
              "      <td>1</td>\n",
              "    </tr>\n",
              "    <tr>\n",
              "      <th>3</th>\n",
              "      <td>0.597168</td>\n",
              "      <td>0.0</td>\n",
              "      <td>0.0</td>\n",
              "      <td>0.536008</td>\n",
              "      <td>0.658470</td>\n",
              "      <td>1.000000</td>\n",
              "      <td>1</td>\n",
              "    </tr>\n",
              "    <tr>\n",
              "      <th>4</th>\n",
              "      <td>0.963379</td>\n",
              "      <td>1.0</td>\n",
              "      <td>0.0</td>\n",
              "      <td>0.549349</td>\n",
              "      <td>0.374317</td>\n",
              "      <td>0.000000</td>\n",
              "      <td>1</td>\n",
              "    </tr>\n",
              "  </tbody>\n",
              "</table>\n",
              "</div>\n",
              "    <div class=\"colab-df-buttons\">\n",
              "\n",
              "  <div class=\"colab-df-container\">\n",
              "    <button class=\"colab-df-convert\" onclick=\"convertToInteractive('df-7bebb705-51ad-44f9-a9e2-077a5b66d214')\"\n",
              "            title=\"Convert this dataframe to an interactive table.\"\n",
              "            style=\"display:none;\">\n",
              "\n",
              "  <svg xmlns=\"http://www.w3.org/2000/svg\" height=\"24px\" viewBox=\"0 -960 960 960\">\n",
              "    <path d=\"M120-120v-720h720v720H120Zm60-500h600v-160H180v160Zm220 220h160v-160H400v160Zm0 220h160v-160H400v160ZM180-400h160v-160H180v160Zm440 0h160v-160H620v160ZM180-180h160v-160H180v160Zm440 0h160v-160H620v160Z\"/>\n",
              "  </svg>\n",
              "    </button>\n",
              "\n",
              "  <style>\n",
              "    .colab-df-container {\n",
              "      display:flex;\n",
              "      gap: 12px;\n",
              "    }\n",
              "\n",
              "    .colab-df-convert {\n",
              "      background-color: #E8F0FE;\n",
              "      border: none;\n",
              "      border-radius: 50%;\n",
              "      cursor: pointer;\n",
              "      display: none;\n",
              "      fill: #1967D2;\n",
              "      height: 32px;\n",
              "      padding: 0 0 0 0;\n",
              "      width: 32px;\n",
              "    }\n",
              "\n",
              "    .colab-df-convert:hover {\n",
              "      background-color: #E2EBFA;\n",
              "      box-shadow: 0px 1px 2px rgba(60, 64, 67, 0.3), 0px 1px 3px 1px rgba(60, 64, 67, 0.15);\n",
              "      fill: #174EA6;\n",
              "    }\n",
              "\n",
              "    .colab-df-buttons div {\n",
              "      margin-bottom: 4px;\n",
              "    }\n",
              "\n",
              "    [theme=dark] .colab-df-convert {\n",
              "      background-color: #3B4455;\n",
              "      fill: #D2E3FC;\n",
              "    }\n",
              "\n",
              "    [theme=dark] .colab-df-convert:hover {\n",
              "      background-color: #434B5C;\n",
              "      box-shadow: 0px 1px 3px 1px rgba(0, 0, 0, 0.15);\n",
              "      filter: drop-shadow(0px 1px 2px rgba(0, 0, 0, 0.3));\n",
              "      fill: #FFFFFF;\n",
              "    }\n",
              "  </style>\n",
              "\n",
              "    <script>\n",
              "      const buttonEl =\n",
              "        document.querySelector('#df-7bebb705-51ad-44f9-a9e2-077a5b66d214 button.colab-df-convert');\n",
              "      buttonEl.style.display =\n",
              "        google.colab.kernel.accessAllowed ? 'block' : 'none';\n",
              "\n",
              "      async function convertToInteractive(key) {\n",
              "        const element = document.querySelector('#df-7bebb705-51ad-44f9-a9e2-077a5b66d214');\n",
              "        const dataTable =\n",
              "          await google.colab.kernel.invokeFunction('convertToInteractive',\n",
              "                                                    [key], {});\n",
              "        if (!dataTable) return;\n",
              "\n",
              "        const docLinkHtml = 'Like what you see? Visit the ' +\n",
              "          '<a target=\"_blank\" href=https://colab.research.google.com/notebooks/data_table.ipynb>data table notebook</a>'\n",
              "          + ' to learn more about interactive tables.';\n",
              "        element.innerHTML = '';\n",
              "        dataTable['output_type'] = 'display_data';\n",
              "        await google.colab.output.renderOutput(dataTable, element);\n",
              "        const docLink = document.createElement('div');\n",
              "        docLink.innerHTML = docLinkHtml;\n",
              "        element.appendChild(docLink);\n",
              "      }\n",
              "    </script>\n",
              "  </div>\n",
              "\n",
              "\n",
              "<div id=\"df-e83335ad-f957-4455-9af5-2ad9cb11fe88\">\n",
              "  <button class=\"colab-df-quickchart\" onclick=\"quickchart('df-e83335ad-f957-4455-9af5-2ad9cb11fe88')\"\n",
              "            title=\"Suggest charts\"\n",
              "            style=\"display:none;\">\n",
              "\n",
              "<svg xmlns=\"http://www.w3.org/2000/svg\" height=\"24px\"viewBox=\"0 0 24 24\"\n",
              "     width=\"24px\">\n",
              "    <g>\n",
              "        <path d=\"M19 3H5c-1.1 0-2 .9-2 2v14c0 1.1.9 2 2 2h14c1.1 0 2-.9 2-2V5c0-1.1-.9-2-2-2zM9 17H7v-7h2v7zm4 0h-2V7h2v10zm4 0h-2v-4h2v4z\"/>\n",
              "    </g>\n",
              "</svg>\n",
              "  </button>\n",
              "\n",
              "<style>\n",
              "  .colab-df-quickchart {\n",
              "      --bg-color: #E8F0FE;\n",
              "      --fill-color: #1967D2;\n",
              "      --hover-bg-color: #E2EBFA;\n",
              "      --hover-fill-color: #174EA6;\n",
              "      --disabled-fill-color: #AAA;\n",
              "      --disabled-bg-color: #DDD;\n",
              "  }\n",
              "\n",
              "  [theme=dark] .colab-df-quickchart {\n",
              "      --bg-color: #3B4455;\n",
              "      --fill-color: #D2E3FC;\n",
              "      --hover-bg-color: #434B5C;\n",
              "      --hover-fill-color: #FFFFFF;\n",
              "      --disabled-bg-color: #3B4455;\n",
              "      --disabled-fill-color: #666;\n",
              "  }\n",
              "\n",
              "  .colab-df-quickchart {\n",
              "    background-color: var(--bg-color);\n",
              "    border: none;\n",
              "    border-radius: 50%;\n",
              "    cursor: pointer;\n",
              "    display: none;\n",
              "    fill: var(--fill-color);\n",
              "    height: 32px;\n",
              "    padding: 0;\n",
              "    width: 32px;\n",
              "  }\n",
              "\n",
              "  .colab-df-quickchart:hover {\n",
              "    background-color: var(--hover-bg-color);\n",
              "    box-shadow: 0 1px 2px rgba(60, 64, 67, 0.3), 0 1px 3px 1px rgba(60, 64, 67, 0.15);\n",
              "    fill: var(--button-hover-fill-color);\n",
              "  }\n",
              "\n",
              "  .colab-df-quickchart-complete:disabled,\n",
              "  .colab-df-quickchart-complete:disabled:hover {\n",
              "    background-color: var(--disabled-bg-color);\n",
              "    fill: var(--disabled-fill-color);\n",
              "    box-shadow: none;\n",
              "  }\n",
              "\n",
              "  .colab-df-spinner {\n",
              "    border: 2px solid var(--fill-color);\n",
              "    border-color: transparent;\n",
              "    border-bottom-color: var(--fill-color);\n",
              "    animation:\n",
              "      spin 1s steps(1) infinite;\n",
              "  }\n",
              "\n",
              "  @keyframes spin {\n",
              "    0% {\n",
              "      border-color: transparent;\n",
              "      border-bottom-color: var(--fill-color);\n",
              "      border-left-color: var(--fill-color);\n",
              "    }\n",
              "    20% {\n",
              "      border-color: transparent;\n",
              "      border-left-color: var(--fill-color);\n",
              "      border-top-color: var(--fill-color);\n",
              "    }\n",
              "    30% {\n",
              "      border-color: transparent;\n",
              "      border-left-color: var(--fill-color);\n",
              "      border-top-color: var(--fill-color);\n",
              "      border-right-color: var(--fill-color);\n",
              "    }\n",
              "    40% {\n",
              "      border-color: transparent;\n",
              "      border-right-color: var(--fill-color);\n",
              "      border-top-color: var(--fill-color);\n",
              "    }\n",
              "    60% {\n",
              "      border-color: transparent;\n",
              "      border-right-color: var(--fill-color);\n",
              "    }\n",
              "    80% {\n",
              "      border-color: transparent;\n",
              "      border-right-color: var(--fill-color);\n",
              "      border-bottom-color: var(--fill-color);\n",
              "    }\n",
              "    90% {\n",
              "      border-color: transparent;\n",
              "      border-bottom-color: var(--fill-color);\n",
              "    }\n",
              "  }\n",
              "</style>\n",
              "\n",
              "  <script>\n",
              "    async function quickchart(key) {\n",
              "      const quickchartButtonEl =\n",
              "        document.querySelector('#' + key + ' button');\n",
              "      quickchartButtonEl.disabled = true;  // To prevent multiple clicks.\n",
              "      quickchartButtonEl.classList.add('colab-df-spinner');\n",
              "      try {\n",
              "        const charts = await google.colab.kernel.invokeFunction(\n",
              "            'suggestCharts', [key], {});\n",
              "      } catch (error) {\n",
              "        console.error('Error during call to suggestCharts:', error);\n",
              "      }\n",
              "      quickchartButtonEl.classList.remove('colab-df-spinner');\n",
              "      quickchartButtonEl.classList.add('colab-df-quickchart-complete');\n",
              "    }\n",
              "    (() => {\n",
              "      let quickchartButtonEl =\n",
              "        document.querySelector('#df-e83335ad-f957-4455-9af5-2ad9cb11fe88 button');\n",
              "      quickchartButtonEl.style.display =\n",
              "        google.colab.kernel.accessAllowed ? 'block' : 'none';\n",
              "    })();\n",
              "  </script>\n",
              "</div>\n",
              "    </div>\n",
              "  </div>\n"
            ]
          },
          "metadata": {},
          "execution_count": 251
        }
      ]
    },
    {
      "cell_type": "markdown",
      "source": [
        "## Split Data Train dan Test\n"
      ],
      "metadata": {
        "id": "cUR9R9aLWmBr"
      }
    },
    {
      "cell_type": "code",
      "source": [
        "from sklearn.model_selection import train_test_split\n",
        "from sklearn.preprocessing import minmax_scale\n",
        "from sklearn.metrics import accuracy_score\n",
        "\n",
        "X = data.iloc[:, :-1].values\n",
        "Y = data['stroke'].values"
      ],
      "metadata": {
        "id": "o-LojKinZ-dw"
      },
      "execution_count": 252,
      "outputs": []
    },
    {
      "cell_type": "code",
      "source": [
        "X_train, X_test, y_train, y_test = train_test_split(X, Y, test_size=.2, stratify=Y, random_state=42)"
      ],
      "metadata": {
        "id": "C1RY0R1mflyB"
      },
      "execution_count": 253,
      "outputs": []
    },
    {
      "cell_type": "code",
      "source": [
        "from imblearn.under_sampling import RandomUnderSampler\n",
        "\n",
        "rus = RandomUnderSampler(random_state=42)\n",
        "X_train_resampled, y_train_resampled = rus.fit_resample(X_train, y_train)"
      ],
      "metadata": {
        "id": "m9KAygyGZ4bJ"
      },
      "execution_count": 254,
      "outputs": []
    },
    {
      "cell_type": "code",
      "source": [
        "y_train_resampled = onehot_enc(y_train_resampled)\n",
        "y_test = onehot_enc(y_test)"
      ],
      "metadata": {
        "id": "hMeQuio3anDg"
      },
      "execution_count": 255,
      "outputs": []
    },
    {
      "cell_type": "code",
      "source": [
        "w, ep, mse = bp_fit(X_train_resampled, y_train_resampled, layer_conf=(6, 3, 2), learn_rate=0.01, max_epoch=300, max_error=0.1, print_per_epoch=25)\n",
        "\n",
        "print(f'Epochs: {ep}, MSE: {mse}')\n",
        "\n",
        "predict = bp_predict(X_test, w)\n",
        "predict = onehot_dec(predict)\n",
        "y_test = onehot_dec(y_test)\n",
        "accuracy = accuracy_score(predict, y_test)\n",
        "\n",
        "print('Output:', predict)\n",
        "print('True :', y_test)\n",
        "print('Accuracy:', accuracy)"
      ],
      "metadata": {
        "id": "YUbYsy-5Y8YB",
        "colab": {
          "base_uri": "https://localhost:8080/"
        },
        "outputId": "da5bf622-6161-441a-be99-d5b6fa39dcea"
      },
      "execution_count": 256,
      "outputs": [
        {
          "output_type": "stream",
          "name": "stderr",
          "text": [
            "<ipython-input-245-4c7a60bb3c1b>:6: VisibleDeprecationWarning:\n",
            "\n",
            "Creating an ndarray from ragged nested sequences (which is a list-or-tuple of lists-or-tuples-or ndarrays with different lengths or shapes) is deprecated. If you meant to do this, you must specify 'dtype=object' when creating the ndarray.\n",
            "\n",
            "<ipython-input-245-4c7a60bb3c1b>:42: VisibleDeprecationWarning:\n",
            "\n",
            "Creating an ndarray from ragged nested sequences (which is a list-or-tuple of lists-or-tuples-or ndarrays with different lengths or shapes) is deprecated. If you meant to do this, you must specify 'dtype=object' when creating the ndarray.\n",
            "\n"
          ]
        },
        {
          "output_type": "stream",
          "name": "stdout",
          "text": [
            "Epoch 25, MSE: 0.48961895147375356\n",
            "Epoch 50, MSE: 0.47192929725610816\n",
            "Epoch 75, MSE: 0.43051979937135637\n",
            "Epoch 100, MSE: 0.37972358432630804\n",
            "Epoch 125, MSE: 0.3472941659540292\n",
            "Epoch 150, MSE: 0.33086343035110083\n",
            "Epoch 175, MSE: 0.32251965308948527\n",
            "Epoch 200, MSE: 0.3179926539913182\n",
            "Epoch 225, MSE: 0.3153664523480688\n",
            "Epoch 250, MSE: 0.313753532095023\n",
            "Epoch 275, MSE: 0.3127120411372868\n",
            "Epoch 300, MSE: 0.31200782844550956\n",
            "Epochs: 300, MSE: 0.31200782844550956\n",
            "Output: [1, 1, 1, 0, 0, 1, 0, 0, 1, 1, 0, 1, 0, 0, 1, 1, 1, 1, 1, 0, 0, 0, 0, 1, 1, 0, 1, 0, 0, 1, 1, 1, 0, 1, 1, 0, 0, 0, 1, 0, 0, 0, 1, 1, 1, 0, 1, 0, 1, 1, 0, 0, 1, 1, 1, 1, 1, 1, 0, 0, 0, 1, 0, 1, 0, 0, 1, 0, 1, 1, 1, 0, 0, 1, 0, 1, 0, 1, 0, 0, 1, 0, 0, 1, 1, 1, 0, 1, 1, 0, 1, 0, 0, 0, 0, 0, 1, 0, 1, 0, 1, 0, 1, 0, 0, 0, 0, 0, 1, 0, 0, 0, 0, 0, 1, 0, 0, 1, 0, 0, 0, 0, 0, 0, 1, 0, 1, 1, 0, 0, 1, 1, 0, 0, 1, 0, 0, 1, 0, 1, 0, 0, 0, 0, 1, 0, 1, 0, 1, 0, 1, 0, 0, 0, 0, 0, 1, 0, 0, 0, 1, 0, 1, 1, 0, 0, 0, 0, 1, 1, 1, 0, 1, 0, 0, 1, 0, 1, 0, 0, 0, 0, 1, 1, 0, 1, 0, 0, 0, 0, 0, 1, 1, 0, 1, 0, 0, 0, 0, 0, 0, 0, 0, 1, 0, 1, 0, 0, 0, 0, 0, 1, 0, 1, 1, 1, 0, 0, 0, 0, 0, 0, 0, 0, 0, 0, 1, 0, 1, 1, 1, 1, 0, 0, 0, 1, 0, 1, 0, 1, 0, 1, 0, 0, 1, 0, 0, 1, 1, 1, 0, 1, 0, 1, 0, 0, 1, 0, 0, 0, 0, 1, 0, 0, 1, 1, 0, 1, 0, 1, 0, 1, 1, 0, 0, 0, 1, 1, 0, 0, 0, 0, 0, 1, 0, 0, 0, 0, 0, 1, 1, 0, 0, 0, 1, 0, 1, 1, 0, 1, 0, 0, 1, 1, 1, 1, 1, 0, 0, 0, 0, 1, 1, 1, 1, 1, 1, 1, 1, 1, 1, 0, 0, 1, 0, 0, 0, 1, 0, 1, 0, 1, 0, 0, 1, 0, 0, 0, 1, 0, 1, 0, 1, 1, 1, 0, 1, 0, 1, 0, 0, 1, 1, 0, 0, 0, 0, 0, 0, 0, 1, 0, 0, 0, 0, 1, 0, 1, 0, 0, 1, 0, 1, 0, 1, 0, 1, 0, 0, 1, 0, 0, 1, 0, 0, 1, 1, 1, 1, 0, 1, 0, 0, 0, 0, 0, 0, 1, 1, 0, 0, 0, 0, 0, 0, 1, 0, 1, 1, 1, 1, 1, 1, 1, 0, 0, 1, 0, 1, 1, 1, 0, 1, 0, 0, 0, 1, 0, 0, 0, 0, 1, 0, 0, 1, 0, 0, 0, 0, 0, 0, 1, 0, 0, 1, 1, 1, 0, 0, 0, 1, 1, 0, 1, 0, 1, 0, 0, 0, 0, 0, 0, 1, 1, 0, 0, 0, 0, 1, 1, 1, 0, 0, 0, 1, 0, 1, 1, 0, 0, 0, 1, 0, 0, 1, 0, 0, 1, 1, 0, 1, 0, 0, 0, 1, 0, 0, 0, 0, 0, 0, 0, 1, 0, 1, 0, 0, 0, 0, 0, 0, 1, 1, 0, 0, 1, 0, 0, 0, 0, 1, 1, 0, 0, 0, 0, 1, 0, 0, 1, 0, 0, 1, 1, 0, 0, 1, 0, 1, 0, 0, 1, 0, 0, 0, 1, 0, 1, 1, 0, 0, 1, 0, 1, 0, 0, 0, 0, 0, 0, 1, 1, 0, 0, 0, 0, 0, 0, 1, 0, 1, 1, 0, 1, 0, 0, 0, 1, 1, 0, 0, 0, 0, 0, 0, 0, 1, 0, 1, 0, 1, 0, 0, 1, 1, 1, 1, 0, 0, 0, 1, 0, 1, 1, 0, 1, 1, 0, 0, 1, 0, 1, 0, 0, 0, 0, 1, 1, 0, 0, 1, 1, 1, 1, 0, 0, 1, 0, 0, 0, 0, 0, 0, 1, 0, 0, 0, 0, 0, 0, 0, 1, 1, 1, 1, 0, 0, 0, 0, 1, 1, 0, 0, 0, 0, 0, 0, 1, 0, 0, 1, 0, 0, 0, 0, 0, 0, 0, 0, 0, 0, 1, 0, 0, 0, 0, 0, 0, 0, 0, 0, 0, 0, 0, 0, 1, 1, 0, 0, 0, 1, 1, 1, 0, 1, 0, 0, 0, 1, 0, 0, 1, 1, 0, 1, 0, 1, 0, 1, 1, 0, 1, 1, 0, 0, 0, 0, 1, 1, 0, 0, 0, 0, 0, 1, 0, 0, 1, 1, 0, 1, 0, 1, 1, 0, 1, 0, 1, 0, 0, 0, 0, 0, 1, 0, 1, 1, 0, 0, 1, 1, 1, 0, 0, 1, 1, 1, 0, 1, 1, 0, 1, 1, 0, 1, 1, 0, 1, 0, 0, 1, 0, 1, 0, 1, 1, 1, 0, 0, 0, 0, 0, 0, 0, 1, 0, 1, 1, 0, 0, 0, 0, 1, 1, 0, 1, 0, 0, 0, 1, 0, 0, 1, 0, 0, 1, 0, 0, 1, 0, 0, 0, 0, 1, 1, 0, 0, 1, 0, 0, 1, 0, 0, 0, 1, 0, 0, 0, 0, 0, 0, 0, 0, 0, 1, 1, 1, 0, 0, 1, 1, 1, 0, 0, 0, 1, 0, 0, 0, 0, 1, 0, 1, 1, 0, 0, 1, 1, 1, 0, 1, 1, 0, 0, 1, 0, 1, 1, 0, 0, 1, 0, 0, 0, 1, 0, 1, 0, 1, 0, 0, 0, 1, 0, 0, 0, 1, 0, 0, 1, 1, 1, 0, 1, 1, 1, 1, 0, 1, 0, 1, 0, 1, 1, 1, 0, 1, 1, 0, 0, 0, 0, 0, 0, 0, 1, 1, 0, 0, 0, 1, 1, 0, 0, 1, 0, 0, 0, 1, 1, 0, 0, 0, 0, 0, 0, 0, 1, 1, 0, 0, 0, 0, 0, 0, 0, 1, 1, 1, 0, 0, 0, 0, 1, 0, 0, 1, 1, 1, 1, 0, 0, 0, 1, 0, 1, 0, 0, 1, 0, 0, 0, 1, 0, 0, 1, 0, 1, 0, 0, 1, 1, 0, 0, 0, 0, 1, 0, 0, 0, 1, 0, 0, 0, 0, 0, 1, 0, 1]\n",
            "True : [0, 1, 0, 0, 0, 0, 0, 0, 1, 0, 0, 0, 0, 0, 0, 1, 0, 1, 0, 0, 0, 1, 0, 0, 0, 0, 0, 0, 0, 0, 0, 0, 0, 0, 0, 0, 0, 0, 0, 0, 0, 0, 0, 0, 0, 0, 0, 0, 0, 1, 0, 0, 0, 0, 0, 0, 0, 1, 0, 0, 0, 0, 0, 0, 0, 0, 0, 0, 0, 0, 0, 0, 0, 0, 0, 0, 0, 0, 0, 0, 0, 0, 0, 0, 0, 0, 0, 0, 0, 0, 0, 0, 0, 0, 0, 0, 0, 0, 0, 0, 0, 0, 0, 0, 0, 0, 0, 0, 0, 0, 0, 0, 0, 0, 1, 0, 0, 1, 0, 0, 0, 0, 0, 0, 0, 0, 0, 0, 0, 0, 0, 0, 0, 0, 0, 0, 0, 0, 0, 0, 0, 0, 0, 0, 0, 0, 0, 0, 0, 0, 0, 0, 0, 0, 0, 0, 0, 0, 0, 0, 0, 0, 0, 0, 0, 0, 0, 0, 0, 0, 0, 0, 0, 0, 0, 0, 0, 0, 0, 0, 0, 0, 0, 0, 0, 0, 0, 0, 0, 1, 0, 0, 0, 0, 0, 0, 0, 0, 0, 0, 0, 0, 0, 1, 0, 0, 0, 0, 0, 0, 0, 0, 0, 0, 0, 0, 0, 0, 0, 0, 0, 0, 0, 0, 0, 1, 0, 0, 0, 0, 0, 0, 0, 0, 0, 0, 0, 0, 0, 0, 0, 0, 0, 0, 1, 0, 0, 0, 0, 0, 0, 0, 0, 0, 0, 0, 0, 0, 0, 0, 0, 0, 0, 0, 0, 0, 0, 0, 0, 0, 0, 0, 0, 0, 0, 0, 0, 0, 0, 0, 0, 0, 0, 0, 0, 0, 0, 0, 0, 0, 0, 0, 0, 0, 0, 0, 0, 0, 0, 1, 0, 0, 0, 0, 0, 0, 0, 0, 0, 0, 0, 0, 0, 0, 1, 0, 0, 0, 0, 0, 0, 0, 0, 0, 0, 0, 0, 1, 0, 1, 0, 0, 0, 0, 0, 0, 0, 0, 0, 0, 0, 0, 0, 1, 0, 0, 0, 0, 0, 0, 0, 1, 0, 0, 0, 0, 0, 0, 0, 0, 1, 0, 0, 0, 0, 0, 0, 0, 0, 0, 0, 0, 1, 0, 0, 0, 0, 0, 0, 1, 0, 0, 0, 0, 0, 0, 0, 0, 0, 0, 0, 0, 0, 0, 0, 0, 0, 1, 0, 0, 0, 0, 0, 0, 1, 0, 0, 0, 0, 0, 0, 0, 1, 0, 0, 0, 0, 0, 0, 0, 0, 0, 0, 0, 0, 0, 0, 0, 0, 0, 0, 0, 0, 0, 0, 1, 0, 0, 0, 0, 0, 0, 0, 0, 0, 0, 0, 0, 0, 0, 0, 0, 0, 0, 0, 0, 0, 0, 0, 0, 0, 0, 0, 0, 0, 0, 0, 0, 0, 0, 0, 0, 0, 0, 0, 0, 0, 0, 0, 0, 0, 0, 0, 0, 0, 0, 0, 0, 0, 0, 0, 0, 0, 0, 0, 0, 0, 0, 0, 0, 0, 0, 0, 0, 0, 0, 0, 0, 0, 0, 0, 0, 0, 0, 0, 0, 0, 0, 0, 0, 0, 0, 0, 0, 0, 0, 0, 0, 0, 0, 0, 0, 0, 1, 0, 0, 0, 0, 0, 0, 0, 0, 0, 0, 0, 0, 0, 0, 1, 0, 0, 0, 0, 0, 0, 0, 0, 0, 0, 0, 0, 0, 0, 0, 0, 0, 0, 0, 0, 0, 0, 0, 0, 0, 0, 0, 0, 0, 0, 0, 0, 0, 0, 0, 0, 0, 0, 0, 0, 0, 1, 0, 0, 0, 0, 0, 0, 0, 0, 0, 0, 0, 0, 1, 0, 0, 0, 0, 0, 0, 0, 0, 0, 0, 0, 0, 0, 0, 0, 0, 0, 0, 0, 0, 0, 0, 0, 0, 0, 0, 0, 0, 0, 0, 0, 0, 0, 0, 0, 0, 0, 0, 0, 0, 0, 0, 0, 0, 0, 0, 1, 0, 0, 0, 0, 0, 0, 0, 0, 0, 0, 0, 0, 0, 0, 0, 0, 0, 0, 0, 0, 0, 0, 0, 0, 0, 0, 0, 0, 0, 0, 0, 0, 0, 0, 0, 0, 0, 0, 0, 0, 0, 0, 0, 0, 0, 0, 0, 1, 0, 0, 0, 0, 0, 0, 0, 0, 0, 1, 0, 0, 0, 0, 0, 0, 0, 0, 0, 1, 0, 0, 0, 0, 0, 0, 0, 0, 0, 0, 0, 0, 0, 0, 0, 0, 1, 1, 1, 0, 0, 0, 0, 0, 0, 0, 0, 0, 0, 0, 0, 1, 0, 0, 0, 0, 0, 0, 0, 0, 0, 0, 0, 0, 0, 0, 0, 0, 0, 0, 0, 0, 0, 0, 0, 0, 0, 0, 0, 0, 0, 0, 0, 0, 0, 0, 0, 1, 0, 0, 0, 0, 0, 0, 0, 0, 0, 0, 0, 0, 0, 0, 0, 0, 0, 0, 0, 0, 0, 0, 0, 1, 0, 0, 0, 0, 0, 0, 0, 0, 0, 0, 0, 0, 0, 0, 0, 0, 0, 0, 0, 0, 0, 0, 0, 0, 0, 1, 0, 0, 0, 1, 0, 0, 0, 0, 0, 0, 0, 0, 0, 0, 0, 0, 0, 0, 0, 0, 0, 0, 0, 0, 0, 0, 0, 0, 0, 1, 0, 0, 0, 0, 0, 0, 0, 0, 0, 1, 0, 0, 0, 0, 0, 0, 0, 0, 0, 0, 0, 0, 0, 0, 0, 0, 0, 0, 0, 0, 0, 0, 0, 1, 0, 0, 0, 0, 0, 0, 0, 0, 0, 0, 0, 0, 0, 0, 0, 0, 0, 0, 0, 0, 0, 0, 0, 1, 0, 0, 0, 0, 0, 0, 0, 0, 0, 0, 0, 0, 0, 1, 0, 0, 0, 0, 0, 0, 0, 0, 0, 0, 0, 0, 0, 0, 0, 0, 1, 0, 0, 0, 0, 0, 0, 0, 0, 0, 0, 0, 0, 0, 0, 0, 0, 0, 0, 0, 1, 0, 0, 0, 0, 0, 0, 0, 0, 0, 0, 0, 0, 0, 0, 0, 0, 0, 0, 0, 0, 0, 0, 0]\n",
            "Accuracy: 0.6416416416416416\n"
          ]
        }
      ]
    },
    {
      "cell_type": "markdown",
      "source": [
        "## Confusion Matrix"
      ],
      "metadata": {
        "id": "40IxRkCPurum"
      }
    },
    {
      "cell_type": "code",
      "source": [
        "from sklearn.metrics import confusion_matrix\n",
        "\n",
        "conf_matrix = confusion_matrix(y_test, predict)\n",
        "\n",
        "sns.heatmap(conf_matrix, annot=True, fmt='d', cmap='Blues', xticklabels=['No Stroke', 'Stroke'], yticklabels=['No Stroke', 'Stroke'])\n",
        "plt.xlabel('Predicted')\n",
        "plt.ylabel('True')\n",
        "plt.title('Confusion Matrix')\n",
        "plt.show()"
      ],
      "metadata": {
        "id": "OHnKofdZYRet",
        "colab": {
          "base_uri": "https://localhost:8080/",
          "height": 472
        },
        "outputId": "cf24ebbc-945c-4948-bbdc-f5af1095c1bf"
      },
      "execution_count": 257,
      "outputs": [
        {
          "output_type": "display_data",
          "data": {
            "text/plain": [
              "<Figure size 640x480 with 2 Axes>"
            ],
            "image/png": "[encoded data removed]"
          },
          "metadata": {}
        }
      ]
    },
    {
      "cell_type": "markdown",
      "source": [
        "## Classification Report"
      ],
      "metadata": {
        "id": "a6IE0UdiuuAz"
      }
    },
    {
      "cell_type": "code",
      "source": [
        "from sklearn.metrics import classification_report\n",
        "\n",
        "print(\"Classification Report:\\n\", classification_report(y_test, predict))"
      ],
      "metadata": {
        "id": "XDO2oTKKYUqr",
        "colab": {
          "base_uri": "https://localhost:8080/"
        },
        "outputId": "6e35d5ab-39e4-4f51-807f-d903f049e126"
      },
      "execution_count": 258,
      "outputs": [
        {
          "output_type": "stream",
          "name": "stdout",
          "text": [
            "Classification Report:\n",
            "               precision    recall  f1-score   support\n",
            "\n",
            "           0       0.99      0.63      0.77       950\n",
            "           1       0.10      0.84      0.19        49\n",
            "\n",
            "    accuracy                           0.64       999\n",
            "   macro avg       0.55      0.73      0.48       999\n",
            "weighted avg       0.94      0.64      0.74       999\n",
            "\n"
          ]
        }
      ]
    }
  ],
  "metadata": {
    "colab": {
      "provenance": [],
      "toc_visible": true
    },
    "kernelspec": {
      "display_name": "Python 3",
      "name": "python3"
    }
  },
  "nbformat": 4,
  "nbformat_minor": 0
}